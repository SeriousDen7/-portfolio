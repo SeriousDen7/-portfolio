{
 "cells": [
  {
   "cell_type": "markdown",
   "metadata": {
    "toc": true
   },
   "source": [
    "<h1>Содержание<span class=\"tocSkip\"></span></h1>\n",
    "<div class=\"toc\"><ul class=\"toc-item\"><li><span><a href=\"#Импорт-библиотек\" data-toc-modified-id=\"Импорт-библиотек-1\"><span class=\"toc-item-num\">1&nbsp;&nbsp;</span>Импорт библиотек</a></span></li><li><span><a href=\"#Загрузка-и-обзор-данных\" data-toc-modified-id=\"Загрузка-и-обзор-данных-2\"><span class=\"toc-item-num\">2&nbsp;&nbsp;</span>Загрузка и обзор данных</a></span></li><li><span><a href=\"#Предобработка-данных\" data-toc-modified-id=\"Предобработка-данных-3\"><span class=\"toc-item-num\">3&nbsp;&nbsp;</span>Предобработка данных</a></span><ul class=\"toc-item\"><li><span><a href=\"#Удаление-дубликатов\" data-toc-modified-id=\"Удаление-дубликатов-3.1\"><span class=\"toc-item-num\">3.1&nbsp;&nbsp;</span>Удаление дубликатов</a></span></li><li><span><a href=\"#Обработка-названия-колонок\" data-toc-modified-id=\"Обработка-названия-колонок-3.2\"><span class=\"toc-item-num\">3.2&nbsp;&nbsp;</span>Обработка названия колонок</a></span></li><li><span><a href=\"#Изменение-типов-данных\" data-toc-modified-id=\"Изменение-типов-данных-3.3\"><span class=\"toc-item-num\">3.3&nbsp;&nbsp;</span>Изменение типов данных</a></span></li><li><span><a href=\"#Обработка-пропусков\" data-toc-modified-id=\"Обработка-пропусков-3.4\"><span class=\"toc-item-num\">3.4&nbsp;&nbsp;</span>Обработка пропусков</a></span></li><li><span><a href=\"#Удаление-выбросов-и-аномальных-значений\" data-toc-modified-id=\"Удаление-выбросов-и-аномальных-значений-3.5\"><span class=\"toc-item-num\">3.5&nbsp;&nbsp;</span>Удаление выбросов и аномальных значений</a></span></li></ul></li><li><span><a href=\"#Подготовка-к-МО\" data-toc-modified-id=\"Подготовка-к-МО-4\"><span class=\"toc-item-num\">4&nbsp;&nbsp;</span>Подготовка к МО</a></span><ul class=\"toc-item\"><li><span><a href=\"#Выбор-факторов-для-МО-(категориальные-и-количественные)-и-разделение-на-выборки\" data-toc-modified-id=\"Выбор-факторов-для-МО-(категориальные-и-количественные)-и-разделение-на-выборки-4.1\"><span class=\"toc-item-num\">4.1&nbsp;&nbsp;</span>Выбор факторов для МО (категориальные и количественные) и разделение на выборки</a></span></li><li><span><a href=\"#Стандартизация/масштабирование-количественных-признаков\" data-toc-modified-id=\"Стандартизация/масштабирование-количественных-признаков-4.2\"><span class=\"toc-item-num\">4.2&nbsp;&nbsp;</span>Стандартизация/масштабирование количественных признаков</a></span></li><li><span><a href=\"#Кодирование-категориальных-признаков\" data-toc-modified-id=\"Кодирование-категориальных-признаков-4.3\"><span class=\"toc-item-num\">4.3&nbsp;&nbsp;</span>Кодирование категориальных признаков</a></span></li></ul></li><li><span><a href=\"#Обучение-моделей\" data-toc-modified-id=\"Обучение-моделей-5\"><span class=\"toc-item-num\">5&nbsp;&nbsp;</span>Обучение моделей</a></span><ul class=\"toc-item\"><li><span><a href=\"#Dummy-модель\" data-toc-modified-id=\"Dummy-модель-5.1\"><span class=\"toc-item-num\">5.1&nbsp;&nbsp;</span>Dummy модель</a></span></li><li><span><a href=\"#Линейная-регрессия\" data-toc-modified-id=\"Линейная-регрессия-5.2\"><span class=\"toc-item-num\">5.2&nbsp;&nbsp;</span>Линейная регрессия</a></span></li><li><span><a href=\"#Дерево-регрессии\" data-toc-modified-id=\"Дерево-регрессии-5.3\"><span class=\"toc-item-num\">5.3&nbsp;&nbsp;</span>Дерево регрессии</a></span></li><li><span><a href=\"#Ансамбль-Light-Gradient-Boosted-Machine-(LightGBM)\" data-toc-modified-id=\"Ансамбль-Light-Gradient-Boosted-Machine-(LightGBM)-5.4\"><span class=\"toc-item-num\">5.4&nbsp;&nbsp;</span>Ансамбль Light Gradient Boosted Machine (LightGBM)</a></span></li></ul></li><li><span><a href=\"#Анализ-моделей(проверка-на-тестовой-выборке)\" data-toc-modified-id=\"Анализ-моделей(проверка-на-тестовой-выборке)-6\"><span class=\"toc-item-num\">6&nbsp;&nbsp;</span>Анализ моделей(проверка на тестовой выборке)</a></span></li><li><span><a href=\"#Итоговый-вывод\" data-toc-modified-id=\"Итоговый-вывод-7\"><span class=\"toc-item-num\">7&nbsp;&nbsp;</span>Итоговый вывод</a></span></li></ul></div>"
   ]
  },
  {
   "cell_type": "markdown",
   "metadata": {},
   "source": [
    "# Определение стоимости автомобилей"
   ]
  },
  {
   "cell_type": "markdown",
   "metadata": {},
   "source": [
    "Сервис по продаже автомобилей с пробегом «Не бит, не крашен» разрабатывает приложение для привлечения новых клиентов. В нём можно быстро узнать рыночную стоимость своего автомобиля. В нашем распоряжении исторические данные: технические характеристики, комплектации и цены автомобилей. Необходимо построить модель для определения стоимости. \n",
    "\n",
    "Заказчику важны:\n",
    "\n",
    "- качество предсказания;\n",
    "- скорость предсказания;\n",
    "- время обучения."
   ]
  },
  {
   "cell_type": "markdown",
   "metadata": {},
   "source": [
    "**Цель исследования:** \n",
    "1. Создание модели машинного обучения предсказания стоимости б/у автомобиля по его характеристикам (важным является точность и скорость модели)\n",
    "\n",
    "**Задачи исследования:**\n",
    "1. Предобработать данные\n",
    "2. Разделить данные на выборки (обучающая и тестовая, признаки и целевой показатель)\n",
    "3. Проверить модели машинного обучения на данных\n",
    "4. Сравненить результаты моделей по критериям оценки.\n",
    "\n",
    "**Объектом исследования** являются данные о стоимости и характеристиках б/у автомобилей.\n",
    "\n",
    "**Предметом исследования** является комплекс методик машинного обучения и инструментов связанных с МО.\n",
    "\n",
    "**Ход выполнения**\n",
    "1. Импортировать все необходимые библиотеки\n",
    "2. Загрузить данные из файла `/datasets/autos.csv`\n",
    "3. Проанализировать общую информацию о качестве и структуре данных, предобработать данные\n",
    "4. Разделить данные на выборки\n",
    "5. Построить разные модели предсказания цены \n",
    "6. Сравнить скорость и точность построенных моделей (Значение метрики RMSE должно быть меньше 2500)\n",
    "7. Сделать выводы и рекомендации для дальнейшего исследования\n",
    "\n",
    "**Описание данных**\n",
    "Есть набор данных `/datasets/autos.csv`, каждая строчка это информация по одной заявке на продажу: стоимость и характеристики автомобиля. \n",
    "\n",
    "Признаки\n",
    "- `DateCrawled` — дата скачивания анкеты из базы\n",
    "- `VehicleType` — тип автомобильного кузова\n",
    "- `RegistrationYear` — год регистрации автомобиля\n",
    "- `Gearbox` — тип коробки передач\n",
    "- `Power` — мощность (л. с.)\n",
    "- `Model` — модель автомобиля\n",
    "- `Kilometer` — пробег (км)\n",
    "- `RegistrationMonth` — месяц регистрации автомобиля\n",
    "- `FuelType` — тип топлива\n",
    "- `Brand` — марка автомобиля\n",
    "- `Repaired` — была машина в ремонте или нет\n",
    "- `DateCreated` — дата создания анкеты\n",
    "- `NumberOfPictures` — количество фотографий автомобиля\n",
    "- `PostalCode` — почтовый индекс владельца анкеты (пользователя)\n",
    "- `LastSeen` — дата последней активности пользователя\n",
    "\n",
    "Целевой признак\n",
    "- `Price` — цена (евро)"
   ]
  },
  {
   "cell_type": "markdown",
   "metadata": {},
   "source": [
    "## Импорт библиотек"
   ]
  },
  {
   "cell_type": "markdown",
   "metadata": {},
   "source": [
    "Расширяем границы"
   ]
  },
  {
   "cell_type": "code",
   "execution_count": 1,
   "metadata": {},
   "outputs": [
    {
     "data": {
      "text/html": [
       "<style>.container { width:70% !important; }</style>"
      ],
      "text/plain": [
       "<IPython.core.display.HTML object>"
      ]
     },
     "metadata": {},
     "output_type": "display_data"
    }
   ],
   "source": [
    "from IPython.core.display import display, HTML\n",
    "display(HTML(\"<style>.container { width:70% !important; }</style>\"))"
   ]
  },
  {
   "cell_type": "markdown",
   "metadata": {},
   "source": [
    "Устанавливаем и импортируем необходимое"
   ]
  },
  {
   "cell_type": "code",
   "execution_count": 2,
   "metadata": {},
   "outputs": [
    {
     "name": "stdout",
     "output_type": "stream",
     "text": [
      "Requirement already satisfied: lightgbm in /opt/conda/lib/python3.9/site-packages (3.3.1)\n",
      "Requirement already satisfied: scikit-learn!=0.22.0 in /opt/conda/lib/python3.9/site-packages (from lightgbm) (0.24.1)\n",
      "Requirement already satisfied: numpy in /opt/conda/lib/python3.9/site-packages (from lightgbm) (1.21.1)\n",
      "Requirement already satisfied: scipy in /opt/conda/lib/python3.9/site-packages (from lightgbm) (1.9.1)\n",
      "Requirement already satisfied: wheel in /opt/conda/lib/python3.9/site-packages (from lightgbm) (0.36.2)\n",
      "Requirement already satisfied: joblib>=0.11 in /opt/conda/lib/python3.9/site-packages (from scikit-learn!=0.22.0->lightgbm) (1.1.0)\n",
      "Requirement already satisfied: threadpoolctl>=2.0.0 in /opt/conda/lib/python3.9/site-packages (from scikit-learn!=0.22.0->lightgbm) (3.1.0)\n",
      "Requirement already satisfied: scikit-learn in /opt/conda/lib/python3.9/site-packages (0.24.1)\n",
      "Requirement already satisfied: scipy>=0.19.1 in /opt/conda/lib/python3.9/site-packages (from scikit-learn) (1.9.1)\n",
      "Requirement already satisfied: threadpoolctl>=2.0.0 in /opt/conda/lib/python3.9/site-packages (from scikit-learn) (3.1.0)\n",
      "Requirement already satisfied: numpy>=1.13.3 in /opt/conda/lib/python3.9/site-packages (from scikit-learn) (1.21.1)\n",
      "Requirement already satisfied: joblib>=0.11 in /opt/conda/lib/python3.9/site-packages (from scikit-learn) (1.1.0)\n"
     ]
    }
   ],
   "source": [
    "!pip install lightgbm\n",
    "#!pip install ydata-profiling\n",
    "!pip install scikit-learn"
   ]
  },
  {
   "cell_type": "code",
   "execution_count": 3,
   "metadata": {},
   "outputs": [
    {
     "name": "stdout",
     "output_type": "stream",
     "text": [
      "3.3.1\n"
     ]
    }
   ],
   "source": [
    "import pandas as pd\n",
    "import numpy as np\n",
    "import seaborn as sns\n",
    "import matplotlib.pyplot as plt\n",
    "from datetime import datetime\n",
    "from datetime import timedelta\n",
    "import time\n",
    "\n",
    "#from ydata_profiling import ProfileReport\n",
    "\n",
    "import warnings\n",
    "warnings.filterwarnings('ignore')\n",
    "\n",
    "from sklearn.model_selection import train_test_split\n",
    "from sklearn.metrics import mean_squared_error\n",
    "from sklearn.preprocessing import OneHotEncoder\n",
    "from sklearn.compose import make_column_transformer\n",
    "from sklearn.preprocessing import StandardScaler\n",
    "\n",
    "from sklearn.ensemble import RandomForestRegressor\n",
    "from sklearn.linear_model import LinearRegression\n",
    "from sklearn.tree import DecisionTreeRegressor\n",
    "from sklearn.dummy import DummyRegressor\n",
    "import lightgbm\n",
    "from lightgbm import LGBMRegressor\n",
    "print(lightgbm.__version__)"
   ]
  },
  {
   "cell_type": "markdown",
   "metadata": {},
   "source": [
    "## Загрузка и обзор данных"
   ]
  },
  {
   "cell_type": "code",
   "execution_count": 4,
   "metadata": {},
   "outputs": [],
   "source": [
    "data = pd.read_csv('/datasets/autos.csv')"
   ]
  },
  {
   "cell_type": "markdown",
   "metadata": {},
   "source": [
    "Посмотрим количество записей и сохраним для финала предобработки"
   ]
  },
  {
   "cell_type": "code",
   "execution_count": 5,
   "metadata": {},
   "outputs": [
    {
     "data": {
      "text/plain": [
       "354369"
      ]
     },
     "execution_count": 5,
     "metadata": {},
     "output_type": "execute_result"
    }
   ],
   "source": [
    "len_data_1 = len(data)\n",
    "len_data_1"
   ]
  },
  {
   "cell_type": "markdown",
   "metadata": {},
   "source": [
    "В момент когда делал проект - ошибки с библиотекой ydata-profiling не было. На момент оформления проекта об ошибке разработчикам известно."
   ]
  },
  {
   "cell_type": "raw",
   "metadata": {},
   "source": [
    "ProfileReport(data)"
   ]
  },
  {
   "cell_type": "code",
   "execution_count": 6,
   "metadata": {},
   "outputs": [
    {
     "name": "stdout",
     "output_type": "stream",
     "text": [
      "Поверхностный анализ данных \n",
      "\n"
     ]
    },
    {
     "data": {
      "text/html": [
       "<style  type=\"text/css\" >\n",
       "#T_2da7c_row0_col0,#T_2da7c_row1_col0,#T_2da7c_row3_col0,#T_2da7c_row5_col0,#T_2da7c_row7_col0,#T_2da7c_row8_col0,#T_2da7c_row10_col0,#T_2da7c_row12_col0,#T_2da7c_row13_col0,#T_2da7c_row14_col0,#T_2da7c_row15_col0{\n",
       "            background-color:  #3b4cc0;\n",
       "            color:  #f1f1f1;\n",
       "        }#T_2da7c_row2_col0{\n",
       "            background-color:  #e3d9d3;\n",
       "            color:  #000000;\n",
       "        }#T_2da7c_row4_col0{\n",
       "            background-color:  #97b8ff;\n",
       "            color:  #000000;\n",
       "        }#T_2da7c_row6_col0{\n",
       "            background-color:  #96b7ff;\n",
       "            color:  #000000;\n",
       "        }#T_2da7c_row9_col0{\n",
       "            background-color:  #d3dbe7;\n",
       "            color:  #000000;\n",
       "        }#T_2da7c_row11_col0{\n",
       "            background-color:  #b40426;\n",
       "            color:  #f1f1f1;\n",
       "        }</style><table id=\"T_2da7c_\" ><thead>    <tr>        <th class=\"blank level0\" ></th>        <th class=\"col_heading level0 col0\" >0</th>    </tr></thead><tbody>\n",
       "                <tr>\n",
       "                        <th id=\"T_2da7c_level0_row0\" class=\"row_heading level0 row0\" >DateCrawled</th>\n",
       "                        <td id=\"T_2da7c_row0_col0\" class=\"data row0 col0\" >0.000000</td>\n",
       "            </tr>\n",
       "            <tr>\n",
       "                        <th id=\"T_2da7c_level0_row1\" class=\"row_heading level0 row1\" >Price</th>\n",
       "                        <td id=\"T_2da7c_row1_col0\" class=\"data row1 col0\" >0.000000</td>\n",
       "            </tr>\n",
       "            <tr>\n",
       "                        <th id=\"T_2da7c_level0_row2\" class=\"row_heading level0 row2\" >VehicleType</th>\n",
       "                        <td id=\"T_2da7c_row2_col0\" class=\"data row2 col0\" >10.580000</td>\n",
       "            </tr>\n",
       "            <tr>\n",
       "                        <th id=\"T_2da7c_level0_row3\" class=\"row_heading level0 row3\" >RegistrationYear</th>\n",
       "                        <td id=\"T_2da7c_row3_col0\" class=\"data row3 col0\" >0.000000</td>\n",
       "            </tr>\n",
       "            <tr>\n",
       "                        <th id=\"T_2da7c_level0_row4\" class=\"row_heading level0 row4\" >Gearbox</th>\n",
       "                        <td id=\"T_2da7c_row4_col0\" class=\"data row4 col0\" >5.600000</td>\n",
       "            </tr>\n",
       "            <tr>\n",
       "                        <th id=\"T_2da7c_level0_row5\" class=\"row_heading level0 row5\" >Power</th>\n",
       "                        <td id=\"T_2da7c_row5_col0\" class=\"data row5 col0\" >0.000000</td>\n",
       "            </tr>\n",
       "            <tr>\n",
       "                        <th id=\"T_2da7c_level0_row6\" class=\"row_heading level0 row6\" >Model</th>\n",
       "                        <td id=\"T_2da7c_row6_col0\" class=\"data row6 col0\" >5.560000</td>\n",
       "            </tr>\n",
       "            <tr>\n",
       "                        <th id=\"T_2da7c_level0_row7\" class=\"row_heading level0 row7\" >Kilometer</th>\n",
       "                        <td id=\"T_2da7c_row7_col0\" class=\"data row7 col0\" >0.000000</td>\n",
       "            </tr>\n",
       "            <tr>\n",
       "                        <th id=\"T_2da7c_level0_row8\" class=\"row_heading level0 row8\" >RegistrationMonth</th>\n",
       "                        <td id=\"T_2da7c_row8_col0\" class=\"data row8 col0\" >0.000000</td>\n",
       "            </tr>\n",
       "            <tr>\n",
       "                        <th id=\"T_2da7c_level0_row9\" class=\"row_heading level0 row9\" >FuelType</th>\n",
       "                        <td id=\"T_2da7c_row9_col0\" class=\"data row9 col0\" >9.280000</td>\n",
       "            </tr>\n",
       "            <tr>\n",
       "                        <th id=\"T_2da7c_level0_row10\" class=\"row_heading level0 row10\" >Brand</th>\n",
       "                        <td id=\"T_2da7c_row10_col0\" class=\"data row10 col0\" >0.000000</td>\n",
       "            </tr>\n",
       "            <tr>\n",
       "                        <th id=\"T_2da7c_level0_row11\" class=\"row_heading level0 row11\" >Repaired</th>\n",
       "                        <td id=\"T_2da7c_row11_col0\" class=\"data row11 col0\" >20.080000</td>\n",
       "            </tr>\n",
       "            <tr>\n",
       "                        <th id=\"T_2da7c_level0_row12\" class=\"row_heading level0 row12\" >DateCreated</th>\n",
       "                        <td id=\"T_2da7c_row12_col0\" class=\"data row12 col0\" >0.000000</td>\n",
       "            </tr>\n",
       "            <tr>\n",
       "                        <th id=\"T_2da7c_level0_row13\" class=\"row_heading level0 row13\" >NumberOfPictures</th>\n",
       "                        <td id=\"T_2da7c_row13_col0\" class=\"data row13 col0\" >0.000000</td>\n",
       "            </tr>\n",
       "            <tr>\n",
       "                        <th id=\"T_2da7c_level0_row14\" class=\"row_heading level0 row14\" >PostalCode</th>\n",
       "                        <td id=\"T_2da7c_row14_col0\" class=\"data row14 col0\" >0.000000</td>\n",
       "            </tr>\n",
       "            <tr>\n",
       "                        <th id=\"T_2da7c_level0_row15\" class=\"row_heading level0 row15\" >LastSeen</th>\n",
       "                        <td id=\"T_2da7c_row15_col0\" class=\"data row15 col0\" >0.000000</td>\n",
       "            </tr>\n",
       "    </tbody></table>"
      ],
      "text/plain": [
       "<pandas.io.formats.style.Styler at 0x7f07c3fa0670>"
      ]
     },
     "metadata": {},
     "output_type": "display_data"
    },
    {
     "name": "stdout",
     "output_type": "stream",
     "text": [
      "<class 'pandas.core.frame.DataFrame'>\n",
      "RangeIndex: 354369 entries, 0 to 354368\n",
      "Data columns (total 16 columns):\n",
      " #   Column             Non-Null Count   Dtype \n",
      "---  ------             --------------   ----- \n",
      " 0   DateCrawled        354369 non-null  object\n",
      " 1   Price              354369 non-null  int64 \n",
      " 2   VehicleType        316879 non-null  object\n",
      " 3   RegistrationYear   354369 non-null  int64 \n",
      " 4   Gearbox            334536 non-null  object\n",
      " 5   Power              354369 non-null  int64 \n",
      " 6   Model              334664 non-null  object\n",
      " 7   Kilometer          354369 non-null  int64 \n",
      " 8   RegistrationMonth  354369 non-null  int64 \n",
      " 9   FuelType           321474 non-null  object\n",
      " 10  Brand              354369 non-null  object\n",
      " 11  Repaired           283215 non-null  object\n",
      " 12  DateCreated        354369 non-null  object\n",
      " 13  NumberOfPictures   354369 non-null  int64 \n",
      " 14  PostalCode         354369 non-null  int64 \n",
      " 15  LastSeen           354369 non-null  object\n",
      "dtypes: int64(7), object(9)\n",
      "memory usage: 43.3+ MB\n"
     ]
    },
    {
     "data": {
      "text/html": [
       "<div>\n",
       "<style scoped>\n",
       "    .dataframe tbody tr th:only-of-type {\n",
       "        vertical-align: middle;\n",
       "    }\n",
       "\n",
       "    .dataframe tbody tr th {\n",
       "        vertical-align: top;\n",
       "    }\n",
       "\n",
       "    .dataframe thead th {\n",
       "        text-align: right;\n",
       "    }\n",
       "</style>\n",
       "<table border=\"1\" class=\"dataframe\">\n",
       "  <thead>\n",
       "    <tr style=\"text-align: right;\">\n",
       "      <th></th>\n",
       "      <th>DateCrawled</th>\n",
       "      <th>Price</th>\n",
       "      <th>VehicleType</th>\n",
       "      <th>RegistrationYear</th>\n",
       "      <th>Gearbox</th>\n",
       "      <th>Power</th>\n",
       "      <th>Model</th>\n",
       "      <th>Kilometer</th>\n",
       "      <th>RegistrationMonth</th>\n",
       "      <th>FuelType</th>\n",
       "      <th>Brand</th>\n",
       "      <th>Repaired</th>\n",
       "      <th>DateCreated</th>\n",
       "      <th>NumberOfPictures</th>\n",
       "      <th>PostalCode</th>\n",
       "      <th>LastSeen</th>\n",
       "    </tr>\n",
       "  </thead>\n",
       "  <tbody>\n",
       "    <tr>\n",
       "      <th>0</th>\n",
       "      <td>2016-03-24 11:52:17</td>\n",
       "      <td>480</td>\n",
       "      <td>NaN</td>\n",
       "      <td>1993</td>\n",
       "      <td>manual</td>\n",
       "      <td>0</td>\n",
       "      <td>golf</td>\n",
       "      <td>150000</td>\n",
       "      <td>0</td>\n",
       "      <td>petrol</td>\n",
       "      <td>volkswagen</td>\n",
       "      <td>NaN</td>\n",
       "      <td>2016-03-24 00:00:00</td>\n",
       "      <td>0</td>\n",
       "      <td>70435</td>\n",
       "      <td>2016-04-07 03:16:57</td>\n",
       "    </tr>\n",
       "    <tr>\n",
       "      <th>1</th>\n",
       "      <td>2016-03-24 10:58:45</td>\n",
       "      <td>18300</td>\n",
       "      <td>coupe</td>\n",
       "      <td>2011</td>\n",
       "      <td>manual</td>\n",
       "      <td>190</td>\n",
       "      <td>NaN</td>\n",
       "      <td>125000</td>\n",
       "      <td>5</td>\n",
       "      <td>gasoline</td>\n",
       "      <td>audi</td>\n",
       "      <td>yes</td>\n",
       "      <td>2016-03-24 00:00:00</td>\n",
       "      <td>0</td>\n",
       "      <td>66954</td>\n",
       "      <td>2016-04-07 01:46:50</td>\n",
       "    </tr>\n",
       "    <tr>\n",
       "      <th>2</th>\n",
       "      <td>2016-03-14 12:52:21</td>\n",
       "      <td>9800</td>\n",
       "      <td>suv</td>\n",
       "      <td>2004</td>\n",
       "      <td>auto</td>\n",
       "      <td>163</td>\n",
       "      <td>grand</td>\n",
       "      <td>125000</td>\n",
       "      <td>8</td>\n",
       "      <td>gasoline</td>\n",
       "      <td>jeep</td>\n",
       "      <td>NaN</td>\n",
       "      <td>2016-03-14 00:00:00</td>\n",
       "      <td>0</td>\n",
       "      <td>90480</td>\n",
       "      <td>2016-04-05 12:47:46</td>\n",
       "    </tr>\n",
       "  </tbody>\n",
       "</table>\n",
       "</div>"
      ],
      "text/plain": [
       "           DateCrawled  Price VehicleType  RegistrationYear Gearbox  Power  \\\n",
       "0  2016-03-24 11:52:17    480         NaN              1993  manual      0   \n",
       "1  2016-03-24 10:58:45  18300       coupe              2011  manual    190   \n",
       "2  2016-03-14 12:52:21   9800         suv              2004    auto    163   \n",
       "\n",
       "   Model  Kilometer  RegistrationMonth  FuelType       Brand Repaired  \\\n",
       "0   golf     150000                  0    petrol  volkswagen      NaN   \n",
       "1    NaN     125000                  5  gasoline        audi      yes   \n",
       "2  grand     125000                  8  gasoline        jeep      NaN   \n",
       "\n",
       "           DateCreated  NumberOfPictures  PostalCode             LastSeen  \n",
       "0  2016-03-24 00:00:00                 0       70435  2016-04-07 03:16:57  \n",
       "1  2016-03-24 00:00:00                 0       66954  2016-04-07 01:46:50  \n",
       "2  2016-03-14 00:00:00                 0       90480  2016-04-05 12:47:46  "
      ]
     },
     "metadata": {},
     "output_type": "display_data"
    },
    {
     "data": {
      "text/html": [
       "<div>\n",
       "<style scoped>\n",
       "    .dataframe tbody tr th:only-of-type {\n",
       "        vertical-align: middle;\n",
       "    }\n",
       "\n",
       "    .dataframe tbody tr th {\n",
       "        vertical-align: top;\n",
       "    }\n",
       "\n",
       "    .dataframe thead th {\n",
       "        text-align: right;\n",
       "    }\n",
       "</style>\n",
       "<table border=\"1\" class=\"dataframe\">\n",
       "  <thead>\n",
       "    <tr style=\"text-align: right;\">\n",
       "      <th></th>\n",
       "      <th>Price</th>\n",
       "      <th>RegistrationYear</th>\n",
       "      <th>Power</th>\n",
       "      <th>Kilometer</th>\n",
       "      <th>RegistrationMonth</th>\n",
       "      <th>NumberOfPictures</th>\n",
       "      <th>PostalCode</th>\n",
       "    </tr>\n",
       "  </thead>\n",
       "  <tbody>\n",
       "    <tr>\n",
       "      <th>count</th>\n",
       "      <td>354369.000000</td>\n",
       "      <td>354369.000000</td>\n",
       "      <td>354369.000000</td>\n",
       "      <td>354369.000000</td>\n",
       "      <td>354369.000000</td>\n",
       "      <td>354369.0</td>\n",
       "      <td>354369.000000</td>\n",
       "    </tr>\n",
       "    <tr>\n",
       "      <th>mean</th>\n",
       "      <td>4416.656776</td>\n",
       "      <td>2004.234448</td>\n",
       "      <td>110.094337</td>\n",
       "      <td>128211.172535</td>\n",
       "      <td>5.714645</td>\n",
       "      <td>0.0</td>\n",
       "      <td>50508.689087</td>\n",
       "    </tr>\n",
       "    <tr>\n",
       "      <th>std</th>\n",
       "      <td>4514.158514</td>\n",
       "      <td>90.227958</td>\n",
       "      <td>189.850405</td>\n",
       "      <td>37905.341530</td>\n",
       "      <td>3.726421</td>\n",
       "      <td>0.0</td>\n",
       "      <td>25783.096248</td>\n",
       "    </tr>\n",
       "    <tr>\n",
       "      <th>min</th>\n",
       "      <td>0.000000</td>\n",
       "      <td>1000.000000</td>\n",
       "      <td>0.000000</td>\n",
       "      <td>5000.000000</td>\n",
       "      <td>0.000000</td>\n",
       "      <td>0.0</td>\n",
       "      <td>1067.000000</td>\n",
       "    </tr>\n",
       "    <tr>\n",
       "      <th>25%</th>\n",
       "      <td>1050.000000</td>\n",
       "      <td>1999.000000</td>\n",
       "      <td>69.000000</td>\n",
       "      <td>125000.000000</td>\n",
       "      <td>3.000000</td>\n",
       "      <td>0.0</td>\n",
       "      <td>30165.000000</td>\n",
       "    </tr>\n",
       "    <tr>\n",
       "      <th>50%</th>\n",
       "      <td>2700.000000</td>\n",
       "      <td>2003.000000</td>\n",
       "      <td>105.000000</td>\n",
       "      <td>150000.000000</td>\n",
       "      <td>6.000000</td>\n",
       "      <td>0.0</td>\n",
       "      <td>49413.000000</td>\n",
       "    </tr>\n",
       "    <tr>\n",
       "      <th>75%</th>\n",
       "      <td>6400.000000</td>\n",
       "      <td>2008.000000</td>\n",
       "      <td>143.000000</td>\n",
       "      <td>150000.000000</td>\n",
       "      <td>9.000000</td>\n",
       "      <td>0.0</td>\n",
       "      <td>71083.000000</td>\n",
       "    </tr>\n",
       "    <tr>\n",
       "      <th>max</th>\n",
       "      <td>20000.000000</td>\n",
       "      <td>9999.000000</td>\n",
       "      <td>20000.000000</td>\n",
       "      <td>150000.000000</td>\n",
       "      <td>12.000000</td>\n",
       "      <td>0.0</td>\n",
       "      <td>99998.000000</td>\n",
       "    </tr>\n",
       "  </tbody>\n",
       "</table>\n",
       "</div>"
      ],
      "text/plain": [
       "               Price  RegistrationYear          Power      Kilometer  \\\n",
       "count  354369.000000     354369.000000  354369.000000  354369.000000   \n",
       "mean     4416.656776       2004.234448     110.094337  128211.172535   \n",
       "std      4514.158514         90.227958     189.850405   37905.341530   \n",
       "min         0.000000       1000.000000       0.000000    5000.000000   \n",
       "25%      1050.000000       1999.000000      69.000000  125000.000000   \n",
       "50%      2700.000000       2003.000000     105.000000  150000.000000   \n",
       "75%      6400.000000       2008.000000     143.000000  150000.000000   \n",
       "max     20000.000000       9999.000000   20000.000000  150000.000000   \n",
       "\n",
       "       RegistrationMonth  NumberOfPictures     PostalCode  \n",
       "count      354369.000000          354369.0  354369.000000  \n",
       "mean            5.714645               0.0   50508.689087  \n",
       "std             3.726421               0.0   25783.096248  \n",
       "min             0.000000               0.0    1067.000000  \n",
       "25%             3.000000               0.0   30165.000000  \n",
       "50%             6.000000               0.0   49413.000000  \n",
       "75%             9.000000               0.0   71083.000000  \n",
       "max            12.000000               0.0   99998.000000  "
      ]
     },
     "metadata": {},
     "output_type": "display_data"
    },
    {
     "data": {
      "image/png": "[encoded data removed]",
      "text/plain": [
       "<Figure size 1440x1440 with 9 Axes>"
      ]
     },
     "metadata": {
      "needs_background": "light"
     },
     "output_type": "display_data"
    }
   ],
   "source": [
    "print('Поверхностный анализ данных', '\\n')\n",
    "display(pd.DataFrame(round(data.isna().mean()*100,2)).style.background_gradient('coolwarm'))\n",
    "data.info()\n",
    "display(data.head(3))\n",
    "display(data.describe())\n",
    "data.hist(figsize=(20,20));"
   ]
  },
  {
   "cell_type": "markdown",
   "metadata": {},
   "source": [
    "**Вывод:**\n",
    "Предстоит удалить дубликаты, удалить выбросы, и заполнить пропуски и нули. Названия столбцов привести в змеиный регистр, поменять тип данных.\n",
    "\n",
    "Так же в процессе необходимо будет определиться с факторами, которые будем использовать в моделях (а остальные факторы и не предобрабатывать) и выделить выборки с факторами и целевым показателем для машинного обучения"
   ]
  },
  {
   "cell_type": "markdown",
   "metadata": {},
   "source": [
    "## Предобработка данных"
   ]
  },
  {
   "cell_type": "markdown",
   "metadata": {},
   "source": [
    "### Удаление дубликатов"
   ]
  },
  {
   "cell_type": "markdown",
   "metadata": {},
   "source": [
    "Удаляем 4 явных дубликата"
   ]
  },
  {
   "cell_type": "code",
   "execution_count": 7,
   "metadata": {
    "scrolled": true
   },
   "outputs": [],
   "source": [
    "data = data.drop_duplicates()"
   ]
  },
  {
   "cell_type": "markdown",
   "metadata": {},
   "source": [
    "### Обработка названия колонок"
   ]
  },
  {
   "cell_type": "markdown",
   "metadata": {},
   "source": [
    "Названия колонок приводим к стандарту, в змеиный регистр. Для удобства сначала переведем все в нижний регистр, а потом добавим резделители"
   ]
  },
  {
   "cell_type": "code",
   "execution_count": 8,
   "metadata": {
    "scrolled": true
   },
   "outputs": [
    {
     "data": {
      "text/plain": [
       "Index(['DateCrawled', 'Price', 'VehicleType', 'RegistrationYear', 'Gearbox',\n",
       "       'Power', 'Model', 'Kilometer', 'RegistrationMonth', 'FuelType', 'Brand',\n",
       "       'Repaired', 'DateCreated', 'NumberOfPictures', 'PostalCode',\n",
       "       'LastSeen'],\n",
       "      dtype='object')"
      ]
     },
     "execution_count": 8,
     "metadata": {},
     "output_type": "execute_result"
    }
   ],
   "source": [
    "data.columns"
   ]
  },
  {
   "cell_type": "code",
   "execution_count": 9,
   "metadata": {},
   "outputs": [
    {
     "data": {
      "text/plain": [
       "Index(['datecrawled', 'price', 'vehicletype', 'registrationyear', 'gearbox',\n",
       "       'power', 'model', 'kilometer', 'registrationmonth', 'fueltype', 'brand',\n",
       "       'repaired', 'datecreated', 'numberofpictures', 'postalcode',\n",
       "       'lastseen'],\n",
       "      dtype='object')"
      ]
     },
     "execution_count": 9,
     "metadata": {},
     "output_type": "execute_result"
    }
   ],
   "source": [
    "data.columns = data.columns.str.lower()\n",
    "data.columns"
   ]
  },
  {
   "cell_type": "code",
   "execution_count": 10,
   "metadata": {},
   "outputs": [],
   "source": [
    "data.columns = ['date_crawled', 'price', 'vehicle_type', 'registration_year', 'gearbox',\n",
    "       'power', 'model', 'kilometer', 'registration_month', 'fuel_type', 'brand',\n",
    "       'repaired', 'date_created', 'number_of_pictures', 'postal_code',\n",
    "       'last_seen']"
   ]
  },
  {
   "cell_type": "markdown",
   "metadata": {},
   "source": [
    "### Изменение типов данных"
   ]
  },
  {
   "cell_type": "code",
   "execution_count": 11,
   "metadata": {},
   "outputs": [
    {
     "name": "stdout",
     "output_type": "stream",
     "text": [
      "<class 'pandas.core.frame.DataFrame'>\n",
      "Int64Index: 354365 entries, 0 to 354368\n",
      "Data columns (total 16 columns):\n",
      " #   Column              Non-Null Count   Dtype \n",
      "---  ------              --------------   ----- \n",
      " 0   date_crawled        354365 non-null  object\n",
      " 1   price               354365 non-null  int64 \n",
      " 2   vehicle_type        316875 non-null  object\n",
      " 3   registration_year   354365 non-null  int64 \n",
      " 4   gearbox             334532 non-null  object\n",
      " 5   power               354365 non-null  int64 \n",
      " 6   model               334660 non-null  object\n",
      " 7   kilometer           354365 non-null  int64 \n",
      " 8   registration_month  354365 non-null  int64 \n",
      " 9   fuel_type           321470 non-null  object\n",
      " 10  brand               354365 non-null  object\n",
      " 11  repaired            283211 non-null  object\n",
      " 12  date_created        354365 non-null  object\n",
      " 13  number_of_pictures  354365 non-null  int64 \n",
      " 14  postal_code         354365 non-null  int64 \n",
      " 15  last_seen           354365 non-null  object\n",
      "dtypes: int64(7), object(9)\n",
      "memory usage: 46.0+ MB\n"
     ]
    }
   ],
   "source": [
    "data.info()"
   ]
  },
  {
   "cell_type": "code",
   "execution_count": 12,
   "metadata": {},
   "outputs": [],
   "source": [
    "data['date_crawled'] = pd.to_datetime(data['date_crawled'], format='%Y-%m-%dT%H:%M:%S')\n",
    "data['last_seen'] = pd.to_datetime(data['last_seen'], format='%Y-%m-%dT%H:%M:%S')\n",
    "data['date_created'] = pd.to_datetime(data['date_created'], format='%Y-%m-%dT%H:%M:%S')"
   ]
  },
  {
   "cell_type": "markdown",
   "metadata": {},
   "source": [
    "Даты и время перевели в специальный формат, чтобы легче было работать с этим"
   ]
  },
  {
   "cell_type": "markdown",
   "metadata": {},
   "source": [
    "### Обработка пропусков"
   ]
  },
  {
   "cell_type": "code",
   "execution_count": 13,
   "metadata": {
    "scrolled": true
   },
   "outputs": [
    {
     "data": {
      "text/html": [
       "<style  type=\"text/css\" >\n",
       "#T_4f437_row0_col0,#T_4f437_row1_col0,#T_4f437_row3_col0,#T_4f437_row5_col0,#T_4f437_row7_col0,#T_4f437_row8_col0,#T_4f437_row10_col0,#T_4f437_row12_col0,#T_4f437_row13_col0,#T_4f437_row14_col0,#T_4f437_row15_col0{\n",
       "            background-color:  #3b4cc0;\n",
       "            color:  #f1f1f1;\n",
       "        }#T_4f437_row2_col0{\n",
       "            background-color:  #e3d9d3;\n",
       "            color:  #000000;\n",
       "        }#T_4f437_row4_col0{\n",
       "            background-color:  #97b8ff;\n",
       "            color:  #000000;\n",
       "        }#T_4f437_row6_col0{\n",
       "            background-color:  #96b7ff;\n",
       "            color:  #000000;\n",
       "        }#T_4f437_row9_col0{\n",
       "            background-color:  #d3dbe7;\n",
       "            color:  #000000;\n",
       "        }#T_4f437_row11_col0{\n",
       "            background-color:  #b40426;\n",
       "            color:  #f1f1f1;\n",
       "        }</style><table id=\"T_4f437_\" ><thead>    <tr>        <th class=\"blank level0\" ></th>        <th class=\"col_heading level0 col0\" >0</th>    </tr></thead><tbody>\n",
       "                <tr>\n",
       "                        <th id=\"T_4f437_level0_row0\" class=\"row_heading level0 row0\" >date_crawled</th>\n",
       "                        <td id=\"T_4f437_row0_col0\" class=\"data row0 col0\" >0.000000</td>\n",
       "            </tr>\n",
       "            <tr>\n",
       "                        <th id=\"T_4f437_level0_row1\" class=\"row_heading level0 row1\" >price</th>\n",
       "                        <td id=\"T_4f437_row1_col0\" class=\"data row1 col0\" >0.000000</td>\n",
       "            </tr>\n",
       "            <tr>\n",
       "                        <th id=\"T_4f437_level0_row2\" class=\"row_heading level0 row2\" >vehicle_type</th>\n",
       "                        <td id=\"T_4f437_row2_col0\" class=\"data row2 col0\" >10.580000</td>\n",
       "            </tr>\n",
       "            <tr>\n",
       "                        <th id=\"T_4f437_level0_row3\" class=\"row_heading level0 row3\" >registration_year</th>\n",
       "                        <td id=\"T_4f437_row3_col0\" class=\"data row3 col0\" >0.000000</td>\n",
       "            </tr>\n",
       "            <tr>\n",
       "                        <th id=\"T_4f437_level0_row4\" class=\"row_heading level0 row4\" >gearbox</th>\n",
       "                        <td id=\"T_4f437_row4_col0\" class=\"data row4 col0\" >5.600000</td>\n",
       "            </tr>\n",
       "            <tr>\n",
       "                        <th id=\"T_4f437_level0_row5\" class=\"row_heading level0 row5\" >power</th>\n",
       "                        <td id=\"T_4f437_row5_col0\" class=\"data row5 col0\" >0.000000</td>\n",
       "            </tr>\n",
       "            <tr>\n",
       "                        <th id=\"T_4f437_level0_row6\" class=\"row_heading level0 row6\" >model</th>\n",
       "                        <td id=\"T_4f437_row6_col0\" class=\"data row6 col0\" >5.560000</td>\n",
       "            </tr>\n",
       "            <tr>\n",
       "                        <th id=\"T_4f437_level0_row7\" class=\"row_heading level0 row7\" >kilometer</th>\n",
       "                        <td id=\"T_4f437_row7_col0\" class=\"data row7 col0\" >0.000000</td>\n",
       "            </tr>\n",
       "            <tr>\n",
       "                        <th id=\"T_4f437_level0_row8\" class=\"row_heading level0 row8\" >registration_month</th>\n",
       "                        <td id=\"T_4f437_row8_col0\" class=\"data row8 col0\" >0.000000</td>\n",
       "            </tr>\n",
       "            <tr>\n",
       "                        <th id=\"T_4f437_level0_row9\" class=\"row_heading level0 row9\" >fuel_type</th>\n",
       "                        <td id=\"T_4f437_row9_col0\" class=\"data row9 col0\" >9.280000</td>\n",
       "            </tr>\n",
       "            <tr>\n",
       "                        <th id=\"T_4f437_level0_row10\" class=\"row_heading level0 row10\" >brand</th>\n",
       "                        <td id=\"T_4f437_row10_col0\" class=\"data row10 col0\" >0.000000</td>\n",
       "            </tr>\n",
       "            <tr>\n",
       "                        <th id=\"T_4f437_level0_row11\" class=\"row_heading level0 row11\" >repaired</th>\n",
       "                        <td id=\"T_4f437_row11_col0\" class=\"data row11 col0\" >20.080000</td>\n",
       "            </tr>\n",
       "            <tr>\n",
       "                        <th id=\"T_4f437_level0_row12\" class=\"row_heading level0 row12\" >date_created</th>\n",
       "                        <td id=\"T_4f437_row12_col0\" class=\"data row12 col0\" >0.000000</td>\n",
       "            </tr>\n",
       "            <tr>\n",
       "                        <th id=\"T_4f437_level0_row13\" class=\"row_heading level0 row13\" >number_of_pictures</th>\n",
       "                        <td id=\"T_4f437_row13_col0\" class=\"data row13 col0\" >0.000000</td>\n",
       "            </tr>\n",
       "            <tr>\n",
       "                        <th id=\"T_4f437_level0_row14\" class=\"row_heading level0 row14\" >postal_code</th>\n",
       "                        <td id=\"T_4f437_row14_col0\" class=\"data row14 col0\" >0.000000</td>\n",
       "            </tr>\n",
       "            <tr>\n",
       "                        <th id=\"T_4f437_level0_row15\" class=\"row_heading level0 row15\" >last_seen</th>\n",
       "                        <td id=\"T_4f437_row15_col0\" class=\"data row15 col0\" >0.000000</td>\n",
       "            </tr>\n",
       "    </tbody></table>"
      ],
      "text/plain": [
       "<pandas.io.formats.style.Styler at 0x7f07a5674df0>"
      ]
     },
     "execution_count": 13,
     "metadata": {},
     "output_type": "execute_result"
    }
   ],
   "source": [
    "pd.DataFrame(round(data.isna().mean()*100, 2)).style.background_gradient('coolwarm')"
   ]
  },
  {
   "cell_type": "markdown",
   "metadata": {},
   "source": [
    "У нас 6 колонок где есть пропуски(достаточно много пропусков, от которых нельзя безболезненно избавиться), главная из которых `power` (там 11,4% нулевых значений). Постараемся заполнить пропуски похожими/медианными значениями по сгруппированным данным, либо поставить заглушки."
   ]
  },
  {
   "cell_type": "markdown",
   "metadata": {},
   "source": [
    "Заполним мощность медианой сгруппированных данных по модели и бренду."
   ]
  },
  {
   "cell_type": "code",
   "execution_count": 14,
   "metadata": {},
   "outputs": [],
   "source": [
    "data['power'] = (data.groupby(['model', 'brand'])['power']\n",
    "                          .apply(lambda x: x.fillna(x.median())))"
   ]
  },
  {
   "cell_type": "code",
   "execution_count": 15,
   "metadata": {
    "scrolled": true
   },
   "outputs": [
    {
     "data": {
      "text/html": [
       "<style  type=\"text/css\" >\n",
       "#T_1e5d5_row0_col0{\n",
       "            background-color:  #aec9fc;\n",
       "            color:  #000000;\n",
       "        }#T_1e5d5_row1_col0,#T_1e5d5_row2_col0,#T_1e5d5_row3_col0{\n",
       "            background-color:  #3b4cc0;\n",
       "            color:  #f1f1f1;\n",
       "        }#T_1e5d5_row4_col0{\n",
       "            background-color:  #8fb1fe;\n",
       "            color:  #000000;\n",
       "        }#T_1e5d5_row5_col0{\n",
       "            background-color:  #b40426;\n",
       "            color:  #f1f1f1;\n",
       "        }</style><table id=\"T_1e5d5_\" ><thead>    <tr>        <th class=\"blank level0\" ></th>        <th class=\"col_heading level0 col0\" >0</th>    </tr></thead><tbody>\n",
       "                <tr>\n",
       "                        <th id=\"T_1e5d5_level0_row0\" class=\"row_heading level0 row0\" >vehicle_type</th>\n",
       "                        <td id=\"T_1e5d5_row0_col0\" class=\"data row0 col0\" >10.580000</td>\n",
       "            </tr>\n",
       "            <tr>\n",
       "                        <th id=\"T_1e5d5_level0_row1\" class=\"row_heading level0 row1\" >power</th>\n",
       "                        <td id=\"T_1e5d5_row1_col0\" class=\"data row1 col0\" >5.560000</td>\n",
       "            </tr>\n",
       "            <tr>\n",
       "                        <th id=\"T_1e5d5_level0_row2\" class=\"row_heading level0 row2\" >gearbox</th>\n",
       "                        <td id=\"T_1e5d5_row2_col0\" class=\"data row2 col0\" >5.600000</td>\n",
       "            </tr>\n",
       "            <tr>\n",
       "                        <th id=\"T_1e5d5_level0_row3\" class=\"row_heading level0 row3\" >model</th>\n",
       "                        <td id=\"T_1e5d5_row3_col0\" class=\"data row3 col0\" >5.560000</td>\n",
       "            </tr>\n",
       "            <tr>\n",
       "                        <th id=\"T_1e5d5_level0_row4\" class=\"row_heading level0 row4\" >fuel_type</th>\n",
       "                        <td id=\"T_1e5d5_row4_col0\" class=\"data row4 col0\" >9.280000</td>\n",
       "            </tr>\n",
       "            <tr>\n",
       "                        <th id=\"T_1e5d5_level0_row5\" class=\"row_heading level0 row5\" >repaired</th>\n",
       "                        <td id=\"T_1e5d5_row5_col0\" class=\"data row5 col0\" >20.080000</td>\n",
       "            </tr>\n",
       "    </tbody></table>"
      ],
      "text/plain": [
       "<pandas.io.formats.style.Styler at 0x7f07a54279d0>"
      ]
     },
     "execution_count": 15,
     "metadata": {},
     "output_type": "execute_result"
    }
   ],
   "source": [
    "pd.DataFrame(round(data.loc[:, ['vehicle_type','power','gearbox','model','fuel_type','repaired']].isna().mean()*100, 2)).style.background_gradient('coolwarm')"
   ]
  },
  {
   "cell_type": "markdown",
   "metadata": {},
   "source": [
    "Хороший результат, мы заполнили около половины нулей в `power`"
   ]
  },
  {
   "cell_type": "markdown",
   "metadata": {},
   "source": [
    "Так же группируя данные постараемся заполнить пропуски в `vehicle_type`,`model`,`fuel_type`"
   ]
  },
  {
   "cell_type": "code",
   "execution_count": 16,
   "metadata": {},
   "outputs": [],
   "source": [
    "data['vehicle_type'] = (data.groupby(['model', 'brand'])['vehicle_type']\n",
    "                          .apply(lambda x: x.ffill(axis=0)))"
   ]
  },
  {
   "cell_type": "code",
   "execution_count": 17,
   "metadata": {},
   "outputs": [],
   "source": [
    "data['model'] = (data.groupby(['vehicle_type', 'brand'])['model']\n",
    "                          .apply(lambda x: x.ffill(axis=0)))"
   ]
  },
  {
   "cell_type": "code",
   "execution_count": 18,
   "metadata": {},
   "outputs": [],
   "source": [
    "data['fuel_type'] = (data.groupby(['vehicle_type', 'brand', 'model'])['fuel_type']\n",
    "                          .apply(lambda x: x.ffill(axis=0)))"
   ]
  },
  {
   "cell_type": "code",
   "execution_count": 19,
   "metadata": {
    "scrolled": true
   },
   "outputs": [
    {
     "data": {
      "text/html": [
       "<style  type=\"text/css\" >\n",
       "#T_2e48f_row0_col0,#T_2e48f_row1_col0,#T_2e48f_row2_col0,#T_2e48f_row3_col0,#T_2e48f_row4_col0{\n",
       "            background-color:  #3b4cc0;\n",
       "            color:  #f1f1f1;\n",
       "        }#T_2e48f_row5_col0{\n",
       "            background-color:  #b40426;\n",
       "            color:  #f1f1f1;\n",
       "        }</style><table id=\"T_2e48f_\" ><thead>    <tr>        <th class=\"blank level0\" ></th>        <th class=\"col_heading level0 col0\" >0</th>    </tr></thead><tbody>\n",
       "                <tr>\n",
       "                        <th id=\"T_2e48f_level0_row0\" class=\"row_heading level0 row0\" >vehicle_type</th>\n",
       "                        <td id=\"T_2e48f_row0_col0\" class=\"data row0 col0\" >5.570000</td>\n",
       "            </tr>\n",
       "            <tr>\n",
       "                        <th id=\"T_2e48f_level0_row1\" class=\"row_heading level0 row1\" >power</th>\n",
       "                        <td id=\"T_2e48f_row1_col0\" class=\"data row1 col0\" >5.560000</td>\n",
       "            </tr>\n",
       "            <tr>\n",
       "                        <th id=\"T_2e48f_level0_row2\" class=\"row_heading level0 row2\" >gearbox</th>\n",
       "                        <td id=\"T_2e48f_row2_col0\" class=\"data row2 col0\" >5.600000</td>\n",
       "            </tr>\n",
       "            <tr>\n",
       "                        <th id=\"T_2e48f_level0_row3\" class=\"row_heading level0 row3\" >model</th>\n",
       "                        <td id=\"T_2e48f_row3_col0\" class=\"data row3 col0\" >5.570000</td>\n",
       "            </tr>\n",
       "            <tr>\n",
       "                        <th id=\"T_2e48f_level0_row4\" class=\"row_heading level0 row4\" >fuel_type</th>\n",
       "                        <td id=\"T_2e48f_row4_col0\" class=\"data row4 col0\" >5.610000</td>\n",
       "            </tr>\n",
       "            <tr>\n",
       "                        <th id=\"T_2e48f_level0_row5\" class=\"row_heading level0 row5\" >repaired</th>\n",
       "                        <td id=\"T_2e48f_row5_col0\" class=\"data row5 col0\" >20.080000</td>\n",
       "            </tr>\n",
       "    </tbody></table>"
      ],
      "text/plain": [
       "<pandas.io.formats.style.Styler at 0x7f07a50fefa0>"
      ]
     },
     "execution_count": 19,
     "metadata": {},
     "output_type": "execute_result"
    }
   ],
   "source": [
    "pd.DataFrame(round(data.loc[:, ['vehicle_type','power','gearbox','model','fuel_type','repaired']].isna().mean()*100, 2)).style.background_gradient('coolwarm')"
   ]
  },
  {
   "cell_type": "markdown",
   "metadata": {},
   "source": [
    "Высветив информацию о данных с 0 в `power` можно увидеть, что в них достаточно много пропусков и в остальных колонках.\n",
    "Так что мы просто избавимся от этих данных."
   ]
  },
  {
   "cell_type": "code",
   "execution_count": 20,
   "metadata": {
    "scrolled": true
   },
   "outputs": [
    {
     "name": "stdout",
     "output_type": "stream",
     "text": [
      "<class 'pandas.core.frame.DataFrame'>\n",
      "Int64Index: 19705 entries, 1 to 354365\n",
      "Data columns (total 16 columns):\n",
      " #   Column              Non-Null Count  Dtype         \n",
      "---  ------              --------------  -----         \n",
      " 0   date_crawled        19705 non-null  datetime64[ns]\n",
      " 1   price               19705 non-null  int64         \n",
      " 2   vehicle_type        0 non-null      object        \n",
      " 3   registration_year   19705 non-null  int64         \n",
      " 4   gearbox             15574 non-null  object        \n",
      " 5   power               0 non-null      float64       \n",
      " 6   model               0 non-null      object        \n",
      " 7   kilometer           19705 non-null  int64         \n",
      " 8   registration_month  19705 non-null  int64         \n",
      " 9   fuel_type           0 non-null      object        \n",
      " 10  brand               19705 non-null  object        \n",
      " 11  repaired            10651 non-null  object        \n",
      " 12  date_created        19705 non-null  datetime64[ns]\n",
      " 13  number_of_pictures  19705 non-null  int64         \n",
      " 14  postal_code         19705 non-null  int64         \n",
      " 15  last_seen           19705 non-null  datetime64[ns]\n",
      "dtypes: datetime64[ns](3), float64(1), int64(6), object(6)\n",
      "memory usage: 2.6+ MB\n"
     ]
    }
   ],
   "source": [
    "data.loc[data['power'].isna()].info()"
   ]
  },
  {
   "cell_type": "code",
   "execution_count": 21,
   "metadata": {},
   "outputs": [],
   "source": [
    "data = data.dropna(subset=['power'])"
   ]
  },
  {
   "cell_type": "code",
   "execution_count": 22,
   "metadata": {
    "scrolled": true
   },
   "outputs": [
    {
     "data": {
      "text/html": [
       "<style  type=\"text/css\" >\n",
       "#T_ee493_row0_col0,#T_ee493_row1_col0,#T_ee493_row3_col0,#T_ee493_row4_col0{\n",
       "            background-color:  #3b4cc0;\n",
       "            color:  #f1f1f1;\n",
       "        }#T_ee493_row2_col0{\n",
       "            background-color:  #8db0fe;\n",
       "            color:  #000000;\n",
       "        }#T_ee493_row5_col0{\n",
       "            background-color:  #b40426;\n",
       "            color:  #f1f1f1;\n",
       "        }</style><table id=\"T_ee493_\" ><thead>    <tr>        <th class=\"blank level0\" ></th>        <th class=\"col_heading level0 col0\" >0</th>    </tr></thead><tbody>\n",
       "                <tr>\n",
       "                        <th id=\"T_ee493_level0_row0\" class=\"row_heading level0 row0\" >vehicle_type</th>\n",
       "                        <td id=\"T_ee493_row0_col0\" class=\"data row0 col0\" >0.010000</td>\n",
       "            </tr>\n",
       "            <tr>\n",
       "                        <th id=\"T_ee493_level0_row1\" class=\"row_heading level0 row1\" >power</th>\n",
       "                        <td id=\"T_ee493_row1_col0\" class=\"data row1 col0\" >0.000000</td>\n",
       "            </tr>\n",
       "            <tr>\n",
       "                        <th id=\"T_ee493_level0_row2\" class=\"row_heading level0 row2\" >gearbox</th>\n",
       "                        <td id=\"T_ee493_row2_col0\" class=\"data row2 col0\" >4.690000</td>\n",
       "            </tr>\n",
       "            <tr>\n",
       "                        <th id=\"T_ee493_level0_row3\" class=\"row_heading level0 row3\" >model</th>\n",
       "                        <td id=\"T_ee493_row3_col0\" class=\"data row3 col0\" >0.010000</td>\n",
       "            </tr>\n",
       "            <tr>\n",
       "                        <th id=\"T_ee493_level0_row4\" class=\"row_heading level0 row4\" >fuel_type</th>\n",
       "                        <td id=\"T_ee493_row4_col0\" class=\"data row4 col0\" >0.050000</td>\n",
       "            </tr>\n",
       "            <tr>\n",
       "                        <th id=\"T_ee493_level0_row5\" class=\"row_heading level0 row5\" >repaired</th>\n",
       "                        <td id=\"T_ee493_row5_col0\" class=\"data row5 col0\" >18.560000</td>\n",
       "            </tr>\n",
       "    </tbody></table>"
      ],
      "text/plain": [
       "<pandas.io.formats.style.Styler at 0x7f07a12a85b0>"
      ]
     },
     "execution_count": 22,
     "metadata": {},
     "output_type": "execute_result"
    }
   ],
   "source": [
    "pd.DataFrame(round(data.loc[:, ['vehicle_type','power','gearbox','model','fuel_type','repaired']].isna().mean()*100, 2)).style.background_gradient('coolwarm')"
   ]
  },
  {
   "cell_type": "markdown",
   "metadata": {},
   "source": [
    "Мы видим, что осталось небольшое количество пропусков в остальных колонках ( кроме `repaired`).\n",
    "Поставим заглушку в виде `unknown`"
   ]
  },
  {
   "cell_type": "code",
   "execution_count": 23,
   "metadata": {},
   "outputs": [],
   "source": [
    "data = data.fillna('unknown')"
   ]
  },
  {
   "cell_type": "markdown",
   "metadata": {},
   "source": [
    "Финальная проверка"
   ]
  },
  {
   "cell_type": "code",
   "execution_count": 24,
   "metadata": {},
   "outputs": [
    {
     "data": {
      "text/html": [
       "<style  type=\"text/css\" >\n",
       "#T_2c214_row0_col0,#T_2c214_row1_col0,#T_2c214_row2_col0,#T_2c214_row3_col0,#T_2c214_row4_col0,#T_2c214_row5_col0,#T_2c214_row6_col0,#T_2c214_row7_col0,#T_2c214_row8_col0,#T_2c214_row9_col0,#T_2c214_row10_col0,#T_2c214_row11_col0,#T_2c214_row12_col0,#T_2c214_row13_col0,#T_2c214_row14_col0,#T_2c214_row15_col0{\n",
       "            background-color:  #3b4cc0;\n",
       "            color:  #f1f1f1;\n",
       "        }</style><table id=\"T_2c214_\" ><thead>    <tr>        <th class=\"blank level0\" ></th>        <th class=\"col_heading level0 col0\" >0</th>    </tr></thead><tbody>\n",
       "                <tr>\n",
       "                        <th id=\"T_2c214_level0_row0\" class=\"row_heading level0 row0\" >date_crawled</th>\n",
       "                        <td id=\"T_2c214_row0_col0\" class=\"data row0 col0\" >0.000000</td>\n",
       "            </tr>\n",
       "            <tr>\n",
       "                        <th id=\"T_2c214_level0_row1\" class=\"row_heading level0 row1\" >price</th>\n",
       "                        <td id=\"T_2c214_row1_col0\" class=\"data row1 col0\" >0.000000</td>\n",
       "            </tr>\n",
       "            <tr>\n",
       "                        <th id=\"T_2c214_level0_row2\" class=\"row_heading level0 row2\" >vehicle_type</th>\n",
       "                        <td id=\"T_2c214_row2_col0\" class=\"data row2 col0\" >0.000000</td>\n",
       "            </tr>\n",
       "            <tr>\n",
       "                        <th id=\"T_2c214_level0_row3\" class=\"row_heading level0 row3\" >registration_year</th>\n",
       "                        <td id=\"T_2c214_row3_col0\" class=\"data row3 col0\" >0.000000</td>\n",
       "            </tr>\n",
       "            <tr>\n",
       "                        <th id=\"T_2c214_level0_row4\" class=\"row_heading level0 row4\" >gearbox</th>\n",
       "                        <td id=\"T_2c214_row4_col0\" class=\"data row4 col0\" >0.000000</td>\n",
       "            </tr>\n",
       "            <tr>\n",
       "                        <th id=\"T_2c214_level0_row5\" class=\"row_heading level0 row5\" >power</th>\n",
       "                        <td id=\"T_2c214_row5_col0\" class=\"data row5 col0\" >0.000000</td>\n",
       "            </tr>\n",
       "            <tr>\n",
       "                        <th id=\"T_2c214_level0_row6\" class=\"row_heading level0 row6\" >model</th>\n",
       "                        <td id=\"T_2c214_row6_col0\" class=\"data row6 col0\" >0.000000</td>\n",
       "            </tr>\n",
       "            <tr>\n",
       "                        <th id=\"T_2c214_level0_row7\" class=\"row_heading level0 row7\" >kilometer</th>\n",
       "                        <td id=\"T_2c214_row7_col0\" class=\"data row7 col0\" >0.000000</td>\n",
       "            </tr>\n",
       "            <tr>\n",
       "                        <th id=\"T_2c214_level0_row8\" class=\"row_heading level0 row8\" >registration_month</th>\n",
       "                        <td id=\"T_2c214_row8_col0\" class=\"data row8 col0\" >0.000000</td>\n",
       "            </tr>\n",
       "            <tr>\n",
       "                        <th id=\"T_2c214_level0_row9\" class=\"row_heading level0 row9\" >fuel_type</th>\n",
       "                        <td id=\"T_2c214_row9_col0\" class=\"data row9 col0\" >0.000000</td>\n",
       "            </tr>\n",
       "            <tr>\n",
       "                        <th id=\"T_2c214_level0_row10\" class=\"row_heading level0 row10\" >brand</th>\n",
       "                        <td id=\"T_2c214_row10_col0\" class=\"data row10 col0\" >0.000000</td>\n",
       "            </tr>\n",
       "            <tr>\n",
       "                        <th id=\"T_2c214_level0_row11\" class=\"row_heading level0 row11\" >repaired</th>\n",
       "                        <td id=\"T_2c214_row11_col0\" class=\"data row11 col0\" >0.000000</td>\n",
       "            </tr>\n",
       "            <tr>\n",
       "                        <th id=\"T_2c214_level0_row12\" class=\"row_heading level0 row12\" >date_created</th>\n",
       "                        <td id=\"T_2c214_row12_col0\" class=\"data row12 col0\" >0.000000</td>\n",
       "            </tr>\n",
       "            <tr>\n",
       "                        <th id=\"T_2c214_level0_row13\" class=\"row_heading level0 row13\" >number_of_pictures</th>\n",
       "                        <td id=\"T_2c214_row13_col0\" class=\"data row13 col0\" >0.000000</td>\n",
       "            </tr>\n",
       "            <tr>\n",
       "                        <th id=\"T_2c214_level0_row14\" class=\"row_heading level0 row14\" >postal_code</th>\n",
       "                        <td id=\"T_2c214_row14_col0\" class=\"data row14 col0\" >0.000000</td>\n",
       "            </tr>\n",
       "            <tr>\n",
       "                        <th id=\"T_2c214_level0_row15\" class=\"row_heading level0 row15\" >last_seen</th>\n",
       "                        <td id=\"T_2c214_row15_col0\" class=\"data row15 col0\" >0.000000</td>\n",
       "            </tr>\n",
       "    </tbody></table>"
      ],
      "text/plain": [
       "<pandas.io.formats.style.Styler at 0x7f07a50bdf70>"
      ]
     },
     "execution_count": 24,
     "metadata": {},
     "output_type": "execute_result"
    }
   ],
   "source": [
    "pd.DataFrame(round(data.isna().mean()*100, 2)).style.background_gradient('coolwarm')"
   ]
  },
  {
   "cell_type": "markdown",
   "metadata": {},
   "source": [
    "Мы постарались заполнить пропуски и нули там, где это позволительно, по похожими/медианными значениями по группам. Избавились от данных с большим количеством пропусков. А на остальные пропуски поставили заглушку(без заглушки из-за OHE)."
   ]
  },
  {
   "cell_type": "markdown",
   "metadata": {},
   "source": [
    "### Удаление выбросов и аномальных значений"
   ]
  },
  {
   "cell_type": "markdown",
   "metadata": {},
   "source": [
    "Количественных данных у нас не так много. Необходимо оценить разброс года регистрации и сравнить его с датой выгрузки данных, оценить разброс цен и мощности. "
   ]
  },
  {
   "cell_type": "code",
   "execution_count": 25,
   "metadata": {},
   "outputs": [
    {
     "data": {
      "text/plain": [
       "0"
      ]
     },
     "execution_count": 25,
     "metadata": {},
     "output_type": "execute_result"
    }
   ],
   "source": [
    "len(data.query('date_crawled < date_created')) # на всякий случай проверили"
   ]
  },
  {
   "cell_type": "code",
   "execution_count": 26,
   "metadata": {},
   "outputs": [
    {
     "name": "stdout",
     "output_type": "stream",
     "text": [
      "Первая дата выгрузки 2016-03-05 14:06:22\n",
      "Последняя дата выгрузки 2016-04-07 14:36:58\n"
     ]
    },
    {
     "data": {
      "text/plain": [
       "count    334660.000000\n",
       "mean       2003.924024\n",
       "std          69.377633\n",
       "min        1000.000000\n",
       "25%        1999.000000\n",
       "50%        2003.000000\n",
       "75%        2008.000000\n",
       "max        9999.000000\n",
       "Name: registration_year, dtype: float64"
      ]
     },
     "execution_count": 26,
     "metadata": {},
     "output_type": "execute_result"
    }
   ],
   "source": [
    "print('Первая дата выгрузки',data['date_crawled'].min())\n",
    "print('Последняя дата выгрузки',data['date_crawled'].max())\n",
    "data['registration_year'].describe()"
   ]
  },
  {
   "cell_type": "markdown",
   "metadata": {},
   "source": [
    "Высветив период выгрузки( по большей части март 2016г.) и разброс года регистрации понимаем, что необходимо избавиться от \"машин из будущего\". оставим данные только с 1950(раритет не рассматриваем) по март 2016гг."
   ]
  },
  {
   "cell_type": "code",
   "execution_count": 27,
   "metadata": {},
   "outputs": [],
   "source": [
    "data = data.query('(registration_year <= 2015 | (registration_year == 2016 & registration_month < 4)) & registration_year >=1950')"
   ]
  },
  {
   "cell_type": "code",
   "execution_count": 28,
   "metadata": {
    "scrolled": true
   },
   "outputs": [
    {
     "data": {
      "text/plain": [
       "count    317375.000000\n",
       "mean       4588.027249\n",
       "std        4570.970804\n",
       "min           0.000000\n",
       "25%        1199.000000\n",
       "50%        2900.000000\n",
       "75%        6650.000000\n",
       "max       20000.000000\n",
       "Name: price, dtype: float64"
      ]
     },
     "execution_count": 28,
     "metadata": {},
     "output_type": "execute_result"
    },
    {
     "data": {
      "image/png": "[encoded data removed]",
      "text/plain": [
       "<Figure size 432x288 with 1 Axes>"
      ]
     },
     "metadata": {
      "needs_background": "light"
     },
     "output_type": "display_data"
    }
   ],
   "source": [
    "#Ящик с усами для цены\n",
    "data.loc[:,['price']].boxplot();\n",
    "data['price'].describe()"
   ]
  },
  {
   "cell_type": "markdown",
   "metadata": {},
   "source": [
    "Разброс цен очень сильный, избавимся от очень дорогих машин и очень дешевых, подберем такие пороги чтобы отсечь небольшое количество данных (около 4%)"
   ]
  },
  {
   "cell_type": "code",
   "execution_count": 29,
   "metadata": {},
   "outputs": [
    {
     "name": "stdout",
     "output_type": "stream",
     "text": [
      "13337\n"
     ]
    },
    {
     "data": {
      "text/plain": [
       "0.04202284363922804"
      ]
     },
     "execution_count": 29,
     "metadata": {},
     "output_type": "execute_result"
    }
   ],
   "source": [
    "not_in_price = len(data.query('price < 150 | price > 19000'))\n",
    "print(not_in_price)\n",
    "not_in_price/len(data)"
   ]
  },
  {
   "cell_type": "code",
   "execution_count": 30,
   "metadata": {},
   "outputs": [],
   "source": [
    "data = data.query('price > 150 & price < 19000')"
   ]
  },
  {
   "cell_type": "code",
   "execution_count": 31,
   "metadata": {
    "scrolled": true
   },
   "outputs": [
    {
     "data": {
      "text/plain": [
       "count    302444.000000\n",
       "mean        113.467574\n",
       "std         177.351194\n",
       "min           0.000000\n",
       "25%          75.000000\n",
       "50%         105.000000\n",
       "75%         143.000000\n",
       "max       20000.000000\n",
       "Name: power, dtype: float64"
      ]
     },
     "execution_count": 31,
     "metadata": {},
     "output_type": "execute_result"
    },
    {
     "data": {
      "image/png": "[encoded data removed]",
      "text/plain": [
       "<Figure size 432x288 with 1 Axes>"
      ]
     },
     "metadata": {
      "needs_background": "light"
     },
     "output_type": "display_data"
    }
   ],
   "source": [
    "#Ящик с усами для мощности\n",
    "plt.ylim(0,1000)\n",
    "data.loc[:,['power']].boxplot();\n",
    "data['power'].describe()"
   ]
  },
  {
   "cell_type": "code",
   "execution_count": 32,
   "metadata": {},
   "outputs": [
    {
     "data": {
      "text/plain": [
       "25482"
      ]
     },
     "execution_count": 32,
     "metadata": {},
     "output_type": "execute_result"
    }
   ],
   "source": [
    "len(data.query('power ==0'))"
   ]
  },
  {
   "cell_type": "code",
   "execution_count": 33,
   "metadata": {},
   "outputs": [
    {
     "data": {
      "text/plain": [
       "817"
      ]
     },
     "execution_count": 33,
     "metadata": {},
     "output_type": "execute_result"
    }
   ],
   "source": [
    "len(data.query('power < 30 | power > 600')) - len(data.query('power ==0'))"
   ]
  },
  {
   "cell_type": "markdown",
   "metadata": {},
   "source": [
    "Так же избавимся от выбросов (и еще раз нулей) в `power` "
   ]
  },
  {
   "cell_type": "code",
   "execution_count": 34,
   "metadata": {},
   "outputs": [],
   "source": [
    "data = data.query('power > 30 & power < 600')"
   ]
  },
  {
   "cell_type": "code",
   "execution_count": 35,
   "metadata": {},
   "outputs": [
    {
     "name": "stdout",
     "output_type": "stream",
     "text": [
      "Данных стало на 22.08 % меньше\n"
     ]
    }
   ],
   "source": [
    "print('Данных стало на',round(((len_data_1 - len(data))/len_data_1)*100,2),'% меньше')"
   ]
  },
  {
   "cell_type": "markdown",
   "metadata": {},
   "source": [
    "**Вывод:** Мы завершили предобработку данных потеряв 22% некачественных записей от изначальных данных. Мы удалили дубликаты, обработали пропуски, выбросы и аномальные значения. Были затронуты колонки года регистрации, мощности, цены, и других характеристик машин(коробка передач, модель, тип, топливо), на некоторых данных установлена заглушка"
   ]
  },
  {
   "cell_type": "markdown",
   "metadata": {},
   "source": [
    "## Подготовка к МО"
   ]
  },
  {
   "cell_type": "markdown",
   "metadata": {},
   "source": [
    "### Выбор факторов для МО (категориальные и количественные) и разделение на выборки"
   ]
  },
  {
   "cell_type": "code",
   "execution_count": 36,
   "metadata": {},
   "outputs": [
    {
     "data": {
      "text/plain": [
       "Index(['date_crawled', 'price', 'vehicle_type', 'registration_year', 'gearbox',\n",
       "       'power', 'model', 'kilometer', 'registration_month', 'fuel_type',\n",
       "       'brand', 'repaired', 'date_created', 'number_of_pictures',\n",
       "       'postal_code', 'last_seen'],\n",
       "      dtype='object')"
      ]
     },
     "execution_count": 36,
     "metadata": {},
     "output_type": "execute_result"
    }
   ],
   "source": [
    "data.columns"
   ]
  },
  {
   "cell_type": "code",
   "execution_count": 37,
   "metadata": {},
   "outputs": [
    {
     "name": "stdout",
     "output_type": "stream",
     "text": [
      "<class 'pandas.core.frame.DataFrame'>\n",
      "Int64Index: 276117 entries, 2 to 354368\n",
      "Data columns (total 16 columns):\n",
      " #   Column              Non-Null Count   Dtype         \n",
      "---  ------              --------------   -----         \n",
      " 0   date_crawled        276117 non-null  datetime64[ns]\n",
      " 1   price               276117 non-null  int64         \n",
      " 2   vehicle_type        276117 non-null  object        \n",
      " 3   registration_year   276117 non-null  int64         \n",
      " 4   gearbox             276117 non-null  object        \n",
      " 5   power               276117 non-null  float64       \n",
      " 6   model               276117 non-null  object        \n",
      " 7   kilometer           276117 non-null  int64         \n",
      " 8   registration_month  276117 non-null  int64         \n",
      " 9   fuel_type           276117 non-null  object        \n",
      " 10  brand               276117 non-null  object        \n",
      " 11  repaired            276117 non-null  object        \n",
      " 12  date_created        276117 non-null  datetime64[ns]\n",
      " 13  number_of_pictures  276117 non-null  int64         \n",
      " 14  postal_code         276117 non-null  int64         \n",
      " 15  last_seen           276117 non-null  datetime64[ns]\n",
      "dtypes: datetime64[ns](3), float64(1), int64(6), object(6)\n",
      "memory usage: 35.8+ MB\n"
     ]
    }
   ],
   "source": [
    "data.info()"
   ]
  },
  {
   "cell_type": "markdown",
   "metadata": {},
   "source": [
    "Выберем факторы для МО: Оставим все, кроме колонок с датой - сбор инфы, размещение объявления, и последнего входа(интуитивно, но допустим от них тоже не зависит цена, поэтому безсмысленно брать их в расчет), `postal_code`(рандомная инфа, это как адрес, стоимость от него точно не будет зависеть) и количество фотографий(т.к. там везде 0). Уберем еще месяц регистрации, т.к. есть год регистрации и он более информативен будет (а месяца цикличны). \n",
    "И определим категориальные признаки: тип, коробка передач, модель, тип топлива, бренд и ремонт."
   ]
  },
  {
   "cell_type": "code",
   "execution_count": 38,
   "metadata": {},
   "outputs": [],
   "source": [
    "features_cols = ['vehicle_type', 'registration_year', 'gearbox',\n",
    "       'power', 'model', 'kilometer', 'fuel_type',\n",
    "       'brand', 'repaired']\n",
    "cat= ['vehicle_type', 'gearbox',\n",
    "       'model', 'fuel_type',\n",
    "       'brand', 'repaired']\n",
    "numeric = ['registration_year', 'power', 'kilometer']"
   ]
  },
  {
   "cell_type": "code",
   "execution_count": 39,
   "metadata": {},
   "outputs": [],
   "source": [
    "data[cat] = data[cat].astype('object', errors='ignore') #Переведем все категориальные в object"
   ]
  },
  {
   "cell_type": "markdown",
   "metadata": {},
   "source": [
    "Разделим данные на выборки в соотношении 60:20:20"
   ]
  },
  {
   "cell_type": "code",
   "execution_count": 40,
   "metadata": {},
   "outputs": [],
   "source": [
    "features = data[features_cols]\n",
    "target = data['price']"
   ]
  },
  {
   "cell_type": "code",
   "execution_count": 41,
   "metadata": {},
   "outputs": [],
   "source": [
    "features_train, features_1, target_train, target_1 = train_test_split(\n",
    "    features, target, test_size=0.40, random_state=12345)\n",
    "features_valid, features_test, target_valid, target_test = train_test_split(\n",
    "    features_1, target_1, test_size=0.50, random_state=12345)"
   ]
  },
  {
   "cell_type": "code",
   "execution_count": 42,
   "metadata": {},
   "outputs": [
    {
     "name": "stdout",
     "output_type": "stream",
     "text": [
      "(165670, 9)\n",
      "(165670,)\n",
      "(55223, 9)\n",
      "(55223,)\n",
      "(55224, 9)\n",
      "(55224,)\n"
     ]
    }
   ],
   "source": [
    "print(features_train.shape)\n",
    "print(target_train.shape)\n",
    "print(features_valid.shape)\n",
    "print(target_valid.shape)\n",
    "print(features_test.shape)\n",
    "print(target_test.shape)"
   ]
  },
  {
   "cell_type": "markdown",
   "metadata": {},
   "source": [
    "### Стандартизация/масштабирование количественных признаков"
   ]
  },
  {
   "cell_type": "markdown",
   "metadata": {},
   "source": [
    "Приведем количественные признаки к одному масштабу"
   ]
  },
  {
   "cell_type": "code",
   "execution_count": 43,
   "metadata": {},
   "outputs": [],
   "source": [
    "scaler = StandardScaler()\n",
    "scaler.fit(features_train[numeric])\n",
    "features_train[numeric] = scaler.transform(features_train[numeric])\n",
    "features_valid[numeric] = scaler.transform(features_valid[numeric])\n",
    "features_test[numeric] = scaler.transform(features_test[numeric])"
   ]
  },
  {
   "cell_type": "markdown",
   "metadata": {},
   "source": [
    "### Кодирование категориальных признаков"
   ]
  },
  {
   "cell_type": "code",
   "execution_count": 44,
   "metadata": {},
   "outputs": [
    {
     "name": "stdout",
     "output_type": "stream",
     "text": [
      "Количество олонок после одирования будет равно 314\n"
     ]
    }
   ],
   "source": [
    "n=len(numeric)\n",
    "for col in cat:\n",
    "    n=n + len(features_train[col].unique())\n",
    "print (\"Количество олонок после одирования будет равно\",n)"
   ]
  },
  {
   "cell_type": "code",
   "execution_count": 45,
   "metadata": {},
   "outputs": [],
   "source": [
    "col_transformer_ridge = make_column_transformer(\n",
    "    (\n",
    "        OneHotEncoder(handle_unknown='ignore'), # не работает вместе с drop='first'\n",
    "        cat\n",
    "    ),\n",
    "    remainder='passthrough'\n",
    ")\n",
    "features_train = pd.DataFrame.sparse.from_spmatrix(\n",
    "    col_transformer_ridge.fit_transform(features_train),\n",
    "    columns=col_transformer_ridge.get_feature_names()\n",
    ")"
   ]
  },
  {
   "cell_type": "code",
   "execution_count": 46,
   "metadata": {},
   "outputs": [
    {
     "data": {
      "text/html": [
       "<div>\n",
       "<style scoped>\n",
       "    .dataframe tbody tr th:only-of-type {\n",
       "        vertical-align: middle;\n",
       "    }\n",
       "\n",
       "    .dataframe tbody tr th {\n",
       "        vertical-align: top;\n",
       "    }\n",
       "\n",
       "    .dataframe thead th {\n",
       "        text-align: right;\n",
       "    }\n",
       "</style>\n",
       "<table border=\"1\" class=\"dataframe\">\n",
       "  <thead>\n",
       "    <tr style=\"text-align: right;\">\n",
       "      <th></th>\n",
       "      <th>onehotencoder__x0_bus</th>\n",
       "      <th>onehotencoder__x0_convertible</th>\n",
       "      <th>onehotencoder__x0_coupe</th>\n",
       "      <th>onehotencoder__x0_other</th>\n",
       "      <th>onehotencoder__x0_sedan</th>\n",
       "      <th>onehotencoder__x0_small</th>\n",
       "      <th>onehotencoder__x0_suv</th>\n",
       "      <th>onehotencoder__x0_unknown</th>\n",
       "      <th>onehotencoder__x0_wagon</th>\n",
       "      <th>onehotencoder__x1_auto</th>\n",
       "      <th>...</th>\n",
       "      <th>onehotencoder__x4_toyota</th>\n",
       "      <th>onehotencoder__x4_trabant</th>\n",
       "      <th>onehotencoder__x4_volkswagen</th>\n",
       "      <th>onehotencoder__x4_volvo</th>\n",
       "      <th>onehotencoder__x5_no</th>\n",
       "      <th>onehotencoder__x5_unknown</th>\n",
       "      <th>onehotencoder__x5_yes</th>\n",
       "      <th>registration_year</th>\n",
       "      <th>power</th>\n",
       "      <th>kilometer</th>\n",
       "    </tr>\n",
       "  </thead>\n",
       "  <tbody>\n",
       "    <tr>\n",
       "      <th>0</th>\n",
       "      <td>1.0</td>\n",
       "      <td>0.0</td>\n",
       "      <td>0.0</td>\n",
       "      <td>0.0</td>\n",
       "      <td>0.0</td>\n",
       "      <td>0.0</td>\n",
       "      <td>0.0</td>\n",
       "      <td>0.0</td>\n",
       "      <td>0.0</td>\n",
       "      <td>0.0</td>\n",
       "      <td>...</td>\n",
       "      <td>0.0</td>\n",
       "      <td>0.0</td>\n",
       "      <td>0.0</td>\n",
       "      <td>0.0</td>\n",
       "      <td>0.0</td>\n",
       "      <td>1.0</td>\n",
       "      <td>0.0</td>\n",
       "      <td>-0.627477</td>\n",
       "      <td>0.362557</td>\n",
       "      <td>0.590485</td>\n",
       "    </tr>\n",
       "    <tr>\n",
       "      <th>1</th>\n",
       "      <td>1.0</td>\n",
       "      <td>0.0</td>\n",
       "      <td>0.0</td>\n",
       "      <td>0.0</td>\n",
       "      <td>0.0</td>\n",
       "      <td>0.0</td>\n",
       "      <td>0.0</td>\n",
       "      <td>0.0</td>\n",
       "      <td>0.0</td>\n",
       "      <td>1.0</td>\n",
       "      <td>...</td>\n",
       "      <td>0.0</td>\n",
       "      <td>0.0</td>\n",
       "      <td>0.0</td>\n",
       "      <td>0.0</td>\n",
       "      <td>1.0</td>\n",
       "      <td>0.0</td>\n",
       "      <td>0.0</td>\n",
       "      <td>1.350503</td>\n",
       "      <td>1.558307</td>\n",
       "      <td>-0.100152</td>\n",
       "    </tr>\n",
       "    <tr>\n",
       "      <th>2</th>\n",
       "      <td>0.0</td>\n",
       "      <td>0.0</td>\n",
       "      <td>0.0</td>\n",
       "      <td>0.0</td>\n",
       "      <td>1.0</td>\n",
       "      <td>0.0</td>\n",
       "      <td>0.0</td>\n",
       "      <td>0.0</td>\n",
       "      <td>0.0</td>\n",
       "      <td>1.0</td>\n",
       "      <td>...</td>\n",
       "      <td>0.0</td>\n",
       "      <td>0.0</td>\n",
       "      <td>0.0</td>\n",
       "      <td>0.0</td>\n",
       "      <td>1.0</td>\n",
       "      <td>0.0</td>\n",
       "      <td>0.0</td>\n",
       "      <td>-0.462645</td>\n",
       "      <td>-0.738292</td>\n",
       "      <td>0.590485</td>\n",
       "    </tr>\n",
       "    <tr>\n",
       "      <th>3</th>\n",
       "      <td>0.0</td>\n",
       "      <td>0.0</td>\n",
       "      <td>0.0</td>\n",
       "      <td>0.0</td>\n",
       "      <td>0.0</td>\n",
       "      <td>0.0</td>\n",
       "      <td>0.0</td>\n",
       "      <td>0.0</td>\n",
       "      <td>1.0</td>\n",
       "      <td>0.0</td>\n",
       "      <td>...</td>\n",
       "      <td>0.0</td>\n",
       "      <td>0.0</td>\n",
       "      <td>0.0</td>\n",
       "      <td>0.0</td>\n",
       "      <td>0.0</td>\n",
       "      <td>1.0</td>\n",
       "      <td>0.0</td>\n",
       "      <td>-0.792308</td>\n",
       "      <td>-0.396649</td>\n",
       "      <td>0.590485</td>\n",
       "    </tr>\n",
       "    <tr>\n",
       "      <th>4</th>\n",
       "      <td>0.0</td>\n",
       "      <td>0.0</td>\n",
       "      <td>0.0</td>\n",
       "      <td>0.0</td>\n",
       "      <td>1.0</td>\n",
       "      <td>0.0</td>\n",
       "      <td>0.0</td>\n",
       "      <td>0.0</td>\n",
       "      <td>0.0</td>\n",
       "      <td>1.0</td>\n",
       "      <td>...</td>\n",
       "      <td>0.0</td>\n",
       "      <td>0.0</td>\n",
       "      <td>1.0</td>\n",
       "      <td>0.0</td>\n",
       "      <td>1.0</td>\n",
       "      <td>0.0</td>\n",
       "      <td>0.0</td>\n",
       "      <td>-0.957140</td>\n",
       "      <td>-0.871153</td>\n",
       "      <td>-0.100152</td>\n",
       "    </tr>\n",
       "  </tbody>\n",
       "</table>\n",
       "<p>5 rows × 314 columns</p>\n",
       "</div>"
      ],
      "text/plain": [
       "   onehotencoder__x0_bus  onehotencoder__x0_convertible  \\\n",
       "0                    1.0                            0.0   \n",
       "1                    1.0                            0.0   \n",
       "2                    0.0                            0.0   \n",
       "3                    0.0                            0.0   \n",
       "4                    0.0                            0.0   \n",
       "\n",
       "   onehotencoder__x0_coupe  onehotencoder__x0_other  onehotencoder__x0_sedan  \\\n",
       "0                      0.0                      0.0                      0.0   \n",
       "1                      0.0                      0.0                      0.0   \n",
       "2                      0.0                      0.0                      1.0   \n",
       "3                      0.0                      0.0                      0.0   \n",
       "4                      0.0                      0.0                      1.0   \n",
       "\n",
       "   onehotencoder__x0_small  onehotencoder__x0_suv  onehotencoder__x0_unknown  \\\n",
       "0                      0.0                    0.0                        0.0   \n",
       "1                      0.0                    0.0                        0.0   \n",
       "2                      0.0                    0.0                        0.0   \n",
       "3                      0.0                    0.0                        0.0   \n",
       "4                      0.0                    0.0                        0.0   \n",
       "\n",
       "   onehotencoder__x0_wagon  onehotencoder__x1_auto  ...  \\\n",
       "0                      0.0                     0.0  ...   \n",
       "1                      0.0                     1.0  ...   \n",
       "2                      0.0                     1.0  ...   \n",
       "3                      1.0                     0.0  ...   \n",
       "4                      0.0                     1.0  ...   \n",
       "\n",
       "   onehotencoder__x4_toyota  onehotencoder__x4_trabant  \\\n",
       "0                       0.0                        0.0   \n",
       "1                       0.0                        0.0   \n",
       "2                       0.0                        0.0   \n",
       "3                       0.0                        0.0   \n",
       "4                       0.0                        0.0   \n",
       "\n",
       "   onehotencoder__x4_volkswagen  onehotencoder__x4_volvo  \\\n",
       "0                           0.0                      0.0   \n",
       "1                           0.0                      0.0   \n",
       "2                           0.0                      0.0   \n",
       "3                           0.0                      0.0   \n",
       "4                           1.0                      0.0   \n",
       "\n",
       "   onehotencoder__x5_no  onehotencoder__x5_unknown  onehotencoder__x5_yes  \\\n",
       "0                   0.0                        1.0                    0.0   \n",
       "1                   1.0                        0.0                    0.0   \n",
       "2                   1.0                        0.0                    0.0   \n",
       "3                   0.0                        1.0                    0.0   \n",
       "4                   1.0                        0.0                    0.0   \n",
       "\n",
       "   registration_year     power  kilometer  \n",
       "0          -0.627477  0.362557   0.590485  \n",
       "1           1.350503  1.558307  -0.100152  \n",
       "2          -0.462645 -0.738292   0.590485  \n",
       "3          -0.792308 -0.396649   0.590485  \n",
       "4          -0.957140 -0.871153  -0.100152  \n",
       "\n",
       "[5 rows x 314 columns]"
      ]
     },
     "execution_count": 46,
     "metadata": {},
     "output_type": "execute_result"
    }
   ],
   "source": [
    "features_train.head()"
   ]
  },
  {
   "cell_type": "code",
   "execution_count": 47,
   "metadata": {},
   "outputs": [
    {
     "data": {
      "text/plain": [
       "Index(['onehotencoder__x0_bus', 'onehotencoder__x0_convertible',\n",
       "       'onehotencoder__x0_coupe', 'onehotencoder__x0_other',\n",
       "       'onehotencoder__x0_sedan', 'onehotencoder__x0_small',\n",
       "       'onehotencoder__x0_suv', 'onehotencoder__x0_unknown',\n",
       "       'onehotencoder__x0_wagon', 'onehotencoder__x1_auto',\n",
       "       ...\n",
       "       'onehotencoder__x4_toyota', 'onehotencoder__x4_trabant',\n",
       "       'onehotencoder__x4_volkswagen', 'onehotencoder__x4_volvo',\n",
       "       'onehotencoder__x5_no', 'onehotencoder__x5_unknown',\n",
       "       'onehotencoder__x5_yes', 'registration_year', 'power', 'kilometer'],\n",
       "      dtype='object', length=314)"
      ]
     },
     "execution_count": 47,
     "metadata": {},
     "output_type": "execute_result"
    }
   ],
   "source": [
    "features_train.columns"
   ]
  },
  {
   "cell_type": "code",
   "execution_count": 48,
   "metadata": {},
   "outputs": [],
   "source": [
    "#Остальные выборки трансформируем по обученному трансформатору на обучащих данных\n",
    "features_valid = pd.DataFrame.sparse.from_spmatrix(\n",
    "    col_transformer_ridge.transform(features_valid),\n",
    "    columns=col_transformer_ridge.get_feature_names())\n",
    "features_test = pd.DataFrame.sparse.from_spmatrix(\n",
    "    col_transformer_ridge.transform(features_test),\n",
    "    columns=col_transformer_ridge.get_feature_names())"
   ]
  },
  {
   "cell_type": "code",
   "execution_count": 49,
   "metadata": {},
   "outputs": [
    {
     "name": "stdout",
     "output_type": "stream",
     "text": [
      "(165670, 314)\n",
      "(165670,)\n",
      "(55223, 314)\n",
      "(55223,)\n",
      "(55224, 314)\n",
      "(55224,)\n"
     ]
    }
   ],
   "source": [
    "print(features_train.shape)\n",
    "print(target_train.shape)\n",
    "print(features_valid.shape)\n",
    "print(target_valid.shape)\n",
    "print(features_test.shape)\n",
    "print(target_test.shape)"
   ]
  },
  {
   "cell_type": "markdown",
   "metadata": {},
   "source": [
    "## Обучение моделей"
   ]
  },
  {
   "cell_type": "markdown",
   "metadata": {},
   "source": [
    "Функция для проверки модели на данных (валидация или тест)"
   ]
  },
  {
   "cell_type": "code",
   "execution_count": 50,
   "metadata": {},
   "outputs": [],
   "source": [
    "def check_model(model, subset=\"valid\"):\n",
    "    # задаем нужные выборки: для валидации или теста\n",
    "    if subset == \"valid\":\n",
    "        _features = features_valid\n",
    "        _target = target_valid\n",
    "    if subset == \"test\":\n",
    "        _features = features_test\n",
    "        _target = target_test\n",
    "\n",
    "    # будем подсчитывать время\n",
    "    start_time = datetime.now()\n",
    "    model.fit(features_train, target_train)\n",
    "    \n",
    "    train_timedelta = round((datetime.now() - start_time)/timedelta(seconds=1), 3)\n",
    "    RMSE = round(mean_squared_error(_target, model.predict(_features), squared=False),2)\n",
    "    predict_timedelta = round(round((datetime.now() - start_time)/timedelta(seconds=1),3) - train_timedelta,3)\n",
    "    \n",
    "    print('RMSE с помощью ', model, \":\", RMSE)\n",
    "    print(f'Время обучения- {train_timedelta} с., время предсказания- {predict_timedelta} с., общее время- {round(train_timedelta+predict_timedelta,3)} с.')\n",
    "    \n",
    "    return (RMSE, train_timedelta, predict_timedelta)"
   ]
  },
  {
   "cell_type": "markdown",
   "metadata": {},
   "source": [
    "### Dummy модель"
   ]
  },
  {
   "cell_type": "code",
   "execution_count": 51,
   "metadata": {},
   "outputs": [
    {
     "name": "stdout",
     "output_type": "stream",
     "text": [
      "RMSE с помощью  DummyRegressor() : 4440.21\n",
      "Время обучения- 0.001 с., время предсказания- 0.001 с., общее время- 0.002 с.\n"
     ]
    }
   ],
   "source": [
    "rmse_d, time1_d, time2_d = check_model(DummyRegressor())"
   ]
  },
  {
   "cell_type": "markdown",
   "metadata": {},
   "source": [
    "### Линейная регрессия"
   ]
  },
  {
   "cell_type": "code",
   "execution_count": 52,
   "metadata": {},
   "outputs": [
    {
     "name": "stdout",
     "output_type": "stream",
     "text": [
      "RMSE с помощью  LinearRegression() : 2442.43\n",
      "Время обучения- 16.604 с., время предсказания- 0.298 с., общее время- 16.902 с.\n"
     ]
    }
   ],
   "source": [
    "rmse_l, time1_l, time2_l = check_model(LinearRegression())"
   ]
  },
  {
   "cell_type": "markdown",
   "metadata": {},
   "source": [
    "### Дерево регрессии"
   ]
  },
  {
   "cell_type": "code",
   "execution_count": 53,
   "metadata": {},
   "outputs": [
    {
     "name": "stdout",
     "output_type": "stream",
     "text": [
      "RMSE с помощью  DecisionTreeRegressor() : 1777.56\n",
      "Время обучения- 30.418 с., время предсказания- 0.046 с., общее время- 30.464 с.\n"
     ]
    },
    {
     "data": {
      "text/plain": [
       "(1777.56, 30.418, 0.046)"
      ]
     },
     "execution_count": 53,
     "metadata": {},
     "output_type": "execute_result"
    }
   ],
   "source": [
    "check_model(DecisionTreeRegressor())"
   ]
  },
  {
   "cell_type": "raw",
   "metadata": {},
   "source": [
    "for d in range(10,21,2):\n",
    "    check_model(DecisionTreeRegressor(max_depth=d))"
   ]
  },
  {
   "cell_type": "code",
   "execution_count": 54,
   "metadata": {},
   "outputs": [],
   "source": [
    "best_tree= DecisionTreeRegressor(max_depth=16)"
   ]
  },
  {
   "cell_type": "code",
   "execution_count": 55,
   "metadata": {},
   "outputs": [
    {
     "name": "stdout",
     "output_type": "stream",
     "text": [
      "RMSE с помощью  DecisionTreeRegressor(max_depth=16) : 1753.18\n",
      "Время обучения- 8.863 с., время предсказания- 0.034 с., общее время- 8.897 с.\n"
     ]
    }
   ],
   "source": [
    "rmse_t, time1_t, time2_t = check_model(best_tree)"
   ]
  },
  {
   "cell_type": "markdown",
   "metadata": {},
   "source": [
    "### Ансамбль Light Gradient Boosted Machine (LightGBM)"
   ]
  },
  {
   "cell_type": "code",
   "execution_count": 56,
   "metadata": {},
   "outputs": [
    {
     "name": "stdout",
     "output_type": "stream",
     "text": [
      "RMSE с помощью  LGBMRegressor() : 1584.59\n",
      "Время обучения- 100.804 с., время предсказания- 0.788 с., общее время- 101.592 с.\n"
     ]
    },
    {
     "data": {
      "text/plain": [
       "(1584.59, 100.804, 0.788)"
      ]
     },
     "execution_count": 56,
     "metadata": {},
     "output_type": "execute_result"
    }
   ],
   "source": [
    "check_model(LGBMRegressor())"
   ]
  },
  {
   "cell_type": "raw",
   "metadata": {},
   "source": [
    "for n in range(10,91,20):\n",
    "    check_model(LGBMRegressor(n_estimators=n))"
   ]
  },
  {
   "cell_type": "raw",
   "metadata": {},
   "source": [
    "for d in range(3,12,2):\n",
    "    check_model(LGBMRegressor(max_depth=d, num_leaves=2**d))"
   ]
  },
  {
   "cell_type": "code",
   "execution_count": 57,
   "metadata": {},
   "outputs": [],
   "source": [
    "best_LGBM = LGBMRegressor(n_estimators=70, max_depth=7, num_leaves=2**8)"
   ]
  },
  {
   "cell_type": "code",
   "execution_count": 58,
   "metadata": {},
   "outputs": [
    {
     "name": "stdout",
     "output_type": "stream",
     "text": [
      "RMSE с помощью  LGBMRegressor(max_depth=7, n_estimators=70, num_leaves=256) : 1591.39\n",
      "Время обучения- 37.588 с., время предсказания- 0.588 с., общее время- 38.176 с.\n"
     ]
    }
   ],
   "source": [
    "rmse_lgbm, time1_lgbm, time2_lgbm = check_model(best_LGBM)"
   ]
  },
  {
   "cell_type": "markdown",
   "metadata": {},
   "source": [
    "## Анализ моделей(проверка на тестовой выборке)"
   ]
  },
  {
   "cell_type": "code",
   "execution_count": 59,
   "metadata": {
    "scrolled": true
   },
   "outputs": [
    {
     "data": {
      "text/html": [
       "<div>\n",
       "<style scoped>\n",
       "    .dataframe tbody tr th:only-of-type {\n",
       "        vertical-align: middle;\n",
       "    }\n",
       "\n",
       "    .dataframe tbody tr th {\n",
       "        vertical-align: top;\n",
       "    }\n",
       "\n",
       "    .dataframe thead th {\n",
       "        text-align: right;\n",
       "    }\n",
       "</style>\n",
       "<table border=\"1\" class=\"dataframe\">\n",
       "  <thead>\n",
       "    <tr style=\"text-align: right;\">\n",
       "      <th></th>\n",
       "      <th>RMSE</th>\n",
       "      <th>lerning_time</th>\n",
       "      <th>predict_time</th>\n",
       "      <th>total_time</th>\n",
       "    </tr>\n",
       "  </thead>\n",
       "  <tbody>\n",
       "    <tr>\n",
       "      <th>Dummy</th>\n",
       "      <td>4440.21</td>\n",
       "      <td>0.001</td>\n",
       "      <td>0.001</td>\n",
       "      <td>0.002</td>\n",
       "    </tr>\n",
       "    <tr>\n",
       "      <th>Linear</th>\n",
       "      <td>2442.43</td>\n",
       "      <td>16.604</td>\n",
       "      <td>0.298</td>\n",
       "      <td>16.902</td>\n",
       "    </tr>\n",
       "    <tr>\n",
       "      <th>DecisionTree</th>\n",
       "      <td>1753.18</td>\n",
       "      <td>8.863</td>\n",
       "      <td>0.034</td>\n",
       "      <td>8.897</td>\n",
       "    </tr>\n",
       "    <tr>\n",
       "      <th>LGBM</th>\n",
       "      <td>1591.39</td>\n",
       "      <td>37.588</td>\n",
       "      <td>0.588</td>\n",
       "      <td>38.176</td>\n",
       "    </tr>\n",
       "  </tbody>\n",
       "</table>\n",
       "</div>"
      ],
      "text/plain": [
       "                 RMSE  lerning_time  predict_time  total_time\n",
       "Dummy         4440.21         0.001         0.001       0.002\n",
       "Linear        2442.43        16.604         0.298      16.902\n",
       "DecisionTree  1753.18         8.863         0.034       8.897\n",
       "LGBM          1591.39        37.588         0.588      38.176"
      ]
     },
     "execution_count": 59,
     "metadata": {},
     "output_type": "execute_result"
    }
   ],
   "source": [
    "d = {'RMSE': [rmse_d, rmse_l, rmse_t, rmse_lgbm],\n",
    "     'lerning_time': [time1_d, time1_l, time1_t, time1_lgbm],\n",
    "     'predict_time': [time2_d, time2_l, time2_t, time2_lgbm]}\n",
    "table = pd.DataFrame(data=d, index=['Dummy','Linear','DecisionTree','LGBM'])\n",
    "table['total_time'] = table['lerning_time']+(table['predict_time'])\n",
    "table"
   ]
  },
  {
   "cell_type": "markdown",
   "metadata": {},
   "source": [
    "По таблице видно, что LGBM лидирует и по метрике и по времени. Теперь проверим её на тестовой выборке"
   ]
  },
  {
   "cell_type": "code",
   "execution_count": 60,
   "metadata": {
    "scrolled": true
   },
   "outputs": [
    {
     "name": "stdout",
     "output_type": "stream",
     "text": [
      "RMSE с помощью  LGBMRegressor(max_depth=7, n_estimators=70, num_leaves=256) : 1566.38\n",
      "Время обучения- 47.193 с., время предсказания- 0.581 с., общее время- 47.774 с.\n"
     ]
    }
   ],
   "source": [
    "rmse_lgbm, time1_lgbm, time2_lgbm = check_model(best_LGBM, 'test')"
   ]
  },
  {
   "cell_type": "code",
   "execution_count": 61,
   "metadata": {
    "scrolled": true
   },
   "outputs": [
    {
     "data": {
      "text/html": [
       "<div>\n",
       "<style scoped>\n",
       "    .dataframe tbody tr th:only-of-type {\n",
       "        vertical-align: middle;\n",
       "    }\n",
       "\n",
       "    .dataframe tbody tr th {\n",
       "        vertical-align: top;\n",
       "    }\n",
       "\n",
       "    .dataframe thead th {\n",
       "        text-align: right;\n",
       "    }\n",
       "</style>\n",
       "<table border=\"1\" class=\"dataframe\">\n",
       "  <thead>\n",
       "    <tr style=\"text-align: right;\">\n",
       "      <th></th>\n",
       "      <th>RMSE</th>\n",
       "      <th>lerning_time</th>\n",
       "      <th>predict_time</th>\n",
       "      <th>total_time</th>\n",
       "    </tr>\n",
       "  </thead>\n",
       "  <tbody>\n",
       "    <tr>\n",
       "      <th>LGBM</th>\n",
       "      <td>1566.38</td>\n",
       "      <td>47.193</td>\n",
       "      <td>0.581</td>\n",
       "      <td>47.774</td>\n",
       "    </tr>\n",
       "  </tbody>\n",
       "</table>\n",
       "</div>"
      ],
      "text/plain": [
       "         RMSE  lerning_time  predict_time  total_time\n",
       "LGBM  1566.38        47.193         0.581      47.774"
      ]
     },
     "execution_count": 61,
     "metadata": {},
     "output_type": "execute_result"
    }
   ],
   "source": [
    "d = {'RMSE': [ rmse_lgbm],\n",
    "     'lerning_time': [ time1_lgbm],\n",
    "     'predict_time': [ time2_lgbm]}\n",
    "table = pd.DataFrame(data=d, index=['LGBM'])\n",
    "table['total_time'] = table['lerning_time']+table['predict_time']\n",
    "table"
   ]
  },
  {
   "cell_type": "markdown",
   "metadata": {},
   "source": [
    "**Вывод:** Лучшей моделью(и моим выбором) является LGBM. Лучший показатель метрики на валидационной выборке(RMSE~1590 на тестовой выборке), общее время дольше в 4 раза, но предсказывает все еще меньше секунды."
   ]
  },
  {
   "cell_type": "markdown",
   "metadata": {},
   "source": [
    "## Итоговый вывод"
   ]
  },
  {
   "cell_type": "markdown",
   "metadata": {},
   "source": [
    " **1.** Была достигнута цель исследования - выбрана лучшая модель машинного обучения предсказания стоимости б/у автомобиля по его характеристикам, для этого было сделано:\n",
    "1. Просмотрены и предобработаны данные(дубликаты, названия колонок, типы данных, пропуски, выбросы и аномалии), избавились от 22% некачественных данных;\n",
    "2. Так же дополнительно обработаны данные для машинного обучения(масштабирование количественных факторов, кодирование категорий)\n",
    "3. Данные были разделены на выборки (train, valid, test);\n",
    "4. Проверены 3 модели(линейная, дерево решений и градиентный бустинг) + константная, подобраны оптимальные гиперпараметры;\n",
    "5. Проведен сравнительный анализ результатов моделей;\n",
    "6. Лучшая модель протестирована на тестовой выборке.\n",
    "    \n",
    "**2.** Лучшие показатели дает **LGBMRegressor**(количество итераций=70, максимальная глубина=8, num_leaves=2^8) **Достигнута целевая метрака RMSE<2500** достигнут результат **~1560**, в то время как константная модель показывает около 4400). Если говорить про время обучения, предсказания и общее, то можно сказать, что эта модель так же обгоняет остальные модели(если необходимо увеличить скорость, то снижаем гиперпараметры, но чуть чуть теряем в RMSE)"
   ]
  }
 ],
 "metadata": {
  "ExecuteTimeLog": [
   {
    "duration": 48,
    "start_time": "2023-05-25T12:57:41.773Z"
   },
   {
    "duration": 2761,
    "start_time": "2023-05-25T15:05:28.540Z"
   },
   {
    "duration": 1737,
    "start_time": "2023-05-25T15:06:07.680Z"
   },
   {
    "duration": 25,
    "start_time": "2023-05-25T15:06:09.419Z"
   },
   {
    "duration": 2711,
    "start_time": "2023-05-25T15:35:16.262Z"
   },
   {
    "duration": 2562,
    "start_time": "2023-05-25T15:50:53.399Z"
   },
   {
    "duration": 35784,
    "start_time": "2023-05-25T15:51:27.842Z"
   },
   {
    "duration": 3,
    "start_time": "2023-05-25T16:48:03.009Z"
   },
   {
    "duration": 119,
    "start_time": "2023-05-26T12:25:18.311Z"
   },
   {
    "duration": 1739,
    "start_time": "2023-05-26T12:25:18.432Z"
   },
   {
    "duration": 2524,
    "start_time": "2023-05-26T12:25:20.173Z"
   },
   {
    "duration": 33,
    "start_time": "2023-05-26T12:25:22.699Z"
   },
   {
    "duration": 20139,
    "start_time": "2023-05-26T12:25:22.734Z"
   },
   {
    "duration": 4134,
    "start_time": "2023-05-26T12:25:42.875Z"
   },
   {
    "duration": 42425,
    "start_time": "2023-05-26T12:25:47.019Z"
   },
   {
    "duration": 2,
    "start_time": "2023-05-26T12:26:29.446Z"
   },
   {
    "duration": 231,
    "start_time": "2023-05-26T12:27:21.177Z"
   },
   {
    "duration": 20,
    "start_time": "2023-05-26T12:28:34.068Z"
   },
   {
    "duration": 11,
    "start_time": "2023-05-26T12:28:59.736Z"
   },
   {
    "duration": 26,
    "start_time": "2023-05-26T12:29:28.978Z"
   },
   {
    "duration": 11,
    "start_time": "2023-05-26T12:30:13.932Z"
   },
   {
    "duration": 888,
    "start_time": "2023-05-26T12:30:27.676Z"
   },
   {
    "duration": 578,
    "start_time": "2023-05-26T12:30:33.099Z"
   },
   {
    "duration": 4,
    "start_time": "2023-05-26T12:31:09.433Z"
   },
   {
    "duration": 665,
    "start_time": "2023-05-26T12:41:40.379Z"
   },
   {
    "duration": 3,
    "start_time": "2023-05-26T12:42:42.473Z"
   },
   {
    "duration": 19,
    "start_time": "2023-05-26T12:42:46.978Z"
   },
   {
    "duration": 4,
    "start_time": "2023-05-26T12:43:58.793Z"
   },
   {
    "duration": 24,
    "start_time": "2023-05-26T12:44:42.477Z"
   },
   {
    "duration": 162,
    "start_time": "2023-05-26T12:44:46.501Z"
   },
   {
    "duration": 295,
    "start_time": "2023-05-26T12:48:02.672Z"
   },
   {
    "duration": 98,
    "start_time": "2023-05-26T12:50:48.972Z"
   },
   {
    "duration": 299,
    "start_time": "2023-05-26T12:52:54.887Z"
   },
   {
    "duration": 440,
    "start_time": "2023-05-26T12:55:31.196Z"
   },
   {
    "duration": 16,
    "start_time": "2023-05-26T12:56:15.434Z"
   },
   {
    "duration": 5,
    "start_time": "2023-05-26T12:56:29.497Z"
   },
   {
    "duration": 4,
    "start_time": "2023-05-26T12:56:39.122Z"
   },
   {
    "duration": 5,
    "start_time": "2023-05-26T12:56:54.006Z"
   },
   {
    "duration": 625,
    "start_time": "2023-05-26T13:04:27.546Z"
   },
   {
    "duration": 1151,
    "start_time": "2023-05-26T13:05:28.172Z"
   },
   {
    "duration": 17,
    "start_time": "2023-05-26T13:05:44.635Z"
   },
   {
    "duration": 110,
    "start_time": "2023-05-26T13:12:52.801Z"
   },
   {
    "duration": 91,
    "start_time": "2023-05-26T13:15:24.605Z"
   },
   {
    "duration": 88,
    "start_time": "2023-05-26T13:15:58.517Z"
   },
   {
    "duration": 7,
    "start_time": "2023-05-26T13:22:37.911Z"
   },
   {
    "duration": 1102,
    "start_time": "2023-05-26T13:28:09.504Z"
   },
   {
    "duration": 109,
    "start_time": "2023-05-26T13:28:16.516Z"
   },
   {
    "duration": 31411,
    "start_time": "2023-05-26T13:38:41.253Z"
   },
   {
    "duration": 38,
    "start_time": "2023-05-26T13:48:58.469Z"
   },
   {
    "duration": 105,
    "start_time": "2023-05-26T13:48:59.966Z"
   },
   {
    "duration": 88,
    "start_time": "2023-05-26T13:51:08.933Z"
   },
   {
    "duration": 68,
    "start_time": "2023-05-26T13:51:46.318Z"
   },
   {
    "duration": 1565,
    "start_time": "2023-05-26T13:51:46.388Z"
   },
   {
    "duration": 2403,
    "start_time": "2023-05-26T13:51:47.955Z"
   },
   {
    "duration": 117,
    "start_time": "2023-05-26T13:51:50.360Z"
   },
   {
    "duration": 4220,
    "start_time": "2023-05-26T13:51:50.481Z"
   },
   {
    "duration": 3668,
    "start_time": "2023-05-26T13:51:54.703Z"
   },
   {
    "duration": 39830,
    "start_time": "2023-05-26T13:51:58.372Z"
   },
   {
    "duration": 570,
    "start_time": "2023-05-26T13:52:38.204Z"
   },
   {
    "duration": 134,
    "start_time": "2023-05-26T13:52:38.775Z"
   },
   {
    "duration": 2307,
    "start_time": "2023-05-26T13:52:38.911Z"
   },
   {
    "duration": 0,
    "start_time": "2023-05-26T13:52:41.220Z"
   },
   {
    "duration": 0,
    "start_time": "2023-05-26T13:52:41.222Z"
   },
   {
    "duration": 0,
    "start_time": "2023-05-26T13:52:41.223Z"
   },
   {
    "duration": 0,
    "start_time": "2023-05-26T13:52:41.224Z"
   },
   {
    "duration": 0,
    "start_time": "2023-05-26T13:52:41.226Z"
   },
   {
    "duration": 0,
    "start_time": "2023-05-26T13:52:41.227Z"
   },
   {
    "duration": 0,
    "start_time": "2023-05-26T13:52:41.229Z"
   },
   {
    "duration": 0,
    "start_time": "2023-05-26T13:52:41.230Z"
   },
   {
    "duration": 4,
    "start_time": "2023-05-26T13:52:53.567Z"
   },
   {
    "duration": 11,
    "start_time": "2023-05-26T13:52:54.202Z"
   },
   {
    "duration": 4,
    "start_time": "2023-05-26T13:52:54.658Z"
   },
   {
    "duration": 132,
    "start_time": "2023-05-26T13:52:56.712Z"
   },
   {
    "duration": 191,
    "start_time": "2023-05-26T13:52:59.561Z"
   },
   {
    "duration": 111,
    "start_time": "2023-05-26T13:53:01.176Z"
   },
   {
    "duration": 1126,
    "start_time": "2023-05-26T13:53:02.496Z"
   },
   {
    "duration": 35,
    "start_time": "2023-05-26T13:53:05.508Z"
   },
   {
    "duration": 100,
    "start_time": "2023-05-26T13:53:06.043Z"
   },
   {
    "duration": 98,
    "start_time": "2023-05-26T13:53:12.806Z"
   },
   {
    "duration": 854,
    "start_time": "2023-05-26T13:56:13.135Z"
   },
   {
    "duration": 148,
    "start_time": "2023-05-26T13:56:23.111Z"
   },
   {
    "duration": 127,
    "start_time": "2023-05-26T13:57:12.650Z"
   },
   {
    "duration": 81,
    "start_time": "2023-05-26T14:01:47.780Z"
   },
   {
    "duration": 7,
    "start_time": "2023-05-26T14:01:48.108Z"
   },
   {
    "duration": 2532,
    "start_time": "2023-05-26T14:01:48.816Z"
   },
   {
    "duration": 3,
    "start_time": "2023-05-26T14:01:51.351Z"
   },
   {
    "duration": 2690,
    "start_time": "2023-05-26T14:01:51.356Z"
   },
   {
    "duration": 942,
    "start_time": "2023-05-26T14:01:54.049Z"
   },
   {
    "duration": 39767,
    "start_time": "2023-05-26T14:01:54.993Z"
   },
   {
    "duration": 667,
    "start_time": "2023-05-26T14:02:34.763Z"
   },
   {
    "duration": 4,
    "start_time": "2023-05-26T14:02:35.432Z"
   },
   {
    "duration": 21,
    "start_time": "2023-05-26T14:02:35.438Z"
   },
   {
    "duration": 27,
    "start_time": "2023-05-26T14:02:35.461Z"
   },
   {
    "duration": 177,
    "start_time": "2023-05-26T14:02:35.491Z"
   },
   {
    "duration": 192,
    "start_time": "2023-05-26T14:02:35.670Z"
   },
   {
    "duration": 98,
    "start_time": "2023-05-26T14:02:35.864Z"
   },
   {
    "duration": 79,
    "start_time": "2023-05-26T14:16:37.718Z"
   },
   {
    "duration": 946,
    "start_time": "2023-05-26T14:16:44.144Z"
   },
   {
    "duration": 88,
    "start_time": "2023-05-26T14:17:21.203Z"
   },
   {
    "duration": 15,
    "start_time": "2023-05-26T14:18:58.988Z"
   },
   {
    "duration": 4,
    "start_time": "2023-05-26T14:23:05.492Z"
   },
   {
    "duration": 4,
    "start_time": "2023-05-26T14:23:24.697Z"
   },
   {
    "duration": 4,
    "start_time": "2023-05-26T14:25:30.671Z"
   },
   {
    "duration": 3,
    "start_time": "2023-05-26T14:25:36.819Z"
   },
   {
    "duration": 4,
    "start_time": "2023-05-26T14:25:46.456Z"
   },
   {
    "duration": 5,
    "start_time": "2023-05-26T14:26:12.899Z"
   },
   {
    "duration": 212,
    "start_time": "2023-05-26T14:26:19.984Z"
   },
   {
    "duration": 4,
    "start_time": "2023-05-26T14:28:47.183Z"
   },
   {
    "duration": 122,
    "start_time": "2023-05-26T14:29:08.954Z"
   },
   {
    "duration": 104,
    "start_time": "2023-05-26T14:29:44.278Z"
   },
   {
    "duration": 144,
    "start_time": "2023-05-26T14:30:26.270Z"
   },
   {
    "duration": 4,
    "start_time": "2023-05-26T14:31:02.005Z"
   },
   {
    "duration": 795,
    "start_time": "2023-05-26T14:34:18.848Z"
   },
   {
    "duration": 4,
    "start_time": "2023-05-26T14:34:23.949Z"
   },
   {
    "duration": 5,
    "start_time": "2023-05-26T14:34:24.595Z"
   },
   {
    "duration": 4,
    "start_time": "2023-05-26T14:34:25.395Z"
   },
   {
    "duration": 218,
    "start_time": "2023-05-26T14:34:29.412Z"
   },
   {
    "duration": 90,
    "start_time": "2023-05-26T14:34:31.951Z"
   },
   {
    "duration": 278,
    "start_time": "2023-05-26T14:34:35.601Z"
   },
   {
    "duration": 71,
    "start_time": "2023-05-26T14:34:36.492Z"
   },
   {
    "duration": 292,
    "start_time": "2023-05-26T14:35:18.771Z"
   },
   {
    "duration": 86,
    "start_time": "2023-05-26T14:35:30.947Z"
   },
   {
    "duration": 269,
    "start_time": "2023-05-26T14:35:53.950Z"
   },
   {
    "duration": 83,
    "start_time": "2023-05-26T14:35:57.238Z"
   },
   {
    "duration": 254,
    "start_time": "2023-05-26T14:36:02.706Z"
   },
   {
    "duration": 87,
    "start_time": "2023-05-26T14:36:05.168Z"
   },
   {
    "duration": 562,
    "start_time": "2023-05-26T14:37:09.771Z"
   },
   {
    "duration": 77,
    "start_time": "2023-05-26T14:37:14.394Z"
   },
   {
    "duration": 35,
    "start_time": "2023-05-26T14:38:45.049Z"
   },
   {
    "duration": 35,
    "start_time": "2023-05-26T14:39:44.773Z"
   },
   {
    "duration": 77,
    "start_time": "2023-05-26T14:39:46.291Z"
   },
   {
    "duration": 35,
    "start_time": "2023-05-26T14:40:32.715Z"
   },
   {
    "duration": 44,
    "start_time": "2023-05-26T14:41:39.652Z"
   },
   {
    "duration": 86,
    "start_time": "2023-05-26T14:41:40.366Z"
   },
   {
    "duration": 74,
    "start_time": "2023-05-26T14:41:53.015Z"
   },
   {
    "duration": 59,
    "start_time": "2023-05-27T16:48:52.742Z"
   },
   {
    "duration": 1496,
    "start_time": "2023-05-27T16:48:54.451Z"
   },
   {
    "duration": 2822,
    "start_time": "2023-05-27T16:48:55.949Z"
   },
   {
    "duration": 99,
    "start_time": "2023-05-27T16:48:58.773Z"
   },
   {
    "duration": 17837,
    "start_time": "2023-05-27T16:48:58.873Z"
   },
   {
    "duration": 1009,
    "start_time": "2023-05-27T16:49:16.712Z"
   },
   {
    "duration": 31906,
    "start_time": "2023-05-27T16:49:17.722Z"
   },
   {
    "duration": 482,
    "start_time": "2023-05-27T16:49:49.629Z"
   },
   {
    "duration": 4,
    "start_time": "2023-05-27T16:49:50.112Z"
   },
   {
    "duration": 12,
    "start_time": "2023-05-27T16:49:50.119Z"
   },
   {
    "duration": 11,
    "start_time": "2023-05-27T16:49:50.133Z"
   },
   {
    "duration": 111,
    "start_time": "2023-05-27T16:49:50.145Z"
   },
   {
    "duration": 167,
    "start_time": "2023-05-27T16:49:50.258Z"
   },
   {
    "duration": 88,
    "start_time": "2023-05-27T16:49:50.427Z"
   },
   {
    "duration": 245,
    "start_time": "2023-05-27T16:49:50.516Z"
   },
   {
    "duration": 81,
    "start_time": "2023-05-27T16:49:50.762Z"
   },
   {
    "duration": 231,
    "start_time": "2023-05-27T16:49:50.844Z"
   },
   {
    "duration": 230,
    "start_time": "2023-05-27T16:49:51.076Z"
   },
   {
    "duration": 213,
    "start_time": "2023-05-27T16:49:51.308Z"
   },
   {
    "duration": 475,
    "start_time": "2023-05-27T16:49:51.523Z"
   },
   {
    "duration": 28,
    "start_time": "2023-05-27T16:49:51.999Z"
   },
   {
    "duration": 43,
    "start_time": "2023-05-27T16:49:52.029Z"
   },
   {
    "duration": 83,
    "start_time": "2023-05-27T16:49:52.073Z"
   },
   {
    "duration": 76,
    "start_time": "2023-05-27T16:49:52.158Z"
   },
   {
    "duration": 672,
    "start_time": "2023-05-27T16:50:42.911Z"
   },
   {
    "duration": 446,
    "start_time": "2023-05-27T16:50:46.372Z"
   },
   {
    "duration": 4,
    "start_time": "2023-05-27T16:50:47.623Z"
   },
   {
    "duration": 4,
    "start_time": "2023-05-27T16:50:48.045Z"
   },
   {
    "duration": 3,
    "start_time": "2023-05-27T16:50:48.555Z"
   },
   {
    "duration": 113,
    "start_time": "2023-05-27T16:50:53.435Z"
   },
   {
    "duration": 200,
    "start_time": "2023-05-27T16:50:55.831Z"
   },
   {
    "duration": 82,
    "start_time": "2023-05-27T16:50:57.231Z"
   },
   {
    "duration": 226,
    "start_time": "2023-05-27T16:51:04.869Z"
   },
   {
    "duration": 86,
    "start_time": "2023-05-27T16:51:05.749Z"
   },
   {
    "duration": 152,
    "start_time": "2023-05-27T16:51:08.908Z"
   },
   {
    "duration": 71,
    "start_time": "2023-05-27T16:51:25.711Z"
   },
   {
    "duration": 583,
    "start_time": "2023-05-27T16:52:49.746Z"
   },
   {
    "duration": 72,
    "start_time": "2023-05-27T16:52:52.496Z"
   },
   {
    "duration": 254,
    "start_time": "2023-05-27T16:53:01.848Z"
   },
   {
    "duration": 238,
    "start_time": "2023-05-27T16:53:02.757Z"
   },
   {
    "duration": 231,
    "start_time": "2023-05-27T16:53:03.450Z"
   },
   {
    "duration": 517,
    "start_time": "2023-05-27T16:53:07.302Z"
   },
   {
    "duration": 24,
    "start_time": "2023-05-27T16:53:09.703Z"
   },
   {
    "duration": 44,
    "start_time": "2023-05-27T16:53:26.423Z"
   },
   {
    "duration": 66,
    "start_time": "2023-05-27T16:53:27.214Z"
   },
   {
    "duration": 697,
    "start_time": "2023-05-27T16:53:53.217Z"
   },
   {
    "duration": 379,
    "start_time": "2023-05-27T16:54:00.219Z"
   },
   {
    "duration": 5,
    "start_time": "2023-05-27T16:54:00.599Z"
   },
   {
    "duration": 31,
    "start_time": "2023-05-27T16:54:00.605Z"
   },
   {
    "duration": 32,
    "start_time": "2023-05-27T16:54:00.637Z"
   },
   {
    "duration": 138,
    "start_time": "2023-05-27T16:54:00.671Z"
   },
   {
    "duration": 209,
    "start_time": "2023-05-27T16:54:00.810Z"
   },
   {
    "duration": 81,
    "start_time": "2023-05-27T16:54:01.020Z"
   },
   {
    "duration": 217,
    "start_time": "2023-05-27T16:54:01.102Z"
   },
   {
    "duration": 78,
    "start_time": "2023-05-27T16:54:01.321Z"
   },
   {
    "duration": 609,
    "start_time": "2023-05-27T16:54:01.401Z"
   },
   {
    "duration": 89,
    "start_time": "2023-05-27T16:54:02.011Z"
   },
   {
    "duration": 263,
    "start_time": "2023-05-27T16:54:02.101Z"
   },
   {
    "duration": 228,
    "start_time": "2023-05-27T16:54:02.366Z"
   },
   {
    "duration": 210,
    "start_time": "2023-05-27T16:54:02.601Z"
   },
   {
    "duration": 696,
    "start_time": "2023-05-27T16:54:02.813Z"
   },
   {
    "duration": 23,
    "start_time": "2023-05-27T16:54:03.511Z"
   },
   {
    "duration": 27,
    "start_time": "2023-05-27T16:54:03.535Z"
   },
   {
    "duration": 96,
    "start_time": "2023-05-27T16:54:03.563Z"
   },
   {
    "duration": 88,
    "start_time": "2023-05-27T16:54:03.660Z"
   },
   {
    "duration": 186,
    "start_time": "2023-05-27T16:54:28.759Z"
   },
   {
    "duration": 2411,
    "start_time": "2023-05-27T16:55:04.196Z"
   },
   {
    "duration": 38,
    "start_time": "2023-05-27T16:55:20.598Z"
   },
   {
    "duration": 60,
    "start_time": "2023-05-27T16:56:08.096Z"
   },
   {
    "duration": 589,
    "start_time": "2023-05-27T16:56:28.332Z"
   },
   {
    "duration": 68,
    "start_time": "2023-05-27T16:56:37.431Z"
   },
   {
    "duration": 87,
    "start_time": "2023-05-27T16:57:08.156Z"
   },
   {
    "duration": 653,
    "start_time": "2023-05-27T16:57:24.499Z"
   },
   {
    "duration": 416,
    "start_time": "2023-05-27T16:57:35.697Z"
   },
   {
    "duration": 6,
    "start_time": "2023-05-27T16:57:36.397Z"
   },
   {
    "duration": 4,
    "start_time": "2023-05-27T16:57:36.807Z"
   },
   {
    "duration": 3,
    "start_time": "2023-05-27T16:57:37.203Z"
   },
   {
    "duration": 114,
    "start_time": "2023-05-27T16:57:37.925Z"
   },
   {
    "duration": 199,
    "start_time": "2023-05-27T16:57:38.283Z"
   },
   {
    "duration": 83,
    "start_time": "2023-05-27T16:57:39.655Z"
   },
   {
    "duration": 193,
    "start_time": "2023-05-27T16:57:40.952Z"
   },
   {
    "duration": 73,
    "start_time": "2023-05-27T16:57:42.517Z"
   },
   {
    "duration": 70,
    "start_time": "2023-05-27T16:58:09.464Z"
   },
   {
    "duration": 593,
    "start_time": "2023-05-27T16:58:14.249Z"
   },
   {
    "duration": 71,
    "start_time": "2023-05-27T16:58:14.844Z"
   },
   {
    "duration": 231,
    "start_time": "2023-05-27T16:58:25.096Z"
   },
   {
    "duration": 228,
    "start_time": "2023-05-27T16:58:25.553Z"
   },
   {
    "duration": 266,
    "start_time": "2023-05-27T16:58:26.044Z"
   },
   {
    "duration": 518,
    "start_time": "2023-05-27T16:58:26.952Z"
   },
   {
    "duration": 21,
    "start_time": "2023-05-27T16:58:29.908Z"
   },
   {
    "duration": 34,
    "start_time": "2023-05-27T16:58:49.448Z"
   },
   {
    "duration": 59,
    "start_time": "2023-05-27T16:59:02.516Z"
   },
   {
    "duration": 82,
    "start_time": "2023-05-27T16:59:31.550Z"
   },
   {
    "duration": 445,
    "start_time": "2023-05-27T17:05:39.197Z"
   },
   {
    "duration": 30,
    "start_time": "2023-05-27T17:07:35.503Z"
   },
   {
    "duration": 391,
    "start_time": "2023-05-27T17:07:37.942Z"
   },
   {
    "duration": 36,
    "start_time": "2023-05-27T17:08:09.096Z"
   },
   {
    "duration": 337,
    "start_time": "2023-05-27T17:08:11.505Z"
   },
   {
    "duration": 718,
    "start_time": "2023-05-27T17:16:25.428Z"
   },
   {
    "duration": 398,
    "start_time": "2023-05-27T17:16:33.398Z"
   },
   {
    "duration": 4,
    "start_time": "2023-05-27T17:16:33.800Z"
   },
   {
    "duration": 6,
    "start_time": "2023-05-27T17:16:33.806Z"
   },
   {
    "duration": 4,
    "start_time": "2023-05-27T17:16:33.814Z"
   },
   {
    "duration": 126,
    "start_time": "2023-05-27T17:16:33.820Z"
   },
   {
    "duration": 220,
    "start_time": "2023-05-27T17:16:33.948Z"
   },
   {
    "duration": 90,
    "start_time": "2023-05-27T17:16:34.170Z"
   },
   {
    "duration": 233,
    "start_time": "2023-05-27T17:16:34.261Z"
   },
   {
    "duration": 60,
    "start_time": "2023-05-27T17:16:34.496Z"
   },
   {
    "duration": 582,
    "start_time": "2023-05-27T17:16:34.557Z"
   },
   {
    "duration": 66,
    "start_time": "2023-05-27T17:16:35.141Z"
   },
   {
    "duration": 345,
    "start_time": "2023-05-27T17:16:35.208Z"
   },
   {
    "duration": 227,
    "start_time": "2023-05-27T17:16:35.554Z"
   },
   {
    "duration": 229,
    "start_time": "2023-05-27T17:16:35.790Z"
   },
   {
    "duration": 526,
    "start_time": "2023-05-27T17:16:36.021Z"
   },
   {
    "duration": 21,
    "start_time": "2023-05-27T17:16:36.548Z"
   },
   {
    "duration": 42,
    "start_time": "2023-05-27T17:16:36.570Z"
   },
   {
    "duration": 56,
    "start_time": "2023-05-27T17:16:36.613Z"
   },
   {
    "duration": 89,
    "start_time": "2023-05-27T17:16:36.670Z"
   },
   {
    "duration": 387,
    "start_time": "2023-05-27T17:16:36.761Z"
   },
   {
    "duration": 26,
    "start_time": "2023-05-27T17:16:37.150Z"
   },
   {
    "duration": 16,
    "start_time": "2023-05-27T17:17:17.983Z"
   },
   {
    "duration": 13,
    "start_time": "2023-05-27T17:17:30.115Z"
   },
   {
    "duration": 15,
    "start_time": "2023-05-27T17:18:01.255Z"
   },
   {
    "duration": 13,
    "start_time": "2023-05-27T17:18:06.858Z"
   },
   {
    "duration": 69,
    "start_time": "2023-05-27T17:19:41.707Z"
   },
   {
    "duration": 101,
    "start_time": "2023-05-27T17:19:50.546Z"
   },
   {
    "duration": 78,
    "start_time": "2023-05-27T17:19:55.024Z"
   },
   {
    "duration": 20,
    "start_time": "2023-05-27T17:22:57.243Z"
   },
   {
    "duration": 65,
    "start_time": "2023-05-27T17:23:47.601Z"
   },
   {
    "duration": 68,
    "start_time": "2023-05-27T17:23:53.840Z"
   },
   {
    "duration": 13,
    "start_time": "2023-05-27T17:24:07.011Z"
   },
   {
    "duration": 32,
    "start_time": "2023-05-27T17:25:13.256Z"
   },
   {
    "duration": 88,
    "start_time": "2023-05-27T17:26:35.029Z"
   },
   {
    "duration": 22,
    "start_time": "2023-05-27T17:26:41.801Z"
   },
   {
    "duration": 89,
    "start_time": "2023-05-27T17:27:11.350Z"
   },
   {
    "duration": 21,
    "start_time": "2023-05-27T17:29:59.501Z"
   },
   {
    "duration": 17,
    "start_time": "2023-05-27T17:30:14.096Z"
   },
   {
    "duration": 56,
    "start_time": "2023-05-27T17:33:40.449Z"
   },
   {
    "duration": 8,
    "start_time": "2023-05-27T17:33:47.996Z"
   },
   {
    "duration": 30,
    "start_time": "2023-05-27T17:33:58.940Z"
   },
   {
    "duration": 23,
    "start_time": "2023-05-27T17:34:43.950Z"
   },
   {
    "duration": 353,
    "start_time": "2023-05-27T17:35:22.547Z"
   },
   {
    "duration": 368,
    "start_time": "2023-05-27T17:35:44.897Z"
   },
   {
    "duration": 13,
    "start_time": "2023-05-27T17:36:19.410Z"
   },
   {
    "duration": 15,
    "start_time": "2023-05-27T17:36:34.396Z"
   },
   {
    "duration": 10,
    "start_time": "2023-05-27T17:36:38.242Z"
   },
   {
    "duration": 11,
    "start_time": "2023-05-27T17:36:40.996Z"
   },
   {
    "duration": 10,
    "start_time": "2023-05-27T17:36:45.201Z"
   },
   {
    "duration": 11,
    "start_time": "2023-05-27T17:36:52.296Z"
   },
   {
    "duration": 3,
    "start_time": "2023-05-27T17:37:21.300Z"
   },
   {
    "duration": 108,
    "start_time": "2023-05-27T17:37:24.327Z"
   },
   {
    "duration": 363,
    "start_time": "2023-05-27T17:37:40.097Z"
   },
   {
    "duration": 16,
    "start_time": "2023-05-27T17:37:59.208Z"
   },
   {
    "duration": 8,
    "start_time": "2023-05-27T17:38:30.818Z"
   },
   {
    "duration": 8,
    "start_time": "2023-05-27T17:38:39.130Z"
   },
   {
    "duration": 24,
    "start_time": "2023-05-27T17:38:50.196Z"
   },
   {
    "duration": 351,
    "start_time": "2023-05-27T17:38:56.818Z"
   },
   {
    "duration": 27,
    "start_time": "2023-05-27T17:44:22.700Z"
   },
   {
    "duration": 347,
    "start_time": "2023-05-27T17:44:30.300Z"
   },
   {
    "duration": 678,
    "start_time": "2023-05-27T17:46:41.588Z"
   },
   {
    "duration": 376,
    "start_time": "2023-05-27T17:46:46.684Z"
   },
   {
    "duration": 3,
    "start_time": "2023-05-27T17:46:48.232Z"
   },
   {
    "duration": 4,
    "start_time": "2023-05-27T17:46:49.024Z"
   },
   {
    "duration": 3,
    "start_time": "2023-05-27T17:46:49.904Z"
   },
   {
    "duration": 116,
    "start_time": "2023-05-27T17:46:52.300Z"
   },
   {
    "duration": 161,
    "start_time": "2023-05-27T17:47:06.929Z"
   },
   {
    "duration": 211,
    "start_time": "2023-05-27T17:47:23.103Z"
   },
   {
    "duration": 66,
    "start_time": "2023-05-27T17:51:53.699Z"
   },
   {
    "duration": 575,
    "start_time": "2023-05-27T17:51:54.184Z"
   },
   {
    "duration": 68,
    "start_time": "2023-05-27T17:51:54.761Z"
   },
   {
    "duration": 351,
    "start_time": "2023-05-27T17:51:55.484Z"
   },
   {
    "duration": 245,
    "start_time": "2023-05-27T17:51:56.116Z"
   },
   {
    "duration": 240,
    "start_time": "2023-05-27T17:51:57.180Z"
   },
   {
    "duration": 508,
    "start_time": "2023-05-27T17:51:57.794Z"
   },
   {
    "duration": 20,
    "start_time": "2023-05-27T17:51:59.024Z"
   },
   {
    "duration": 49,
    "start_time": "2023-05-27T17:52:00.400Z"
   },
   {
    "duration": 58,
    "start_time": "2023-05-27T17:52:01.209Z"
   },
   {
    "duration": 113,
    "start_time": "2023-05-27T17:52:12.228Z"
   },
   {
    "duration": 231,
    "start_time": "2023-05-27T17:52:51.112Z"
   },
   {
    "duration": 60,
    "start_time": "2023-05-27T17:52:53.216Z"
   },
   {
    "duration": 18,
    "start_time": "2023-05-27T17:53:20.180Z"
   },
   {
    "duration": 9,
    "start_time": "2023-05-27T17:53:32.023Z"
   },
   {
    "duration": 666,
    "start_time": "2023-05-27T17:53:41.334Z"
   },
   {
    "duration": 417,
    "start_time": "2023-05-27T17:53:43.894Z"
   },
   {
    "duration": 4,
    "start_time": "2023-05-27T17:53:44.516Z"
   },
   {
    "duration": 4,
    "start_time": "2023-05-27T17:53:44.916Z"
   },
   {
    "duration": 10,
    "start_time": "2023-05-27T17:53:45.284Z"
   },
   {
    "duration": 135,
    "start_time": "2023-05-27T17:53:46.380Z"
   },
   {
    "duration": 251,
    "start_time": "2023-05-27T17:53:47.331Z"
   },
   {
    "duration": 72,
    "start_time": "2023-05-27T17:53:49.628Z"
   },
   {
    "duration": 209,
    "start_time": "2023-05-27T17:53:50.538Z"
   },
   {
    "duration": 67,
    "start_time": "2023-05-27T17:53:51.333Z"
   },
   {
    "duration": 604,
    "start_time": "2023-05-27T17:53:52.139Z"
   },
   {
    "duration": 58,
    "start_time": "2023-05-27T17:53:53.296Z"
   },
   {
    "duration": 248,
    "start_time": "2023-05-27T17:53:54.121Z"
   },
   {
    "duration": 230,
    "start_time": "2023-05-27T17:53:54.825Z"
   },
   {
    "duration": 232,
    "start_time": "2023-05-27T17:53:55.196Z"
   },
   {
    "duration": 503,
    "start_time": "2023-05-27T17:53:55.453Z"
   },
   {
    "duration": 25,
    "start_time": "2023-05-27T17:53:55.958Z"
   },
   {
    "duration": 38,
    "start_time": "2023-05-27T17:54:40.600Z"
   },
   {
    "duration": 25978,
    "start_time": "2023-05-27T17:55:21.640Z"
   },
   {
    "duration": 656,
    "start_time": "2023-05-27T17:57:52.102Z"
   },
   {
    "duration": 35841,
    "start_time": "2023-05-27T17:57:53.503Z"
   },
   {
    "duration": 610,
    "start_time": "2023-05-27T17:58:29.347Z"
   },
   {
    "duration": 5,
    "start_time": "2023-05-27T17:58:29.958Z"
   },
   {
    "duration": 9,
    "start_time": "2023-05-27T17:58:29.964Z"
   },
   {
    "duration": 20,
    "start_time": "2023-05-27T17:58:29.974Z"
   },
   {
    "duration": 161,
    "start_time": "2023-05-27T17:58:29.995Z"
   },
   {
    "duration": 192,
    "start_time": "2023-05-27T17:58:30.158Z"
   },
   {
    "duration": 227,
    "start_time": "2023-05-27T17:58:30.352Z"
   },
   {
    "duration": 194,
    "start_time": "2023-05-27T18:09:56.137Z"
   },
   {
    "duration": 3822,
    "start_time": "2023-05-27T18:09:59.801Z"
   },
   {
    "duration": 190,
    "start_time": "2023-05-27T18:10:03.625Z"
   },
   {
    "duration": 19,
    "start_time": "2023-05-27T18:11:00.525Z"
   },
   {
    "duration": 207,
    "start_time": "2023-05-27T18:11:02.587Z"
   },
   {
    "duration": 21,
    "start_time": "2023-05-27T18:13:10.900Z"
   },
   {
    "duration": 24,
    "start_time": "2023-05-27T18:13:21.285Z"
   },
   {
    "duration": 248,
    "start_time": "2023-05-27T18:17:51.504Z"
   },
   {
    "duration": 124,
    "start_time": "2023-05-27T18:18:11.507Z"
   },
   {
    "duration": 908,
    "start_time": "2023-05-27T18:18:27.500Z"
   },
   {
    "duration": 111,
    "start_time": "2023-05-27T18:18:32.023Z"
   },
   {
    "duration": 1574,
    "start_time": "2023-05-27T18:18:35.984Z"
   },
   {
    "duration": 6,
    "start_time": "2023-05-27T18:18:46.240Z"
   },
   {
    "duration": 3,
    "start_time": "2023-05-27T18:18:48.271Z"
   },
   {
    "duration": 369,
    "start_time": "2023-05-27T18:18:52.640Z"
   },
   {
    "duration": 123,
    "start_time": "2023-05-27T18:18:55.303Z"
   },
   {
    "duration": 170,
    "start_time": "2023-05-27T18:19:00.943Z"
   },
   {
    "duration": 124,
    "start_time": "2023-05-27T18:19:05.403Z"
   },
   {
    "duration": 208,
    "start_time": "2023-05-27T18:19:08.403Z"
   },
   {
    "duration": 120,
    "start_time": "2023-05-27T18:19:18.502Z"
   },
   {
    "duration": 32,
    "start_time": "2023-05-27T18:20:19.805Z"
   },
   {
    "duration": 122,
    "start_time": "2023-05-27T18:20:21.919Z"
   },
   {
    "duration": 9,
    "start_time": "2023-05-27T18:21:11.673Z"
   },
   {
    "duration": 30,
    "start_time": "2023-05-27T18:21:32.710Z"
   },
   {
    "duration": 23,
    "start_time": "2023-05-27T18:22:51.331Z"
   },
   {
    "duration": 22,
    "start_time": "2023-05-27T18:23:37.312Z"
   },
   {
    "duration": 38,
    "start_time": "2023-05-27T18:27:04.269Z"
   },
   {
    "duration": 178,
    "start_time": "2023-05-27T18:30:49.370Z"
   },
   {
    "duration": 42,
    "start_time": "2023-05-27T18:31:37.016Z"
   },
   {
    "duration": 17,
    "start_time": "2023-05-27T18:31:50.832Z"
   },
   {
    "duration": 113,
    "start_time": "2023-05-27T18:32:54.068Z"
   },
   {
    "duration": 711,
    "start_time": "2023-05-27T18:33:00.651Z"
   },
   {
    "duration": 406,
    "start_time": "2023-05-27T18:33:03.675Z"
   },
   {
    "duration": 3,
    "start_time": "2023-05-27T18:33:04.324Z"
   },
   {
    "duration": 10,
    "start_time": "2023-05-27T18:33:04.700Z"
   },
   {
    "duration": 4,
    "start_time": "2023-05-27T18:33:05.013Z"
   },
   {
    "duration": 210,
    "start_time": "2023-05-27T18:33:06.010Z"
   },
   {
    "duration": 290,
    "start_time": "2023-05-27T18:33:06.873Z"
   },
   {
    "duration": 3616,
    "start_time": "2023-05-27T18:33:07.866Z"
   },
   {
    "duration": 155,
    "start_time": "2023-05-27T18:33:11.484Z"
   },
   {
    "duration": 187,
    "start_time": "2023-05-27T18:33:15.115Z"
   },
   {
    "duration": 124,
    "start_time": "2023-05-27T18:33:15.814Z"
   },
   {
    "duration": 491,
    "start_time": "2023-05-27T18:33:16.966Z"
   },
   {
    "duration": 76,
    "start_time": "2023-05-27T18:33:18.079Z"
   },
   {
    "duration": 256,
    "start_time": "2023-05-27T18:33:18.995Z"
   },
   {
    "duration": 257,
    "start_time": "2023-05-27T18:33:19.367Z"
   },
   {
    "duration": 256,
    "start_time": "2023-05-27T18:33:19.710Z"
   },
   {
    "duration": 444,
    "start_time": "2023-05-27T18:33:20.113Z"
   },
   {
    "duration": 20,
    "start_time": "2023-05-27T18:33:21.134Z"
   },
   {
    "duration": 48,
    "start_time": "2023-05-27T18:33:22.436Z"
   },
   {
    "duration": 58,
    "start_time": "2023-05-27T18:33:24.816Z"
   },
   {
    "duration": 708,
    "start_time": "2023-05-27T18:35:09.030Z"
   },
   {
    "duration": 442,
    "start_time": "2023-05-27T18:35:13.755Z"
   },
   {
    "duration": 4,
    "start_time": "2023-05-27T18:35:15.340Z"
   },
   {
    "duration": 5,
    "start_time": "2023-05-27T18:35:16.165Z"
   },
   {
    "duration": 4,
    "start_time": "2023-05-27T18:35:17.315Z"
   },
   {
    "duration": 143,
    "start_time": "2023-05-27T18:35:18.471Z"
   },
   {
    "duration": 230,
    "start_time": "2023-05-27T18:35:21.338Z"
   },
   {
    "duration": 90,
    "start_time": "2023-05-27T18:35:29.538Z"
   },
   {
    "duration": 4542,
    "start_time": "2023-05-27T18:35:45.176Z"
   },
   {
    "duration": 142,
    "start_time": "2023-05-27T18:35:52.718Z"
   },
   {
    "duration": 188,
    "start_time": "2023-05-27T18:37:09.370Z"
   },
   {
    "duration": 152,
    "start_time": "2023-05-27T18:37:10.559Z"
   },
   {
    "duration": 471,
    "start_time": "2023-05-27T18:40:26.223Z"
   },
   {
    "duration": 63,
    "start_time": "2023-05-27T18:40:26.695Z"
   },
   {
    "duration": 254,
    "start_time": "2023-05-27T18:40:27.128Z"
   },
   {
    "duration": 246,
    "start_time": "2023-05-27T18:40:27.626Z"
   },
   {
    "duration": 257,
    "start_time": "2023-05-27T18:40:29.211Z"
   },
   {
    "duration": 442,
    "start_time": "2023-05-27T18:40:29.612Z"
   },
   {
    "duration": 44,
    "start_time": "2023-05-27T18:40:30.670Z"
   },
   {
    "duration": 61,
    "start_time": "2023-05-27T18:40:31.635Z"
   },
   {
    "duration": 810,
    "start_time": "2023-05-27T18:43:31.184Z"
   },
   {
    "duration": 576,
    "start_time": "2023-05-27T18:43:35.056Z"
   },
   {
    "duration": 7,
    "start_time": "2023-05-27T18:43:35.714Z"
   },
   {
    "duration": 6,
    "start_time": "2023-05-27T18:43:36.124Z"
   },
   {
    "duration": 4,
    "start_time": "2023-05-27T18:43:36.419Z"
   },
   {
    "duration": 136,
    "start_time": "2023-05-27T18:43:37.319Z"
   },
   {
    "duration": 317,
    "start_time": "2023-05-27T18:43:37.724Z"
   },
   {
    "duration": 4650,
    "start_time": "2023-05-27T18:43:38.457Z"
   },
   {
    "duration": 192,
    "start_time": "2023-05-27T18:43:43.121Z"
   },
   {
    "duration": 209,
    "start_time": "2023-05-27T18:43:43.315Z"
   },
   {
    "duration": 177,
    "start_time": "2023-05-27T18:43:43.529Z"
   },
   {
    "duration": 541,
    "start_time": "2023-05-27T18:43:54.039Z"
   },
   {
    "duration": 91,
    "start_time": "2023-05-27T18:43:54.977Z"
   },
   {
    "duration": 307,
    "start_time": "2023-05-27T18:43:58.915Z"
   },
   {
    "duration": 516,
    "start_time": "2023-05-27T18:43:59.258Z"
   },
   {
    "duration": 265,
    "start_time": "2023-05-27T18:43:59.776Z"
   },
   {
    "duration": 478,
    "start_time": "2023-05-27T18:44:00.758Z"
   },
   {
    "duration": 152,
    "start_time": "2023-05-27T18:44:06.066Z"
   },
   {
    "duration": 3534,
    "start_time": "2023-05-27T18:44:10.321Z"
   },
   {
    "duration": 122,
    "start_time": "2023-05-27T18:44:16.259Z"
   },
   {
    "duration": 1424,
    "start_time": "2023-05-27T18:44:35.909Z"
   },
   {
    "duration": 62,
    "start_time": "2023-05-27T18:44:40.124Z"
   },
   {
    "duration": 100,
    "start_time": "2023-05-27T18:44:47.819Z"
   },
   {
    "duration": 732,
    "start_time": "2023-05-27T18:45:08.512Z"
   },
   {
    "duration": 508,
    "start_time": "2023-05-27T18:45:13.819Z"
   },
   {
    "duration": 8,
    "start_time": "2023-05-27T18:45:14.683Z"
   },
   {
    "duration": 4,
    "start_time": "2023-05-27T18:45:16.056Z"
   },
   {
    "duration": 29,
    "start_time": "2023-05-27T18:45:16.061Z"
   },
   {
    "duration": 178,
    "start_time": "2023-05-27T18:45:16.571Z"
   },
   {
    "duration": 320,
    "start_time": "2023-05-27T18:45:16.976Z"
   },
   {
    "duration": 4646,
    "start_time": "2023-05-27T18:45:17.391Z"
   },
   {
    "duration": 153,
    "start_time": "2023-05-27T18:45:23.009Z"
   },
   {
    "duration": 217,
    "start_time": "2023-05-27T18:45:25.954Z"
   },
   {
    "duration": 175,
    "start_time": "2023-05-27T18:45:26.472Z"
   },
   {
    "duration": 487,
    "start_time": "2023-05-27T18:45:28.266Z"
   },
   {
    "duration": 93,
    "start_time": "2023-05-27T18:45:29.320Z"
   },
   {
    "duration": 285,
    "start_time": "2023-05-27T18:45:33.209Z"
   },
   {
    "duration": 273,
    "start_time": "2023-05-27T18:45:33.496Z"
   },
   {
    "duration": 272,
    "start_time": "2023-05-27T18:45:33.971Z"
   },
   {
    "duration": 447,
    "start_time": "2023-05-27T18:45:34.912Z"
   },
   {
    "duration": 106,
    "start_time": "2023-05-27T18:45:40.112Z"
   },
   {
    "duration": 15,
    "start_time": "2023-05-27T18:46:22.461Z"
   },
   {
    "duration": 11,
    "start_time": "2023-05-27T18:46:37.128Z"
   },
   {
    "duration": 12,
    "start_time": "2023-05-27T18:46:48.926Z"
   },
   {
    "duration": 40,
    "start_time": "2023-05-27T18:46:54.115Z"
   },
   {
    "duration": 383,
    "start_time": "2023-05-27T18:47:51.117Z"
   },
   {
    "duration": 381,
    "start_time": "2023-05-27T18:48:22.709Z"
   },
   {
    "duration": 425,
    "start_time": "2023-05-27T18:48:31.503Z"
   },
   {
    "duration": 429,
    "start_time": "2023-05-27T18:50:37.340Z"
   },
   {
    "duration": 45,
    "start_time": "2023-05-27T18:50:58.709Z"
   },
   {
    "duration": 82,
    "start_time": "2023-05-27T18:51:34.065Z"
   },
   {
    "duration": 59,
    "start_time": "2023-05-27T18:51:52.807Z"
   },
   {
    "duration": 44,
    "start_time": "2023-05-27T18:52:03.214Z"
   },
   {
    "duration": 290,
    "start_time": "2023-05-27T18:52:41.967Z"
   },
   {
    "duration": 71,
    "start_time": "2023-05-27T18:53:29.744Z"
   },
   {
    "duration": 2087,
    "start_time": "2023-05-27T18:53:43.315Z"
   },
   {
    "duration": 14,
    "start_time": "2023-05-27T18:53:45.404Z"
   },
   {
    "duration": 95,
    "start_time": "2023-05-27T18:53:55.677Z"
   },
   {
    "duration": 707,
    "start_time": "2023-05-27T18:56:35.114Z"
   },
   {
    "duration": 35204,
    "start_time": "2023-05-27T18:56:36.815Z"
   },
   {
    "duration": 565,
    "start_time": "2023-05-27T18:57:12.021Z"
   },
   {
    "duration": 6,
    "start_time": "2023-05-27T18:57:12.588Z"
   },
   {
    "duration": 31,
    "start_time": "2023-05-27T18:57:12.595Z"
   },
   {
    "duration": 5,
    "start_time": "2023-05-27T18:57:12.627Z"
   },
   {
    "duration": 129,
    "start_time": "2023-05-27T18:57:12.633Z"
   },
   {
    "duration": 199,
    "start_time": "2023-05-27T18:57:12.763Z"
   },
   {
    "duration": 4078,
    "start_time": "2023-05-27T18:57:12.969Z"
   },
   {
    "duration": 121,
    "start_time": "2023-05-27T18:57:17.048Z"
   },
   {
    "duration": 57,
    "start_time": "2023-05-27T18:57:17.171Z"
   },
   {
    "duration": 46,
    "start_time": "2023-05-27T18:59:37.649Z"
   },
   {
    "duration": 133,
    "start_time": "2023-05-27T18:59:48.924Z"
   },
   {
    "duration": 1425,
    "start_time": "2023-05-27T18:59:53.436Z"
   },
   {
    "duration": 699,
    "start_time": "2023-05-27T19:00:12.511Z"
   },
   {
    "duration": 385,
    "start_time": "2023-05-27T19:00:15.534Z"
   },
   {
    "duration": 7,
    "start_time": "2023-05-27T19:00:16.807Z"
   },
   {
    "duration": 4,
    "start_time": "2023-05-27T19:00:17.720Z"
   },
   {
    "duration": 3,
    "start_time": "2023-05-27T19:00:18.523Z"
   },
   {
    "duration": 131,
    "start_time": "2023-05-27T19:00:49.720Z"
   },
   {
    "duration": 248,
    "start_time": "2023-05-27T19:00:55.662Z"
   },
   {
    "duration": 4473,
    "start_time": "2023-05-27T19:00:59.266Z"
   },
   {
    "duration": 98,
    "start_time": "2023-05-27T19:01:03.741Z"
   },
   {
    "duration": 35,
    "start_time": "2023-05-27T19:01:05.633Z"
   },
   {
    "duration": 149,
    "start_time": "2023-05-27T19:01:15.186Z"
   },
   {
    "duration": 60,
    "start_time": "2023-05-27T19:01:52.403Z"
   },
   {
    "duration": 1379,
    "start_time": "2023-05-27T19:01:53.227Z"
   },
   {
    "duration": 2213,
    "start_time": "2023-05-27T19:01:54.607Z"
   },
   {
    "duration": 26,
    "start_time": "2023-05-27T19:01:56.821Z"
   },
   {
    "duration": 6568,
    "start_time": "2023-05-27T19:01:56.849Z"
   },
   {
    "duration": 735,
    "start_time": "2023-05-27T19:02:03.419Z"
   },
   {
    "duration": 461,
    "start_time": "2023-05-27T19:02:04.155Z"
   },
   {
    "duration": 5,
    "start_time": "2023-05-27T19:02:14.253Z"
   },
   {
    "duration": 5,
    "start_time": "2023-05-27T19:02:14.714Z"
   },
   {
    "duration": 3,
    "start_time": "2023-05-27T19:02:15.254Z"
   },
   {
    "duration": 158,
    "start_time": "2023-05-27T19:02:16.687Z"
   },
   {
    "duration": 277,
    "start_time": "2023-05-27T19:02:17.100Z"
   },
   {
    "duration": 4025,
    "start_time": "2023-05-27T19:02:18.337Z"
   },
   {
    "duration": 140,
    "start_time": "2023-05-27T19:02:22.364Z"
   },
   {
    "duration": 219,
    "start_time": "2023-05-27T19:02:22.506Z"
   },
   {
    "duration": 21,
    "start_time": "2023-05-27T19:03:10.148Z"
   },
   {
    "duration": 24,
    "start_time": "2023-05-27T19:03:15.321Z"
   },
   {
    "duration": 43,
    "start_time": "2023-05-27T19:03:40.012Z"
   },
   {
    "duration": 101,
    "start_time": "2023-05-27T19:03:47.017Z"
   },
   {
    "duration": 20,
    "start_time": "2023-05-27T19:03:48.956Z"
   },
   {
    "duration": 973,
    "start_time": "2023-05-27T19:04:06.003Z"
   },
   {
    "duration": 486,
    "start_time": "2023-05-27T19:04:06.979Z"
   },
   {
    "duration": 5,
    "start_time": "2023-05-27T19:04:07.467Z"
   },
   {
    "duration": 43,
    "start_time": "2023-05-27T19:04:07.474Z"
   },
   {
    "duration": 4,
    "start_time": "2023-05-27T19:04:07.519Z"
   },
   {
    "duration": 230,
    "start_time": "2023-05-27T19:04:07.525Z"
   },
   {
    "duration": 267,
    "start_time": "2023-05-27T19:04:07.756Z"
   },
   {
    "duration": 4320,
    "start_time": "2023-05-27T19:04:08.025Z"
   },
   {
    "duration": 106,
    "start_time": "2023-05-27T19:04:12.347Z"
   },
   {
    "duration": 54,
    "start_time": "2023-05-27T19:04:12.455Z"
   },
   {
    "duration": 0,
    "start_time": "2023-05-27T19:04:12.513Z"
   },
   {
    "duration": 0,
    "start_time": "2023-05-27T19:04:12.514Z"
   },
   {
    "duration": 0,
    "start_time": "2023-05-27T19:04:12.515Z"
   },
   {
    "duration": 0,
    "start_time": "2023-05-27T19:04:12.516Z"
   },
   {
    "duration": 0,
    "start_time": "2023-05-27T19:04:12.518Z"
   },
   {
    "duration": 0,
    "start_time": "2023-05-27T19:04:12.519Z"
   },
   {
    "duration": 0,
    "start_time": "2023-05-27T19:04:12.520Z"
   },
   {
    "duration": 0,
    "start_time": "2023-05-27T19:04:12.521Z"
   },
   {
    "duration": 0,
    "start_time": "2023-05-27T19:04:12.521Z"
   },
   {
    "duration": 0,
    "start_time": "2023-05-27T19:04:12.523Z"
   },
   {
    "duration": 0,
    "start_time": "2023-05-27T19:04:12.523Z"
   },
   {
    "duration": 0,
    "start_time": "2023-05-27T19:04:12.524Z"
   },
   {
    "duration": 0,
    "start_time": "2023-05-27T19:04:12.525Z"
   },
   {
    "duration": 0,
    "start_time": "2023-05-27T19:04:12.526Z"
   },
   {
    "duration": 0,
    "start_time": "2023-05-27T19:04:12.527Z"
   },
   {
    "duration": 0,
    "start_time": "2023-05-27T19:04:12.528Z"
   },
   {
    "duration": 0,
    "start_time": "2023-05-27T19:04:12.529Z"
   },
   {
    "duration": 0,
    "start_time": "2023-05-27T19:04:12.529Z"
   },
   {
    "duration": 0,
    "start_time": "2023-05-27T19:04:12.531Z"
   },
   {
    "duration": 215,
    "start_time": "2023-05-27T19:06:01.104Z"
   },
   {
    "duration": 177,
    "start_time": "2023-05-27T19:06:02.123Z"
   },
   {
    "duration": 93,
    "start_time": "2023-05-27T19:06:02.970Z"
   },
   {
    "duration": 485,
    "start_time": "2023-05-27T19:06:03.750Z"
   },
   {
    "duration": 97,
    "start_time": "2023-05-27T19:06:26.203Z"
   },
   {
    "duration": 72,
    "start_time": "2023-05-27T19:06:38.409Z"
   },
   {
    "duration": 84,
    "start_time": "2023-05-27T19:06:44.427Z"
   },
   {
    "duration": 282,
    "start_time": "2023-05-27T19:06:45.671Z"
   },
   {
    "duration": 304,
    "start_time": "2023-05-27T19:06:46.227Z"
   },
   {
    "duration": 277,
    "start_time": "2023-05-27T19:06:46.961Z"
   },
   {
    "duration": 450,
    "start_time": "2023-05-27T19:06:47.864Z"
   },
   {
    "duration": 62,
    "start_time": "2023-05-27T19:06:49.185Z"
   },
   {
    "duration": 39,
    "start_time": "2023-05-27T19:06:52.271Z"
   },
   {
    "duration": 56,
    "start_time": "2023-05-27T19:06:53.179Z"
   },
   {
    "duration": 116,
    "start_time": "2023-05-27T19:06:54.423Z"
   },
   {
    "duration": 158,
    "start_time": "2023-05-27T19:08:44.980Z"
   },
   {
    "duration": 68,
    "start_time": "2023-05-27T19:09:01.054Z"
   },
   {
    "duration": 35,
    "start_time": "2023-05-27T19:09:03.840Z"
   },
   {
    "duration": 1240,
    "start_time": "2023-05-27T19:09:17.721Z"
   },
   {
    "duration": 22592,
    "start_time": "2023-05-27T19:10:11.384Z"
   },
   {
    "duration": 46,
    "start_time": "2023-05-27T19:13:14.710Z"
   },
   {
    "duration": 1322,
    "start_time": "2023-05-27T19:13:14.758Z"
   },
   {
    "duration": 2137,
    "start_time": "2023-05-27T19:13:16.081Z"
   },
   {
    "duration": 26,
    "start_time": "2023-05-27T19:13:18.221Z"
   },
   {
    "duration": 2784,
    "start_time": "2023-05-27T19:13:18.248Z"
   },
   {
    "duration": 799,
    "start_time": "2023-05-27T19:13:21.034Z"
   },
   {
    "duration": 35518,
    "start_time": "2023-05-27T19:13:21.834Z"
   },
   {
    "duration": 520,
    "start_time": "2023-05-27T19:13:57.354Z"
   },
   {
    "duration": 4,
    "start_time": "2023-05-27T19:13:57.875Z"
   },
   {
    "duration": 7,
    "start_time": "2023-05-27T19:13:57.880Z"
   },
   {
    "duration": 2,
    "start_time": "2023-05-27T19:13:57.888Z"
   },
   {
    "duration": 152,
    "start_time": "2023-05-27T19:13:57.892Z"
   },
   {
    "duration": 218,
    "start_time": "2023-05-27T19:13:58.045Z"
   },
   {
    "duration": 4068,
    "start_time": "2023-05-27T19:13:58.266Z"
   },
   {
    "duration": 194,
    "start_time": "2023-05-27T19:14:02.335Z"
   },
   {
    "duration": 196,
    "start_time": "2023-05-27T19:14:02.530Z"
   },
   {
    "duration": 160,
    "start_time": "2023-05-27T19:14:02.730Z"
   },
   {
    "duration": 506,
    "start_time": "2023-05-27T19:14:02.910Z"
   },
   {
    "duration": 83,
    "start_time": "2023-05-27T19:14:03.423Z"
   },
   {
    "duration": 276,
    "start_time": "2023-05-27T19:14:03.507Z"
   },
   {
    "duration": 288,
    "start_time": "2023-05-27T19:14:03.784Z"
   },
   {
    "duration": 254,
    "start_time": "2023-05-27T19:14:04.073Z"
   },
   {
    "duration": 440,
    "start_time": "2023-05-27T19:14:04.329Z"
   },
   {
    "duration": 60,
    "start_time": "2023-05-27T19:14:04.770Z"
   },
   {
    "duration": 22,
    "start_time": "2023-05-27T19:14:04.831Z"
   },
   {
    "duration": 74,
    "start_time": "2023-05-27T19:14:04.855Z"
   },
   {
    "duration": 105,
    "start_time": "2023-05-27T19:14:04.932Z"
   },
   {
    "duration": 501,
    "start_time": "2023-05-27T19:14:05.039Z"
   },
   {
    "duration": 121,
    "start_time": "2023-05-27T19:14:05.542Z"
   },
   {
    "duration": 258,
    "start_time": "2023-05-27T19:14:05.665Z"
   },
   {
    "duration": 0,
    "start_time": "2023-05-27T19:14:05.924Z"
   },
   {
    "duration": 0,
    "start_time": "2023-05-27T19:14:05.925Z"
   },
   {
    "duration": 0,
    "start_time": "2023-05-27T19:14:05.930Z"
   },
   {
    "duration": 0,
    "start_time": "2023-05-27T19:14:05.946Z"
   },
   {
    "duration": 145,
    "start_time": "2023-05-27T19:14:17.280Z"
   },
   {
    "duration": 1166,
    "start_time": "2023-05-27T19:14:27.265Z"
   },
   {
    "duration": 43,
    "start_time": "2023-05-27T19:16:56.254Z"
   },
   {
    "duration": 3,
    "start_time": "2023-05-27T19:16:56.717Z"
   },
   {
    "duration": 2136,
    "start_time": "2023-05-27T19:16:57.196Z"
   },
   {
    "duration": 3,
    "start_time": "2023-05-27T19:16:59.334Z"
   },
   {
    "duration": 2195,
    "start_time": "2023-05-27T19:16:59.338Z"
   },
   {
    "duration": 711,
    "start_time": "2023-05-27T19:17:01.535Z"
   },
   {
    "duration": 379,
    "start_time": "2023-05-27T19:17:07.015Z"
   },
   {
    "duration": 4,
    "start_time": "2023-05-27T19:17:08.096Z"
   },
   {
    "duration": 4,
    "start_time": "2023-05-27T19:17:08.942Z"
   },
   {
    "duration": 3,
    "start_time": "2023-05-27T19:17:11.474Z"
   },
   {
    "duration": 31797,
    "start_time": "2023-05-27T19:17:16.243Z"
   },
   {
    "duration": 106,
    "start_time": "2023-05-27T19:19:39.758Z"
   },
   {
    "duration": 181,
    "start_time": "2023-05-27T19:19:42.037Z"
   },
   {
    "duration": 91,
    "start_time": "2023-05-27T19:19:46.108Z"
   },
   {
    "duration": 4432,
    "start_time": "2023-05-27T19:19:51.639Z"
   },
   {
    "duration": 138,
    "start_time": "2023-05-27T19:19:59.876Z"
   },
   {
    "duration": 708,
    "start_time": "2023-05-27T19:21:05.933Z"
   },
   {
    "duration": 381,
    "start_time": "2023-05-27T19:21:08.856Z"
   },
   {
    "duration": 3,
    "start_time": "2023-05-27T19:21:09.478Z"
   },
   {
    "duration": 4,
    "start_time": "2023-05-27T19:21:09.962Z"
   },
   {
    "duration": 4,
    "start_time": "2023-05-27T19:21:10.367Z"
   },
   {
    "duration": 111,
    "start_time": "2023-05-27T19:21:11.832Z"
   },
   {
    "duration": 223,
    "start_time": "2023-05-27T19:21:12.623Z"
   },
   {
    "duration": 74,
    "start_time": "2023-05-27T19:21:16.326Z"
   },
   {
    "duration": 52,
    "start_time": "2023-05-27T19:21:20.043Z"
   },
   {
    "duration": 77,
    "start_time": "2023-05-27T19:21:22.530Z"
   },
   {
    "duration": 32,
    "start_time": "2023-05-27T19:22:49.842Z"
   },
   {
    "duration": 44,
    "start_time": "2023-05-27T19:23:26.072Z"
   },
   {
    "duration": 21,
    "start_time": "2023-05-27T19:23:55.596Z"
   },
   {
    "duration": 60,
    "start_time": "2023-05-27T19:24:06.538Z"
   },
   {
    "duration": 49,
    "start_time": "2023-05-27T19:24:33.030Z"
   },
   {
    "duration": 48,
    "start_time": "2023-05-27T19:25:20.573Z"
   },
   {
    "duration": 71,
    "start_time": "2023-05-27T19:25:34.510Z"
   },
   {
    "duration": 715,
    "start_time": "2023-05-27T19:25:45.827Z"
   },
   {
    "duration": 355,
    "start_time": "2023-05-27T19:25:49.700Z"
   },
   {
    "duration": 4,
    "start_time": "2023-05-27T19:25:50.488Z"
   },
   {
    "duration": 5,
    "start_time": "2023-05-27T19:25:50.880Z"
   },
   {
    "duration": 2,
    "start_time": "2023-05-27T19:25:51.451Z"
   },
   {
    "duration": 108,
    "start_time": "2023-05-27T19:25:53.715Z"
   },
   {
    "duration": 238,
    "start_time": "2023-05-27T19:26:00.506Z"
   },
   {
    "duration": 44,
    "start_time": "2023-05-27T19:26:01.528Z"
   },
   {
    "duration": 49,
    "start_time": "2023-05-27T19:26:03.026Z"
   },
   {
    "duration": 85,
    "start_time": "2023-05-27T19:30:06.346Z"
   },
   {
    "duration": 215,
    "start_time": "2023-05-27T19:30:09.082Z"
   },
   {
    "duration": 77,
    "start_time": "2023-05-27T19:30:09.512Z"
   },
   {
    "duration": 558,
    "start_time": "2023-05-27T19:30:10.415Z"
   },
   {
    "duration": 74,
    "start_time": "2023-05-27T19:30:11.036Z"
   },
   {
    "duration": 217,
    "start_time": "2023-05-27T19:30:11.539Z"
   },
   {
    "duration": 212,
    "start_time": "2023-05-27T19:30:11.937Z"
   },
   {
    "duration": 210,
    "start_time": "2023-05-27T19:30:12.254Z"
   },
   {
    "duration": 458,
    "start_time": "2023-05-27T19:30:13.806Z"
   },
   {
    "duration": 16,
    "start_time": "2023-05-27T19:30:14.813Z"
   },
   {
    "duration": 49,
    "start_time": "2023-05-27T19:30:23.144Z"
   },
   {
    "duration": 2348,
    "start_time": "2023-05-27T19:33:54.436Z"
   },
   {
    "duration": 61,
    "start_time": "2023-05-27T19:34:00.172Z"
   },
   {
    "duration": 21,
    "start_time": "2023-05-27T19:34:46.605Z"
   },
   {
    "duration": 14,
    "start_time": "2023-05-27T19:35:01.565Z"
   },
   {
    "duration": 12,
    "start_time": "2023-05-27T19:35:04.418Z"
   },
   {
    "duration": 24,
    "start_time": "2023-05-27T19:37:02.593Z"
   },
   {
    "duration": 63,
    "start_time": "2023-05-27T19:37:03.347Z"
   },
   {
    "duration": 10,
    "start_time": "2023-05-27T19:39:22.682Z"
   },
   {
    "duration": 1580,
    "start_time": "2023-05-27T19:39:33.644Z"
   },
   {
    "duration": 10,
    "start_time": "2023-05-27T19:39:36.771Z"
   },
   {
    "duration": 58,
    "start_time": "2023-05-27T19:39:47.470Z"
   },
   {
    "duration": 195,
    "start_time": "2023-05-27T19:39:56.127Z"
   },
   {
    "duration": 30,
    "start_time": "2023-05-27T19:40:00.395Z"
   },
   {
    "duration": 17,
    "start_time": "2023-05-27T19:40:01.534Z"
   },
   {
    "duration": 40,
    "start_time": "2023-05-27T19:40:06.542Z"
   },
   {
    "duration": 387,
    "start_time": "2023-05-27T19:40:08.204Z"
   },
   {
    "duration": 13,
    "start_time": "2023-05-27T19:40:14.467Z"
   },
   {
    "duration": 28,
    "start_time": "2023-05-27T19:40:14.984Z"
   },
   {
    "duration": 9,
    "start_time": "2023-05-27T19:40:44.547Z"
   },
   {
    "duration": 33,
    "start_time": "2023-05-27T19:40:46.348Z"
   },
   {
    "duration": 4,
    "start_time": "2023-05-27T19:45:26.512Z"
   },
   {
    "duration": 3,
    "start_time": "2023-05-27T19:46:00.579Z"
   },
   {
    "duration": 4,
    "start_time": "2023-05-27T19:58:20.176Z"
   },
   {
    "duration": 16,
    "start_time": "2023-05-27T20:00:05.986Z"
   },
   {
    "duration": 3,
    "start_time": "2023-05-27T20:00:36.980Z"
   },
   {
    "duration": 11,
    "start_time": "2023-05-27T20:00:38.952Z"
   },
   {
    "duration": 2,
    "start_time": "2023-05-27T20:01:27.194Z"
   },
   {
    "duration": 72,
    "start_time": "2023-05-27T20:03:06.472Z"
   },
   {
    "duration": 16,
    "start_time": "2023-05-27T20:03:46.177Z"
   },
   {
    "duration": 116,
    "start_time": "2023-05-27T20:10:33.176Z"
   },
   {
    "duration": 434,
    "start_time": "2023-05-27T20:12:33.007Z"
   },
   {
    "duration": 454,
    "start_time": "2023-05-27T20:13:33.868Z"
   },
   {
    "duration": 6,
    "start_time": "2023-05-27T20:23:27.095Z"
   },
   {
    "duration": 447,
    "start_time": "2023-05-27T20:29:30.568Z"
   },
   {
    "duration": 12,
    "start_time": "2023-05-27T20:29:57.763Z"
   },
   {
    "duration": 4,
    "start_time": "2023-05-27T20:30:06.612Z"
   },
   {
    "duration": 464,
    "start_time": "2023-05-27T20:30:09.225Z"
   },
   {
    "duration": 115,
    "start_time": "2023-05-27T20:30:10.046Z"
   },
   {
    "duration": 14,
    "start_time": "2023-05-27T20:38:01.015Z"
   },
   {
    "duration": 4,
    "start_time": "2023-05-27T20:38:04.333Z"
   },
   {
    "duration": 114,
    "start_time": "2023-05-27T20:38:06.622Z"
   },
   {
    "duration": 133,
    "start_time": "2023-05-27T20:38:14.062Z"
   },
   {
    "duration": 63,
    "start_time": "2023-05-27T20:38:27.091Z"
   },
   {
    "duration": 16,
    "start_time": "2023-05-27T20:41:09.342Z"
   },
   {
    "duration": 20,
    "start_time": "2023-05-27T20:41:55.847Z"
   },
   {
    "duration": 4570,
    "start_time": "2023-05-27T20:45:20.490Z"
   },
   {
    "duration": 4375,
    "start_time": "2023-05-27T20:45:35.365Z"
   },
   {
    "duration": 316,
    "start_time": "2023-05-27T20:45:53.174Z"
   },
   {
    "duration": 662,
    "start_time": "2023-05-27T20:46:36.298Z"
   },
   {
    "duration": 275,
    "start_time": "2023-05-27T20:46:38.990Z"
   },
   {
    "duration": 295,
    "start_time": "2023-05-27T20:46:55.101Z"
   },
   {
    "duration": 23,
    "start_time": "2023-05-27T20:47:46.280Z"
   },
   {
    "duration": 41,
    "start_time": "2023-05-27T20:48:22.281Z"
   },
   {
    "duration": 3,
    "start_time": "2023-05-27T20:50:55.236Z"
   },
   {
    "duration": 38,
    "start_time": "2023-05-27T20:51:08.277Z"
   },
   {
    "duration": 280,
    "start_time": "2023-05-27T20:51:29.593Z"
   },
   {
    "duration": 715,
    "start_time": "2023-05-27T20:51:58.983Z"
   },
   {
    "duration": 149,
    "start_time": "2023-05-27T20:52:28.560Z"
   },
   {
    "duration": 298,
    "start_time": "2023-05-27T20:54:36.931Z"
   },
   {
    "duration": 129,
    "start_time": "2023-05-27T20:55:42.577Z"
   },
   {
    "duration": 1171,
    "start_time": "2023-05-27T20:56:16.185Z"
   },
   {
    "duration": 348,
    "start_time": "2023-05-27T20:56:36.377Z"
   },
   {
    "duration": 82,
    "start_time": "2023-05-27T21:27:10.724Z"
   },
   {
    "duration": 72,
    "start_time": "2023-05-27T21:27:38.289Z"
   },
   {
    "duration": 10,
    "start_time": "2023-05-27T21:28:13.984Z"
   },
   {
    "duration": 78,
    "start_time": "2023-05-27T21:29:46.639Z"
   },
   {
    "duration": 80,
    "start_time": "2023-05-27T21:31:13.709Z"
   },
   {
    "duration": 71,
    "start_time": "2023-05-27T21:31:32.085Z"
   },
   {
    "duration": 4,
    "start_time": "2023-05-27T21:32:52.961Z"
   },
   {
    "duration": 72,
    "start_time": "2023-05-27T21:36:09.689Z"
   },
   {
    "duration": 70,
    "start_time": "2023-05-27T21:36:50.368Z"
   },
   {
    "duration": 100,
    "start_time": "2023-05-27T21:38:44.192Z"
   },
   {
    "duration": 84,
    "start_time": "2023-05-27T21:38:49.745Z"
   },
   {
    "duration": 107,
    "start_time": "2023-05-27T21:39:23.512Z"
   },
   {
    "duration": 441,
    "start_time": "2023-05-27T21:40:00.521Z"
   },
   {
    "duration": 4,
    "start_time": "2023-05-27T21:40:16.953Z"
   },
   {
    "duration": 177,
    "start_time": "2023-05-27T21:42:06.179Z"
   },
   {
    "duration": 10,
    "start_time": "2023-05-27T21:42:32.594Z"
   },
   {
    "duration": 3,
    "start_time": "2023-05-27T21:42:37.987Z"
   },
   {
    "duration": 4,
    "start_time": "2023-05-27T21:43:07.459Z"
   },
   {
    "duration": 10,
    "start_time": "2023-05-27T21:44:18.940Z"
   },
   {
    "duration": 125,
    "start_time": "2023-05-27T21:45:31.417Z"
   },
   {
    "duration": 5,
    "start_time": "2023-05-27T21:54:59.780Z"
   },
   {
    "duration": 5,
    "start_time": "2023-05-27T21:55:12.591Z"
   },
   {
    "duration": 72,
    "start_time": "2023-05-27T21:55:16.385Z"
   },
   {
    "duration": 4,
    "start_time": "2023-05-27T21:55:22.488Z"
   },
   {
    "duration": 5,
    "start_time": "2023-05-27T21:56:37.841Z"
   },
   {
    "duration": 4,
    "start_time": "2023-05-28T00:21:38.588Z"
   },
   {
    "duration": 3,
    "start_time": "2023-05-28T00:22:17.169Z"
   },
   {
    "duration": 3,
    "start_time": "2023-05-28T00:22:50.328Z"
   },
   {
    "duration": 3,
    "start_time": "2023-05-28T00:23:14.904Z"
   },
   {
    "duration": 89,
    "start_time": "2023-05-28T00:23:16.864Z"
   },
   {
    "duration": 4,
    "start_time": "2023-05-28T00:23:55.965Z"
   },
   {
    "duration": 6,
    "start_time": "2023-05-28T00:23:58.191Z"
   },
   {
    "duration": 15008,
    "start_time": "2023-05-28T00:24:37.882Z"
   },
   {
    "duration": 5540,
    "start_time": "2023-05-28T00:25:44.842Z"
   },
   {
    "duration": 317,
    "start_time": "2023-05-28T00:28:58.864Z"
   },
   {
    "duration": 91,
    "start_time": "2023-05-28T00:29:18.714Z"
   },
   {
    "duration": 17342,
    "start_time": "2023-05-28T00:29:23.355Z"
   },
   {
    "duration": 32864,
    "start_time": "2023-05-28T00:30:06.161Z"
   },
   {
    "duration": 3,
    "start_time": "2023-05-28T00:39:36.210Z"
   },
   {
    "duration": 90,
    "start_time": "2023-05-28T00:39:38.122Z"
   },
   {
    "duration": 4,
    "start_time": "2023-05-28T00:39:43.999Z"
   },
   {
    "duration": 5,
    "start_time": "2023-05-28T00:39:50.258Z"
   },
   {
    "duration": 5,
    "start_time": "2023-05-28T00:40:12.423Z"
   },
   {
    "duration": 15027,
    "start_time": "2023-05-28T00:40:25.370Z"
   },
   {
    "duration": 6013,
    "start_time": "2023-05-28T00:40:40.486Z"
   },
   {
    "duration": 32967,
    "start_time": "2023-05-28T00:40:46.500Z"
   },
   {
    "duration": 306,
    "start_time": "2023-05-28T00:44:18.470Z"
   },
   {
    "duration": 4539,
    "start_time": "2023-05-28T00:47:18.779Z"
   },
   {
    "duration": 309,
    "start_time": "2023-05-28T00:47:53.183Z"
   },
   {
    "duration": 5,
    "start_time": "2023-05-28T00:56:55.655Z"
   },
   {
    "duration": 43,
    "start_time": "2023-05-28T00:57:14.904Z"
   },
   {
    "duration": 1307,
    "start_time": "2023-05-28T00:57:14.949Z"
   },
   {
    "duration": 1947,
    "start_time": "2023-05-28T00:57:16.257Z"
   },
   {
    "duration": 28,
    "start_time": "2023-05-28T00:57:18.206Z"
   },
   {
    "duration": 5260,
    "start_time": "2023-05-28T00:57:18.236Z"
   },
   {
    "duration": 916,
    "start_time": "2023-05-28T00:57:23.498Z"
   },
   {
    "duration": 31800,
    "start_time": "2023-05-28T00:57:24.415Z"
   },
   {
    "duration": 0,
    "start_time": "2023-05-28T00:58:04.245Z"
   },
   {
    "duration": 0,
    "start_time": "2023-05-28T00:58:04.246Z"
   },
   {
    "duration": 0,
    "start_time": "2023-05-28T00:58:04.247Z"
   },
   {
    "duration": 0,
    "start_time": "2023-05-28T00:58:04.248Z"
   },
   {
    "duration": 0,
    "start_time": "2023-05-28T00:58:04.248Z"
   },
   {
    "duration": 0,
    "start_time": "2023-05-28T00:58:04.249Z"
   },
   {
    "duration": 0,
    "start_time": "2023-05-28T00:58:04.250Z"
   },
   {
    "duration": 0,
    "start_time": "2023-05-28T00:58:04.251Z"
   },
   {
    "duration": 0,
    "start_time": "2023-05-28T00:58:04.252Z"
   },
   {
    "duration": 0,
    "start_time": "2023-05-28T00:58:04.253Z"
   },
   {
    "duration": 0,
    "start_time": "2023-05-28T00:58:04.254Z"
   },
   {
    "duration": 0,
    "start_time": "2023-05-28T00:58:04.255Z"
   },
   {
    "duration": 0,
    "start_time": "2023-05-28T00:58:04.257Z"
   },
   {
    "duration": 0,
    "start_time": "2023-05-28T00:58:04.258Z"
   },
   {
    "duration": 0,
    "start_time": "2023-05-28T00:58:04.259Z"
   },
   {
    "duration": 0,
    "start_time": "2023-05-28T00:58:04.260Z"
   },
   {
    "duration": 0,
    "start_time": "2023-05-28T00:58:04.261Z"
   },
   {
    "duration": 0,
    "start_time": "2023-05-28T00:58:04.263Z"
   },
   {
    "duration": 0,
    "start_time": "2023-05-28T00:58:04.264Z"
   },
   {
    "duration": 0,
    "start_time": "2023-05-28T00:58:04.265Z"
   },
   {
    "duration": 0,
    "start_time": "2023-05-28T00:58:04.267Z"
   },
   {
    "duration": 0,
    "start_time": "2023-05-28T00:58:04.268Z"
   },
   {
    "duration": 0,
    "start_time": "2023-05-28T00:58:04.269Z"
   },
   {
    "duration": 0,
    "start_time": "2023-05-28T00:58:04.270Z"
   },
   {
    "duration": 0,
    "start_time": "2023-05-28T00:58:04.284Z"
   },
   {
    "duration": 0,
    "start_time": "2023-05-28T00:58:04.285Z"
   },
   {
    "duration": 0,
    "start_time": "2023-05-28T00:58:04.286Z"
   },
   {
    "duration": 0,
    "start_time": "2023-05-28T00:58:04.287Z"
   },
   {
    "duration": 0,
    "start_time": "2023-05-28T00:58:04.288Z"
   },
   {
    "duration": 0,
    "start_time": "2023-05-28T00:58:04.289Z"
   },
   {
    "duration": 0,
    "start_time": "2023-05-28T00:58:04.290Z"
   },
   {
    "duration": 0,
    "start_time": "2023-05-28T00:58:04.291Z"
   },
   {
    "duration": 0,
    "start_time": "2023-05-28T00:58:04.291Z"
   },
   {
    "duration": 0,
    "start_time": "2023-05-28T00:58:04.292Z"
   },
   {
    "duration": 0,
    "start_time": "2023-05-28T00:58:04.293Z"
   },
   {
    "duration": 0,
    "start_time": "2023-05-28T00:58:04.294Z"
   },
   {
    "duration": 0,
    "start_time": "2023-05-28T00:58:04.295Z"
   },
   {
    "duration": 0,
    "start_time": "2023-05-28T00:58:04.297Z"
   },
   {
    "duration": 0,
    "start_time": "2023-05-28T00:58:04.298Z"
   },
   {
    "duration": 0,
    "start_time": "2023-05-28T00:58:04.298Z"
   },
   {
    "duration": 0,
    "start_time": "2023-05-28T00:58:04.300Z"
   },
   {
    "duration": 0,
    "start_time": "2023-05-28T00:58:04.300Z"
   },
   {
    "duration": 0,
    "start_time": "2023-05-28T00:58:04.301Z"
   },
   {
    "duration": 0,
    "start_time": "2023-05-28T00:58:04.302Z"
   },
   {
    "duration": 0,
    "start_time": "2023-05-28T00:58:04.303Z"
   },
   {
    "duration": 0,
    "start_time": "2023-05-28T00:58:04.304Z"
   },
   {
    "duration": 0,
    "start_time": "2023-05-28T00:58:04.305Z"
   },
   {
    "duration": 0,
    "start_time": "2023-05-28T00:58:04.306Z"
   },
   {
    "duration": 0,
    "start_time": "2023-05-28T00:58:04.308Z"
   },
   {
    "duration": 62,
    "start_time": "2023-05-28T01:00:10.932Z"
   },
   {
    "duration": 3,
    "start_time": "2023-05-28T01:00:10.995Z"
   },
   {
    "duration": 1953,
    "start_time": "2023-05-28T01:00:11.000Z"
   },
   {
    "duration": 3,
    "start_time": "2023-05-28T01:00:12.955Z"
   },
   {
    "duration": 2226,
    "start_time": "2023-05-28T01:00:12.959Z"
   },
   {
    "duration": 652,
    "start_time": "2023-05-28T01:00:15.186Z"
   },
   {
    "duration": 402,
    "start_time": "2023-05-28T01:00:15.839Z"
   },
   {
    "duration": 5,
    "start_time": "2023-05-28T01:00:16.242Z"
   },
   {
    "duration": 15,
    "start_time": "2023-05-28T01:00:16.248Z"
   },
   {
    "duration": 10,
    "start_time": "2023-05-28T01:00:16.266Z"
   },
   {
    "duration": 116,
    "start_time": "2023-05-28T01:00:16.277Z"
   },
   {
    "duration": 199,
    "start_time": "2023-05-28T01:00:16.395Z"
   },
   {
    "duration": 43,
    "start_time": "2023-05-28T01:00:16.595Z"
   },
   {
    "duration": 83,
    "start_time": "2023-05-28T01:00:16.640Z"
   },
   {
    "duration": 202,
    "start_time": "2023-05-28T01:00:16.724Z"
   },
   {
    "duration": 83,
    "start_time": "2023-05-28T01:00:16.928Z"
   },
   {
    "duration": 568,
    "start_time": "2023-05-28T01:00:17.013Z"
   },
   {
    "duration": 69,
    "start_time": "2023-05-28T01:00:17.582Z"
   },
   {
    "duration": 224,
    "start_time": "2023-05-28T01:00:17.652Z"
   },
   {
    "duration": 212,
    "start_time": "2023-05-28T01:00:17.878Z"
   },
   {
    "duration": 210,
    "start_time": "2023-05-28T01:00:18.091Z"
   },
   {
    "duration": 461,
    "start_time": "2023-05-28T01:00:18.303Z"
   },
   {
    "duration": 56,
    "start_time": "2023-05-28T01:00:18.766Z"
   },
   {
    "duration": 2372,
    "start_time": "2023-05-28T01:00:18.823Z"
   },
   {
    "duration": 14,
    "start_time": "2023-05-28T01:00:21.196Z"
   },
   {
    "duration": 42,
    "start_time": "2023-05-28T01:00:21.211Z"
   },
   {
    "duration": 57,
    "start_time": "2023-05-28T01:00:21.255Z"
   },
   {
    "duration": 150,
    "start_time": "2023-05-28T01:00:21.315Z"
   },
   {
    "duration": 35,
    "start_time": "2023-05-28T01:00:21.466Z"
   },
   {
    "duration": 17,
    "start_time": "2023-05-28T01:00:21.502Z"
   },
   {
    "duration": 39,
    "start_time": "2023-05-28T01:00:21.520Z"
   },
   {
    "duration": 408,
    "start_time": "2023-05-28T01:00:21.560Z"
   },
   {
    "duration": 23,
    "start_time": "2023-05-28T01:00:21.969Z"
   },
   {
    "duration": 34,
    "start_time": "2023-05-28T01:00:21.993Z"
   },
   {
    "duration": 1655,
    "start_time": "2023-05-28T01:00:22.028Z"
   },
   {
    "duration": 0,
    "start_time": "2023-05-28T01:00:23.685Z"
   },
   {
    "duration": 0,
    "start_time": "2023-05-28T01:00:23.686Z"
   },
   {
    "duration": 0,
    "start_time": "2023-05-28T01:00:23.687Z"
   },
   {
    "duration": 0,
    "start_time": "2023-05-28T01:00:23.689Z"
   },
   {
    "duration": 0,
    "start_time": "2023-05-28T01:00:23.690Z"
   },
   {
    "duration": 0,
    "start_time": "2023-05-28T01:00:23.691Z"
   },
   {
    "duration": 0,
    "start_time": "2023-05-28T01:00:23.692Z"
   },
   {
    "duration": 0,
    "start_time": "2023-05-28T01:00:23.694Z"
   },
   {
    "duration": 0,
    "start_time": "2023-05-28T01:00:23.695Z"
   },
   {
    "duration": 0,
    "start_time": "2023-05-28T01:00:23.696Z"
   },
   {
    "duration": 0,
    "start_time": "2023-05-28T01:00:23.697Z"
   },
   {
    "duration": 0,
    "start_time": "2023-05-28T01:00:23.698Z"
   },
   {
    "duration": 0,
    "start_time": "2023-05-28T01:00:23.699Z"
   },
   {
    "duration": 0,
    "start_time": "2023-05-28T01:00:23.701Z"
   },
   {
    "duration": 12,
    "start_time": "2023-05-28T01:01:03.356Z"
   },
   {
    "duration": 4,
    "start_time": "2023-05-28T01:01:42.587Z"
   },
   {
    "duration": 83,
    "start_time": "2023-05-28T01:01:42.593Z"
   },
   {
    "duration": 3,
    "start_time": "2023-05-28T01:01:42.677Z"
   },
   {
    "duration": 50,
    "start_time": "2023-05-28T01:01:42.684Z"
   },
   {
    "duration": 497,
    "start_time": "2023-05-28T01:01:42.736Z"
   },
   {
    "duration": 507,
    "start_time": "2023-05-28T01:01:43.235Z"
   },
   {
    "duration": 232,
    "start_time": "2023-05-28T01:01:43.744Z"
   },
   {
    "duration": 7,
    "start_time": "2023-05-28T01:01:43.978Z"
   },
   {
    "duration": 174,
    "start_time": "2023-05-28T01:01:43.987Z"
   },
   {
    "duration": 5,
    "start_time": "2023-05-28T01:01:44.163Z"
   },
   {
    "duration": 18,
    "start_time": "2023-05-28T01:01:44.169Z"
   },
   {
    "duration": 15103,
    "start_time": "2023-05-28T01:01:44.188Z"
   },
   {
    "duration": 6009,
    "start_time": "2023-05-28T01:01:59.293Z"
   },
   {
    "duration": 34513,
    "start_time": "2023-05-28T01:02:05.304Z"
   },
   {
    "duration": 12,
    "start_time": "2023-05-28T01:02:39.818Z"
   },
   {
    "duration": 2,
    "start_time": "2023-05-28T01:03:42.571Z"
   },
   {
    "duration": 48,
    "start_time": "2023-05-28T01:05:10.142Z"
   },
   {
    "duration": 1345,
    "start_time": "2023-05-28T01:05:10.191Z"
   },
   {
    "duration": 1972,
    "start_time": "2023-05-28T01:05:11.537Z"
   },
   {
    "duration": 27,
    "start_time": "2023-05-28T01:05:13.511Z"
   },
   {
    "duration": 5056,
    "start_time": "2023-05-28T01:05:13.540Z"
   },
   {
    "duration": 943,
    "start_time": "2023-05-28T01:05:18.598Z"
   },
   {
    "duration": 402,
    "start_time": "2023-05-28T01:05:19.543Z"
   },
   {
    "duration": 4,
    "start_time": "2023-05-28T01:05:19.947Z"
   },
   {
    "duration": 6,
    "start_time": "2023-05-28T01:05:19.952Z"
   },
   {
    "duration": 5,
    "start_time": "2023-05-28T01:05:19.960Z"
   },
   {
    "duration": 114,
    "start_time": "2023-05-28T01:05:19.967Z"
   },
   {
    "duration": 248,
    "start_time": "2023-05-28T01:05:20.085Z"
   },
   {
    "duration": 55,
    "start_time": "2023-05-28T01:05:20.334Z"
   },
   {
    "duration": 100,
    "start_time": "2023-05-28T01:05:20.393Z"
   },
   {
    "duration": 215,
    "start_time": "2023-05-28T01:05:20.494Z"
   },
   {
    "duration": 82,
    "start_time": "2023-05-28T01:05:20.711Z"
   },
   {
    "duration": 633,
    "start_time": "2023-05-28T01:05:20.795Z"
   },
   {
    "duration": 78,
    "start_time": "2023-05-28T01:05:21.430Z"
   },
   {
    "duration": 231,
    "start_time": "2023-05-28T01:05:21.509Z"
   },
   {
    "duration": 215,
    "start_time": "2023-05-28T01:05:21.742Z"
   },
   {
    "duration": 222,
    "start_time": "2023-05-28T01:05:21.958Z"
   },
   {
    "duration": 463,
    "start_time": "2023-05-28T01:05:22.182Z"
   },
   {
    "duration": 54,
    "start_time": "2023-05-28T01:05:22.647Z"
   },
   {
    "duration": 2458,
    "start_time": "2023-05-28T01:05:22.703Z"
   },
   {
    "duration": 14,
    "start_time": "2023-05-28T01:05:25.162Z"
   },
   {
    "duration": 50,
    "start_time": "2023-05-28T01:05:25.177Z"
   },
   {
    "duration": 60,
    "start_time": "2023-05-28T01:05:25.229Z"
   },
   {
    "duration": 153,
    "start_time": "2023-05-28T01:05:25.290Z"
   },
   {
    "duration": 29,
    "start_time": "2023-05-28T01:05:25.445Z"
   },
   {
    "duration": 24,
    "start_time": "2023-05-28T01:05:25.475Z"
   },
   {
    "duration": 31,
    "start_time": "2023-05-28T01:05:25.501Z"
   },
   {
    "duration": 422,
    "start_time": "2023-05-28T01:05:25.534Z"
   },
   {
    "duration": 27,
    "start_time": "2023-05-28T01:05:25.957Z"
   },
   {
    "duration": 30,
    "start_time": "2023-05-28T01:05:25.986Z"
   },
   {
    "duration": 4,
    "start_time": "2023-05-28T01:05:26.018Z"
   },
   {
    "duration": 87,
    "start_time": "2023-05-28T01:05:26.023Z"
   },
   {
    "duration": 2,
    "start_time": "2023-05-28T01:05:26.112Z"
   },
   {
    "duration": 61,
    "start_time": "2023-05-28T01:05:26.115Z"
   },
   {
    "duration": 465,
    "start_time": "2023-05-28T01:05:26.177Z"
   },
   {
    "duration": 453,
    "start_time": "2023-05-28T01:05:26.643Z"
   },
   {
    "duration": 194,
    "start_time": "2023-05-28T01:05:27.100Z"
   },
   {
    "duration": 3,
    "start_time": "2023-05-28T01:05:27.296Z"
   },
   {
    "duration": 138,
    "start_time": "2023-05-28T01:05:27.300Z"
   },
   {
    "duration": 4,
    "start_time": "2023-05-28T01:05:27.439Z"
   },
   {
    "duration": 11,
    "start_time": "2023-05-28T01:05:27.444Z"
   },
   {
    "duration": 17135,
    "start_time": "2023-05-28T01:05:27.457Z"
   },
   {
    "duration": 6636,
    "start_time": "2023-05-28T01:05:44.594Z"
   },
   {
    "duration": 35345,
    "start_time": "2023-05-28T01:05:51.231Z"
   },
   {
    "duration": 1146,
    "start_time": "2023-05-28T01:08:24.127Z"
   },
   {
    "duration": 97,
    "start_time": "2023-05-28T01:08:30.774Z"
   },
   {
    "duration": 46,
    "start_time": "2023-05-28T01:08:59.329Z"
   },
   {
    "duration": 286,
    "start_time": "2023-05-28T01:08:59.377Z"
   },
   {
    "duration": 2076,
    "start_time": "2023-05-28T01:08:59.665Z"
   },
   {
    "duration": 3,
    "start_time": "2023-05-28T01:09:01.743Z"
   },
   {
    "duration": 4987,
    "start_time": "2023-05-28T01:09:01.747Z"
   },
   {
    "duration": 966,
    "start_time": "2023-05-28T01:09:06.736Z"
   },
   {
    "duration": 429,
    "start_time": "2023-05-28T01:09:07.703Z"
   },
   {
    "duration": 3,
    "start_time": "2023-05-28T01:09:08.134Z"
   },
   {
    "duration": 19,
    "start_time": "2023-05-28T01:09:08.138Z"
   },
   {
    "duration": 5,
    "start_time": "2023-05-28T01:09:08.159Z"
   },
   {
    "duration": 111,
    "start_time": "2023-05-28T01:09:08.165Z"
   },
   {
    "duration": 261,
    "start_time": "2023-05-28T01:09:08.277Z"
   },
   {
    "duration": 50,
    "start_time": "2023-05-28T01:09:08.539Z"
   },
   {
    "duration": 107,
    "start_time": "2023-05-28T01:09:08.591Z"
   },
   {
    "duration": 217,
    "start_time": "2023-05-28T01:09:08.700Z"
   },
   {
    "duration": 84,
    "start_time": "2023-05-28T01:09:08.918Z"
   },
   {
    "duration": 653,
    "start_time": "2023-05-28T01:09:09.004Z"
   },
   {
    "duration": 81,
    "start_time": "2023-05-28T01:09:09.658Z"
   },
   {
    "duration": 238,
    "start_time": "2023-05-28T01:09:09.741Z"
   },
   {
    "duration": 227,
    "start_time": "2023-05-28T01:09:09.981Z"
   },
   {
    "duration": 226,
    "start_time": "2023-05-28T01:09:10.209Z"
   },
   {
    "duration": 478,
    "start_time": "2023-05-28T01:09:10.436Z"
   },
   {
    "duration": 56,
    "start_time": "2023-05-28T01:09:10.915Z"
   },
   {
    "duration": 2497,
    "start_time": "2023-05-28T01:09:10.972Z"
   },
   {
    "duration": 20,
    "start_time": "2023-05-28T01:09:13.471Z"
   },
   {
    "duration": 29,
    "start_time": "2023-05-28T01:09:13.492Z"
   },
   {
    "duration": 81,
    "start_time": "2023-05-28T01:09:13.523Z"
   },
   {
    "duration": 164,
    "start_time": "2023-05-28T01:09:13.608Z"
   },
   {
    "duration": 36,
    "start_time": "2023-05-28T01:09:13.774Z"
   },
   {
    "duration": 20,
    "start_time": "2023-05-28T01:09:13.812Z"
   },
   {
    "duration": 54,
    "start_time": "2023-05-28T01:09:13.833Z"
   },
   {
    "duration": 417,
    "start_time": "2023-05-28T01:09:13.889Z"
   },
   {
    "duration": 14,
    "start_time": "2023-05-28T01:09:14.307Z"
   },
   {
    "duration": 38,
    "start_time": "2023-05-28T01:09:14.323Z"
   },
   {
    "duration": 5,
    "start_time": "2023-05-28T01:09:14.362Z"
   },
   {
    "duration": 84,
    "start_time": "2023-05-28T01:09:14.369Z"
   },
   {
    "duration": 3,
    "start_time": "2023-05-28T01:09:14.454Z"
   },
   {
    "duration": 70,
    "start_time": "2023-05-28T01:09:14.459Z"
   },
   {
    "duration": 495,
    "start_time": "2023-05-28T01:09:14.531Z"
   },
   {
    "duration": 456,
    "start_time": "2023-05-28T01:09:15.028Z"
   },
   {
    "duration": 206,
    "start_time": "2023-05-28T01:09:15.486Z"
   },
   {
    "duration": 3,
    "start_time": "2023-05-28T01:09:15.694Z"
   },
   {
    "duration": 152,
    "start_time": "2023-05-28T01:09:15.699Z"
   },
   {
    "duration": 4,
    "start_time": "2023-05-28T01:09:15.852Z"
   },
   {
    "duration": 32,
    "start_time": "2023-05-28T01:09:15.857Z"
   },
   {
    "duration": 15603,
    "start_time": "2023-05-28T01:09:15.890Z"
   },
   {
    "duration": 6252,
    "start_time": "2023-05-28T01:09:31.495Z"
   },
   {
    "duration": 8136,
    "start_time": "2023-05-28T01:09:37.749Z"
   },
   {
    "duration": 77,
    "start_time": "2023-05-28T01:16:12.690Z"
   },
   {
    "duration": 5,
    "start_time": "2023-05-28T01:24:22.538Z"
   },
   {
    "duration": 7508,
    "start_time": "2023-05-28T01:24:34.594Z"
   },
   {
    "duration": 47,
    "start_time": "2023-05-28T01:27:12.725Z"
   },
   {
    "duration": 1409,
    "start_time": "2023-05-28T01:27:12.773Z"
   },
   {
    "duration": 1978,
    "start_time": "2023-05-28T01:27:14.183Z"
   },
   {
    "duration": 25,
    "start_time": "2023-05-28T01:27:16.163Z"
   },
   {
    "duration": 2552,
    "start_time": "2023-05-28T01:27:16.189Z"
   },
   {
    "duration": 679,
    "start_time": "2023-05-28T01:27:18.743Z"
   },
   {
    "duration": 400,
    "start_time": "2023-05-28T01:27:19.423Z"
   },
   {
    "duration": 4,
    "start_time": "2023-05-28T01:27:19.824Z"
   },
   {
    "duration": 13,
    "start_time": "2023-05-28T01:27:19.829Z"
   },
   {
    "duration": 6,
    "start_time": "2023-05-28T01:27:19.844Z"
   },
   {
    "duration": 109,
    "start_time": "2023-05-28T01:27:19.851Z"
   },
   {
    "duration": 240,
    "start_time": "2023-05-28T01:27:19.962Z"
   },
   {
    "duration": 40,
    "start_time": "2023-05-28T01:27:20.203Z"
   },
   {
    "duration": 95,
    "start_time": "2023-05-28T01:27:20.245Z"
   },
   {
    "duration": 211,
    "start_time": "2023-05-28T01:27:20.341Z"
   },
   {
    "duration": 77,
    "start_time": "2023-05-28T01:27:20.553Z"
   },
   {
    "duration": 615,
    "start_time": "2023-05-28T01:27:20.632Z"
   },
   {
    "duration": 71,
    "start_time": "2023-05-28T01:27:21.248Z"
   },
   {
    "duration": 222,
    "start_time": "2023-05-28T01:27:21.320Z"
   },
   {
    "duration": 218,
    "start_time": "2023-05-28T01:27:21.543Z"
   },
   {
    "duration": 212,
    "start_time": "2023-05-28T01:27:21.762Z"
   },
   {
    "duration": 449,
    "start_time": "2023-05-28T01:27:21.976Z"
   },
   {
    "duration": 50,
    "start_time": "2023-05-28T01:27:22.426Z"
   },
   {
    "duration": 2430,
    "start_time": "2023-05-28T01:27:22.484Z"
   },
   {
    "duration": 14,
    "start_time": "2023-05-28T01:27:24.915Z"
   },
   {
    "duration": 31,
    "start_time": "2023-05-28T01:27:24.930Z"
   },
   {
    "duration": 67,
    "start_time": "2023-05-28T01:27:24.963Z"
   },
   {
    "duration": 146,
    "start_time": "2023-05-28T01:27:25.033Z"
   },
   {
    "duration": 28,
    "start_time": "2023-05-28T01:27:25.184Z"
   },
   {
    "duration": 113,
    "start_time": "2023-05-28T01:27:25.213Z"
   },
   {
    "duration": 101,
    "start_time": "2023-05-28T01:27:25.327Z"
   },
   {
    "duration": 375,
    "start_time": "2023-05-28T01:27:25.429Z"
   },
   {
    "duration": 11,
    "start_time": "2023-05-28T01:27:25.806Z"
   },
   {
    "duration": 26,
    "start_time": "2023-05-28T01:27:25.819Z"
   },
   {
    "duration": 3,
    "start_time": "2023-05-28T01:27:25.846Z"
   },
   {
    "duration": 93,
    "start_time": "2023-05-28T01:27:25.851Z"
   },
   {
    "duration": 4,
    "start_time": "2023-05-28T01:27:25.946Z"
   },
   {
    "duration": 56,
    "start_time": "2023-05-28T01:27:25.951Z"
   },
   {
    "duration": 451,
    "start_time": "2023-05-28T01:27:26.008Z"
   },
   {
    "duration": 437,
    "start_time": "2023-05-28T01:27:26.460Z"
   },
   {
    "duration": 205,
    "start_time": "2023-05-28T01:27:26.899Z"
   },
   {
    "duration": 3,
    "start_time": "2023-05-28T01:27:27.105Z"
   },
   {
    "duration": 136,
    "start_time": "2023-05-28T01:27:27.110Z"
   },
   {
    "duration": 4,
    "start_time": "2023-05-28T01:27:27.247Z"
   },
   {
    "duration": 13,
    "start_time": "2023-05-28T01:27:27.252Z"
   },
   {
    "duration": 18718,
    "start_time": "2023-05-28T01:27:27.267Z"
   },
   {
    "duration": 6768,
    "start_time": "2023-05-28T01:27:45.987Z"
   },
   {
    "duration": 7529,
    "start_time": "2023-05-28T01:27:52.757Z"
   },
   {
    "duration": 27998,
    "start_time": "2023-05-28T01:28:00.287Z"
   },
   {
    "duration": 35799,
    "start_time": "2023-05-28T01:28:28.287Z"
   },
   {
    "duration": 26880,
    "start_time": "2023-05-28T01:29:16.005Z"
   },
   {
    "duration": 96061,
    "start_time": "2023-05-28T01:30:08.637Z"
   },
   {
    "duration": 8334,
    "start_time": "2023-05-28T01:31:52.352Z"
   },
   {
    "duration": 4868,
    "start_time": "2023-05-28T01:33:39.543Z"
   },
   {
    "duration": 25152,
    "start_time": "2023-05-28T01:34:39.011Z"
   },
   {
    "duration": 4485,
    "start_time": "2023-05-28T01:35:55.146Z"
   },
   {
    "duration": 4,
    "start_time": "2023-05-28T01:45:41.878Z"
   },
   {
    "duration": 7,
    "start_time": "2023-05-28T01:45:44.176Z"
   },
   {
    "duration": 6,
    "start_time": "2023-05-28T01:46:26.449Z"
   },
   {
    "duration": 15266,
    "start_time": "2023-05-28T01:47:00.919Z"
   },
   {
    "duration": 5917,
    "start_time": "2023-05-28T01:47:16.186Z"
   },
   {
    "duration": 4541,
    "start_time": "2023-05-28T01:47:49.251Z"
   },
   {
    "duration": 9432,
    "start_time": "2023-05-28T01:48:26.070Z"
   },
   {
    "duration": 4,
    "start_time": "2023-05-28T01:52:06.443Z"
   },
   {
    "duration": 11,
    "start_time": "2023-05-28T01:52:16.062Z"
   },
   {
    "duration": 10,
    "start_time": "2023-05-28T01:53:56.935Z"
   },
   {
    "duration": 165,
    "start_time": "2023-05-28T01:56:43.380Z"
   },
   {
    "duration": 14,
    "start_time": "2023-05-28T01:58:53.277Z"
   },
   {
    "duration": 14,
    "start_time": "2023-05-28T01:59:36.243Z"
   },
   {
    "duration": 13,
    "start_time": "2023-05-28T01:59:51.920Z"
   },
   {
    "duration": 13,
    "start_time": "2023-05-28T02:00:10.386Z"
   },
   {
    "duration": 14,
    "start_time": "2023-05-28T02:00:30.094Z"
   },
   {
    "duration": 14,
    "start_time": "2023-05-28T02:02:21.600Z"
   },
   {
    "duration": 4,
    "start_time": "2023-05-28T02:03:25.038Z"
   },
   {
    "duration": 17,
    "start_time": "2023-05-28T02:03:31.121Z"
   },
   {
    "duration": 4,
    "start_time": "2023-05-28T02:04:07.311Z"
   },
   {
    "duration": 19,
    "start_time": "2023-05-28T02:04:10.268Z"
   },
   {
    "duration": 4,
    "start_time": "2023-05-28T02:16:46.418Z"
   },
   {
    "duration": 6,
    "start_time": "2023-05-28T02:16:48.913Z"
   },
   {
    "duration": 4,
    "start_time": "2023-05-28T02:24:26.767Z"
   },
   {
    "duration": 17,
    "start_time": "2023-05-28T02:24:28.539Z"
   },
   {
    "duration": 4,
    "start_time": "2023-05-28T02:25:07.675Z"
   },
   {
    "duration": 6,
    "start_time": "2023-05-28T02:25:09.751Z"
   },
   {
    "duration": 11,
    "start_time": "2023-05-28T02:25:26.553Z"
   },
   {
    "duration": 22,
    "start_time": "2023-05-28T02:26:06.392Z"
   },
   {
    "duration": 15,
    "start_time": "2023-05-28T02:26:24.230Z"
   },
   {
    "duration": 21,
    "start_time": "2023-05-28T02:26:42.345Z"
   },
   {
    "duration": 11,
    "start_time": "2023-05-28T02:27:09.388Z"
   },
   {
    "duration": 46,
    "start_time": "2023-05-28T02:47:23.948Z"
   },
   {
    "duration": 1342,
    "start_time": "2023-05-28T02:47:29.901Z"
   },
   {
    "duration": 2005,
    "start_time": "2023-05-28T02:47:31.245Z"
   },
   {
    "duration": 25,
    "start_time": "2023-05-28T02:47:33.253Z"
   },
   {
    "duration": 2627,
    "start_time": "2023-05-28T02:47:33.279Z"
   },
   {
    "duration": 739,
    "start_time": "2023-05-28T02:47:35.909Z"
   },
   {
    "duration": 33050,
    "start_time": "2023-05-28T02:47:36.649Z"
   },
   {
    "duration": 539,
    "start_time": "2023-05-28T02:48:09.701Z"
   },
   {
    "duration": 4,
    "start_time": "2023-05-28T02:48:10.242Z"
   },
   {
    "duration": 6,
    "start_time": "2023-05-28T02:48:10.247Z"
   },
   {
    "duration": 3,
    "start_time": "2023-05-28T02:48:10.255Z"
   },
   {
    "duration": 135,
    "start_time": "2023-05-28T02:48:10.261Z"
   },
   {
    "duration": 215,
    "start_time": "2023-05-28T02:48:10.398Z"
   },
   {
    "duration": 48,
    "start_time": "2023-05-28T02:48:10.615Z"
   },
   {
    "duration": 102,
    "start_time": "2023-05-28T02:48:10.664Z"
   },
   {
    "duration": 236,
    "start_time": "2023-05-28T02:48:10.768Z"
   },
   {
    "duration": 88,
    "start_time": "2023-05-28T02:48:11.006Z"
   },
   {
    "duration": 604,
    "start_time": "2023-05-28T02:48:11.096Z"
   },
   {
    "duration": 86,
    "start_time": "2023-05-28T02:48:11.701Z"
   },
   {
    "duration": 252,
    "start_time": "2023-05-28T02:48:11.789Z"
   },
   {
    "duration": 246,
    "start_time": "2023-05-28T02:48:12.042Z"
   },
   {
    "duration": 235,
    "start_time": "2023-05-28T02:48:12.290Z"
   },
   {
    "duration": 795,
    "start_time": "2023-05-28T02:48:12.527Z"
   },
   {
    "duration": 60,
    "start_time": "2023-05-28T02:48:13.325Z"
   },
   {
    "duration": 2606,
    "start_time": "2023-05-28T02:48:13.387Z"
   },
   {
    "duration": 15,
    "start_time": "2023-05-28T02:48:15.996Z"
   },
   {
    "duration": 26,
    "start_time": "2023-05-28T02:48:16.013Z"
   },
   {
    "duration": 79,
    "start_time": "2023-05-28T02:48:16.041Z"
   },
   {
    "duration": 146,
    "start_time": "2023-05-28T02:48:16.122Z"
   },
   {
    "duration": 38,
    "start_time": "2023-05-28T02:48:16.269Z"
   },
   {
    "duration": 17,
    "start_time": "2023-05-28T02:48:16.309Z"
   },
   {
    "duration": 40,
    "start_time": "2023-05-28T02:48:16.327Z"
   },
   {
    "duration": 405,
    "start_time": "2023-05-28T02:48:16.368Z"
   },
   {
    "duration": 13,
    "start_time": "2023-05-28T02:48:16.785Z"
   },
   {
    "duration": 30,
    "start_time": "2023-05-28T02:48:16.800Z"
   },
   {
    "duration": 4,
    "start_time": "2023-05-28T02:48:16.833Z"
   },
   {
    "duration": 89,
    "start_time": "2023-05-28T02:48:16.839Z"
   },
   {
    "duration": 3,
    "start_time": "2023-05-28T02:48:16.930Z"
   },
   {
    "duration": 52,
    "start_time": "2023-05-28T02:48:16.934Z"
   },
   {
    "duration": 484,
    "start_time": "2023-05-28T02:48:16.987Z"
   },
   {
    "duration": 460,
    "start_time": "2023-05-28T02:48:17.472Z"
   },
   {
    "duration": 205,
    "start_time": "2023-05-28T02:48:19.086Z"
   },
   {
    "duration": 5,
    "start_time": "2023-05-28T02:48:20.355Z"
   },
   {
    "duration": 138,
    "start_time": "2023-05-28T02:48:20.944Z"
   },
   {
    "duration": 4,
    "start_time": "2023-05-28T02:48:22.744Z"
   },
   {
    "duration": 6,
    "start_time": "2023-05-28T02:48:24.148Z"
   },
   {
    "duration": 16252,
    "start_time": "2023-05-28T02:48:25.033Z"
   },
   {
    "duration": 6233,
    "start_time": "2023-05-28T02:48:41.287Z"
   },
   {
    "duration": 27812,
    "start_time": "2023-05-28T02:48:47.522Z"
   },
   {
    "duration": 4670,
    "start_time": "2023-05-28T02:49:15.336Z"
   },
   {
    "duration": 8589,
    "start_time": "2023-05-28T02:49:20.007Z"
   },
   {
    "duration": 29988,
    "start_time": "2023-05-28T02:49:28.597Z"
   },
   {
    "duration": 116299,
    "start_time": "2023-05-28T02:49:58.587Z"
   },
   {
    "duration": 9415,
    "start_time": "2023-05-28T02:51:54.888Z"
   },
   {
    "duration": 90,
    "start_time": "2023-05-28T02:52:04.305Z"
   },
   {
    "duration": 66,
    "start_time": "2023-05-28T18:13:03.472Z"
   },
   {
    "duration": 1817,
    "start_time": "2023-05-28T18:13:03.540Z"
   },
   {
    "duration": 2505,
    "start_time": "2023-05-28T18:13:05.364Z"
   },
   {
    "duration": 43,
    "start_time": "2023-05-28T18:13:07.880Z"
   },
   {
    "duration": 18155,
    "start_time": "2023-05-28T18:13:07.925Z"
   },
   {
    "duration": 3165,
    "start_time": "2023-05-28T18:13:26.083Z"
   },
   {
    "duration": 41392,
    "start_time": "2023-05-28T18:13:29.251Z"
   },
   {
    "duration": 647,
    "start_time": "2023-05-28T18:14:10.645Z"
   },
   {
    "duration": 5,
    "start_time": "2023-05-28T18:14:11.294Z"
   },
   {
    "duration": 8,
    "start_time": "2023-05-28T18:14:11.301Z"
   },
   {
    "duration": 37,
    "start_time": "2023-05-28T18:14:11.311Z"
   },
   {
    "duration": 135,
    "start_time": "2023-05-28T18:14:11.350Z"
   },
   {
    "duration": 222,
    "start_time": "2023-05-28T18:14:11.487Z"
   },
   {
    "duration": 62,
    "start_time": "2023-05-28T18:14:11.713Z"
   },
   {
    "duration": 103,
    "start_time": "2023-05-28T18:14:11.777Z"
   },
   {
    "duration": 324,
    "start_time": "2023-05-28T18:14:11.882Z"
   },
   {
    "duration": 98,
    "start_time": "2023-05-28T18:14:12.208Z"
   },
   {
    "duration": 1224,
    "start_time": "2023-05-28T18:14:12.307Z"
   },
   {
    "duration": 95,
    "start_time": "2023-05-28T18:14:13.533Z"
   },
   {
    "duration": 315,
    "start_time": "2023-05-28T18:14:13.630Z"
   },
   {
    "duration": 315,
    "start_time": "2023-05-28T18:14:13.947Z"
   },
   {
    "duration": 275,
    "start_time": "2023-05-28T18:14:14.268Z"
   },
   {
    "duration": 606,
    "start_time": "2023-05-28T18:14:14.545Z"
   },
   {
    "duration": 62,
    "start_time": "2023-05-28T18:14:15.153Z"
   },
   {
    "duration": 3835,
    "start_time": "2023-05-28T18:14:15.217Z"
   },
   {
    "duration": 25,
    "start_time": "2023-05-28T18:14:19.059Z"
   },
   {
    "duration": 40,
    "start_time": "2023-05-28T18:14:19.087Z"
   },
   {
    "duration": 104,
    "start_time": "2023-05-28T18:14:19.130Z"
   },
   {
    "duration": 197,
    "start_time": "2023-05-28T18:14:19.236Z"
   },
   {
    "duration": 47,
    "start_time": "2023-05-28T18:14:19.435Z"
   },
   {
    "duration": 21,
    "start_time": "2023-05-28T18:14:19.484Z"
   },
   {
    "duration": 69,
    "start_time": "2023-05-28T18:14:19.507Z"
   },
   {
    "duration": 524,
    "start_time": "2023-05-28T18:14:19.579Z"
   },
   {
    "duration": 17,
    "start_time": "2023-05-28T18:14:20.104Z"
   },
   {
    "duration": 57,
    "start_time": "2023-05-28T18:14:20.123Z"
   },
   {
    "duration": 5,
    "start_time": "2023-05-28T18:14:20.182Z"
   },
   {
    "duration": 102,
    "start_time": "2023-05-28T18:14:20.189Z"
   },
   {
    "duration": 4,
    "start_time": "2023-05-28T18:14:20.293Z"
   },
   {
    "duration": 63,
    "start_time": "2023-05-28T18:14:20.299Z"
   },
   {
    "duration": 977,
    "start_time": "2023-05-28T18:14:20.369Z"
   },
   {
    "duration": 665,
    "start_time": "2023-05-28T18:14:21.350Z"
   },
   {
    "duration": 363,
    "start_time": "2023-05-28T18:14:22.017Z"
   },
   {
    "duration": 4,
    "start_time": "2023-05-28T18:14:22.382Z"
   },
   {
    "duration": 199,
    "start_time": "2023-05-28T18:14:22.387Z"
   },
   {
    "duration": 5,
    "start_time": "2023-05-28T18:14:22.588Z"
   },
   {
    "duration": 17,
    "start_time": "2023-05-28T18:14:22.595Z"
   },
   {
    "duration": 46851,
    "start_time": "2023-05-28T18:14:22.614Z"
   },
   {
    "duration": 9771,
    "start_time": "2023-05-28T18:15:09.467Z"
   },
   {
    "duration": 43670,
    "start_time": "2023-05-28T18:15:19.241Z"
   },
   {
    "duration": 7316,
    "start_time": "2023-05-28T18:16:02.913Z"
   },
   {
    "duration": 362356,
    "start_time": "2023-05-28T18:16:10.231Z"
   },
   {
    "duration": 992091,
    "start_time": "2023-05-28T18:22:12.589Z"
   },
   {
    "duration": 1801007,
    "start_time": "2023-05-28T18:38:44.682Z"
   },
   {
    "duration": 318366,
    "start_time": "2023-05-28T19:08:45.691Z"
   },
   {
    "duration": 15,
    "start_time": "2023-05-28T19:14:04.059Z"
   },
   {
    "duration": 70,
    "start_time": "2023-05-29T06:09:11.788Z"
   },
   {
    "duration": 19935,
    "start_time": "2023-05-29T06:09:16.758Z"
   },
   {
    "duration": 4125,
    "start_time": "2023-05-29T06:09:36.696Z"
   },
   {
    "duration": 2963,
    "start_time": "2023-05-29T06:09:40.822Z"
   },
   {
    "duration": 481,
    "start_time": "2023-05-29T06:09:43.787Z"
   },
   {
    "duration": 4,
    "start_time": "2023-05-29T06:09:44.270Z"
   },
   {
    "duration": 20,
    "start_time": "2023-05-29T06:09:44.275Z"
   },
   {
    "duration": 22,
    "start_time": "2023-05-29T06:09:44.297Z"
   },
   {
    "duration": 165,
    "start_time": "2023-05-29T06:09:44.321Z"
   },
   {
    "duration": 281,
    "start_time": "2023-05-29T06:09:44.487Z"
   },
   {
    "duration": 55,
    "start_time": "2023-05-29T06:09:44.771Z"
   },
   {
    "duration": 125,
    "start_time": "2023-05-29T06:09:44.835Z"
   },
   {
    "duration": 268,
    "start_time": "2023-05-29T06:10:41.998Z"
   },
   {
    "duration": 99,
    "start_time": "2023-05-29T06:10:43.558Z"
   },
   {
    "duration": 252,
    "start_time": "2023-05-29T06:15:14.294Z"
   },
   {
    "duration": 364,
    "start_time": "2023-05-29T06:15:14.778Z"
   },
   {
    "duration": 560,
    "start_time": "2023-05-29T06:15:15.312Z"
   },
   {
    "duration": 22,
    "start_time": "2023-05-29T06:15:18.986Z"
   },
   {
    "duration": 37,
    "start_time": "2023-05-29T06:15:36.817Z"
   },
   {
    "duration": 96,
    "start_time": "2023-05-29T06:15:37.308Z"
   },
   {
    "duration": 96,
    "start_time": "2023-05-29T06:16:22.642Z"
   },
   {
    "duration": 75,
    "start_time": "2023-05-29T06:16:26.566Z"
   },
   {
    "duration": 24,
    "start_time": "2023-05-29T06:16:27.354Z"
   },
   {
    "duration": 51,
    "start_time": "2023-05-29T06:16:28.798Z"
   },
   {
    "duration": 471,
    "start_time": "2023-05-29T06:16:29.848Z"
   },
   {
    "duration": 14,
    "start_time": "2023-05-29T06:16:31.202Z"
   },
   {
    "duration": 40,
    "start_time": "2023-05-29T06:16:32.203Z"
   },
   {
    "duration": 888,
    "start_time": "2023-05-29T06:26:21.093Z"
   },
   {
    "duration": 38444,
    "start_time": "2023-05-29T06:26:21.983Z"
   },
   {
    "duration": 163,
    "start_time": "2023-05-29T06:30:38.442Z"
   },
   {
    "duration": 379,
    "start_time": "2023-05-29T06:30:51.402Z"
   },
   {
    "duration": 4,
    "start_time": "2023-05-29T06:30:52.498Z"
   },
   {
    "duration": 5,
    "start_time": "2023-05-29T06:30:52.801Z"
   },
   {
    "duration": 3,
    "start_time": "2023-05-29T06:30:53.146Z"
   },
   {
    "duration": 123,
    "start_time": "2023-05-29T06:30:54.016Z"
   },
   {
    "duration": 188,
    "start_time": "2023-05-29T06:30:54.666Z"
   },
   {
    "duration": 45,
    "start_time": "2023-05-29T06:30:55.504Z"
   },
   {
    "duration": 86,
    "start_time": "2023-05-29T06:30:57.450Z"
   },
   {
    "duration": 239,
    "start_time": "2023-05-29T06:31:03.497Z"
   },
   {
    "duration": 88,
    "start_time": "2023-05-29T06:31:04.774Z"
   },
   {
    "duration": 246,
    "start_time": "2023-05-29T06:33:50.411Z"
   },
   {
    "duration": 228,
    "start_time": "2023-05-29T06:33:51.158Z"
   },
   {
    "duration": 502,
    "start_time": "2023-05-29T06:33:51.595Z"
   },
   {
    "duration": 28,
    "start_time": "2023-05-29T06:34:01.788Z"
   },
   {
    "duration": 28,
    "start_time": "2023-05-29T06:36:49.889Z"
   },
   {
    "duration": 77,
    "start_time": "2023-05-29T06:36:50.582Z"
   },
   {
    "duration": 11,
    "start_time": "2023-05-29T06:52:09.807Z"
   },
   {
    "duration": 21,
    "start_time": "2023-05-29T06:53:59.695Z"
   },
   {
    "duration": 29,
    "start_time": "2023-05-29T06:59:13.966Z"
   },
   {
    "duration": 368,
    "start_time": "2023-05-29T06:59:14.770Z"
   },
   {
    "duration": 13,
    "start_time": "2023-05-29T07:00:28.192Z"
   },
   {
    "duration": 4,
    "start_time": "2023-05-29T07:00:53.466Z"
   },
   {
    "duration": 14,
    "start_time": "2023-05-29T07:01:10.596Z"
   },
   {
    "duration": 13,
    "start_time": "2023-05-29T07:02:38.558Z"
   },
   {
    "duration": 13,
    "start_time": "2023-05-29T07:02:54.570Z"
   },
   {
    "duration": 14,
    "start_time": "2023-05-29T07:03:04.474Z"
   },
   {
    "duration": 13,
    "start_time": "2023-05-29T07:03:08.401Z"
   },
   {
    "duration": 26,
    "start_time": "2023-05-29T07:03:28.592Z"
   },
   {
    "duration": 11,
    "start_time": "2023-05-29T07:04:22.916Z"
   },
   {
    "duration": 30,
    "start_time": "2023-05-29T07:04:26.312Z"
   },
   {
    "duration": 4,
    "start_time": "2023-05-29T07:04:29.399Z"
   },
   {
    "duration": 126,
    "start_time": "2023-05-29T07:04:29.918Z"
   },
   {
    "duration": 19,
    "start_time": "2023-05-29T07:05:35.408Z"
   },
   {
    "duration": 13,
    "start_time": "2023-05-29T07:05:42.895Z"
   },
   {
    "duration": 13,
    "start_time": "2023-05-29T07:05:50.193Z"
   },
   {
    "duration": 17,
    "start_time": "2023-05-29T07:08:26.354Z"
   },
   {
    "duration": 217,
    "start_time": "2023-05-29T07:08:35.146Z"
   },
   {
    "duration": 30371,
    "start_time": "2023-05-29T07:08:43.514Z"
   },
   {
    "duration": 411,
    "start_time": "2023-05-29T07:11:31.362Z"
   },
   {
    "duration": 353,
    "start_time": "2023-05-29T07:11:53.967Z"
   },
   {
    "duration": 97,
    "start_time": "2023-05-29T07:13:49.870Z"
   },
   {
    "duration": 89,
    "start_time": "2023-05-29T07:14:04.385Z"
   },
   {
    "duration": 124,
    "start_time": "2023-05-29T07:14:09.509Z"
   },
   {
    "duration": 347,
    "start_time": "2023-05-29T07:14:21.822Z"
   },
   {
    "duration": 14,
    "start_time": "2023-05-29T07:14:30.592Z"
   },
   {
    "duration": 78,
    "start_time": "2023-05-29T07:14:49.154Z"
   },
   {
    "duration": 4664,
    "start_time": "2023-05-29T07:14:50.312Z"
   },
   {
    "duration": 2088,
    "start_time": "2023-05-29T07:14:54.979Z"
   },
   {
    "duration": 797,
    "start_time": "2023-05-29T07:14:57.069Z"
   },
   {
    "duration": 166,
    "start_time": "2023-05-29T07:14:57.868Z"
   },
   {
    "duration": 0,
    "start_time": "2023-05-29T07:14:58.037Z"
   },
   {
    "duration": 0,
    "start_time": "2023-05-29T07:14:58.038Z"
   },
   {
    "duration": 0,
    "start_time": "2023-05-29T07:14:58.040Z"
   },
   {
    "duration": 0,
    "start_time": "2023-05-29T07:14:58.042Z"
   },
   {
    "duration": 0,
    "start_time": "2023-05-29T07:14:58.043Z"
   },
   {
    "duration": 0,
    "start_time": "2023-05-29T07:14:58.045Z"
   },
   {
    "duration": 0,
    "start_time": "2023-05-29T07:14:58.046Z"
   },
   {
    "duration": 0,
    "start_time": "2023-05-29T07:14:58.047Z"
   },
   {
    "duration": 0,
    "start_time": "2023-05-29T07:14:58.048Z"
   },
   {
    "duration": 19,
    "start_time": "2023-05-29T07:14:58.154Z"
   },
   {
    "duration": 23,
    "start_time": "2023-05-29T07:15:00.518Z"
   },
   {
    "duration": 16,
    "start_time": "2023-05-29T07:15:00.850Z"
   },
   {
    "duration": 15,
    "start_time": "2023-05-29T07:15:01.200Z"
   },
   {
    "duration": 182,
    "start_time": "2023-05-29T07:15:35.055Z"
   },
   {
    "duration": 748,
    "start_time": "2023-05-29T07:15:40.726Z"
   },
   {
    "duration": 61,
    "start_time": "2023-05-29T07:17:52.121Z"
   },
   {
    "duration": 4245,
    "start_time": "2023-05-29T07:17:52.454Z"
   },
   {
    "duration": 2021,
    "start_time": "2023-05-29T07:17:56.701Z"
   },
   {
    "duration": 6539,
    "start_time": "2023-05-29T07:19:07.292Z"
   },
   {
    "duration": 236,
    "start_time": "2023-05-29T07:19:37.124Z"
   },
   {
    "duration": 4693,
    "start_time": "2023-05-29T07:20:05.122Z"
   },
   {
    "duration": 2182,
    "start_time": "2023-05-29T07:20:09.819Z"
   },
   {
    "duration": 61,
    "start_time": "2023-05-29T07:20:12.003Z"
   },
   {
    "duration": 833,
    "start_time": "2023-05-29T07:20:14.605Z"
   },
   {
    "duration": 30259,
    "start_time": "2023-05-29T07:20:15.440Z"
   },
   {
    "duration": 471,
    "start_time": "2023-05-29T07:20:45.700Z"
   },
   {
    "duration": 5,
    "start_time": "2023-05-29T07:20:46.172Z"
   },
   {
    "duration": 14,
    "start_time": "2023-05-29T07:20:46.179Z"
   },
   {
    "duration": 15,
    "start_time": "2023-05-29T07:20:46.195Z"
   },
   {
    "duration": 144,
    "start_time": "2023-05-29T07:20:46.212Z"
   },
   {
    "duration": 195,
    "start_time": "2023-05-29T07:20:46.358Z"
   },
   {
    "duration": 43,
    "start_time": "2023-05-29T07:20:46.554Z"
   },
   {
    "duration": 107,
    "start_time": "2023-05-29T07:20:46.599Z"
   },
   {
    "duration": 255,
    "start_time": "2023-05-29T07:20:46.709Z"
   },
   {
    "duration": 90,
    "start_time": "2023-05-29T07:20:46.966Z"
   },
   {
    "duration": 255,
    "start_time": "2023-05-29T07:20:47.058Z"
   },
   {
    "duration": 261,
    "start_time": "2023-05-29T07:20:47.315Z"
   },
   {
    "duration": 515,
    "start_time": "2023-05-29T07:20:47.578Z"
   },
   {
    "duration": 116,
    "start_time": "2023-05-29T07:20:48.095Z"
   },
   {
    "duration": 26,
    "start_time": "2023-05-29T07:20:48.213Z"
   },
   {
    "duration": 31,
    "start_time": "2023-05-29T07:20:48.241Z"
   },
   {
    "duration": 93,
    "start_time": "2023-05-29T07:20:48.274Z"
   },
   {
    "duration": 107,
    "start_time": "2023-05-29T07:20:48.369Z"
   },
   {
    "duration": 82,
    "start_time": "2023-05-29T07:21:13.306Z"
   },
   {
    "duration": 25,
    "start_time": "2023-05-29T07:21:47.062Z"
   },
   {
    "duration": 19,
    "start_time": "2023-05-29T07:21:47.995Z"
   },
   {
    "duration": 28,
    "start_time": "2023-05-29T07:21:50.366Z"
   },
   {
    "duration": 374,
    "start_time": "2023-05-29T07:21:51.774Z"
   },
   {
    "duration": 15,
    "start_time": "2023-05-29T07:21:57.314Z"
   },
   {
    "duration": 32,
    "start_time": "2023-05-29T07:21:58.918Z"
   },
   {
    "duration": 423,
    "start_time": "2023-05-29T07:21:59.562Z"
   },
   {
    "duration": 18,
    "start_time": "2023-05-29T07:22:32.655Z"
   },
   {
    "duration": 16,
    "start_time": "2023-05-29T07:22:44.920Z"
   },
   {
    "duration": 24,
    "start_time": "2023-05-29T07:22:50.274Z"
   },
   {
    "duration": 18,
    "start_time": "2023-05-29T07:24:52.516Z"
   },
   {
    "duration": 21,
    "start_time": "2023-05-29T07:26:16.188Z"
   },
   {
    "duration": 18,
    "start_time": "2023-05-29T07:26:20.523Z"
   },
   {
    "duration": 18,
    "start_time": "2023-05-29T07:26:23.771Z"
   },
   {
    "duration": 11,
    "start_time": "2023-05-29T07:26:27.105Z"
   },
   {
    "duration": 18,
    "start_time": "2023-05-29T07:26:37.155Z"
   },
   {
    "duration": 23,
    "start_time": "2023-05-29T07:27:07.689Z"
   },
   {
    "duration": 27,
    "start_time": "2023-05-29T07:27:30.612Z"
   },
   {
    "duration": 57,
    "start_time": "2023-05-29T07:28:28.564Z"
   },
   {
    "duration": 138,
    "start_time": "2023-05-29T07:28:31.867Z"
   },
   {
    "duration": 602,
    "start_time": "2023-05-29T07:28:40.492Z"
   },
   {
    "duration": 9,
    "start_time": "2023-05-29T07:29:31.294Z"
   },
   {
    "duration": 13,
    "start_time": "2023-05-29T07:29:32.099Z"
   },
   {
    "duration": 16,
    "start_time": "2023-05-29T07:29:38.763Z"
   },
   {
    "duration": 17,
    "start_time": "2023-05-29T07:29:41.174Z"
   },
   {
    "duration": 18,
    "start_time": "2023-05-29T07:29:45.788Z"
   },
   {
    "duration": 18,
    "start_time": "2023-05-29T07:29:49.262Z"
   },
   {
    "duration": 24,
    "start_time": "2023-05-29T07:30:28.662Z"
   },
   {
    "duration": 72,
    "start_time": "2023-05-29T15:01:55.982Z"
   },
   {
    "duration": 3633,
    "start_time": "2023-05-29T15:02:00.637Z"
   },
   {
    "duration": 4553,
    "start_time": "2023-05-29T15:02:05.954Z"
   },
   {
    "duration": 6,
    "start_time": "2023-05-29T15:02:10.509Z"
   },
   {
    "duration": 2892,
    "start_time": "2023-05-29T15:02:12.867Z"
   },
   {
    "duration": 28777,
    "start_time": "2023-05-29T15:02:15.761Z"
   },
   {
    "duration": 443,
    "start_time": "2023-05-29T15:02:44.540Z"
   },
   {
    "duration": 4,
    "start_time": "2023-05-29T15:02:44.985Z"
   },
   {
    "duration": 6,
    "start_time": "2023-05-29T15:02:44.990Z"
   },
   {
    "duration": 5,
    "start_time": "2023-05-29T15:02:44.997Z"
   },
   {
    "duration": 785,
    "start_time": "2023-05-29T15:03:09.450Z"
   },
   {
    "duration": 27295,
    "start_time": "2023-05-29T15:03:21.508Z"
   },
   {
    "duration": 56,
    "start_time": "2023-05-29T15:05:03.543Z"
   },
   {
    "duration": 4566,
    "start_time": "2023-05-29T15:05:04.545Z"
   },
   {
    "duration": 6,
    "start_time": "2023-05-29T15:05:14.817Z"
   },
   {
    "duration": 721,
    "start_time": "2023-05-29T15:05:18.878Z"
   },
   {
    "duration": 26053,
    "start_time": "2023-05-29T15:05:20.172Z"
   },
   {
    "duration": 7501,
    "start_time": "2023-05-29T15:06:32.034Z"
   },
   {
    "duration": 179,
    "start_time": "2023-05-29T15:07:08.736Z"
   },
   {
    "duration": 727,
    "start_time": "2023-05-29T15:07:11.220Z"
   },
   {
    "duration": 35891,
    "start_time": "2023-05-29T15:07:12.088Z"
   },
   {
    "duration": 4,
    "start_time": "2023-05-29T15:08:23.151Z"
   },
   {
    "duration": 8,
    "start_time": "2023-05-29T15:08:35.826Z"
   },
   {
    "duration": 6,
    "start_time": "2023-05-29T15:08:38.008Z"
   },
   {
    "duration": 6,
    "start_time": "2023-05-29T15:08:40.339Z"
   },
   {
    "duration": 34679,
    "start_time": "2023-05-29T15:10:19.480Z"
   },
   {
    "duration": 406,
    "start_time": "2023-05-29T15:11:10.583Z"
   },
   {
    "duration": 4,
    "start_time": "2023-05-29T15:11:12.651Z"
   },
   {
    "duration": 5,
    "start_time": "2023-05-29T15:11:13.060Z"
   },
   {
    "duration": 3,
    "start_time": "2023-05-29T15:11:13.451Z"
   },
   {
    "duration": 140,
    "start_time": "2023-05-29T15:11:14.416Z"
   },
   {
    "duration": 191,
    "start_time": "2023-05-29T15:11:14.747Z"
   },
   {
    "duration": 42,
    "start_time": "2023-05-29T15:11:15.147Z"
   },
   {
    "duration": 107,
    "start_time": "2023-05-29T15:11:16.483Z"
   },
   {
    "duration": 247,
    "start_time": "2023-05-29T15:11:17.991Z"
   },
   {
    "duration": 91,
    "start_time": "2023-05-29T15:11:18.248Z"
   },
   {
    "duration": 244,
    "start_time": "2023-05-29T15:11:21.099Z"
   },
   {
    "duration": 232,
    "start_time": "2023-05-29T15:11:21.386Z"
   },
   {
    "duration": 522,
    "start_time": "2023-05-29T15:11:21.636Z"
   },
   {
    "duration": 97,
    "start_time": "2023-05-29T15:11:22.159Z"
   },
   {
    "duration": 25,
    "start_time": "2023-05-29T15:11:24.714Z"
   },
   {
    "duration": 32,
    "start_time": "2023-05-29T15:11:25.391Z"
   },
   {
    "duration": 89,
    "start_time": "2023-05-29T15:11:25.716Z"
   },
   {
    "duration": 92,
    "start_time": "2023-05-29T15:11:26.303Z"
   },
   {
    "duration": 91,
    "start_time": "2023-05-29T15:11:26.794Z"
   },
   {
    "duration": 26,
    "start_time": "2023-05-29T15:11:28.066Z"
   },
   {
    "duration": 19,
    "start_time": "2023-05-29T15:11:28.296Z"
   },
   {
    "duration": 31,
    "start_time": "2023-05-29T15:11:28.735Z"
   },
   {
    "duration": 483,
    "start_time": "2023-05-29T15:11:29.354Z"
   },
   {
    "duration": 19,
    "start_time": "2023-05-29T15:11:29.839Z"
   },
   {
    "duration": 25,
    "start_time": "2023-05-29T15:11:30.135Z"
   },
   {
    "duration": 360,
    "start_time": "2023-05-29T15:11:30.833Z"
   },
   {
    "duration": 13,
    "start_time": "2023-05-29T15:11:32.941Z"
   },
   {
    "duration": 24,
    "start_time": "2023-05-29T15:11:33.488Z"
   },
   {
    "duration": 31,
    "start_time": "2023-05-29T15:11:35.122Z"
   },
   {
    "duration": 4,
    "start_time": "2023-05-29T15:11:56.073Z"
   },
   {
    "duration": 7,
    "start_time": "2023-05-29T15:12:12.832Z"
   },
   {
    "duration": 140,
    "start_time": "2023-05-29T15:18:37.393Z"
   },
   {
    "duration": 7,
    "start_time": "2023-05-29T15:18:45.731Z"
   },
   {
    "duration": 4,
    "start_time": "2023-05-29T15:21:32.959Z"
   },
   {
    "duration": 76,
    "start_time": "2023-05-29T15:21:34.974Z"
   },
   {
    "duration": 44,
    "start_time": "2023-05-29T21:12:40.338Z"
   },
   {
    "duration": 19162,
    "start_time": "2023-05-29T21:12:40.991Z"
   },
   {
    "duration": 3795,
    "start_time": "2023-05-29T21:13:00.155Z"
   },
   {
    "duration": 995,
    "start_time": "2023-05-29T21:13:03.952Z"
   },
   {
    "duration": 32534,
    "start_time": "2023-05-29T21:13:04.949Z"
   },
   {
    "duration": 386,
    "start_time": "2023-05-29T21:15:00.388Z"
   },
   {
    "duration": 4,
    "start_time": "2023-05-29T21:15:01.389Z"
   },
   {
    "duration": 6,
    "start_time": "2023-05-29T21:15:01.859Z"
   },
   {
    "duration": 3,
    "start_time": "2023-05-29T21:15:02.310Z"
   },
   {
    "duration": 107,
    "start_time": "2023-05-29T21:15:03.027Z"
   },
   {
    "duration": 190,
    "start_time": "2023-05-29T21:15:03.385Z"
   },
   {
    "duration": 45,
    "start_time": "2023-05-29T21:15:03.929Z"
   },
   {
    "duration": 91,
    "start_time": "2023-05-29T21:15:04.875Z"
   },
   {
    "duration": 212,
    "start_time": "2023-05-29T21:15:05.686Z"
   },
   {
    "duration": 80,
    "start_time": "2023-05-29T21:15:05.900Z"
   },
   {
    "duration": 218,
    "start_time": "2023-05-29T21:15:07.344Z"
   },
   {
    "duration": 217,
    "start_time": "2023-05-29T21:15:07.564Z"
   },
   {
    "duration": 747,
    "start_time": "2023-05-29T21:15:07.782Z"
   },
   {
    "duration": 68,
    "start_time": "2023-05-29T21:15:08.531Z"
   },
   {
    "duration": 20,
    "start_time": "2023-05-29T21:15:08.778Z"
   },
   {
    "duration": 30,
    "start_time": "2023-05-29T21:15:09.130Z"
   },
   {
    "duration": 65,
    "start_time": "2023-05-29T21:15:09.531Z"
   },
   {
    "duration": 78,
    "start_time": "2023-05-29T21:15:10.215Z"
   },
   {
    "duration": 65,
    "start_time": "2023-05-29T21:15:10.638Z"
   },
   {
    "duration": 25,
    "start_time": "2023-05-29T21:15:11.579Z"
   },
   {
    "duration": 18,
    "start_time": "2023-05-29T21:15:11.739Z"
   },
   {
    "duration": 36,
    "start_time": "2023-05-29T21:15:12.112Z"
   },
   {
    "duration": 337,
    "start_time": "2023-05-29T21:15:12.332Z"
   },
   {
    "duration": 12,
    "start_time": "2023-05-29T21:15:13.390Z"
   },
   {
    "duration": 34,
    "start_time": "2023-05-29T21:15:13.804Z"
   },
   {
    "duration": 290,
    "start_time": "2023-05-29T21:15:15.333Z"
   },
   {
    "duration": 23,
    "start_time": "2023-05-29T21:15:17.411Z"
   },
   {
    "duration": 23,
    "start_time": "2023-05-29T21:15:18.785Z"
   },
   {
    "duration": 25,
    "start_time": "2023-05-29T21:15:20.827Z"
   },
   {
    "duration": 4,
    "start_time": "2023-05-29T21:15:21.527Z"
   },
   {
    "duration": 4,
    "start_time": "2023-05-29T21:15:30.426Z"
   },
   {
    "duration": 55,
    "start_time": "2023-05-29T21:15:31.034Z"
   },
   {
    "duration": 3,
    "start_time": "2023-05-29T21:24:52.078Z"
   },
   {
    "duration": 30,
    "start_time": "2023-05-29T21:25:28.747Z"
   },
   {
    "duration": 215,
    "start_time": "2023-05-29T21:45:45.970Z"
   },
   {
    "duration": 15,
    "start_time": "2023-05-29T21:45:46.497Z"
   },
   {
    "duration": 13,
    "start_time": "2023-05-29T21:47:01.184Z"
   },
   {
    "duration": 54,
    "start_time": "2023-05-29T21:47:02.366Z"
   },
   {
    "duration": 4,
    "start_time": "2023-05-29T21:47:03.661Z"
   },
   {
    "duration": 5,
    "start_time": "2023-05-29T21:47:45.501Z"
   },
   {
    "duration": 18,
    "start_time": "2023-05-29T21:59:56.124Z"
   },
   {
    "duration": 68,
    "start_time": "2023-05-29T22:00:40.867Z"
   },
   {
    "duration": 786,
    "start_time": "2023-05-29T22:01:39.983Z"
   },
   {
    "duration": 421,
    "start_time": "2023-05-29T22:01:43.525Z"
   },
   {
    "duration": 5,
    "start_time": "2023-05-29T22:01:43.966Z"
   },
   {
    "duration": 5,
    "start_time": "2023-05-29T22:01:44.113Z"
   },
   {
    "duration": 3,
    "start_time": "2023-05-29T22:01:44.246Z"
   },
   {
    "duration": 115,
    "start_time": "2023-05-29T22:01:44.517Z"
   },
   {
    "duration": 249,
    "start_time": "2023-05-29T22:01:44.660Z"
   },
   {
    "duration": 52,
    "start_time": "2023-05-29T22:01:44.911Z"
   },
   {
    "duration": 144,
    "start_time": "2023-05-29T22:01:45.300Z"
   },
   {
    "duration": 232,
    "start_time": "2023-05-29T22:01:45.889Z"
   },
   {
    "duration": 81,
    "start_time": "2023-05-29T22:01:46.123Z"
   },
   {
    "duration": 230,
    "start_time": "2023-05-29T22:01:47.160Z"
   },
   {
    "duration": 229,
    "start_time": "2023-05-29T22:01:47.392Z"
   },
   {
    "duration": 553,
    "start_time": "2023-05-29T22:01:47.622Z"
   },
   {
    "duration": 90,
    "start_time": "2023-05-29T22:01:48.177Z"
   },
   {
    "duration": 21,
    "start_time": "2023-05-29T22:01:48.341Z"
   },
   {
    "duration": 32,
    "start_time": "2023-05-29T22:01:48.660Z"
   },
   {
    "duration": 76,
    "start_time": "2023-05-29T22:01:48.801Z"
   },
   {
    "duration": 71,
    "start_time": "2023-05-29T22:01:49.694Z"
   },
   {
    "duration": 9,
    "start_time": "2023-05-29T22:01:50.461Z"
   },
   {
    "duration": 18,
    "start_time": "2023-05-29T22:01:50.774Z"
   },
   {
    "duration": 30,
    "start_time": "2023-05-29T22:01:51.302Z"
   },
   {
    "duration": 351,
    "start_time": "2023-05-29T22:01:51.427Z"
   },
   {
    "duration": 14,
    "start_time": "2023-05-29T22:01:51.779Z"
   },
   {
    "duration": 27,
    "start_time": "2023-05-29T22:01:51.896Z"
   },
   {
    "duration": 313,
    "start_time": "2023-05-29T22:01:52.047Z"
   },
   {
    "duration": 16,
    "start_time": "2023-05-29T22:01:52.362Z"
   },
   {
    "duration": 25,
    "start_time": "2023-05-29T22:01:52.477Z"
   },
   {
    "duration": 32,
    "start_time": "2023-05-29T22:01:52.797Z"
   },
   {
    "duration": 3,
    "start_time": "2023-05-29T22:01:52.946Z"
   },
   {
    "duration": 4,
    "start_time": "2023-05-29T22:01:53.731Z"
   },
   {
    "duration": 105,
    "start_time": "2023-05-29T22:01:54.380Z"
   },
   {
    "duration": 3,
    "start_time": "2023-05-29T22:01:54.863Z"
   },
   {
    "duration": 41,
    "start_time": "2023-05-29T22:01:55.229Z"
   },
   {
    "duration": 19,
    "start_time": "2023-05-29T22:01:55.419Z"
   },
   {
    "duration": 60,
    "start_time": "2023-05-29T22:01:55.646Z"
   },
   {
    "duration": 4,
    "start_time": "2023-05-29T22:01:55.844Z"
   },
   {
    "duration": 26,
    "start_time": "2023-05-29T22:02:02.261Z"
   },
   {
    "duration": 724,
    "start_time": "2023-05-29T22:02:43.035Z"
   },
   {
    "duration": 683,
    "start_time": "2023-05-29T22:04:45.751Z"
   },
   {
    "duration": 20,
    "start_time": "2023-05-29T22:10:33.952Z"
   },
   {
    "duration": 620,
    "start_time": "2023-05-29T22:10:54.597Z"
   },
   {
    "duration": 733,
    "start_time": "2023-05-29T22:11:12.430Z"
   },
   {
    "duration": 11,
    "start_time": "2023-05-29T22:12:25.706Z"
   },
   {
    "duration": 675,
    "start_time": "2023-05-29T22:17:26.208Z"
   },
   {
    "duration": 707,
    "start_time": "2023-05-29T22:18:14.291Z"
   },
   {
    "duration": 652,
    "start_time": "2023-05-29T22:18:37.012Z"
   },
   {
    "duration": 15,
    "start_time": "2023-05-29T22:20:01.652Z"
   },
   {
    "duration": 5,
    "start_time": "2023-05-29T22:20:54.117Z"
   },
   {
    "duration": 698,
    "start_time": "2023-05-29T22:24:16.586Z"
   },
   {
    "duration": 704,
    "start_time": "2023-05-29T22:25:03.431Z"
   },
   {
    "duration": 788,
    "start_time": "2023-05-29T22:25:13.302Z"
   },
   {
    "duration": 5,
    "start_time": "2023-05-29T22:27:08.622Z"
   },
   {
    "duration": 683,
    "start_time": "2023-05-29T22:28:54.466Z"
   },
   {
    "duration": 40,
    "start_time": "2023-05-29T22:31:10.704Z"
   },
   {
    "duration": 235,
    "start_time": "2023-05-29T22:33:23.935Z"
   },
   {
    "duration": 736,
    "start_time": "2023-05-29T22:33:48.572Z"
   },
   {
    "duration": 13388,
    "start_time": "2023-05-29T22:38:48.597Z"
   },
   {
    "duration": 5,
    "start_time": "2023-05-29T22:39:01.987Z"
   },
   {
    "duration": 4,
    "start_time": "2023-05-29T22:39:07.506Z"
   },
   {
    "duration": 34,
    "start_time": "2023-05-29T22:40:44.999Z"
   },
   {
    "duration": 715,
    "start_time": "2023-05-29T22:42:27.822Z"
   },
   {
    "duration": 689,
    "start_time": "2023-05-29T22:42:54.594Z"
   },
   {
    "duration": 72,
    "start_time": "2023-05-29T22:46:58.579Z"
   },
   {
    "duration": 77,
    "start_time": "2023-05-29T22:47:11.924Z"
   },
   {
    "duration": 12,
    "start_time": "2023-05-29T23:21:21.706Z"
   },
   {
    "duration": 13,
    "start_time": "2023-05-29T23:21:28.307Z"
   },
   {
    "duration": 669,
    "start_time": "2023-05-29T23:22:26.642Z"
   },
   {
    "duration": 714,
    "start_time": "2023-05-29T23:22:39.289Z"
   },
   {
    "duration": 19,
    "start_time": "2023-05-29T23:23:03.203Z"
   },
   {
    "duration": 729,
    "start_time": "2023-05-29T23:23:10.930Z"
   },
   {
    "duration": 70,
    "start_time": "2023-05-29T23:29:43.925Z"
   },
   {
    "duration": 12,
    "start_time": "2023-05-29T23:29:52.094Z"
   },
   {
    "duration": 3,
    "start_time": "2023-05-29T23:30:28.574Z"
   },
   {
    "duration": 13,
    "start_time": "2023-05-29T23:30:35.016Z"
   },
   {
    "duration": 13,
    "start_time": "2023-05-29T23:30:51.081Z"
   },
   {
    "duration": 4,
    "start_time": "2023-05-29T23:31:05.554Z"
   },
   {
    "duration": 9073,
    "start_time": "2023-05-29T23:32:18.474Z"
   },
   {
    "duration": 6,
    "start_time": "2023-05-29T23:32:57.147Z"
   },
   {
    "duration": 5,
    "start_time": "2023-05-29T23:33:23.847Z"
   },
   {
    "duration": 22,
    "start_time": "2023-05-29T23:33:41.099Z"
   },
   {
    "duration": 784,
    "start_time": "2023-05-29T23:33:54.123Z"
   },
   {
    "duration": 14,
    "start_time": "2023-05-29T23:33:58.209Z"
   },
   {
    "duration": 129,
    "start_time": "2023-05-29T23:34:54.778Z"
   },
   {
    "duration": 288,
    "start_time": "2023-05-29T23:35:07.514Z"
   },
   {
    "duration": 320,
    "start_time": "2023-05-29T23:35:17.940Z"
   },
   {
    "duration": 84,
    "start_time": "2023-05-29T23:35:35.372Z"
   },
   {
    "duration": 71,
    "start_time": "2023-05-29T23:37:16.500Z"
   },
   {
    "duration": 105,
    "start_time": "2023-05-29T23:37:21.442Z"
   },
   {
    "duration": 64,
    "start_time": "2023-05-29T23:37:40.060Z"
   },
   {
    "duration": 81,
    "start_time": "2023-05-29T23:41:59.438Z"
   },
   {
    "duration": 12,
    "start_time": "2023-05-29T23:42:44.802Z"
   },
   {
    "duration": 11,
    "start_time": "2023-05-29T23:42:51.328Z"
   },
   {
    "duration": 1163,
    "start_time": "2023-05-29T23:42:55.716Z"
   },
   {
    "duration": 29,
    "start_time": "2023-05-29T23:43:56.542Z"
   },
   {
    "duration": 706,
    "start_time": "2023-05-29T23:44:20.784Z"
   },
   {
    "duration": 397,
    "start_time": "2023-05-29T23:44:26.387Z"
   },
   {
    "duration": 4,
    "start_time": "2023-05-29T23:44:27.401Z"
   },
   {
    "duration": 5,
    "start_time": "2023-05-29T23:44:27.714Z"
   },
   {
    "duration": 3,
    "start_time": "2023-05-29T23:44:27.958Z"
   },
   {
    "duration": 108,
    "start_time": "2023-05-29T23:44:28.249Z"
   },
   {
    "duration": 214,
    "start_time": "2023-05-29T23:44:28.401Z"
   },
   {
    "duration": 46,
    "start_time": "2023-05-29T23:44:28.617Z"
   },
   {
    "duration": 77,
    "start_time": "2023-05-29T23:44:29.144Z"
   },
   {
    "duration": 201,
    "start_time": "2023-05-29T23:44:29.960Z"
   },
   {
    "duration": 84,
    "start_time": "2023-05-29T23:44:30.162Z"
   },
   {
    "duration": 218,
    "start_time": "2023-05-29T23:44:31.262Z"
   },
   {
    "duration": 217,
    "start_time": "2023-05-29T23:44:31.559Z"
   },
   {
    "duration": 468,
    "start_time": "2023-05-29T23:44:31.778Z"
   },
   {
    "duration": 75,
    "start_time": "2023-05-29T23:44:32.248Z"
   },
   {
    "duration": 18,
    "start_time": "2023-05-29T23:44:32.671Z"
   },
   {
    "duration": 34,
    "start_time": "2023-05-29T23:44:32.954Z"
   },
   {
    "duration": 70,
    "start_time": "2023-05-29T23:44:33.120Z"
   },
   {
    "duration": 70,
    "start_time": "2023-05-29T23:44:33.708Z"
   },
   {
    "duration": 8,
    "start_time": "2023-05-29T23:44:35.029Z"
   },
   {
    "duration": 19,
    "start_time": "2023-05-29T23:44:35.039Z"
   },
   {
    "duration": 42,
    "start_time": "2023-05-29T23:44:35.059Z"
   },
   {
    "duration": 374,
    "start_time": "2023-05-29T23:44:35.107Z"
   },
   {
    "duration": 12,
    "start_time": "2023-05-29T23:44:35.482Z"
   },
   {
    "duration": 27,
    "start_time": "2023-05-29T23:44:35.544Z"
   },
   {
    "duration": 313,
    "start_time": "2023-05-29T23:44:35.713Z"
   },
   {
    "duration": 12,
    "start_time": "2023-05-29T23:44:36.033Z"
   },
   {
    "duration": 21,
    "start_time": "2023-05-29T23:44:36.182Z"
   },
   {
    "duration": 25,
    "start_time": "2023-05-29T23:44:36.491Z"
   },
   {
    "duration": 3,
    "start_time": "2023-05-29T23:44:36.656Z"
   },
   {
    "duration": 3,
    "start_time": "2023-05-29T23:44:37.442Z"
   },
   {
    "duration": 61,
    "start_time": "2023-05-29T23:44:37.632Z"
   },
   {
    "duration": 3,
    "start_time": "2023-05-29T23:44:38.677Z"
   },
   {
    "duration": 34,
    "start_time": "2023-05-29T23:44:38.990Z"
   },
   {
    "duration": 16,
    "start_time": "2023-05-29T23:44:39.148Z"
   },
   {
    "duration": 53,
    "start_time": "2023-05-29T23:44:39.310Z"
   },
   {
    "duration": 4,
    "start_time": "2023-05-29T23:44:39.465Z"
   },
   {
    "duration": 13,
    "start_time": "2023-05-29T23:44:46.040Z"
   },
   {
    "duration": 4,
    "start_time": "2023-05-29T23:44:51.199Z"
   },
   {
    "duration": 668,
    "start_time": "2023-05-29T23:44:55.899Z"
   },
   {
    "duration": 673,
    "start_time": "2023-05-29T23:45:00.894Z"
   },
   {
    "duration": 285,
    "start_time": "2023-05-29T23:45:03.302Z"
   },
   {
    "duration": 75,
    "start_time": "2023-05-29T23:45:06.014Z"
   },
   {
    "duration": 199,
    "start_time": "2023-05-29T23:45:09.627Z"
   },
   {
    "duration": 27,
    "start_time": "2023-05-29T23:45:11.226Z"
   },
   {
    "duration": 1238,
    "start_time": "2023-05-29T23:45:53.797Z"
   },
   {
    "duration": 682,
    "start_time": "2023-05-29T23:46:07.999Z"
   },
   {
    "duration": 398,
    "start_time": "2023-05-29T23:46:17.190Z"
   },
   {
    "duration": 4,
    "start_time": "2023-05-29T23:46:17.590Z"
   },
   {
    "duration": 7,
    "start_time": "2023-05-29T23:46:17.595Z"
   },
   {
    "duration": 2,
    "start_time": "2023-05-29T23:46:17.616Z"
   },
   {
    "duration": 116,
    "start_time": "2023-05-29T23:46:17.619Z"
   },
   {
    "duration": 206,
    "start_time": "2023-05-29T23:46:17.737Z"
   },
   {
    "duration": 43,
    "start_time": "2023-05-29T23:46:17.945Z"
   },
   {
    "duration": 80,
    "start_time": "2023-05-29T23:46:17.990Z"
   },
   {
    "duration": 218,
    "start_time": "2023-05-29T23:46:18.071Z"
   },
   {
    "duration": 77,
    "start_time": "2023-05-29T23:46:18.291Z"
   },
   {
    "duration": 223,
    "start_time": "2023-05-29T23:46:18.369Z"
   },
   {
    "duration": 211,
    "start_time": "2023-05-29T23:46:18.593Z"
   },
   {
    "duration": 652,
    "start_time": "2023-05-29T23:46:18.806Z"
   },
   {
    "duration": 78,
    "start_time": "2023-05-29T23:46:19.459Z"
   },
   {
    "duration": 18,
    "start_time": "2023-05-29T23:46:19.538Z"
   },
   {
    "duration": 27,
    "start_time": "2023-05-29T23:46:19.558Z"
   },
   {
    "duration": 86,
    "start_time": "2023-05-29T23:46:19.586Z"
   },
   {
    "duration": 74,
    "start_time": "2023-05-29T23:46:19.674Z"
   },
   {
    "duration": 7,
    "start_time": "2023-05-29T23:46:19.750Z"
   },
   {
    "duration": 17,
    "start_time": "2023-05-29T23:46:19.758Z"
   },
   {
    "duration": 51,
    "start_time": "2023-05-29T23:46:19.776Z"
   },
   {
    "duration": 343,
    "start_time": "2023-05-29T23:46:19.828Z"
   },
   {
    "duration": 12,
    "start_time": "2023-05-29T23:46:20.173Z"
   },
   {
    "duration": 42,
    "start_time": "2023-05-29T23:46:20.187Z"
   },
   {
    "duration": 290,
    "start_time": "2023-05-29T23:46:20.231Z"
   },
   {
    "duration": 12,
    "start_time": "2023-05-29T23:46:20.522Z"
   },
   {
    "duration": 18,
    "start_time": "2023-05-29T23:46:20.536Z"
   },
   {
    "duration": 29,
    "start_time": "2023-05-29T23:46:20.557Z"
   },
   {
    "duration": 3,
    "start_time": "2023-05-29T23:46:20.587Z"
   },
   {
    "duration": 36,
    "start_time": "2023-05-29T23:46:20.592Z"
   },
   {
    "duration": 61,
    "start_time": "2023-05-29T23:46:20.629Z"
   },
   {
    "duration": 3,
    "start_time": "2023-05-29T23:46:20.691Z"
   },
   {
    "duration": 34,
    "start_time": "2023-05-29T23:46:20.695Z"
   },
   {
    "duration": 16,
    "start_time": "2023-05-29T23:46:20.731Z"
   },
   {
    "duration": 67,
    "start_time": "2023-05-29T23:46:20.748Z"
   },
   {
    "duration": 4,
    "start_time": "2023-05-29T23:46:20.817Z"
   },
   {
    "duration": 14,
    "start_time": "2023-05-29T23:46:20.823Z"
   },
   {
    "duration": 0,
    "start_time": "2023-05-29T23:46:20.839Z"
   },
   {
    "duration": 0,
    "start_time": "2023-05-29T23:46:20.840Z"
   },
   {
    "duration": 0,
    "start_time": "2023-05-29T23:46:20.841Z"
   },
   {
    "duration": 0,
    "start_time": "2023-05-29T23:46:20.843Z"
   },
   {
    "duration": 0,
    "start_time": "2023-05-29T23:46:20.844Z"
   },
   {
    "duration": 0,
    "start_time": "2023-05-29T23:46:20.845Z"
   },
   {
    "duration": 0,
    "start_time": "2023-05-29T23:46:20.846Z"
   },
   {
    "duration": 0,
    "start_time": "2023-05-29T23:46:20.848Z"
   },
   {
    "duration": 0,
    "start_time": "2023-05-29T23:46:20.849Z"
   },
   {
    "duration": 0,
    "start_time": "2023-05-29T23:46:20.851Z"
   },
   {
    "duration": 0,
    "start_time": "2023-05-29T23:46:20.852Z"
   },
   {
    "duration": 0,
    "start_time": "2023-05-29T23:46:20.853Z"
   },
   {
    "duration": 0,
    "start_time": "2023-05-29T23:46:20.854Z"
   },
   {
    "duration": 0,
    "start_time": "2023-05-29T23:46:20.856Z"
   },
   {
    "duration": 0,
    "start_time": "2023-05-29T23:46:20.857Z"
   },
   {
    "duration": 0,
    "start_time": "2023-05-29T23:46:20.858Z"
   },
   {
    "duration": 0,
    "start_time": "2023-05-29T23:46:20.860Z"
   },
   {
    "duration": 0,
    "start_time": "2023-05-29T23:46:20.861Z"
   },
   {
    "duration": 4,
    "start_time": "2023-05-29T23:46:30.800Z"
   },
   {
    "duration": 664,
    "start_time": "2023-05-29T23:46:31.305Z"
   },
   {
    "duration": 675,
    "start_time": "2023-05-29T23:46:32.477Z"
   },
   {
    "duration": 302,
    "start_time": "2023-05-29T23:46:35.116Z"
   },
   {
    "duration": 107,
    "start_time": "2023-05-29T23:50:18.944Z"
   },
   {
    "duration": 288,
    "start_time": "2023-05-29T23:50:24.167Z"
   },
   {
    "duration": 72,
    "start_time": "2023-05-29T23:50:32.611Z"
   },
   {
    "duration": 191,
    "start_time": "2023-05-29T23:50:51.465Z"
   },
   {
    "duration": 27,
    "start_time": "2023-05-29T23:52:11.072Z"
   },
   {
    "duration": 4,
    "start_time": "2023-05-29T23:54:03.194Z"
   },
   {
    "duration": 7,
    "start_time": "2023-05-29T23:54:05.112Z"
   },
   {
    "duration": 16428,
    "start_time": "2023-05-29T23:54:12.117Z"
   },
   {
    "duration": 23212,
    "start_time": "2023-05-29T23:54:35.232Z"
   },
   {
    "duration": 4,
    "start_time": "2023-05-29T23:59:51.087Z"
   },
   {
    "duration": 7146,
    "start_time": "2023-05-30T00:03:58.972Z"
   },
   {
    "duration": 24796,
    "start_time": "2023-05-30T00:04:06.121Z"
   },
   {
    "duration": 86197,
    "start_time": "2023-05-30T00:04:30.919Z"
   },
   {
    "duration": 9,
    "start_time": "2023-05-30T00:06:35.243Z"
   },
   {
    "duration": 48,
    "start_time": "2023-05-30T00:11:48.862Z"
   },
   {
    "duration": 57,
    "start_time": "2023-05-30T00:11:58.880Z"
   },
   {
    "duration": 8568,
    "start_time": "2023-05-30T00:11:59.484Z"
   },
   {
    "duration": 4050,
    "start_time": "2023-05-30T00:12:08.054Z"
   },
   {
    "duration": 1025,
    "start_time": "2023-05-30T00:12:12.106Z"
   },
   {
    "duration": 34147,
    "start_time": "2023-05-30T00:12:13.133Z"
   },
   {
    "duration": 518,
    "start_time": "2023-05-30T00:12:47.282Z"
   },
   {
    "duration": 4,
    "start_time": "2023-05-30T00:12:47.801Z"
   },
   {
    "duration": 14,
    "start_time": "2023-05-30T00:12:47.806Z"
   },
   {
    "duration": 14,
    "start_time": "2023-05-30T00:12:47.821Z"
   },
   {
    "duration": 119,
    "start_time": "2023-05-30T00:12:47.837Z"
   },
   {
    "duration": 224,
    "start_time": "2023-05-30T00:12:47.958Z"
   },
   {
    "duration": 61,
    "start_time": "2023-05-30T00:12:48.184Z"
   },
   {
    "duration": 99,
    "start_time": "2023-05-30T00:12:48.246Z"
   },
   {
    "duration": 238,
    "start_time": "2023-05-30T00:12:48.347Z"
   },
   {
    "duration": 83,
    "start_time": "2023-05-30T00:12:48.587Z"
   },
   {
    "duration": 247,
    "start_time": "2023-05-30T00:12:48.671Z"
   },
   {
    "duration": 241,
    "start_time": "2023-05-30T00:12:48.919Z"
   },
   {
    "duration": 481,
    "start_time": "2023-05-30T00:12:49.161Z"
   },
   {
    "duration": 82,
    "start_time": "2023-05-30T00:12:49.644Z"
   },
   {
    "duration": 20,
    "start_time": "2023-05-30T00:12:49.727Z"
   },
   {
    "duration": 36,
    "start_time": "2023-05-30T00:12:49.749Z"
   },
   {
    "duration": 97,
    "start_time": "2023-05-30T00:12:49.787Z"
   },
   {
    "duration": 79,
    "start_time": "2023-05-30T00:12:49.886Z"
   },
   {
    "duration": 77,
    "start_time": "2023-05-30T00:13:22.647Z"
   },
   {
    "duration": 73,
    "start_time": "2023-05-30T00:13:24.602Z"
   },
   {
    "duration": 62,
    "start_time": "2023-05-30T00:13:27.523Z"
   },
   {
    "duration": 20,
    "start_time": "2023-05-30T00:13:27.907Z"
   },
   {
    "duration": 36,
    "start_time": "2023-05-30T00:13:28.812Z"
   },
   {
    "duration": 340,
    "start_time": "2023-05-30T00:13:29.099Z"
   },
   {
    "duration": 13,
    "start_time": "2023-05-30T00:13:29.519Z"
   },
   {
    "duration": 28,
    "start_time": "2023-05-30T00:13:29.714Z"
   },
   {
    "duration": 297,
    "start_time": "2023-05-30T00:13:29.924Z"
   },
   {
    "duration": 13,
    "start_time": "2023-05-30T00:13:30.345Z"
   },
   {
    "duration": 22,
    "start_time": "2023-05-30T00:13:30.545Z"
   },
   {
    "duration": 26,
    "start_time": "2023-05-30T00:13:30.941Z"
   },
   {
    "duration": 3,
    "start_time": "2023-05-30T00:13:31.138Z"
   },
   {
    "duration": 4,
    "start_time": "2023-05-30T00:13:33.099Z"
   },
   {
    "duration": 56,
    "start_time": "2023-05-30T00:13:33.920Z"
   },
   {
    "duration": 3,
    "start_time": "2023-05-30T00:13:35.420Z"
   },
   {
    "duration": 33,
    "start_time": "2023-05-30T00:13:37.032Z"
   },
   {
    "duration": 13,
    "start_time": "2023-05-30T00:13:37.741Z"
   },
   {
    "duration": 49,
    "start_time": "2023-05-30T00:13:38.460Z"
   },
   {
    "duration": 3,
    "start_time": "2023-05-30T00:13:39.500Z"
   },
   {
    "duration": 105,
    "start_time": "2023-05-30T00:13:43.143Z"
   },
   {
    "duration": 4,
    "start_time": "2023-05-30T00:13:50.478Z"
   },
   {
    "duration": 235,
    "start_time": "2023-05-30T00:13:51.254Z"
   },
   {
    "duration": 80,
    "start_time": "2023-05-30T00:14:13.115Z"
   },
   {
    "duration": 58,
    "start_time": "2023-05-30T00:15:10.369Z"
   },
   {
    "duration": 17,
    "start_time": "2023-05-30T00:15:28.628Z"
   },
   {
    "duration": 53,
    "start_time": "2023-05-30T00:15:29.095Z"
   },
   {
    "duration": 4,
    "start_time": "2023-05-30T00:15:29.470Z"
   },
   {
    "duration": 102,
    "start_time": "2023-05-30T00:15:32.137Z"
   },
   {
    "duration": 11,
    "start_time": "2023-05-30T00:15:39.412Z"
   },
   {
    "duration": 72,
    "start_time": "2023-05-30T00:15:51.107Z"
   },
   {
    "duration": 735,
    "start_time": "2023-05-30T00:16:16.324Z"
   },
   {
    "duration": 706,
    "start_time": "2023-05-30T00:16:44.665Z"
   },
   {
    "duration": 372,
    "start_time": "2023-05-30T00:16:50.170Z"
   },
   {
    "duration": 4,
    "start_time": "2023-05-30T00:16:54.023Z"
   },
   {
    "duration": 11,
    "start_time": "2023-05-30T00:16:54.028Z"
   },
   {
    "duration": 6,
    "start_time": "2023-05-30T00:16:54.041Z"
   },
   {
    "duration": 111,
    "start_time": "2023-05-30T00:16:54.048Z"
   },
   {
    "duration": 239,
    "start_time": "2023-05-30T00:16:54.160Z"
   },
   {
    "duration": 52,
    "start_time": "2023-05-30T00:16:54.401Z"
   },
   {
    "duration": 84,
    "start_time": "2023-05-30T00:16:54.454Z"
   },
   {
    "duration": 203,
    "start_time": "2023-05-30T00:16:54.540Z"
   },
   {
    "duration": 74,
    "start_time": "2023-05-30T00:16:54.745Z"
   },
   {
    "duration": 228,
    "start_time": "2023-05-30T00:16:54.820Z"
   },
   {
    "duration": 245,
    "start_time": "2023-05-30T00:16:55.050Z"
   },
   {
    "duration": 480,
    "start_time": "2023-05-30T00:16:55.296Z"
   },
   {
    "duration": 80,
    "start_time": "2023-05-30T00:16:55.778Z"
   },
   {
    "duration": 21,
    "start_time": "2023-05-30T00:16:55.860Z"
   },
   {
    "duration": 44,
    "start_time": "2023-05-30T00:16:55.882Z"
   },
   {
    "duration": 70,
    "start_time": "2023-05-30T00:16:55.928Z"
   },
   {
    "duration": 82,
    "start_time": "2023-05-30T00:16:56.000Z"
   },
   {
    "duration": 8,
    "start_time": "2023-05-30T00:16:56.083Z"
   },
   {
    "duration": 34,
    "start_time": "2023-05-30T00:16:56.093Z"
   },
   {
    "duration": 30,
    "start_time": "2023-05-30T00:16:56.129Z"
   },
   {
    "duration": 361,
    "start_time": "2023-05-30T00:16:56.160Z"
   },
   {
    "duration": 12,
    "start_time": "2023-05-30T00:16:56.522Z"
   },
   {
    "duration": 31,
    "start_time": "2023-05-30T00:16:56.536Z"
   },
   {
    "duration": 349,
    "start_time": "2023-05-30T00:16:56.568Z"
   },
   {
    "duration": 13,
    "start_time": "2023-05-30T00:16:56.919Z"
   },
   {
    "duration": 23,
    "start_time": "2023-05-30T00:16:56.933Z"
   },
   {
    "duration": 31,
    "start_time": "2023-05-30T00:16:56.957Z"
   },
   {
    "duration": 3,
    "start_time": "2023-05-30T00:16:56.990Z"
   },
   {
    "duration": 3,
    "start_time": "2023-05-30T00:16:57.019Z"
   },
   {
    "duration": 68,
    "start_time": "2023-05-30T00:16:57.024Z"
   },
   {
    "duration": 3,
    "start_time": "2023-05-30T00:16:57.094Z"
   },
   {
    "duration": 50,
    "start_time": "2023-05-30T00:16:57.098Z"
   },
   {
    "duration": 17,
    "start_time": "2023-05-30T00:16:57.149Z"
   },
   {
    "duration": 73,
    "start_time": "2023-05-30T00:16:57.167Z"
   },
   {
    "duration": 4,
    "start_time": "2023-05-30T00:16:57.243Z"
   },
   {
    "duration": 111,
    "start_time": "2023-05-30T00:16:57.249Z"
   },
   {
    "duration": 5,
    "start_time": "2023-05-30T00:16:57.361Z"
   },
   {
    "duration": 304,
    "start_time": "2023-05-30T00:16:57.367Z"
   },
   {
    "duration": 74,
    "start_time": "2023-05-30T00:16:57.673Z"
   },
   {
    "duration": 200,
    "start_time": "2023-05-30T00:16:57.748Z"
   },
   {
    "duration": 4,
    "start_time": "2023-05-30T00:16:57.949Z"
   },
   {
    "duration": 9,
    "start_time": "2023-05-30T00:16:57.954Z"
   },
   {
    "duration": 4,
    "start_time": "2023-05-30T00:16:57.964Z"
   },
   {
    "duration": 28,
    "start_time": "2023-05-30T00:16:57.970Z"
   },
   {
    "duration": 20723,
    "start_time": "2023-05-30T00:16:57.999Z"
   },
   {
    "duration": 24962,
    "start_time": "2023-05-30T00:17:18.724Z"
   },
   {
    "duration": 42104,
    "start_time": "2023-05-30T00:17:43.687Z"
   },
   {
    "duration": 3,
    "start_time": "2023-05-30T00:18:25.792Z"
   },
   {
    "duration": 7819,
    "start_time": "2023-05-30T00:18:25.796Z"
   },
   {
    "duration": 10909,
    "start_time": "2023-05-30T00:18:33.617Z"
   },
   {
    "duration": 23688,
    "start_time": "2023-05-30T00:18:44.528Z"
   },
   {
    "duration": 51599,
    "start_time": "2023-05-30T00:19:08.218Z"
   },
   {
    "duration": 2,
    "start_time": "2023-05-30T00:19:59.819Z"
   },
   {
    "duration": 7600,
    "start_time": "2023-05-30T00:19:59.823Z"
   },
   {
    "duration": 94,
    "start_time": "2023-05-30T00:20:07.424Z"
   },
   {
    "duration": 20,
    "start_time": "2023-05-30T00:20:07.521Z"
   },
   {
    "duration": 6,
    "start_time": "2023-05-30T00:21:41.106Z"
   },
   {
    "duration": 20136,
    "start_time": "2023-05-30T00:21:42.079Z"
   },
   {
    "duration": 7783,
    "start_time": "2023-05-30T00:22:02.217Z"
   },
   {
    "duration": 7927,
    "start_time": "2023-05-30T00:22:10.002Z"
   },
   {
    "duration": 11,
    "start_time": "2023-05-30T00:22:18.017Z"
   },
   {
    "duration": 3,
    "start_time": "2023-05-30T00:26:37.542Z"
   },
   {
    "duration": 21,
    "start_time": "2023-05-30T00:26:41.418Z"
   },
   {
    "duration": 4,
    "start_time": "2023-05-30T00:27:27.922Z"
   },
   {
    "duration": 16,
    "start_time": "2023-05-30T00:27:30.318Z"
   },
   {
    "duration": 4,
    "start_time": "2023-05-30T00:27:51.766Z"
   },
   {
    "duration": 16,
    "start_time": "2023-05-30T00:27:55.439Z"
   },
   {
    "duration": 4,
    "start_time": "2023-05-30T00:28:35.986Z"
   },
   {
    "duration": 15,
    "start_time": "2023-05-30T00:28:37.535Z"
   },
   {
    "duration": 4,
    "start_time": "2023-05-30T00:29:05.766Z"
   },
   {
    "duration": 19,
    "start_time": "2023-05-30T00:29:08.335Z"
   },
   {
    "duration": 4,
    "start_time": "2023-05-30T00:29:35.407Z"
   },
   {
    "duration": 4,
    "start_time": "2023-05-30T00:29:43.271Z"
   },
   {
    "duration": 17,
    "start_time": "2023-05-30T00:29:46.509Z"
   },
   {
    "duration": 3,
    "start_time": "2023-05-30T00:30:22.469Z"
   },
   {
    "duration": 6,
    "start_time": "2023-05-30T00:30:25.300Z"
   },
   {
    "duration": 4,
    "start_time": "2023-05-30T00:31:59.392Z"
   },
   {
    "duration": 19,
    "start_time": "2023-05-30T00:32:01.426Z"
   },
   {
    "duration": 4,
    "start_time": "2023-05-30T00:32:41.466Z"
   },
   {
    "duration": 18,
    "start_time": "2023-05-30T00:32:43.540Z"
   },
   {
    "duration": 11,
    "start_time": "2023-05-30T00:33:17.141Z"
   },
   {
    "duration": 4,
    "start_time": "2023-05-30T00:33:53.471Z"
   },
   {
    "duration": 3,
    "start_time": "2023-05-30T00:34:02.423Z"
   },
   {
    "duration": 4,
    "start_time": "2023-05-30T00:34:11.887Z"
   },
   {
    "duration": 6,
    "start_time": "2023-05-30T00:34:14.048Z"
   },
   {
    "duration": 351,
    "start_time": "2023-05-30T00:35:08.395Z"
   },
   {
    "duration": 5,
    "start_time": "2023-05-30T00:35:11.486Z"
   },
   {
    "duration": 20394,
    "start_time": "2023-05-30T00:35:15.008Z"
   },
   {
    "duration": 7904,
    "start_time": "2023-05-30T00:35:35.403Z"
   },
   {
    "duration": 8008,
    "start_time": "2023-05-30T00:35:43.308Z"
   },
   {
    "duration": 18,
    "start_time": "2023-05-30T00:35:51.318Z"
   },
   {
    "duration": 9,
    "start_time": "2023-05-30T00:37:09.344Z"
   },
   {
    "duration": 4,
    "start_time": "2023-05-30T00:37:36.045Z"
   },
   {
    "duration": 7,
    "start_time": "2023-05-30T00:37:39.140Z"
   },
   {
    "duration": 20124,
    "start_time": "2023-05-30T00:37:41.414Z"
   },
   {
    "duration": 7703,
    "start_time": "2023-05-30T00:38:01.540Z"
   },
   {
    "duration": 8272,
    "start_time": "2023-05-30T00:38:09.244Z"
   },
   {
    "duration": 123,
    "start_time": "2023-05-30T00:38:52.359Z"
   },
   {
    "duration": 13,
    "start_time": "2023-05-30T00:39:06.812Z"
   },
   {
    "duration": 13,
    "start_time": "2023-05-30T00:39:51.219Z"
   },
   {
    "duration": 10,
    "start_time": "2023-05-30T00:39:57.447Z"
   },
   {
    "duration": 13,
    "start_time": "2023-05-30T00:40:55.193Z"
   },
   {
    "duration": 4,
    "start_time": "2023-05-30T00:41:12.110Z"
   },
   {
    "duration": 6,
    "start_time": "2023-05-30T00:41:14.818Z"
   },
   {
    "duration": 19543,
    "start_time": "2023-05-30T00:41:17.583Z"
   },
   {
    "duration": 10,
    "start_time": "2023-05-30T00:41:37.128Z"
   },
   {
    "duration": 11,
    "start_time": "2023-05-30T00:41:51.687Z"
   },
   {
    "duration": 12,
    "start_time": "2023-05-30T00:42:11.414Z"
   },
   {
    "duration": 80,
    "start_time": "2023-05-30T00:43:52.052Z"
   },
   {
    "duration": 4,
    "start_time": "2023-05-30T00:44:01.840Z"
   },
   {
    "duration": 6,
    "start_time": "2023-05-30T00:44:05.684Z"
   },
   {
    "duration": 4,
    "start_time": "2023-05-30T00:48:18.285Z"
   },
   {
    "duration": 5,
    "start_time": "2023-05-30T00:48:21.192Z"
   },
   {
    "duration": 21931,
    "start_time": "2023-05-30T00:48:22.491Z"
   },
   {
    "duration": 7766,
    "start_time": "2023-05-30T00:48:44.423Z"
   },
   {
    "duration": 7142,
    "start_time": "2023-05-30T00:48:52.190Z"
   },
   {
    "duration": 10,
    "start_time": "2023-05-30T00:48:59.334Z"
   },
   {
    "duration": 4,
    "start_time": "2023-05-30T00:50:19.560Z"
   },
   {
    "duration": 4,
    "start_time": "2023-05-30T00:50:25.040Z"
   },
   {
    "duration": 17,
    "start_time": "2023-05-30T00:50:28.443Z"
   },
   {
    "duration": 4,
    "start_time": "2023-05-30T00:51:11.627Z"
   },
   {
    "duration": 17,
    "start_time": "2023-05-30T00:51:26.997Z"
   },
   {
    "duration": 5,
    "start_time": "2023-05-30T00:52:41.452Z"
   },
   {
    "duration": 4,
    "start_time": "2023-05-30T00:53:08.830Z"
   },
   {
    "duration": 6,
    "start_time": "2023-05-30T00:53:12.608Z"
   },
   {
    "duration": 14,
    "start_time": "2023-05-30T00:58:10.818Z"
   },
   {
    "duration": 4,
    "start_time": "2023-05-30T01:00:23.883Z"
   },
   {
    "duration": 5,
    "start_time": "2023-05-30T01:00:35.410Z"
   },
   {
    "duration": 19283,
    "start_time": "2023-05-30T01:00:37.644Z"
   },
   {
    "duration": 25032,
    "start_time": "2023-05-30T01:00:56.929Z"
   },
   {
    "duration": 41316,
    "start_time": "2023-05-30T01:01:21.963Z"
   },
   {
    "duration": 3,
    "start_time": "2023-05-30T01:02:03.280Z"
   },
   {
    "duration": 7466,
    "start_time": "2023-05-30T01:02:03.284Z"
   },
   {
    "duration": 4,
    "start_time": "2023-05-30T01:02:10.752Z"
   },
   {
    "duration": 5,
    "start_time": "2023-05-30T01:02:33.750Z"
   },
   {
    "duration": 5,
    "start_time": "2023-05-30T01:02:37.152Z"
   },
   {
    "duration": 18725,
    "start_time": "2023-05-30T01:02:40.794Z"
   },
   {
    "duration": 4,
    "start_time": "2023-05-30T01:03:56.212Z"
   },
   {
    "duration": 5,
    "start_time": "2023-05-30T01:04:01.012Z"
   },
   {
    "duration": 4,
    "start_time": "2023-05-30T01:04:06.105Z"
   },
   {
    "duration": 4,
    "start_time": "2023-05-30T01:04:07.692Z"
   },
   {
    "duration": 5,
    "start_time": "2023-05-30T01:04:14.137Z"
   },
   {
    "duration": 11,
    "start_time": "2023-05-30T01:05:00.712Z"
   },
   {
    "duration": 5,
    "start_time": "2023-05-30T01:05:21.747Z"
   },
   {
    "duration": 5,
    "start_time": "2023-05-30T01:05:52.357Z"
   },
   {
    "duration": 18180,
    "start_time": "2023-05-30T01:05:53.451Z"
   },
   {
    "duration": 7607,
    "start_time": "2023-05-30T01:06:11.633Z"
   },
   {
    "duration": 6993,
    "start_time": "2023-05-30T01:06:19.242Z"
   },
   {
    "duration": 12,
    "start_time": "2023-05-30T01:06:26.316Z"
   },
   {
    "duration": 648,
    "start_time": "2023-05-30T01:44:06.697Z"
   },
   {
    "duration": 410,
    "start_time": "2023-05-30T01:44:11.955Z"
   },
   {
    "duration": 4,
    "start_time": "2023-05-30T01:44:15.417Z"
   },
   {
    "duration": 5,
    "start_time": "2023-05-30T01:44:15.424Z"
   },
   {
    "duration": 12,
    "start_time": "2023-05-30T01:44:15.431Z"
   },
   {
    "duration": 112,
    "start_time": "2023-05-30T01:44:15.445Z"
   },
   {
    "duration": 217,
    "start_time": "2023-05-30T01:44:15.559Z"
   },
   {
    "duration": 54,
    "start_time": "2023-05-30T01:44:15.778Z"
   },
   {
    "duration": 83,
    "start_time": "2023-05-30T01:44:15.833Z"
   },
   {
    "duration": 206,
    "start_time": "2023-05-30T01:44:15.918Z"
   },
   {
    "duration": 72,
    "start_time": "2023-05-30T01:44:16.126Z"
   },
   {
    "duration": 221,
    "start_time": "2023-05-30T01:44:16.200Z"
   },
   {
    "duration": 213,
    "start_time": "2023-05-30T01:44:16.424Z"
   },
   {
    "duration": 506,
    "start_time": "2023-05-30T01:44:16.639Z"
   },
   {
    "duration": 78,
    "start_time": "2023-05-30T01:44:17.147Z"
   },
   {
    "duration": 18,
    "start_time": "2023-05-30T01:44:17.226Z"
   },
   {
    "duration": 33,
    "start_time": "2023-05-30T01:44:17.246Z"
   },
   {
    "duration": 86,
    "start_time": "2023-05-30T01:44:17.280Z"
   },
   {
    "duration": 75,
    "start_time": "2023-05-30T01:44:17.368Z"
   },
   {
    "duration": 77,
    "start_time": "2023-05-30T01:44:17.444Z"
   },
   {
    "duration": 23,
    "start_time": "2023-05-30T01:44:17.523Z"
   },
   {
    "duration": 18,
    "start_time": "2023-05-30T01:44:17.548Z"
   },
   {
    "duration": 47,
    "start_time": "2023-05-30T01:44:17.568Z"
   },
   {
    "duration": 349,
    "start_time": "2023-05-30T01:44:17.617Z"
   },
   {
    "duration": 12,
    "start_time": "2023-05-30T01:44:17.967Z"
   },
   {
    "duration": 40,
    "start_time": "2023-05-30T01:44:17.980Z"
   },
   {
    "duration": 306,
    "start_time": "2023-05-30T01:44:18.021Z"
   },
   {
    "duration": 11,
    "start_time": "2023-05-30T01:44:18.331Z"
   },
   {
    "duration": 19,
    "start_time": "2023-05-30T01:44:18.344Z"
   },
   {
    "duration": 24,
    "start_time": "2023-05-30T01:44:18.365Z"
   },
   {
    "duration": 26,
    "start_time": "2023-05-30T01:44:18.391Z"
   },
   {
    "duration": 5,
    "start_time": "2023-05-30T01:44:18.418Z"
   },
   {
    "duration": 59,
    "start_time": "2023-05-30T01:44:18.425Z"
   },
   {
    "duration": 2,
    "start_time": "2023-05-30T01:44:18.486Z"
   },
   {
    "duration": 50,
    "start_time": "2023-05-30T01:44:18.490Z"
   },
   {
    "duration": 14,
    "start_time": "2023-05-30T01:44:18.542Z"
   },
   {
    "duration": 60,
    "start_time": "2023-05-30T01:44:18.557Z"
   },
   {
    "duration": 4,
    "start_time": "2023-05-30T01:44:18.618Z"
   },
   {
    "duration": 109,
    "start_time": "2023-05-30T01:44:18.623Z"
   },
   {
    "duration": 4,
    "start_time": "2023-05-30T01:44:18.734Z"
   },
   {
    "duration": 77,
    "start_time": "2023-05-30T01:44:18.739Z"
   },
   {
    "duration": 0,
    "start_time": "2023-05-30T01:44:18.818Z"
   },
   {
    "duration": 0,
    "start_time": "2023-05-30T01:44:18.819Z"
   },
   {
    "duration": 0,
    "start_time": "2023-05-30T01:44:18.820Z"
   },
   {
    "duration": 0,
    "start_time": "2023-05-30T01:44:18.821Z"
   },
   {
    "duration": 0,
    "start_time": "2023-05-30T01:44:18.822Z"
   },
   {
    "duration": 0,
    "start_time": "2023-05-30T01:44:18.822Z"
   },
   {
    "duration": 0,
    "start_time": "2023-05-30T01:44:18.824Z"
   },
   {
    "duration": 0,
    "start_time": "2023-05-30T01:44:18.824Z"
   },
   {
    "duration": 0,
    "start_time": "2023-05-30T01:44:18.825Z"
   },
   {
    "duration": 0,
    "start_time": "2023-05-30T01:44:18.826Z"
   },
   {
    "duration": 0,
    "start_time": "2023-05-30T01:44:18.827Z"
   },
   {
    "duration": 0,
    "start_time": "2023-05-30T01:44:18.828Z"
   },
   {
    "duration": 0,
    "start_time": "2023-05-30T01:44:18.828Z"
   },
   {
    "duration": 0,
    "start_time": "2023-05-30T01:44:18.829Z"
   },
   {
    "duration": 0,
    "start_time": "2023-05-30T01:44:18.830Z"
   },
   {
    "duration": 0,
    "start_time": "2023-05-30T01:44:18.830Z"
   },
   {
    "duration": 0,
    "start_time": "2023-05-30T01:44:18.831Z"
   },
   {
    "duration": 0,
    "start_time": "2023-05-30T01:44:18.832Z"
   },
   {
    "duration": 0,
    "start_time": "2023-05-30T01:44:18.833Z"
   },
   {
    "duration": 0,
    "start_time": "2023-05-30T01:44:18.834Z"
   },
   {
    "duration": 0,
    "start_time": "2023-05-30T01:44:18.834Z"
   },
   {
    "duration": 20936,
    "start_time": "2023-05-30T01:44:50.445Z"
   },
   {
    "duration": 59,
    "start_time": "2023-05-30T01:48:22.173Z"
   },
   {
    "duration": 32,
    "start_time": "2023-05-30T01:51:00.519Z"
   },
   {
    "duration": 21196,
    "start_time": "2023-05-30T01:51:07.763Z"
   },
   {
    "duration": 608,
    "start_time": "2023-05-30T01:51:57.467Z"
   },
   {
    "duration": 4,
    "start_time": "2023-05-30T01:51:58.077Z"
   },
   {
    "duration": 30654,
    "start_time": "2023-05-30T01:51:59.381Z"
   },
   {
    "duration": 421,
    "start_time": "2023-05-30T01:52:30.037Z"
   },
   {
    "duration": 4,
    "start_time": "2023-05-30T01:52:34.300Z"
   },
   {
    "duration": 9,
    "start_time": "2023-05-30T01:52:34.305Z"
   },
   {
    "duration": 7,
    "start_time": "2023-05-30T01:52:34.315Z"
   },
   {
    "duration": 102,
    "start_time": "2023-05-30T01:52:34.323Z"
   },
   {
    "duration": 176,
    "start_time": "2023-05-30T01:52:34.427Z"
   },
   {
    "duration": 80,
    "start_time": "2023-05-30T01:52:34.605Z"
   },
   {
    "duration": 209,
    "start_time": "2023-05-30T01:52:34.687Z"
   },
   {
    "duration": 78,
    "start_time": "2023-05-30T01:52:34.897Z"
   },
   {
    "duration": 227,
    "start_time": "2023-05-30T01:52:34.976Z"
   },
   {
    "duration": 232,
    "start_time": "2023-05-30T01:52:35.205Z"
   },
   {
    "duration": 502,
    "start_time": "2023-05-30T01:52:35.439Z"
   },
   {
    "duration": 87,
    "start_time": "2023-05-30T01:52:35.943Z"
   },
   {
    "duration": 19,
    "start_time": "2023-05-30T01:52:36.032Z"
   },
   {
    "duration": 50,
    "start_time": "2023-05-30T01:52:36.053Z"
   },
   {
    "duration": 85,
    "start_time": "2023-05-30T01:52:36.105Z"
   },
   {
    "duration": 82,
    "start_time": "2023-05-30T01:52:36.192Z"
   },
   {
    "duration": 80,
    "start_time": "2023-05-30T01:52:36.276Z"
   },
   {
    "duration": 24,
    "start_time": "2023-05-30T01:52:36.358Z"
   },
   {
    "duration": 32,
    "start_time": "2023-05-30T01:52:36.384Z"
   },
   {
    "duration": 28,
    "start_time": "2023-05-30T01:52:36.418Z"
   },
   {
    "duration": 386,
    "start_time": "2023-05-30T01:52:36.448Z"
   },
   {
    "duration": 14,
    "start_time": "2023-05-30T01:52:36.835Z"
   },
   {
    "duration": 33,
    "start_time": "2023-05-30T01:52:36.851Z"
   },
   {
    "duration": 343,
    "start_time": "2023-05-30T01:52:36.886Z"
   },
   {
    "duration": 13,
    "start_time": "2023-05-30T01:52:37.231Z"
   },
   {
    "duration": 19,
    "start_time": "2023-05-30T01:52:37.245Z"
   },
   {
    "duration": 25,
    "start_time": "2023-05-30T01:52:37.266Z"
   },
   {
    "duration": 24,
    "start_time": "2023-05-30T01:52:37.293Z"
   },
   {
    "duration": 6,
    "start_time": "2023-05-30T01:52:37.319Z"
   },
   {
    "duration": 65,
    "start_time": "2023-05-30T01:52:37.326Z"
   },
   {
    "duration": 3,
    "start_time": "2023-05-30T01:52:37.392Z"
   },
   {
    "duration": 33,
    "start_time": "2023-05-30T01:52:37.415Z"
   },
   {
    "duration": 16,
    "start_time": "2023-05-30T01:52:37.449Z"
   },
   {
    "duration": 71,
    "start_time": "2023-05-30T01:52:37.466Z"
   },
   {
    "duration": 4,
    "start_time": "2023-05-30T01:52:37.538Z"
   },
   {
    "duration": 103,
    "start_time": "2023-05-30T01:52:37.546Z"
   },
   {
    "duration": 4,
    "start_time": "2023-05-30T01:52:37.650Z"
   },
   {
    "duration": 274,
    "start_time": "2023-05-30T01:52:37.655Z"
   },
   {
    "duration": 72,
    "start_time": "2023-05-30T01:52:37.930Z"
   },
   {
    "duration": 200,
    "start_time": "2023-05-30T01:52:38.004Z"
   },
   {
    "duration": 4,
    "start_time": "2023-05-30T01:52:38.205Z"
   },
   {
    "duration": 4,
    "start_time": "2023-05-30T01:52:38.216Z"
   },
   {
    "duration": 9,
    "start_time": "2023-05-30T01:52:38.221Z"
   },
   {
    "duration": 21297,
    "start_time": "2023-05-30T01:52:38.232Z"
   },
   {
    "duration": 24845,
    "start_time": "2023-05-30T01:52:59.531Z"
   },
   {
    "duration": 42702,
    "start_time": "2023-05-30T01:53:24.378Z"
   },
   {
    "duration": 3,
    "start_time": "2023-05-30T01:54:07.081Z"
   },
   {
    "duration": 8018,
    "start_time": "2023-05-30T01:54:07.086Z"
   },
   {
    "duration": 5925,
    "start_time": "2023-05-30T01:54:15.106Z"
   },
   {
    "duration": 21501,
    "start_time": "2023-05-30T01:54:21.033Z"
   },
   {
    "duration": 50780,
    "start_time": "2023-05-30T01:54:42.536Z"
   },
   {
    "duration": 3,
    "start_time": "2023-05-30T01:55:33.317Z"
   },
   {
    "duration": 7103,
    "start_time": "2023-05-30T01:55:33.322Z"
   },
   {
    "duration": 11,
    "start_time": "2023-05-30T01:55:40.427Z"
   },
   {
    "duration": 78,
    "start_time": "2023-05-30T01:55:40.439Z"
   },
   {
    "duration": 19911,
    "start_time": "2023-05-30T01:55:40.519Z"
   },
   {
    "duration": 7981,
    "start_time": "2023-05-30T01:56:00.431Z"
   },
   {
    "duration": 7200,
    "start_time": "2023-05-30T01:56:08.415Z"
   },
   {
    "duration": 11,
    "start_time": "2023-05-30T01:56:15.617Z"
   },
   {
    "duration": 41,
    "start_time": "2023-05-30T02:04:55.349Z"
   },
   {
    "duration": 8241,
    "start_time": "2023-05-30T02:04:56.450Z"
   },
   {
    "duration": 1842,
    "start_time": "2023-05-30T02:05:04.693Z"
   },
   {
    "duration": 723,
    "start_time": "2023-05-30T02:05:45.552Z"
   },
   {
    "duration": 3,
    "start_time": "2023-05-30T02:05:46.277Z"
   },
   {
    "duration": 32806,
    "start_time": "2023-05-30T02:05:58.878Z"
   },
   {
    "duration": 392,
    "start_time": "2023-05-30T02:07:33.570Z"
   },
   {
    "duration": 4,
    "start_time": "2023-05-30T02:07:34.565Z"
   },
   {
    "duration": 4,
    "start_time": "2023-05-30T02:07:34.767Z"
   },
   {
    "duration": 2,
    "start_time": "2023-05-30T02:07:34.966Z"
   },
   {
    "duration": 116,
    "start_time": "2023-05-30T02:07:41.662Z"
   },
   {
    "duration": 207,
    "start_time": "2023-05-30T02:07:41.863Z"
   },
   {
    "duration": 89,
    "start_time": "2023-05-30T02:07:46.396Z"
   },
   {
    "duration": 205,
    "start_time": "2023-05-30T02:07:50.512Z"
   },
   {
    "duration": 73,
    "start_time": "2023-05-30T02:07:51.405Z"
   },
   {
    "duration": 227,
    "start_time": "2023-05-30T02:07:55.197Z"
   },
   {
    "duration": 205,
    "start_time": "2023-05-30T02:07:55.619Z"
   },
   {
    "duration": 435,
    "start_time": "2023-05-30T02:07:56.023Z"
   },
   {
    "duration": 68,
    "start_time": "2023-05-30T02:07:56.484Z"
   },
   {
    "duration": 20,
    "start_time": "2023-05-30T02:08:30.507Z"
   },
   {
    "duration": 28,
    "start_time": "2023-05-30T02:08:33.629Z"
   },
   {
    "duration": 65,
    "start_time": "2023-05-30T02:08:34.648Z"
   },
   {
    "duration": 81,
    "start_time": "2023-05-30T02:08:41.393Z"
   },
   {
    "duration": 76,
    "start_time": "2023-05-30T02:08:42.328Z"
   },
   {
    "duration": 24,
    "start_time": "2023-05-30T02:08:49.853Z"
   },
   {
    "duration": 19,
    "start_time": "2023-05-30T02:08:50.335Z"
   },
   {
    "duration": 30,
    "start_time": "2023-05-30T02:08:52.113Z"
   },
   {
    "duration": 321,
    "start_time": "2023-05-30T02:08:52.741Z"
   },
   {
    "duration": 13,
    "start_time": "2023-05-30T02:08:54.561Z"
   },
   {
    "duration": 29,
    "start_time": "2023-05-30T02:08:55.156Z"
   },
   {
    "duration": 298,
    "start_time": "2023-05-30T02:08:55.719Z"
   },
   {
    "duration": 13,
    "start_time": "2023-05-30T02:08:57.009Z"
   },
   {
    "duration": 21,
    "start_time": "2023-05-30T02:08:57.468Z"
   },
   {
    "duration": 25,
    "start_time": "2023-05-30T02:08:58.470Z"
   },
   {
    "duration": 4,
    "start_time": "2023-05-30T02:08:58.856Z"
   },
   {
    "duration": 4,
    "start_time": "2023-05-30T02:09:03.867Z"
   },
   {
    "duration": 59,
    "start_time": "2023-05-30T02:09:04.540Z"
   },
   {
    "duration": 4,
    "start_time": "2023-05-30T02:09:06.453Z"
   },
   {
    "duration": 33,
    "start_time": "2023-05-30T02:09:08.284Z"
   },
   {
    "duration": 14,
    "start_time": "2023-05-30T02:09:08.751Z"
   },
   {
    "duration": 51,
    "start_time": "2023-05-30T02:09:09.677Z"
   },
   {
    "duration": 4,
    "start_time": "2023-05-30T02:09:11.490Z"
   },
   {
    "duration": 100,
    "start_time": "2023-05-30T02:10:09.870Z"
   },
   {
    "duration": 291,
    "start_time": "2023-05-30T02:10:58.850Z"
   },
   {
    "duration": 74,
    "start_time": "2023-05-30T02:11:00.742Z"
   },
   {
    "duration": 184,
    "start_time": "2023-05-30T02:11:02.444Z"
   },
   {
    "duration": 4,
    "start_time": "2023-05-30T02:11:05.623Z"
   },
   {
    "duration": 5,
    "start_time": "2023-05-30T02:14:34.655Z"
   },
   {
    "duration": 5,
    "start_time": "2023-05-30T02:14:37.090Z"
   },
   {
    "duration": 18409,
    "start_time": "2023-05-30T02:14:38.016Z"
   },
   {
    "duration": 23366,
    "start_time": "2023-05-30T02:14:56.427Z"
   },
   {
    "duration": 41172,
    "start_time": "2023-05-30T02:15:19.794Z"
   },
   {
    "duration": 2,
    "start_time": "2023-05-30T02:16:00.968Z"
   },
   {
    "duration": 7345,
    "start_time": "2023-05-30T02:16:00.971Z"
   },
   {
    "duration": 5904,
    "start_time": "2023-05-30T02:16:08.318Z"
   },
   {
    "duration": 20892,
    "start_time": "2023-05-30T02:16:14.224Z"
   },
   {
    "duration": 46299,
    "start_time": "2023-05-30T02:16:35.119Z"
   },
   {
    "duration": 2,
    "start_time": "2023-05-30T02:17:21.420Z"
   },
   {
    "duration": 6903,
    "start_time": "2023-05-30T02:17:21.425Z"
   },
   {
    "duration": 11,
    "start_time": "2023-05-30T02:17:28.415Z"
   },
   {
    "duration": 9,
    "start_time": "2023-05-30T02:17:28.428Z"
   },
   {
    "duration": 19487,
    "start_time": "2023-05-30T02:17:28.438Z"
   },
   {
    "duration": 7684,
    "start_time": "2023-05-30T02:17:47.927Z"
   },
   {
    "duration": 7011,
    "start_time": "2023-05-30T02:17:55.613Z"
   },
   {
    "duration": 11,
    "start_time": "2023-05-30T02:18:02.716Z"
   },
   {
    "duration": 5,
    "start_time": "2023-05-30T02:18:51.041Z"
   },
   {
    "duration": 6321,
    "start_time": "2023-05-30T02:19:02.196Z"
   },
   {
    "duration": 23004,
    "start_time": "2023-05-30T02:19:08.519Z"
   },
   {
    "duration": 46212,
    "start_time": "2023-05-30T02:19:31.525Z"
   },
   {
    "duration": 3,
    "start_time": "2023-05-30T02:20:17.816Z"
   },
   {
    "duration": 7296,
    "start_time": "2023-05-30T02:20:17.820Z"
   },
   {
    "duration": 10,
    "start_time": "2023-05-30T02:20:25.118Z"
   },
   {
    "duration": 7,
    "start_time": "2023-05-30T02:20:25.130Z"
   },
   {
    "duration": 18696,
    "start_time": "2023-05-30T02:20:25.138Z"
   },
   {
    "duration": 7648,
    "start_time": "2023-05-30T02:20:43.835Z"
   },
   {
    "duration": 7234,
    "start_time": "2023-05-30T02:20:51.485Z"
   },
   {
    "duration": 10,
    "start_time": "2023-05-30T02:20:58.721Z"
   },
   {
    "duration": 50,
    "start_time": "2023-05-30T02:22:05.741Z"
   },
   {
    "duration": 7873,
    "start_time": "2023-05-30T02:22:05.793Z"
   },
   {
    "duration": 1680,
    "start_time": "2023-05-30T02:22:13.668Z"
   },
   {
    "duration": 675,
    "start_time": "2023-05-30T02:22:15.350Z"
   },
   {
    "duration": 3,
    "start_time": "2023-05-30T02:22:16.027Z"
   },
   {
    "duration": 30336,
    "start_time": "2023-05-30T02:22:16.031Z"
   },
   {
    "duration": 478,
    "start_time": "2023-05-30T02:22:46.368Z"
   },
   {
    "duration": 3,
    "start_time": "2023-05-30T02:22:46.848Z"
   },
   {
    "duration": 9,
    "start_time": "2023-05-30T02:22:46.853Z"
   },
   {
    "duration": 9,
    "start_time": "2023-05-30T02:22:46.865Z"
   },
   {
    "duration": 119,
    "start_time": "2023-05-30T02:22:46.875Z"
   },
   {
    "duration": 191,
    "start_time": "2023-05-30T02:22:46.997Z"
   },
   {
    "duration": 83,
    "start_time": "2023-05-30T02:22:47.190Z"
   },
   {
    "duration": 216,
    "start_time": "2023-05-30T02:22:47.274Z"
   },
   {
    "duration": 74,
    "start_time": "2023-05-30T02:22:47.492Z"
   },
   {
    "duration": 217,
    "start_time": "2023-05-30T02:22:47.568Z"
   },
   {
    "duration": 208,
    "start_time": "2023-05-30T02:22:47.787Z"
   },
   {
    "duration": 482,
    "start_time": "2023-05-30T02:22:47.996Z"
   },
   {
    "duration": 79,
    "start_time": "2023-05-30T02:22:48.480Z"
   },
   {
    "duration": 20,
    "start_time": "2023-05-30T02:22:48.561Z"
   },
   {
    "duration": 50,
    "start_time": "2023-05-30T02:22:48.583Z"
   },
   {
    "duration": 82,
    "start_time": "2023-05-30T02:22:48.634Z"
   },
   {
    "duration": 81,
    "start_time": "2023-05-30T02:22:48.717Z"
   },
   {
    "duration": 82,
    "start_time": "2023-05-30T02:22:48.799Z"
   },
   {
    "duration": 65,
    "start_time": "2023-05-30T02:22:48.883Z"
   },
   {
    "duration": 20,
    "start_time": "2023-05-30T02:22:48.950Z"
   },
   {
    "duration": 50,
    "start_time": "2023-05-30T02:22:48.971Z"
   },
   {
    "duration": 356,
    "start_time": "2023-05-30T02:22:49.025Z"
   },
   {
    "duration": 13,
    "start_time": "2023-05-30T02:22:49.382Z"
   },
   {
    "duration": 40,
    "start_time": "2023-05-30T02:22:49.396Z"
   },
   {
    "duration": 284,
    "start_time": "2023-05-30T02:22:49.437Z"
   },
   {
    "duration": 13,
    "start_time": "2023-05-30T02:22:49.722Z"
   },
   {
    "duration": 20,
    "start_time": "2023-05-30T02:22:49.736Z"
   },
   {
    "duration": 24,
    "start_time": "2023-05-30T02:22:49.757Z"
   },
   {
    "duration": 3,
    "start_time": "2023-05-30T02:22:49.783Z"
   },
   {
    "duration": 29,
    "start_time": "2023-05-30T02:22:49.787Z"
   },
   {
    "duration": 62,
    "start_time": "2023-05-30T02:22:49.818Z"
   },
   {
    "duration": 3,
    "start_time": "2023-05-30T02:22:49.882Z"
   },
   {
    "duration": 49,
    "start_time": "2023-05-30T02:22:49.886Z"
   },
   {
    "duration": 12,
    "start_time": "2023-05-30T02:22:49.936Z"
   },
   {
    "duration": 47,
    "start_time": "2023-05-30T02:22:49.950Z"
   },
   {
    "duration": 4,
    "start_time": "2023-05-30T02:22:49.999Z"
   },
   {
    "duration": 102,
    "start_time": "2023-05-30T02:22:50.016Z"
   },
   {
    "duration": 264,
    "start_time": "2023-05-30T02:22:50.120Z"
   },
   {
    "duration": 73,
    "start_time": "2023-05-30T02:22:50.386Z"
   },
   {
    "duration": 179,
    "start_time": "2023-05-30T02:22:50.460Z"
   },
   {
    "duration": 4,
    "start_time": "2023-05-30T02:22:50.640Z"
   },
   {
    "duration": 6,
    "start_time": "2023-05-30T02:22:50.645Z"
   },
   {
    "duration": 8,
    "start_time": "2023-05-30T02:22:50.653Z"
   },
   {
    "duration": 23881,
    "start_time": "2023-05-30T02:22:50.662Z"
   },
   {
    "duration": 25931,
    "start_time": "2023-05-30T02:23:14.544Z"
   },
   {
    "duration": 40299,
    "start_time": "2023-05-30T02:23:40.476Z"
   },
   {
    "duration": 2,
    "start_time": "2023-05-30T02:24:20.776Z"
   },
   {
    "duration": 7384,
    "start_time": "2023-05-30T02:24:20.780Z"
   },
   {
    "duration": 5765,
    "start_time": "2023-05-30T02:24:28.166Z"
   },
   {
    "duration": 21090,
    "start_time": "2023-05-30T02:24:33.932Z"
   },
   {
    "duration": 49300,
    "start_time": "2023-05-30T02:24:55.024Z"
   },
   {
    "duration": 2,
    "start_time": "2023-05-30T02:25:44.326Z"
   },
   {
    "duration": 7088,
    "start_time": "2023-05-30T02:25:44.330Z"
   },
   {
    "duration": 10,
    "start_time": "2023-05-30T02:25:51.420Z"
   },
   {
    "duration": 14,
    "start_time": "2023-05-30T02:25:51.432Z"
   },
   {
    "duration": 18985,
    "start_time": "2023-05-30T02:25:51.447Z"
   },
   {
    "duration": 7353,
    "start_time": "2023-05-30T02:26:10.434Z"
   },
   {
    "duration": 6733,
    "start_time": "2023-05-30T02:26:17.788Z"
   },
   {
    "duration": 11,
    "start_time": "2023-05-30T02:26:24.524Z"
   },
   {
    "duration": 178,
    "start_time": "2023-05-30T13:21:19.456Z"
   },
   {
    "duration": 218,
    "start_time": "2023-05-30T13:23:40.787Z"
   },
   {
    "duration": 155,
    "start_time": "2023-05-30T13:25:37.133Z"
   },
   {
    "duration": 69033,
    "start_time": "2023-05-30T13:25:37.719Z"
   },
   {
    "duration": 6709,
    "start_time": "2023-05-30T13:26:46.755Z"
   },
   {
    "duration": 3412,
    "start_time": "2023-05-30T13:26:53.516Z"
   },
   {
    "duration": 23,
    "start_time": "2023-05-30T13:26:56.945Z"
   },
   {
    "duration": 136267,
    "start_time": "2023-05-30T13:26:56.969Z"
   },
   {
    "duration": 2182,
    "start_time": "2023-05-30T13:29:13.252Z"
   },
   {
    "duration": 31,
    "start_time": "2023-05-30T13:29:15.457Z"
   },
   {
    "duration": 87,
    "start_time": "2023-05-30T13:29:15.502Z"
   },
   {
    "duration": 97,
    "start_time": "2023-05-30T13:29:15.594Z"
   },
   {
    "duration": 607,
    "start_time": "2023-05-30T13:29:15.695Z"
   },
   {
    "duration": 769,
    "start_time": "2023-05-30T13:29:16.305Z"
   },
   {
    "duration": 345,
    "start_time": "2023-05-30T13:29:17.076Z"
   },
   {
    "duration": 874,
    "start_time": "2023-05-30T13:29:17.436Z"
   },
   {
    "duration": 328,
    "start_time": "2023-05-30T13:29:18.316Z"
   },
   {
    "duration": 985,
    "start_time": "2023-05-30T13:29:18.659Z"
   },
   {
    "duration": 1017,
    "start_time": "2023-05-30T13:29:19.646Z"
   },
   {
    "duration": 1801,
    "start_time": "2023-05-30T13:29:20.668Z"
   },
   {
    "duration": 278,
    "start_time": "2023-05-30T13:29:22.471Z"
   },
   {
    "duration": 115,
    "start_time": "2023-05-30T13:29:22.760Z"
   },
   {
    "duration": 117,
    "start_time": "2023-05-30T13:29:22.886Z"
   },
   {
    "duration": 463,
    "start_time": "2023-05-30T13:29:23.006Z"
   },
   {
    "duration": 383,
    "start_time": "2023-05-30T13:29:23.481Z"
   },
   {
    "duration": 455,
    "start_time": "2023-05-30T13:29:23.879Z"
   },
   {
    "duration": 199,
    "start_time": "2023-05-30T13:29:24.345Z"
   },
   {
    "duration": 88,
    "start_time": "2023-05-30T13:29:24.550Z"
   },
   {
    "duration": 98,
    "start_time": "2023-05-30T13:29:24.645Z"
   },
   {
    "duration": 1813,
    "start_time": "2023-05-30T13:29:24.750Z"
   },
   {
    "duration": 80,
    "start_time": "2023-05-30T13:29:26.572Z"
   },
   {
    "duration": 159,
    "start_time": "2023-05-30T13:29:26.669Z"
   },
   {
    "duration": 2491,
    "start_time": "2023-05-30T13:29:26.853Z"
   },
   {
    "duration": 30,
    "start_time": "2023-05-30T13:29:29.346Z"
   },
   {
    "duration": 73,
    "start_time": "2023-05-30T13:29:29.378Z"
   },
   {
    "duration": 150,
    "start_time": "2023-05-30T13:29:29.456Z"
   },
   {
    "duration": 14,
    "start_time": "2023-05-30T13:29:29.608Z"
   },
   {
    "duration": 47,
    "start_time": "2023-05-30T13:29:29.624Z"
   },
   {
    "duration": 439,
    "start_time": "2023-05-30T13:29:29.673Z"
   },
   {
    "duration": 16,
    "start_time": "2023-05-30T13:29:30.114Z"
   },
   {
    "duration": 198,
    "start_time": "2023-05-30T13:29:30.133Z"
   },
   {
    "duration": 105,
    "start_time": "2023-05-30T13:29:30.335Z"
   },
   {
    "duration": 297,
    "start_time": "2023-05-30T13:29:30.443Z"
   },
   {
    "duration": 57,
    "start_time": "2023-05-30T13:29:30.745Z"
   },
   {
    "duration": 619,
    "start_time": "2023-05-30T13:29:30.805Z"
   },
   {
    "duration": 2330,
    "start_time": "2023-05-30T13:29:31.430Z"
   },
   {
    "duration": 81,
    "start_time": "2023-05-30T15:40:24.195Z"
   },
   {
    "duration": 21,
    "start_time": "2023-05-30T15:41:36.338Z"
   },
   {
    "duration": 123,
    "start_time": "2023-05-30T15:50:58.027Z"
   },
   {
    "duration": 24615,
    "start_time": "2023-05-30T15:50:58.819Z"
   },
   {
    "duration": 2674,
    "start_time": "2023-05-30T15:51:23.436Z"
   },
   {
    "duration": 3708,
    "start_time": "2023-05-30T15:51:26.115Z"
   },
   {
    "duration": 4,
    "start_time": "2023-05-30T15:51:29.828Z"
   },
   {
    "duration": 583,
    "start_time": "2023-05-30T15:51:29.834Z"
   },
   {
    "duration": 5,
    "start_time": "2023-05-30T15:51:30.419Z"
   },
   {
    "duration": 28,
    "start_time": "2023-05-30T15:51:30.427Z"
   },
   {
    "duration": 54,
    "start_time": "2023-05-30T15:51:30.457Z"
   },
   {
    "duration": 210,
    "start_time": "2023-05-30T15:51:30.512Z"
   },
   {
    "duration": 319,
    "start_time": "2023-05-30T15:51:30.725Z"
   },
   {
    "duration": 114,
    "start_time": "2023-05-30T15:51:41.003Z"
   },
   {
    "duration": 339,
    "start_time": "2023-05-30T15:51:41.575Z"
   },
   {
    "duration": 444,
    "start_time": "2023-05-30T15:51:41.916Z"
   },
   {
    "duration": 261,
    "start_time": "2023-05-30T15:51:45.110Z"
   },
   {
    "duration": 272,
    "start_time": "2023-05-30T15:51:45.373Z"
   },
   {
    "duration": 582,
    "start_time": "2023-05-30T15:51:45.647Z"
   },
   {
    "duration": 114,
    "start_time": "2023-05-30T15:51:46.230Z"
   },
   {
    "duration": 33,
    "start_time": "2023-05-30T15:51:46.346Z"
   },
   {
    "duration": 33,
    "start_time": "2023-05-30T15:51:46.621Z"
   },
   {
    "duration": 101,
    "start_time": "2023-05-30T15:51:48.442Z"
   },
   {
    "duration": 109,
    "start_time": "2023-05-30T15:51:49.171Z"
   },
   {
    "duration": 102,
    "start_time": "2023-05-30T15:51:49.756Z"
   },
   {
    "duration": 30,
    "start_time": "2023-05-30T15:51:53.571Z"
   },
   {
    "duration": 19,
    "start_time": "2023-05-30T15:51:53.726Z"
   },
   {
    "duration": 44,
    "start_time": "2023-05-30T15:51:54.015Z"
   },
   {
    "duration": 550,
    "start_time": "2023-05-30T15:51:54.143Z"
   },
   {
    "duration": 16,
    "start_time": "2023-05-30T15:51:54.706Z"
   },
   {
    "duration": 26,
    "start_time": "2023-05-30T15:51:54.723Z"
   },
   {
    "duration": 404,
    "start_time": "2023-05-30T15:51:54.798Z"
   },
   {
    "duration": 14,
    "start_time": "2023-05-30T15:51:55.632Z"
   },
   {
    "duration": 32,
    "start_time": "2023-05-30T15:51:55.771Z"
   },
   {
    "duration": 36,
    "start_time": "2023-05-30T15:51:56.254Z"
   },
   {
    "duration": 8,
    "start_time": "2023-05-30T15:51:56.393Z"
   },
   {
    "duration": 4,
    "start_time": "2023-05-30T15:51:58.767Z"
   },
   {
    "duration": 84,
    "start_time": "2023-05-30T15:51:58.931Z"
   },
   {
    "duration": 3,
    "start_time": "2023-05-30T15:52:01.466Z"
   },
   {
    "duration": 31,
    "start_time": "2023-05-30T15:52:04.909Z"
   },
   {
    "duration": 12,
    "start_time": "2023-05-30T15:52:07.154Z"
   },
   {
    "duration": 86,
    "start_time": "2023-05-30T15:52:07.672Z"
   },
   {
    "duration": 5,
    "start_time": "2023-05-30T15:52:08.450Z"
   },
   {
    "duration": 1069,
    "start_time": "2023-05-30T15:54:33.314Z"
   },
   {
    "duration": 785,
    "start_time": "2023-05-30T15:55:08.037Z"
   },
   {
    "duration": 168,
    "start_time": "2023-05-30T15:59:41.467Z"
   },
   {
    "duration": 777,
    "start_time": "2023-05-30T15:59:49.657Z"
   },
   {
    "duration": 364,
    "start_time": "2023-05-30T16:03:28.105Z"
   },
   {
    "duration": 122,
    "start_time": "2023-05-30T16:03:28.471Z"
   },
   {
    "duration": 272,
    "start_time": "2023-05-30T16:03:28.806Z"
   },
   {
    "duration": 5,
    "start_time": "2023-05-30T16:03:30.662Z"
   },
   {
    "duration": 6,
    "start_time": "2023-05-30T16:03:35.710Z"
   },
   {
    "duration": 87,
    "start_time": "2023-05-30T16:03:47.165Z"
   },
   {
    "duration": 3,
    "start_time": "2023-05-30T16:03:54.235Z"
   },
   {
    "duration": 9333,
    "start_time": "2023-05-30T16:03:54.862Z"
   },
   {
    "duration": 12,
    "start_time": "2023-05-30T16:08:54.613Z"
   },
   {
    "duration": 3,
    "start_time": "2023-05-30T16:09:00.365Z"
   },
   {
    "duration": 56,
    "start_time": "2023-05-30T16:18:13.604Z"
   },
   {
    "duration": 10113,
    "start_time": "2023-05-30T16:18:13.663Z"
   },
   {
    "duration": 2432,
    "start_time": "2023-05-30T16:18:23.778Z"
   },
   {
    "duration": 885,
    "start_time": "2023-05-30T16:18:26.212Z"
   },
   {
    "duration": 7,
    "start_time": "2023-05-30T16:18:27.101Z"
   },
   {
    "duration": 542,
    "start_time": "2023-05-30T16:18:27.110Z"
   },
   {
    "duration": 4,
    "start_time": "2023-05-30T16:18:27.654Z"
   },
   {
    "duration": 21,
    "start_time": "2023-05-30T16:18:27.660Z"
   },
   {
    "duration": 8,
    "start_time": "2023-05-30T16:18:27.682Z"
   },
   {
    "duration": 168,
    "start_time": "2023-05-30T16:18:27.691Z"
   },
   {
    "duration": 311,
    "start_time": "2023-05-30T16:18:27.861Z"
   },
   {
    "duration": 140,
    "start_time": "2023-05-30T16:18:28.174Z"
   },
   {
    "duration": 303,
    "start_time": "2023-05-30T16:18:28.317Z"
   },
   {
    "duration": 118,
    "start_time": "2023-05-30T16:18:28.623Z"
   },
   {
    "duration": 275,
    "start_time": "2023-05-30T16:18:28.743Z"
   },
   {
    "duration": 281,
    "start_time": "2023-05-30T16:18:29.020Z"
   },
   {
    "duration": 567,
    "start_time": "2023-05-30T16:18:29.302Z"
   },
   {
    "duration": 100,
    "start_time": "2023-05-30T16:18:29.870Z"
   },
   {
    "duration": 33,
    "start_time": "2023-05-30T16:18:29.972Z"
   },
   {
    "duration": 40,
    "start_time": "2023-05-30T16:18:30.007Z"
   },
   {
    "duration": 117,
    "start_time": "2023-05-30T16:18:30.049Z"
   },
   {
    "duration": 135,
    "start_time": "2023-05-30T16:18:30.168Z"
   },
   {
    "duration": 105,
    "start_time": "2023-05-30T16:18:30.306Z"
   },
   {
    "duration": 29,
    "start_time": "2023-05-30T16:18:30.413Z"
   },
   {
    "duration": 50,
    "start_time": "2023-05-30T16:18:30.444Z"
   },
   {
    "duration": 33,
    "start_time": "2023-05-30T16:18:30.504Z"
   },
   {
    "duration": 536,
    "start_time": "2023-05-30T16:18:30.539Z"
   },
   {
    "duration": 18,
    "start_time": "2023-05-30T16:18:31.076Z"
   },
   {
    "duration": 58,
    "start_time": "2023-05-30T16:18:31.096Z"
   },
   {
    "duration": 472,
    "start_time": "2023-05-30T16:18:31.156Z"
   },
   {
    "duration": 16,
    "start_time": "2023-05-30T16:18:31.630Z"
   },
   {
    "duration": 53,
    "start_time": "2023-05-30T16:18:31.648Z"
   },
   {
    "duration": 47,
    "start_time": "2023-05-30T16:18:31.702Z"
   },
   {
    "duration": 4,
    "start_time": "2023-05-30T16:18:31.751Z"
   },
   {
    "duration": 11,
    "start_time": "2023-05-30T16:18:31.757Z"
   },
   {
    "duration": 113,
    "start_time": "2023-05-30T16:18:31.787Z"
   },
   {
    "duration": 4,
    "start_time": "2023-05-30T16:18:31.909Z"
   },
   {
    "duration": 68,
    "start_time": "2023-05-30T16:18:31.915Z"
   },
   {
    "duration": 18,
    "start_time": "2023-05-30T16:18:31.985Z"
   },
   {
    "duration": 100,
    "start_time": "2023-05-30T16:18:32.005Z"
   },
   {
    "duration": 6,
    "start_time": "2023-05-30T16:18:32.109Z"
   },
   {
    "duration": 149,
    "start_time": "2023-05-30T16:18:32.118Z"
   },
   {
    "duration": 1031,
    "start_time": "2023-05-30T16:18:32.268Z"
   },
   {
    "duration": 0,
    "start_time": "2023-05-30T16:18:33.300Z"
   },
   {
    "duration": 0,
    "start_time": "2023-05-30T16:18:33.301Z"
   },
   {
    "duration": 0,
    "start_time": "2023-05-30T16:18:33.302Z"
   },
   {
    "duration": 0,
    "start_time": "2023-05-30T16:18:33.303Z"
   },
   {
    "duration": 0,
    "start_time": "2023-05-30T16:18:33.304Z"
   },
   {
    "duration": 0,
    "start_time": "2023-05-30T16:18:33.305Z"
   },
   {
    "duration": 0,
    "start_time": "2023-05-30T16:18:33.307Z"
   },
   {
    "duration": 0,
    "start_time": "2023-05-30T16:18:33.308Z"
   },
   {
    "duration": 0,
    "start_time": "2023-05-30T16:18:33.310Z"
   },
   {
    "duration": 0,
    "start_time": "2023-05-30T16:18:33.311Z"
   },
   {
    "duration": 0,
    "start_time": "2023-05-30T16:18:33.312Z"
   },
   {
    "duration": 0,
    "start_time": "2023-05-30T16:18:33.313Z"
   },
   {
    "duration": 0,
    "start_time": "2023-05-30T16:18:33.314Z"
   },
   {
    "duration": 0,
    "start_time": "2023-05-30T16:18:33.315Z"
   },
   {
    "duration": 0,
    "start_time": "2023-05-30T16:18:33.317Z"
   },
   {
    "duration": 0,
    "start_time": "2023-05-30T16:18:33.319Z"
   },
   {
    "duration": 1,
    "start_time": "2023-05-30T16:18:33.320Z"
   },
   {
    "duration": 0,
    "start_time": "2023-05-30T16:18:33.322Z"
   },
   {
    "duration": 0,
    "start_time": "2023-05-30T16:18:33.323Z"
   },
   {
    "duration": 0,
    "start_time": "2023-05-30T16:18:33.325Z"
   },
   {
    "duration": 387,
    "start_time": "2023-05-30T16:21:23.816Z"
   },
   {
    "duration": 98,
    "start_time": "2023-05-30T16:21:24.463Z"
   },
   {
    "duration": 246,
    "start_time": "2023-05-30T16:21:24.861Z"
   },
   {
    "duration": 7,
    "start_time": "2023-05-30T16:21:25.496Z"
   },
   {
    "duration": 7,
    "start_time": "2023-05-30T16:21:27.394Z"
   },
   {
    "duration": 7,
    "start_time": "2023-05-30T16:21:28.314Z"
   },
   {
    "duration": 18655,
    "start_time": "2023-05-30T16:21:28.644Z"
   },
   {
    "duration": 32170,
    "start_time": "2023-05-30T16:21:47.301Z"
   },
   {
    "duration": 48429,
    "start_time": "2023-05-30T16:22:19.472Z"
   },
   {
    "duration": 4,
    "start_time": "2023-05-30T16:23:07.905Z"
   },
   {
    "duration": 8993,
    "start_time": "2023-05-30T16:23:07.911Z"
   },
   {
    "duration": 85,
    "start_time": "2023-05-30T16:23:16.906Z"
   },
   {
    "duration": 0,
    "start_time": "2023-05-30T16:23:16.994Z"
   },
   {
    "duration": 0,
    "start_time": "2023-05-30T16:23:16.996Z"
   },
   {
    "duration": 0,
    "start_time": "2023-05-30T16:23:16.997Z"
   },
   {
    "duration": 0,
    "start_time": "2023-05-30T16:23:16.999Z"
   },
   {
    "duration": 0,
    "start_time": "2023-05-30T16:23:17.000Z"
   },
   {
    "duration": 0,
    "start_time": "2023-05-30T16:23:17.002Z"
   },
   {
    "duration": 0,
    "start_time": "2023-05-30T16:23:17.003Z"
   },
   {
    "duration": 0,
    "start_time": "2023-05-30T16:23:17.004Z"
   },
   {
    "duration": 70,
    "start_time": "2023-05-31T05:54:04.849Z"
   },
   {
    "duration": 22810,
    "start_time": "2023-05-31T05:54:05.494Z"
   },
   {
    "duration": 2452,
    "start_time": "2023-05-31T05:54:28.307Z"
   },
   {
    "duration": 3037,
    "start_time": "2023-05-31T05:54:30.761Z"
   },
   {
    "duration": 4,
    "start_time": "2023-05-31T05:54:33.800Z"
   },
   {
    "duration": 586,
    "start_time": "2023-05-31T05:54:33.806Z"
   },
   {
    "duration": 5,
    "start_time": "2023-05-31T05:54:34.394Z"
   },
   {
    "duration": 10,
    "start_time": "2023-05-31T05:54:34.400Z"
   },
   {
    "duration": 12,
    "start_time": "2023-05-31T05:54:34.412Z"
   },
   {
    "duration": 128,
    "start_time": "2023-05-31T05:54:34.426Z"
   },
   {
    "duration": 243,
    "start_time": "2023-05-31T05:54:34.557Z"
   },
   {
    "duration": 92,
    "start_time": "2023-05-31T05:54:34.801Z"
   },
   {
    "duration": 272,
    "start_time": "2023-05-31T05:54:34.895Z"
   },
   {
    "duration": 77,
    "start_time": "2023-05-31T05:54:35.168Z"
   },
   {
    "duration": 277,
    "start_time": "2023-05-31T05:54:35.247Z"
   },
   {
    "duration": 262,
    "start_time": "2023-05-31T05:54:35.526Z"
   },
   {
    "duration": 532,
    "start_time": "2023-05-31T05:54:35.790Z"
   },
   {
    "duration": 106,
    "start_time": "2023-05-31T05:54:36.325Z"
   },
   {
    "duration": 33,
    "start_time": "2023-05-31T05:54:36.433Z"
   },
   {
    "duration": 33,
    "start_time": "2023-05-31T05:54:36.468Z"
   },
   {
    "duration": 87,
    "start_time": "2023-05-31T05:54:36.503Z"
   },
   {
    "duration": 83,
    "start_time": "2023-05-31T05:54:36.592Z"
   },
   {
    "duration": 81,
    "start_time": "2023-05-31T05:54:36.677Z"
   },
   {
    "duration": 31,
    "start_time": "2023-05-31T05:54:36.760Z"
   },
   {
    "duration": 27,
    "start_time": "2023-05-31T05:54:36.793Z"
   },
   {
    "duration": 67,
    "start_time": "2023-05-31T05:54:36.822Z"
   },
   {
    "duration": 444,
    "start_time": "2023-05-31T05:54:36.892Z"
   },
   {
    "duration": 24,
    "start_time": "2023-05-31T05:54:37.338Z"
   },
   {
    "duration": 27,
    "start_time": "2023-05-31T05:54:37.365Z"
   },
   {
    "duration": 366,
    "start_time": "2023-05-31T05:54:37.394Z"
   },
   {
    "duration": 17,
    "start_time": "2023-05-31T05:54:37.762Z"
   },
   {
    "duration": 25,
    "start_time": "2023-05-31T05:54:37.781Z"
   },
   {
    "duration": 60,
    "start_time": "2023-05-31T05:54:37.808Z"
   },
   {
    "duration": 4,
    "start_time": "2023-05-31T05:54:37.871Z"
   },
   {
    "duration": 6,
    "start_time": "2023-05-31T05:54:37.877Z"
   },
   {
    "duration": 92,
    "start_time": "2023-05-31T05:54:37.884Z"
   },
   {
    "duration": 4,
    "start_time": "2023-05-31T05:54:37.978Z"
   },
   {
    "duration": 37,
    "start_time": "2023-05-31T05:54:37.983Z"
   },
   {
    "duration": 14,
    "start_time": "2023-05-31T05:54:38.022Z"
   },
   {
    "duration": 133,
    "start_time": "2023-05-31T05:54:38.058Z"
   },
   {
    "duration": 5,
    "start_time": "2023-05-31T05:54:38.193Z"
   },
   {
    "duration": 139,
    "start_time": "2023-05-31T05:54:38.200Z"
   },
   {
    "duration": 903,
    "start_time": "2023-05-31T05:54:50.006Z"
   },
   {
    "duration": 19,
    "start_time": "2023-05-31T05:55:01.463Z"
   },
   {
    "duration": 6,
    "start_time": "2023-05-31T05:55:11.644Z"
   },
   {
    "duration": 6,
    "start_time": "2023-05-31T05:55:16.449Z"
   },
   {
    "duration": 59173,
    "start_time": "2023-05-31T05:55:49.995Z"
   },
   {
    "duration": 18,
    "start_time": "2023-05-31T05:57:09.481Z"
   },
   {
    "duration": 18,
    "start_time": "2023-05-31T05:57:20.582Z"
   },
   {
    "duration": 67,
    "start_time": "2023-05-31T05:57:33.792Z"
   },
   {
    "duration": 8625,
    "start_time": "2023-05-31T05:57:33.978Z"
   },
   {
    "duration": 2404,
    "start_time": "2023-05-31T05:57:42.605Z"
   },
   {
    "duration": 882,
    "start_time": "2023-05-31T05:57:45.010Z"
   },
   {
    "duration": 4,
    "start_time": "2023-05-31T05:57:45.894Z"
   },
   {
    "duration": 551,
    "start_time": "2023-05-31T05:57:45.901Z"
   },
   {
    "duration": 5,
    "start_time": "2023-05-31T05:57:46.454Z"
   },
   {
    "duration": 19,
    "start_time": "2023-05-31T05:57:46.461Z"
   },
   {
    "duration": 9,
    "start_time": "2023-05-31T05:57:46.482Z"
   },
   {
    "duration": 114,
    "start_time": "2023-05-31T05:57:46.493Z"
   },
   {
    "duration": 265,
    "start_time": "2023-05-31T05:57:46.610Z"
   },
   {
    "duration": 103,
    "start_time": "2023-05-31T05:57:46.876Z"
   },
   {
    "duration": 272,
    "start_time": "2023-05-31T05:57:46.980Z"
   },
   {
    "duration": 75,
    "start_time": "2023-05-31T05:57:47.254Z"
   },
   {
    "duration": 265,
    "start_time": "2023-05-31T05:57:47.331Z"
   },
   {
    "duration": 265,
    "start_time": "2023-05-31T05:57:47.598Z"
   },
   {
    "duration": 560,
    "start_time": "2023-05-31T05:57:47.865Z"
   },
   {
    "duration": 80,
    "start_time": "2023-05-31T05:57:48.426Z"
   },
   {
    "duration": 22,
    "start_time": "2023-05-31T05:57:48.508Z"
   },
   {
    "duration": 51,
    "start_time": "2023-05-31T05:57:48.531Z"
   },
   {
    "duration": 76,
    "start_time": "2023-05-31T05:57:48.584Z"
   },
   {
    "duration": 107,
    "start_time": "2023-05-31T05:57:48.662Z"
   },
   {
    "duration": 72,
    "start_time": "2023-05-31T05:57:48.771Z"
   },
   {
    "duration": 37,
    "start_time": "2023-05-31T05:57:48.845Z"
   },
   {
    "duration": 23,
    "start_time": "2023-05-31T05:57:48.884Z"
   },
   {
    "duration": 62,
    "start_time": "2023-05-31T05:57:48.909Z"
   },
   {
    "duration": 409,
    "start_time": "2023-05-31T05:57:48.973Z"
   },
   {
    "duration": 18,
    "start_time": "2023-05-31T05:57:49.384Z"
   },
   {
    "duration": 55,
    "start_time": "2023-05-31T05:57:49.407Z"
   },
   {
    "duration": 373,
    "start_time": "2023-05-31T05:57:49.464Z"
   },
   {
    "duration": 25,
    "start_time": "2023-05-31T05:57:49.840Z"
   },
   {
    "duration": 25,
    "start_time": "2023-05-31T05:57:49.867Z"
   },
   {
    "duration": 30,
    "start_time": "2023-05-31T05:57:49.894Z"
   },
   {
    "duration": 4,
    "start_time": "2023-05-31T05:57:49.925Z"
   },
   {
    "duration": 4,
    "start_time": "2023-05-31T05:57:49.958Z"
   },
   {
    "duration": 67,
    "start_time": "2023-05-31T05:57:49.963Z"
   },
   {
    "duration": 3,
    "start_time": "2023-05-31T05:57:50.032Z"
   },
   {
    "duration": 47,
    "start_time": "2023-05-31T05:57:50.056Z"
   },
   {
    "duration": 13,
    "start_time": "2023-05-31T05:57:50.105Z"
   },
   {
    "duration": 110,
    "start_time": "2023-05-31T05:57:50.120Z"
   },
   {
    "duration": 4,
    "start_time": "2023-05-31T05:57:50.232Z"
   },
   {
    "duration": 148,
    "start_time": "2023-05-31T05:57:50.238Z"
   },
   {
    "duration": 21,
    "start_time": "2023-05-31T05:57:55.363Z"
   },
   {
    "duration": 826,
    "start_time": "2023-05-31T05:57:57.668Z"
   },
   {
    "duration": 118,
    "start_time": "2023-05-31T05:58:43.804Z"
   },
   {
    "duration": 5,
    "start_time": "2023-05-31T05:58:46.644Z"
   },
   {
    "duration": 4,
    "start_time": "2023-05-31T05:59:23.951Z"
   },
   {
    "duration": 31,
    "start_time": "2023-05-31T06:00:07.996Z"
   },
   {
    "duration": 5,
    "start_time": "2023-05-31T06:00:15.300Z"
   },
   {
    "duration": 32,
    "start_time": "2023-05-31T06:00:52.384Z"
   },
   {
    "duration": 72,
    "start_time": "2023-05-31T06:01:01.427Z"
   },
   {
    "duration": 463,
    "start_time": "2023-05-31T06:01:14.594Z"
   },
   {
    "duration": 188,
    "start_time": "2023-05-31T06:01:16.507Z"
   },
   {
    "duration": 125,
    "start_time": "2023-05-31T06:01:23.543Z"
   },
   {
    "duration": 52,
    "start_time": "2023-05-31T07:53:24.634Z"
   },
   {
    "duration": 55,
    "start_time": "2023-05-31T07:53:37.405Z"
   },
   {
    "duration": 21470,
    "start_time": "2023-05-31T07:53:37.461Z"
   },
   {
    "duration": 2305,
    "start_time": "2023-05-31T07:53:58.933Z"
   },
   {
    "duration": 1010,
    "start_time": "2023-05-31T07:54:01.240Z"
   },
   {
    "duration": 3,
    "start_time": "2023-05-31T07:54:02.252Z"
   },
   {
    "duration": 415,
    "start_time": "2023-05-31T07:54:02.257Z"
   },
   {
    "duration": 4,
    "start_time": "2023-05-31T07:54:02.673Z"
   },
   {
    "duration": 27,
    "start_time": "2023-05-31T07:54:02.679Z"
   },
   {
    "duration": 13,
    "start_time": "2023-05-31T07:54:02.707Z"
   },
   {
    "duration": 121,
    "start_time": "2023-05-31T07:54:02.723Z"
   },
   {
    "duration": 273,
    "start_time": "2023-05-31T07:54:02.846Z"
   },
   {
    "duration": 101,
    "start_time": "2023-05-31T07:54:03.120Z"
   },
   {
    "duration": 212,
    "start_time": "2023-05-31T07:54:03.222Z"
   },
   {
    "duration": 73,
    "start_time": "2023-05-31T07:54:03.435Z"
   },
   {
    "duration": 219,
    "start_time": "2023-05-31T07:54:03.515Z"
   },
   {
    "duration": 231,
    "start_time": "2023-05-31T07:54:03.735Z"
   },
   {
    "duration": 454,
    "start_time": "2023-05-31T07:54:03.968Z"
   },
   {
    "duration": 69,
    "start_time": "2023-05-31T07:54:04.423Z"
   },
   {
    "duration": 28,
    "start_time": "2023-05-31T07:54:04.494Z"
   },
   {
    "duration": 33,
    "start_time": "2023-05-31T07:54:04.524Z"
   },
   {
    "duration": 82,
    "start_time": "2023-05-31T07:54:04.558Z"
   },
   {
    "duration": 82,
    "start_time": "2023-05-31T07:54:04.641Z"
   },
   {
    "duration": 70,
    "start_time": "2023-05-31T07:54:04.725Z"
   },
   {
    "duration": 35,
    "start_time": "2023-05-31T07:54:04.796Z"
   },
   {
    "duration": 19,
    "start_time": "2023-05-31T07:54:04.832Z"
   },
   {
    "duration": 27,
    "start_time": "2023-05-31T07:54:04.852Z"
   },
   {
    "duration": 403,
    "start_time": "2023-05-31T07:54:04.881Z"
   },
   {
    "duration": 14,
    "start_time": "2023-05-31T07:54:05.288Z"
   },
   {
    "duration": 56,
    "start_time": "2023-05-31T07:54:05.304Z"
   },
   {
    "duration": 332,
    "start_time": "2023-05-31T07:54:05.363Z"
   },
   {
    "duration": 19,
    "start_time": "2023-05-31T07:54:05.697Z"
   },
   {
    "duration": 20,
    "start_time": "2023-05-31T07:54:05.717Z"
   },
   {
    "duration": 65,
    "start_time": "2023-05-31T07:54:05.738Z"
   },
   {
    "duration": 35,
    "start_time": "2023-05-31T07:54:05.804Z"
   },
   {
    "duration": 50,
    "start_time": "2023-05-31T07:54:05.840Z"
   },
   {
    "duration": 101,
    "start_time": "2023-05-31T07:54:05.892Z"
   },
   {
    "duration": 3,
    "start_time": "2023-05-31T07:54:05.995Z"
   },
   {
    "duration": 88,
    "start_time": "2023-05-31T07:54:06.000Z"
   },
   {
    "duration": 12,
    "start_time": "2023-05-31T07:54:06.089Z"
   },
   {
    "duration": 53,
    "start_time": "2023-05-31T07:54:06.102Z"
   },
   {
    "duration": 4,
    "start_time": "2023-05-31T07:54:06.156Z"
   },
   {
    "duration": 113,
    "start_time": "2023-05-31T07:54:06.161Z"
   },
   {
    "duration": 23526,
    "start_time": "2023-05-31T07:54:06.275Z"
   },
   {
    "duration": 2359,
    "start_time": "2023-05-31T07:54:29.802Z"
   },
   {
    "duration": 0,
    "start_time": "2023-05-31T07:54:32.162Z"
   },
   {
    "duration": 0,
    "start_time": "2023-05-31T07:54:32.163Z"
   },
   {
    "duration": 0,
    "start_time": "2023-05-31T07:54:32.164Z"
   },
   {
    "duration": 0,
    "start_time": "2023-05-31T07:54:32.165Z"
   },
   {
    "duration": 0,
    "start_time": "2023-05-31T07:54:32.167Z"
   },
   {
    "duration": 0,
    "start_time": "2023-05-31T07:54:32.167Z"
   },
   {
    "duration": 0,
    "start_time": "2023-05-31T07:54:32.168Z"
   },
   {
    "duration": 0,
    "start_time": "2023-05-31T07:54:32.169Z"
   },
   {
    "duration": 0,
    "start_time": "2023-05-31T07:54:32.170Z"
   },
   {
    "duration": 0,
    "start_time": "2023-05-31T07:54:32.171Z"
   },
   {
    "duration": 0,
    "start_time": "2023-05-31T07:54:32.171Z"
   },
   {
    "duration": 0,
    "start_time": "2023-05-31T07:54:32.172Z"
   },
   {
    "duration": 0,
    "start_time": "2023-05-31T07:54:32.173Z"
   },
   {
    "duration": 0,
    "start_time": "2023-05-31T07:54:32.174Z"
   },
   {
    "duration": 0,
    "start_time": "2023-05-31T07:54:32.175Z"
   },
   {
    "duration": 0,
    "start_time": "2023-05-31T07:54:32.176Z"
   },
   {
    "duration": 0,
    "start_time": "2023-05-31T07:54:32.177Z"
   },
   {
    "duration": 0,
    "start_time": "2023-05-31T07:54:32.178Z"
   },
   {
    "duration": 0,
    "start_time": "2023-05-31T07:54:32.178Z"
   },
   {
    "duration": 5,
    "start_time": "2023-05-31T10:19:47.864Z"
   },
   {
    "duration": 691,
    "start_time": "2023-05-31T10:21:46.880Z"
   },
   {
    "duration": 5,
    "start_time": "2023-05-31T10:21:47.618Z"
   },
   {
    "duration": 369,
    "start_time": "2023-05-31T10:21:49.637Z"
   },
   {
    "duration": 22,
    "start_time": "2023-05-31T10:21:50.008Z"
   },
   {
    "duration": 4,
    "start_time": "2023-05-31T10:21:50.139Z"
   },
   {
    "duration": 3,
    "start_time": "2023-05-31T10:21:50.258Z"
   },
   {
    "duration": 126,
    "start_time": "2023-05-31T10:21:50.527Z"
   },
   {
    "duration": 304,
    "start_time": "2023-05-31T10:21:50.655Z"
   },
   {
    "duration": 83,
    "start_time": "2023-05-31T10:21:51.345Z"
   },
   {
    "duration": 201,
    "start_time": "2023-05-31T10:21:52.384Z"
   },
   {
    "duration": 89,
    "start_time": "2023-05-31T10:21:52.587Z"
   },
   {
    "duration": 226,
    "start_time": "2023-05-31T10:21:53.799Z"
   },
   {
    "duration": 213,
    "start_time": "2023-05-31T10:21:54.027Z"
   },
   {
    "duration": 574,
    "start_time": "2023-05-31T10:21:54.427Z"
   },
   {
    "duration": 77,
    "start_time": "2023-05-31T10:21:55.003Z"
   },
   {
    "duration": 18,
    "start_time": "2023-05-31T10:21:55.082Z"
   },
   {
    "duration": 46,
    "start_time": "2023-05-31T10:21:55.102Z"
   },
   {
    "duration": 80,
    "start_time": "2023-05-31T10:21:55.149Z"
   },
   {
    "duration": 72,
    "start_time": "2023-05-31T10:21:55.230Z"
   },
   {
    "duration": 106,
    "start_time": "2023-05-31T10:21:55.303Z"
   },
   {
    "duration": 37,
    "start_time": "2023-05-31T10:21:55.411Z"
   },
   {
    "duration": 20,
    "start_time": "2023-05-31T10:21:55.450Z"
   },
   {
    "duration": 57,
    "start_time": "2023-05-31T10:21:55.472Z"
   },
   {
    "duration": 390,
    "start_time": "2023-05-31T10:21:55.531Z"
   },
   {
    "duration": 13,
    "start_time": "2023-05-31T10:21:55.922Z"
   },
   {
    "duration": 26,
    "start_time": "2023-05-31T10:21:55.937Z"
   },
   {
    "duration": 307,
    "start_time": "2023-05-31T10:21:55.964Z"
   },
   {
    "duration": 11,
    "start_time": "2023-05-31T10:21:56.272Z"
   },
   {
    "duration": 44,
    "start_time": "2023-05-31T10:21:56.285Z"
   },
   {
    "duration": 30,
    "start_time": "2023-05-31T10:21:56.331Z"
   },
   {
    "duration": 3,
    "start_time": "2023-05-31T10:21:56.363Z"
   },
   {
    "duration": 4,
    "start_time": "2023-05-31T10:21:59.673Z"
   },
   {
    "duration": 71,
    "start_time": "2023-05-31T10:22:01.288Z"
   },
   {
    "duration": 3,
    "start_time": "2023-05-31T10:22:05.827Z"
   },
   {
    "duration": 31,
    "start_time": "2023-05-31T10:22:09.040Z"
   },
   {
    "duration": 24,
    "start_time": "2023-05-31T10:22:10.002Z"
   },
   {
    "duration": 50,
    "start_time": "2023-05-31T10:22:10.257Z"
   },
   {
    "duration": 12,
    "start_time": "2023-05-31T10:22:10.713Z"
   },
   {
    "duration": 20488,
    "start_time": "2023-05-31T10:22:16.880Z"
   },
   {
    "duration": 107,
    "start_time": "2023-05-31T10:26:39.177Z"
   },
   {
    "duration": 248,
    "start_time": "2023-05-31T10:29:15.205Z"
   },
   {
    "duration": 11684,
    "start_time": "2023-05-31T10:29:26.094Z"
   },
   {
    "duration": 21,
    "start_time": "2023-05-31T10:29:43.015Z"
   },
   {
    "duration": 4,
    "start_time": "2023-05-31T10:29:58.534Z"
   },
   {
    "duration": 4,
    "start_time": "2023-05-31T10:30:06.451Z"
   },
   {
    "duration": 7,
    "start_time": "2023-05-31T10:30:08.408Z"
   },
   {
    "duration": 32798,
    "start_time": "2023-05-31T10:30:12.441Z"
   },
   {
    "duration": 3999,
    "start_time": "2023-05-31T10:30:45.244Z"
   },
   {
    "duration": 16796,
    "start_time": "2023-05-31T10:30:49.244Z"
   },
   {
    "duration": 2,
    "start_time": "2023-05-31T10:31:06.043Z"
   },
   {
    "duration": 3299,
    "start_time": "2023-05-31T10:31:06.046Z"
   },
   {
    "duration": 123441,
    "start_time": "2023-05-31T10:31:29.895Z"
   },
   {
    "duration": 294991,
    "start_time": "2023-05-31T10:33:33.338Z"
   },
   {
    "duration": 105,
    "start_time": "2023-05-31T10:52:41.501Z"
   },
   {
    "duration": 9975,
    "start_time": "2023-05-31T10:52:41.608Z"
   },
   {
    "duration": 2987,
    "start_time": "2023-05-31T10:52:51.585Z"
   },
   {
    "duration": 739,
    "start_time": "2023-05-31T10:52:54.574Z"
   },
   {
    "duration": 10,
    "start_time": "2023-05-31T10:52:55.325Z"
   },
   {
    "duration": 455,
    "start_time": "2023-05-31T10:52:55.336Z"
   },
   {
    "duration": 3,
    "start_time": "2023-05-31T10:52:55.793Z"
   },
   {
    "duration": 7,
    "start_time": "2023-05-31T10:52:55.798Z"
   },
   {
    "duration": 15,
    "start_time": "2023-05-31T10:52:55.806Z"
   },
   {
    "duration": 126,
    "start_time": "2023-05-31T10:52:55.823Z"
   },
   {
    "duration": 263,
    "start_time": "2023-05-31T10:52:55.950Z"
   },
   {
    "duration": 116,
    "start_time": "2023-05-31T10:52:56.215Z"
   },
   {
    "duration": 200,
    "start_time": "2023-05-31T10:52:56.333Z"
   },
   {
    "duration": 81,
    "start_time": "2023-05-31T10:52:56.535Z"
   },
   {
    "duration": 247,
    "start_time": "2023-05-31T10:52:56.617Z"
   },
   {
    "duration": 220,
    "start_time": "2023-05-31T10:52:56.866Z"
   },
   {
    "duration": 486,
    "start_time": "2023-05-31T10:52:57.087Z"
   },
   {
    "duration": 83,
    "start_time": "2023-05-31T10:52:57.575Z"
   },
   {
    "duration": 18,
    "start_time": "2023-05-31T10:52:57.660Z"
   },
   {
    "duration": 50,
    "start_time": "2023-05-31T10:52:57.679Z"
   },
   {
    "duration": 69,
    "start_time": "2023-05-31T10:52:57.731Z"
   },
   {
    "duration": 103,
    "start_time": "2023-05-31T10:52:57.801Z"
   },
   {
    "duration": 86,
    "start_time": "2023-05-31T10:52:57.905Z"
   },
   {
    "duration": 39,
    "start_time": "2023-05-31T10:52:57.992Z"
   },
   {
    "duration": 19,
    "start_time": "2023-05-31T10:52:58.032Z"
   },
   {
    "duration": 29,
    "start_time": "2023-05-31T10:52:58.052Z"
   },
   {
    "duration": 416,
    "start_time": "2023-05-31T10:52:58.083Z"
   },
   {
    "duration": 18,
    "start_time": "2023-05-31T10:52:58.503Z"
   },
   {
    "duration": 30,
    "start_time": "2023-05-31T10:52:58.524Z"
   },
   {
    "duration": 321,
    "start_time": "2023-05-31T10:52:58.555Z"
   },
   {
    "duration": 14,
    "start_time": "2023-05-31T10:52:58.878Z"
   },
   {
    "duration": 40,
    "start_time": "2023-05-31T10:52:58.894Z"
   },
   {
    "duration": 25,
    "start_time": "2023-05-31T10:52:58.936Z"
   },
   {
    "duration": 3,
    "start_time": "2023-05-31T10:52:58.963Z"
   },
   {
    "duration": 5,
    "start_time": "2023-05-31T10:52:58.968Z"
   },
   {
    "duration": 95,
    "start_time": "2023-05-31T10:52:58.975Z"
   },
   {
    "duration": 3,
    "start_time": "2023-05-31T10:52:59.071Z"
   },
   {
    "duration": 38,
    "start_time": "2023-05-31T10:52:59.076Z"
   },
   {
    "duration": 15,
    "start_time": "2023-05-31T10:52:59.115Z"
   },
   {
    "duration": 53,
    "start_time": "2023-05-31T10:52:59.131Z"
   },
   {
    "duration": 4,
    "start_time": "2023-05-31T10:52:59.185Z"
   },
   {
    "duration": 119,
    "start_time": "2023-05-31T10:52:59.190Z"
   },
   {
    "duration": 301,
    "start_time": "2023-05-31T10:52:59.311Z"
   },
   {
    "duration": 87,
    "start_time": "2023-05-31T10:52:59.613Z"
   },
   {
    "duration": 213,
    "start_time": "2023-05-31T10:52:59.701Z"
   },
   {
    "duration": 9,
    "start_time": "2023-05-31T10:52:59.925Z"
   },
   {
    "duration": 24,
    "start_time": "2023-05-31T10:52:59.936Z"
   },
   {
    "duration": 8,
    "start_time": "2023-05-31T10:52:59.962Z"
   },
   {
    "duration": 16474,
    "start_time": "2023-05-31T10:52:59.971Z"
   },
   {
    "duration": 24683,
    "start_time": "2023-05-31T10:53:16.447Z"
   },
   {
    "duration": 42577,
    "start_time": "2023-05-31T10:53:41.131Z"
   },
   {
    "duration": 2,
    "start_time": "2023-05-31T10:54:23.710Z"
   },
   {
    "duration": 7916,
    "start_time": "2023-05-31T10:54:23.721Z"
   },
   {
    "duration": 990224,
    "start_time": "2023-05-31T10:54:31.639Z"
   },
   {
    "duration": 54,
    "start_time": "2023-05-31T11:39:22.375Z"
   },
   {
    "duration": 94,
    "start_time": "2023-05-31T11:39:41.601Z"
   },
   {
    "duration": 8929,
    "start_time": "2023-05-31T11:39:41.697Z"
   },
   {
    "duration": 2300,
    "start_time": "2023-05-31T11:39:50.627Z"
   },
   {
    "duration": 730,
    "start_time": "2023-05-31T11:39:52.930Z"
   },
   {
    "duration": 5,
    "start_time": "2023-05-31T11:39:53.661Z"
   },
   {
    "duration": 456,
    "start_time": "2023-05-31T11:39:53.668Z"
   },
   {
    "duration": 4,
    "start_time": "2023-05-31T11:39:54.128Z"
   },
   {
    "duration": 4,
    "start_time": "2023-05-31T11:39:54.133Z"
   },
   {
    "duration": 45,
    "start_time": "2023-05-31T11:39:54.138Z"
   },
   {
    "duration": 186,
    "start_time": "2023-05-31T11:39:54.186Z"
   },
   {
    "duration": 287,
    "start_time": "2023-05-31T11:39:54.373Z"
   },
   {
    "duration": 101,
    "start_time": "2023-05-31T11:39:54.661Z"
   },
   {
    "duration": 235,
    "start_time": "2023-05-31T11:39:54.763Z"
   },
   {
    "duration": 93,
    "start_time": "2023-05-31T11:39:55.000Z"
   },
   {
    "duration": 243,
    "start_time": "2023-05-31T11:39:55.094Z"
   },
   {
    "duration": 238,
    "start_time": "2023-05-31T11:39:55.343Z"
   },
   {
    "duration": 574,
    "start_time": "2023-05-31T11:39:55.583Z"
   },
   {
    "duration": 88,
    "start_time": "2023-05-31T11:39:56.158Z"
   },
   {
    "duration": 19,
    "start_time": "2023-05-31T11:39:56.249Z"
   },
   {
    "duration": 31,
    "start_time": "2023-05-31T11:39:56.269Z"
   },
   {
    "duration": 88,
    "start_time": "2023-05-31T11:39:56.302Z"
   },
   {
    "duration": 98,
    "start_time": "2023-05-31T11:39:56.391Z"
   },
   {
    "duration": 91,
    "start_time": "2023-05-31T11:39:56.490Z"
   },
   {
    "duration": 22,
    "start_time": "2023-05-31T11:39:56.583Z"
   },
   {
    "duration": 27,
    "start_time": "2023-05-31T11:39:56.616Z"
   },
   {
    "duration": 32,
    "start_time": "2023-05-31T11:39:56.646Z"
   },
   {
    "duration": 401,
    "start_time": "2023-05-31T11:39:56.679Z"
   },
   {
    "duration": 11,
    "start_time": "2023-05-31T11:39:57.084Z"
   },
   {
    "duration": 48,
    "start_time": "2023-05-31T11:39:57.096Z"
   },
   {
    "duration": 312,
    "start_time": "2023-05-31T11:39:57.146Z"
   },
   {
    "duration": 11,
    "start_time": "2023-05-31T11:39:57.459Z"
   },
   {
    "duration": 28,
    "start_time": "2023-05-31T11:39:57.471Z"
   },
   {
    "duration": 31,
    "start_time": "2023-05-31T11:39:57.500Z"
   },
   {
    "duration": 5,
    "start_time": "2023-05-31T11:39:57.532Z"
   },
   {
    "duration": 12,
    "start_time": "2023-05-31T11:39:57.541Z"
   },
   {
    "duration": 56,
    "start_time": "2023-05-31T11:39:57.554Z"
   },
   {
    "duration": 7,
    "start_time": "2023-05-31T11:39:57.618Z"
   },
   {
    "duration": 55,
    "start_time": "2023-05-31T11:39:57.628Z"
   },
   {
    "duration": 12,
    "start_time": "2023-05-31T11:39:57.684Z"
   },
   {
    "duration": 66,
    "start_time": "2023-05-31T11:39:57.697Z"
   },
   {
    "duration": 4,
    "start_time": "2023-05-31T11:39:57.764Z"
   },
   {
    "duration": 134,
    "start_time": "2023-05-31T11:39:57.770Z"
   },
   {
    "duration": 297,
    "start_time": "2023-05-31T11:39:57.906Z"
   },
   {
    "duration": 90,
    "start_time": "2023-05-31T11:39:58.205Z"
   },
   {
    "duration": 209,
    "start_time": "2023-05-31T11:39:58.296Z"
   },
   {
    "duration": 4,
    "start_time": "2023-05-31T11:39:58.506Z"
   },
   {
    "duration": 14,
    "start_time": "2023-05-31T11:39:58.511Z"
   },
   {
    "duration": 22,
    "start_time": "2023-05-31T11:39:58.527Z"
   },
   {
    "duration": 14374,
    "start_time": "2023-05-31T11:39:58.551Z"
   },
   {
    "duration": 25221,
    "start_time": "2023-05-31T11:40:12.928Z"
   },
   {
    "duration": 44892,
    "start_time": "2023-05-31T11:40:38.151Z"
   },
   {
    "duration": 3,
    "start_time": "2023-05-31T11:41:23.044Z"
   },
   {
    "duration": 8461,
    "start_time": "2023-05-31T11:41:23.050Z"
   },
   {
    "duration": 70,
    "start_time": "2023-05-31T14:17:27.976Z"
   },
   {
    "duration": 29392,
    "start_time": "2023-05-31T14:17:29.009Z"
   },
   {
    "duration": 3228,
    "start_time": "2023-05-31T14:17:58.406Z"
   },
   {
    "duration": 4589,
    "start_time": "2023-05-31T14:18:01.635Z"
   },
   {
    "duration": 5,
    "start_time": "2023-05-31T14:18:06.227Z"
   },
   {
    "duration": 851,
    "start_time": "2023-05-31T14:18:06.234Z"
   },
   {
    "duration": 10,
    "start_time": "2023-05-31T14:18:07.092Z"
   },
   {
    "duration": 28,
    "start_time": "2023-05-31T14:18:07.108Z"
   },
   {
    "duration": 19,
    "start_time": "2023-05-31T14:18:07.138Z"
   },
   {
    "duration": 225,
    "start_time": "2023-05-31T14:18:07.160Z"
   },
   {
    "duration": 436,
    "start_time": "2023-05-31T14:18:07.388Z"
   },
   {
    "duration": 147,
    "start_time": "2023-05-31T14:18:07.829Z"
   },
   {
    "duration": 365,
    "start_time": "2023-05-31T14:18:07.981Z"
   },
   {
    "duration": 129,
    "start_time": "2023-05-31T14:18:08.349Z"
   },
   {
    "duration": 346,
    "start_time": "2023-05-31T14:18:08.480Z"
   },
   {
    "duration": 312,
    "start_time": "2023-05-31T14:18:08.827Z"
   },
   {
    "duration": 901,
    "start_time": "2023-05-31T14:18:09.140Z"
   },
   {
    "duration": 119,
    "start_time": "2023-05-31T14:18:10.044Z"
   },
   {
    "duration": 40,
    "start_time": "2023-05-31T14:18:10.165Z"
   },
   {
    "duration": 35,
    "start_time": "2023-05-31T14:18:10.212Z"
   },
   {
    "duration": 134,
    "start_time": "2023-05-31T14:18:10.249Z"
   },
   {
    "duration": 729,
    "start_time": "2023-05-31T14:18:10.385Z"
   },
   {
    "duration": 315,
    "start_time": "2023-05-31T14:18:11.117Z"
   },
   {
    "duration": 75,
    "start_time": "2023-05-31T14:18:11.434Z"
   },
   {
    "duration": 29,
    "start_time": "2023-05-31T14:18:11.515Z"
   },
   {
    "duration": 53,
    "start_time": "2023-05-31T14:18:11.547Z"
   },
   {
    "duration": 611,
    "start_time": "2023-05-31T14:18:11.606Z"
   },
   {
    "duration": 37,
    "start_time": "2023-05-31T14:18:12.220Z"
   },
   {
    "duration": 54,
    "start_time": "2023-05-31T14:18:12.268Z"
   },
   {
    "duration": 621,
    "start_time": "2023-05-31T14:18:12.325Z"
   },
   {
    "duration": 23,
    "start_time": "2023-05-31T14:18:12.959Z"
   },
   {
    "duration": 34,
    "start_time": "2023-05-31T14:18:12.984Z"
   },
   {
    "duration": 42,
    "start_time": "2023-05-31T14:18:13.027Z"
   },
   {
    "duration": 6,
    "start_time": "2023-05-31T14:18:13.071Z"
   },
   {
    "duration": 32,
    "start_time": "2023-05-31T14:18:13.079Z"
   },
   {
    "duration": 163,
    "start_time": "2023-05-31T14:18:13.112Z"
   },
   {
    "duration": 5,
    "start_time": "2023-05-31T14:18:13.283Z"
   },
   {
    "duration": 69,
    "start_time": "2023-05-31T14:18:13.294Z"
   },
   {
    "duration": 27,
    "start_time": "2023-05-31T14:18:13.371Z"
   },
   {
    "duration": 110,
    "start_time": "2023-05-31T14:18:13.403Z"
   },
   {
    "duration": 6,
    "start_time": "2023-05-31T14:18:13.519Z"
   },
   {
    "duration": 11,
    "start_time": "2023-05-31T14:18:40.885Z"
   },
   {
    "duration": 157,
    "start_time": "2023-05-31T14:18:43.850Z"
   },
   {
    "duration": 393,
    "start_time": "2023-05-31T14:20:03.415Z"
   },
   {
    "duration": 151,
    "start_time": "2023-05-31T14:20:04.789Z"
   },
   {
    "duration": 273,
    "start_time": "2023-05-31T14:20:37.989Z"
   },
   {
    "duration": 13,
    "start_time": "2023-05-31T14:20:38.383Z"
   },
   {
    "duration": 28,
    "start_time": "2023-05-31T14:21:01.909Z"
   },
   {
    "duration": 232,
    "start_time": "2023-05-31T14:21:17.510Z"
   },
   {
    "duration": 7,
    "start_time": "2023-05-31T14:21:21.714Z"
   },
   {
    "duration": 238,
    "start_time": "2023-05-31T14:27:26.439Z"
   },
   {
    "duration": 2745,
    "start_time": "2023-05-31T14:27:34.987Z"
   },
   {
    "duration": 48,
    "start_time": "2023-05-31T18:10:51.550Z"
   },
   {
    "duration": 20736,
    "start_time": "2023-05-31T18:10:53.950Z"
   },
   {
    "duration": 2374,
    "start_time": "2023-05-31T18:11:14.687Z"
   },
   {
    "duration": 924,
    "start_time": "2023-05-31T18:11:17.063Z"
   },
   {
    "duration": 4,
    "start_time": "2023-05-31T18:11:17.990Z"
   },
   {
    "duration": 435,
    "start_time": "2023-05-31T18:11:17.995Z"
   },
   {
    "duration": 4,
    "start_time": "2023-05-31T18:11:18.431Z"
   },
   {
    "duration": 16,
    "start_time": "2023-05-31T18:11:18.436Z"
   },
   {
    "duration": 4,
    "start_time": "2023-05-31T18:11:18.453Z"
   },
   {
    "duration": 105,
    "start_time": "2023-05-31T18:11:18.458Z"
   },
   {
    "duration": 230,
    "start_time": "2023-05-31T18:11:18.565Z"
   },
   {
    "duration": 88,
    "start_time": "2023-05-31T18:11:18.797Z"
   },
   {
    "duration": 210,
    "start_time": "2023-05-31T18:11:18.886Z"
   },
   {
    "duration": 77,
    "start_time": "2023-05-31T18:11:19.097Z"
   },
   {
    "duration": 211,
    "start_time": "2023-05-31T18:11:19.175Z"
   },
   {
    "duration": 224,
    "start_time": "2023-05-31T18:11:19.387Z"
   },
   {
    "duration": 448,
    "start_time": "2023-05-31T18:11:19.615Z"
   },
   {
    "duration": 77,
    "start_time": "2023-05-31T18:11:20.064Z"
   },
   {
    "duration": 17,
    "start_time": "2023-05-31T18:11:20.142Z"
   },
   {
    "duration": 31,
    "start_time": "2023-05-31T18:11:20.161Z"
   },
   {
    "duration": 83,
    "start_time": "2023-05-31T18:11:20.193Z"
   },
   {
    "duration": 79,
    "start_time": "2023-05-31T18:11:20.277Z"
   },
   {
    "duration": 73,
    "start_time": "2023-05-31T18:11:20.358Z"
   },
   {
    "duration": 24,
    "start_time": "2023-05-31T18:11:20.432Z"
   },
   {
    "duration": 18,
    "start_time": "2023-05-31T18:11:20.457Z"
   },
   {
    "duration": 45,
    "start_time": "2023-05-31T18:11:20.477Z"
   },
   {
    "duration": 330,
    "start_time": "2023-05-31T18:11:20.524Z"
   },
   {
    "duration": 11,
    "start_time": "2023-05-31T18:11:20.856Z"
   },
   {
    "duration": 24,
    "start_time": "2023-05-31T18:11:20.869Z"
   },
   {
    "duration": 294,
    "start_time": "2023-05-31T18:11:20.895Z"
   },
   {
    "duration": 11,
    "start_time": "2023-05-31T18:11:21.191Z"
   },
   {
    "duration": 28,
    "start_time": "2023-05-31T18:11:21.204Z"
   },
   {
    "duration": 22,
    "start_time": "2023-05-31T18:11:21.233Z"
   },
   {
    "duration": 3,
    "start_time": "2023-05-31T18:11:21.257Z"
   },
   {
    "duration": 3,
    "start_time": "2023-05-31T18:11:31.514Z"
   },
   {
    "duration": 66,
    "start_time": "2023-05-31T18:11:36.207Z"
   },
   {
    "duration": 3,
    "start_time": "2023-05-31T18:11:38.107Z"
   },
   {
    "duration": 33,
    "start_time": "2023-05-31T18:11:40.957Z"
   },
   {
    "duration": 12,
    "start_time": "2023-05-31T18:11:41.895Z"
   },
   {
    "duration": 51,
    "start_time": "2023-05-31T18:11:44.483Z"
   },
   {
    "duration": 4,
    "start_time": "2023-05-31T18:11:44.886Z"
   },
   {
    "duration": 106,
    "start_time": "2023-05-31T18:11:53.552Z"
   },
   {
    "duration": 56,
    "start_time": "2023-05-31T18:12:23.796Z"
   },
   {
    "duration": 54,
    "start_time": "2023-05-31T18:13:07.240Z"
   },
   {
    "duration": 281,
    "start_time": "2023-05-31T18:13:14.175Z"
   },
   {
    "duration": 87,
    "start_time": "2023-05-31T18:13:15.417Z"
   },
   {
    "duration": 3,
    "start_time": "2023-05-31T18:13:17.376Z"
   },
   {
    "duration": 184,
    "start_time": "2023-05-31T18:13:20.920Z"
   },
   {
    "duration": 4,
    "start_time": "2023-05-31T18:13:21.966Z"
   },
   {
    "duration": 4,
    "start_time": "2023-05-31T18:13:25.565Z"
   },
   {
    "duration": 6,
    "start_time": "2023-05-31T18:13:26.913Z"
   },
   {
    "duration": 18660,
    "start_time": "2023-05-31T18:13:28.366Z"
   },
   {
    "duration": 23681,
    "start_time": "2023-05-31T18:13:47.027Z"
   },
   {
    "duration": 9,
    "start_time": "2023-05-31T18:14:10.709Z"
   },
   {
    "duration": 7651,
    "start_time": "2023-05-31T18:14:27.254Z"
   },
   {
    "duration": 6149,
    "start_time": "2023-05-31T18:14:44.883Z"
   },
   {
    "duration": 3,
    "start_time": "2023-05-31T18:14:59.050Z"
   },
   {
    "duration": 11501,
    "start_time": "2023-05-31T18:14:59.716Z"
   },
   {
    "duration": 11,
    "start_time": "2023-05-31T18:15:26.661Z"
   },
   {
    "duration": 3,
    "start_time": "2023-05-31T18:15:45.477Z"
   },
   {
    "duration": 8767,
    "start_time": "2023-05-31T18:15:47.353Z"
   },
   {
    "duration": 10,
    "start_time": "2023-05-31T18:16:02.649Z"
   },
   {
    "duration": 6663,
    "start_time": "2023-05-31T18:16:08.463Z"
   },
   {
    "duration": 10,
    "start_time": "2023-05-31T18:16:15.128Z"
   },
   {
    "duration": 89,
    "start_time": "2023-07-16T17:44:40.223Z"
   },
   {
    "duration": 24660,
    "start_time": "2023-07-16T17:44:41.723Z"
   },
   {
    "duration": 3165,
    "start_time": "2023-07-16T17:45:06.386Z"
   },
   {
    "duration": 1157,
    "start_time": "2023-07-16T17:45:09.552Z"
   },
   {
    "duration": 5,
    "start_time": "2023-07-16T17:45:10.711Z"
   },
   {
    "duration": 41502,
    "start_time": "2023-07-16T17:47:05.851Z"
   },
   {
    "duration": 9603,
    "start_time": "2023-10-17T12:28:37.202Z"
   },
   {
    "duration": 2964,
    "start_time": "2023-10-17T12:28:46.807Z"
   },
   {
    "duration": 1135,
    "start_time": "2023-10-17T12:28:49.773Z"
   },
   {
    "duration": 4,
    "start_time": "2023-10-17T12:28:50.910Z"
   },
   {
    "duration": 203,
    "start_time": "2023-10-17T12:28:50.916Z"
   },
   {
    "duration": 7020,
    "start_time": "2023-10-17T12:34:44.810Z"
   },
   {
    "duration": 28559,
    "start_time": "2023-10-17T12:37:34.127Z"
   },
   {
    "duration": 87,
    "start_time": "2023-10-20T10:28:00.495Z"
   },
   {
    "duration": 5429,
    "start_time": "2023-10-20T10:28:02.361Z"
   },
   {
    "duration": 1835,
    "start_time": "2023-10-20T10:28:07.792Z"
   },
   {
    "duration": 2930,
    "start_time": "2023-10-20T10:28:09.629Z"
   },
   {
    "duration": 5,
    "start_time": "2023-10-20T10:28:12.561Z"
   },
   {
    "duration": 1843,
    "start_time": "2023-10-20T10:28:12.568Z"
   },
   {
    "duration": 479,
    "start_time": "2023-10-20T10:29:24.833Z"
   },
   {
    "duration": 10,
    "start_time": "2023-10-20T10:29:27.552Z"
   },
   {
    "duration": 5,
    "start_time": "2023-10-20T10:29:28.634Z"
   },
   {
    "duration": 460,
    "start_time": "2023-10-20T10:30:04.356Z"
   },
   {
    "duration": 499,
    "start_time": "2023-10-20T10:30:11.737Z"
   },
   {
    "duration": 4,
    "start_time": "2023-10-20T10:33:38.660Z"
   },
   {
    "duration": 504,
    "start_time": "2023-10-20T10:33:43.528Z"
   },
   {
    "duration": 4,
    "start_time": "2023-10-20T10:33:58.486Z"
   },
   {
    "duration": 5,
    "start_time": "2023-10-20T10:33:59.256Z"
   },
   {
    "duration": 3,
    "start_time": "2023-10-20T10:33:59.789Z"
   },
   {
    "duration": 156,
    "start_time": "2023-10-20T10:34:02.206Z"
   },
   {
    "duration": 282,
    "start_time": "2023-10-20T10:34:03.034Z"
   },
   {
    "duration": 105,
    "start_time": "2023-10-20T10:34:05.685Z"
   },
   {
    "duration": 67,
    "start_time": "2023-10-20T11:53:55.663Z"
   },
   {
    "duration": 5202,
    "start_time": "2023-10-20T11:53:55.732Z"
   },
   {
    "duration": 1683,
    "start_time": "2023-10-20T11:54:00.936Z"
   },
   {
    "duration": 1059,
    "start_time": "2023-10-20T11:54:02.621Z"
   },
   {
    "duration": 6,
    "start_time": "2023-10-20T11:54:03.682Z"
   },
   {
    "duration": 2030,
    "start_time": "2023-10-20T11:54:03.692Z"
   },
   {
    "duration": 602,
    "start_time": "2023-10-20T11:54:05.724Z"
   },
   {
    "duration": 4,
    "start_time": "2023-10-20T11:54:06.328Z"
   },
   {
    "duration": 45,
    "start_time": "2023-10-20T11:54:06.334Z"
   },
   {
    "duration": 5,
    "start_time": "2023-10-20T11:54:06.390Z"
   },
   {
    "duration": 197,
    "start_time": "2023-10-20T11:54:06.397Z"
   },
   {
    "duration": 332,
    "start_time": "2023-10-20T11:54:06.596Z"
   },
   {
    "duration": 150,
    "start_time": "2023-10-20T11:54:06.930Z"
   },
   {
    "duration": 314,
    "start_time": "2023-10-20T11:54:07.082Z"
   },
   {
    "duration": 123,
    "start_time": "2023-10-20T11:54:07.397Z"
   },
   {
    "duration": 316,
    "start_time": "2023-10-20T11:54:07.522Z"
   },
   {
    "duration": 341,
    "start_time": "2023-10-20T11:54:07.839Z"
   },
   {
    "duration": 606,
    "start_time": "2023-10-20T11:54:08.183Z"
   },
   {
    "duration": 128,
    "start_time": "2023-10-20T11:54:08.791Z"
   },
   {
    "duration": 45,
    "start_time": "2023-10-20T11:54:08.921Z"
   },
   {
    "duration": 46,
    "start_time": "2023-10-20T11:54:08.968Z"
   },
   {
    "duration": 159,
    "start_time": "2023-10-20T11:54:09.017Z"
   },
   {
    "duration": 156,
    "start_time": "2023-10-20T11:54:09.178Z"
   },
   {
    "duration": 151,
    "start_time": "2023-10-20T11:54:09.336Z"
   },
   {
    "duration": 26,
    "start_time": "2023-10-20T11:54:09.494Z"
   },
   {
    "duration": 26,
    "start_time": "2023-10-20T11:54:09.522Z"
   },
   {
    "duration": 44,
    "start_time": "2023-10-20T11:54:09.554Z"
   },
   {
    "duration": 575,
    "start_time": "2023-10-20T11:54:09.602Z"
   },
   {
    "duration": 14,
    "start_time": "2023-10-20T11:54:10.179Z"
   },
   {
    "duration": 25,
    "start_time": "2023-10-20T11:54:10.195Z"
   },
   {
    "duration": 415,
    "start_time": "2023-10-20T11:54:10.222Z"
   },
   {
    "duration": 20,
    "start_time": "2023-10-20T11:54:10.639Z"
   },
   {
    "duration": 35,
    "start_time": "2023-10-20T11:54:10.665Z"
   },
   {
    "duration": 26,
    "start_time": "2023-10-20T11:54:10.702Z"
   },
   {
    "duration": 4,
    "start_time": "2023-10-20T11:54:10.730Z"
   },
   {
    "duration": 5,
    "start_time": "2023-10-20T11:54:10.745Z"
   },
   {
    "duration": 117,
    "start_time": "2023-10-20T11:54:10.751Z"
   },
   {
    "duration": 4,
    "start_time": "2023-10-20T11:54:10.877Z"
   },
   {
    "duration": 53,
    "start_time": "2023-10-20T11:54:10.883Z"
   },
   {
    "duration": 24,
    "start_time": "2023-10-20T11:54:10.938Z"
   },
   {
    "duration": 85,
    "start_time": "2023-10-20T11:54:10.964Z"
   },
   {
    "duration": 19,
    "start_time": "2023-10-20T11:54:11.052Z"
   },
   {
    "duration": 160,
    "start_time": "2023-10-20T11:54:11.075Z"
   },
   {
    "duration": 88,
    "start_time": "2023-10-20T11:54:11.237Z"
   },
   {
    "duration": 431,
    "start_time": "2023-10-20T11:54:11.327Z"
   },
   {
    "duration": 106,
    "start_time": "2023-10-20T11:54:11.763Z"
   },
   {
    "duration": 5,
    "start_time": "2023-10-20T11:54:11.871Z"
   },
   {
    "duration": 278,
    "start_time": "2023-10-20T11:54:11.878Z"
   },
   {
    "duration": 9,
    "start_time": "2023-10-20T11:54:12.157Z"
   },
   {
    "duration": 26,
    "start_time": "2023-10-20T11:54:12.169Z"
   },
   {
    "duration": 10,
    "start_time": "2023-10-20T11:54:12.197Z"
   },
   {
    "duration": 16631,
    "start_time": "2023-10-20T11:54:12.208Z"
   },
   {
    "duration": 31654,
    "start_time": "2023-10-20T11:54:28.840Z"
   },
   {
    "duration": 4,
    "start_time": "2023-10-20T11:55:00.496Z"
   },
   {
    "duration": 9116,
    "start_time": "2023-10-20T11:55:00.501Z"
   },
   {
    "duration": 288658,
    "start_time": "2023-10-20T11:55:09.619Z"
   },
   {
    "duration": 4,
    "start_time": "2023-10-20T11:59:58.279Z"
   },
   {
    "duration": 270387,
    "start_time": "2023-10-20T11:59:58.285Z"
   },
   {
    "duration": 88,
    "start_time": "2023-10-20T12:04:28.674Z"
   },
   {
    "duration": 135916,
    "start_time": "2023-10-20T12:04:28.764Z"
   },
   {
    "duration": 11,
    "start_time": "2023-10-20T12:06:44.681Z"
   },
   {
    "duration": 62,
    "start_time": "2023-10-20T12:07:51.364Z"
   },
   {
    "duration": 4738,
    "start_time": "2023-10-20T12:07:51.428Z"
   },
   {
    "duration": 1706,
    "start_time": "2023-10-20T12:07:56.167Z"
   },
   {
    "duration": 1000,
    "start_time": "2023-10-20T12:07:57.875Z"
   },
   {
    "duration": 4,
    "start_time": "2023-10-20T12:07:58.877Z"
   },
   {
    "duration": 1698,
    "start_time": "2023-10-20T12:07:58.882Z"
   },
   {
    "duration": 532,
    "start_time": "2023-10-20T12:08:00.582Z"
   },
   {
    "duration": 4,
    "start_time": "2023-10-20T12:08:01.116Z"
   },
   {
    "duration": 60,
    "start_time": "2023-10-20T12:08:01.122Z"
   },
   {
    "duration": 44,
    "start_time": "2023-10-20T12:08:01.184Z"
   },
   {
    "duration": 216,
    "start_time": "2023-10-20T12:08:01.229Z"
   },
   {
    "duration": 283,
    "start_time": "2023-10-20T12:08:01.447Z"
   },
   {
    "duration": 121,
    "start_time": "2023-10-20T12:08:01.732Z"
   },
   {
    "duration": 326,
    "start_time": "2023-10-20T12:08:01.857Z"
   },
   {
    "duration": 118,
    "start_time": "2023-10-20T12:08:02.185Z"
   },
   {
    "duration": 288,
    "start_time": "2023-10-20T12:08:02.305Z"
   },
   {
    "duration": 272,
    "start_time": "2023-10-20T12:08:02.594Z"
   },
   {
    "duration": 637,
    "start_time": "2023-10-20T12:08:02.867Z"
   },
   {
    "duration": 115,
    "start_time": "2023-10-20T12:08:03.506Z"
   },
   {
    "duration": 39,
    "start_time": "2023-10-20T12:08:03.623Z"
   },
   {
    "duration": 35,
    "start_time": "2023-10-20T12:08:03.664Z"
   },
   {
    "duration": 108,
    "start_time": "2023-10-20T12:08:03.701Z"
   },
   {
    "duration": 115,
    "start_time": "2023-10-20T12:08:03.811Z"
   },
   {
    "duration": 130,
    "start_time": "2023-10-20T12:08:03.927Z"
   },
   {
    "duration": 32,
    "start_time": "2023-10-20T12:08:04.059Z"
   },
   {
    "duration": 24,
    "start_time": "2023-10-20T12:08:04.093Z"
   },
   {
    "duration": 53,
    "start_time": "2023-10-20T12:08:04.119Z"
   },
   {
    "duration": 525,
    "start_time": "2023-10-20T12:08:04.174Z"
   },
   {
    "duration": 15,
    "start_time": "2023-10-20T12:08:04.701Z"
   },
   {
    "duration": 44,
    "start_time": "2023-10-20T12:08:04.718Z"
   },
   {
    "duration": 432,
    "start_time": "2023-10-20T12:08:04.764Z"
   },
   {
    "duration": 13,
    "start_time": "2023-10-20T12:08:05.197Z"
   },
   {
    "duration": 37,
    "start_time": "2023-10-20T12:08:05.212Z"
   },
   {
    "duration": 32,
    "start_time": "2023-10-20T12:08:05.251Z"
   },
   {
    "duration": 33,
    "start_time": "2023-10-20T12:08:05.285Z"
   },
   {
    "duration": 29,
    "start_time": "2023-10-20T12:08:05.320Z"
   },
   {
    "duration": 110,
    "start_time": "2023-10-20T12:08:05.352Z"
   },
   {
    "duration": 3,
    "start_time": "2023-10-20T12:08:05.473Z"
   },
   {
    "duration": 38,
    "start_time": "2023-10-20T12:08:05.478Z"
   },
   {
    "duration": 12,
    "start_time": "2023-10-20T12:08:05.518Z"
   },
   {
    "duration": 85,
    "start_time": "2023-10-20T12:08:05.534Z"
   },
   {
    "duration": 4,
    "start_time": "2023-10-20T12:08:05.621Z"
   },
   {
    "duration": 146,
    "start_time": "2023-10-20T12:08:05.626Z"
   },
   {
    "duration": 58,
    "start_time": "2023-10-20T12:08:05.774Z"
   },
   {
    "duration": 360,
    "start_time": "2023-10-20T12:08:05.844Z"
   },
   {
    "duration": 108,
    "start_time": "2023-10-20T12:08:06.206Z"
   },
   {
    "duration": 4,
    "start_time": "2023-10-20T12:08:06.317Z"
   },
   {
    "duration": 277,
    "start_time": "2023-10-20T12:08:06.323Z"
   },
   {
    "duration": 6,
    "start_time": "2023-10-20T12:08:06.601Z"
   },
   {
    "duration": 14,
    "start_time": "2023-10-20T12:08:06.609Z"
   },
   {
    "duration": 14,
    "start_time": "2023-10-20T12:08:06.625Z"
   },
   {
    "duration": 16919,
    "start_time": "2023-10-20T12:08:06.644Z"
   },
   {
    "duration": 30470,
    "start_time": "2023-10-20T12:08:23.565Z"
   },
   {
    "duration": 13,
    "start_time": "2023-10-20T12:08:54.037Z"
   },
   {
    "duration": 8903,
    "start_time": "2023-10-20T12:08:54.056Z"
   },
   {
    "duration": 101599,
    "start_time": "2023-10-20T12:09:02.961Z"
   },
   {
    "duration": 3,
    "start_time": "2023-10-20T12:10:44.562Z"
   },
   {
    "duration": 38190,
    "start_time": "2023-10-20T12:10:44.566Z"
   },
   {
    "duration": 12,
    "start_time": "2023-10-20T12:11:22.758Z"
   },
   {
    "duration": 47783,
    "start_time": "2023-10-20T12:11:22.771Z"
   },
   {
    "duration": 12,
    "start_time": "2023-10-20T12:12:10.557Z"
   }
  ],
  "kernelspec": {
   "display_name": "Python 3 (ipykernel)",
   "language": "python",
   "name": "python3"
  },
  "language_info": {
   "codemirror_mode": {
    "name": "ipython",
    "version": 3
   },
   "file_extension": ".py",
   "mimetype": "text/x-python",
   "name": "python",
   "nbconvert_exporter": "python",
   "pygments_lexer": "ipython3",
   "version": "3.9.5"
  },
  "toc": {
   "base_numbering": 1,
   "nav_menu": {
    "height": "34px",
    "width": "160px"
   },
   "number_sections": true,
   "sideBar": true,
   "skip_h1_title": true,
   "title_cell": "Содержание",
   "title_sidebar": "Contents",
   "toc_cell": true,
   "toc_position": {},
   "toc_section_display": true,
   "toc_window_display": true
  }
 },
 "nbformat": 4,
 "nbformat_minor": 2
}
