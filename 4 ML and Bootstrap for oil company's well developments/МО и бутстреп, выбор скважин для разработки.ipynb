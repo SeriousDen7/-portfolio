{
 "cells": [
  {
   "cell_type": "markdown",
   "metadata": {},
   "source": [
    "# Выбор локации для скважины"
   ]
  },
  {
   "cell_type": "markdown",
   "metadata": {},
   "source": [
    "Допустим, мы работаетм в добывающей компании «ГлавРосГосНефть». Необходимо выяснить, где бурить новую скважину.\n",
    "\n",
    "Нам предоставлены пробы нефти в трёх регионах: в каждом 10 000 месторождений, где измерили качество нефти и объём её запасов. Необходимо построить модель машинного обучения, которая поможет определить регион, где добыча принесёт наибольшую прибыль. Так же проанализируем возможную прибыль и риски техникой *Bootstrap.*\n",
    "\n",
    "Шаги для выбора локации:\n",
    "\n",
    "- В избранном регионе ищут месторождения, для каждого определяют значения признаков;\n",
    "- Строят модель и оценивают объём запасов;\n",
    "- Выбирают месторождения с самым высокими оценками значений. Количество месторождений зависит от бюджета компании и стоимости разработки одной скважины;\n",
    "- Прибыль равна суммарной прибыли отобранных месторождений."
   ]
  },
  {
   "cell_type": "markdown",
   "metadata": {},
   "source": [
    "**Цель исследования:** \n",
    "1. Создание модели и комплекса инструментов для предсказани оптимального выбора региона и конкретых месторождений нефти с помощью машинного обучения.\n",
    "\n",
    "**Задачи исследования:**\n",
    "1. Подготовить и выделить данные на 2 выборки: обучающую и валидационную;\n",
    "2. Обучить и проверить модели для каждого региона; \n",
    "3. Расчитать ожидаемую прибыль и выбрать безрисковые месторождения в регионах и регион для дальнейшей разработки.\n",
    "\n",
    "**Объектом исследования** является информация о замерах показателей месторождений в трех регионах.\n",
    "\n",
    "**Предметом исследования** является комплекс методик машинного обучения и инструментов связанных с МО.\n",
    "\n",
    "**Ход выполнения**\n",
    "1. Импортировать все необходимые библиотеки\n",
    "2. Загрузить данные из трех файлов\n",
    "3. Проанализировать общую информацию о качестве и структуре данных, предобработать данные\n",
    "4. Разбить каждый из 3х датасетов на обучающую и валидационную выборки\n",
    "5. Обучить и проверить модели (подойдет только линейная регрессия)\n",
    "6. Рассчитать ожидаемую прибыль по месторождениям\n",
    "7. Рассчитать вероятность рисков и прибыль в целом по регионам\n",
    "8. Сделать выводы и рекомендации для дальнейшего исследования\n",
    "\n",
    "**Описание данных**\n",
    "Есть 3 набора данных, по каждому региону. Каждая строчка это характеристика месторождения \n",
    "\n",
    "Известно:\n",
    "- `id` — уникальный идентификатор скважины;\n",
    "- `f0`, `f1`, `f2` — три признака точек (неважно, что они означают, но сами признаки значимы);\n",
    "\n",
    "Целевой признак\n",
    "- `product` — объём запасов в скважине (тыс. баррелей)."
   ]
  },
  {
   "cell_type": "markdown",
   "metadata": {},
   "source": [
    "**Условия задачи:**\n",
    "- Для обучения модели подходит только линейная регрессия (остальные — недостаточно предсказуемые).\n",
    "- При разведке региона исследуют 500 точек, из которых с помощью машинного обучения выбирают 200 лучших для разработки.\n",
    "- Бюджет на разработку скважин в регионе — 10 млрд рублей.\n",
    "- При нынешних ценах один баррель сырья приносит 450 рублей дохода. Доход с каждой единицы продукта составляет 450 тыс. рублей, поскольку объём указан в тысячах баррелей.\n",
    "- После оценки рисков нужно оставить лишь те регионы, в которых вероятность убытков меньше 2.5%. Среди них выбирают регион с наибольшей средней прибылью."
   ]
  },
  {
   "cell_type": "markdown",
   "metadata": {},
   "source": [
    "## Импорт библиотек и функций"
   ]
  },
  {
   "cell_type": "raw",
   "metadata": {
    "scrolled": true
   },
   "source": [
    "!pip install ydata-profiling"
   ]
  },
  {
   "cell_type": "code",
   "execution_count": 1,
   "metadata": {
    "scrolled": true
   },
   "outputs": [],
   "source": [
    "import pandas as pd\n",
    "import numpy as np\n",
    "import seaborn as sns\n",
    "import matplotlib.pyplot as plt\n",
    "import warnings\n",
    "warnings.filterwarnings('ignore')\n",
    "\n",
    "#from ydata_profiling import ProfileReport\n",
    "\n",
    "from sklearn.model_selection import train_test_split\n",
    "from sklearn.linear_model import LinearRegression\n",
    "from sklearn.metrics import mean_squared_error\n",
    "from sklearn.preprocessing import StandardScaler"
   ]
  },
  {
   "cell_type": "code",
   "execution_count": 2,
   "metadata": {},
   "outputs": [],
   "source": [
    "state = np.random.RandomState(12345)"
   ]
  },
  {
   "cell_type": "code",
   "execution_count": 3,
   "metadata": {},
   "outputs": [],
   "source": [
    "def rmse(target, predicted):\n",
    "    mse = mean_squared_error(target, predicted)\n",
    "    print ('MSE =', mse)\n",
    "    return print('RMSE =',mse**0.5)"
   ]
  },
  {
   "cell_type": "code",
   "execution_count": 4,
   "metadata": {},
   "outputs": [],
   "source": [
    "def full_info(data, name):\n",
    "    print('Поверхностный анализ', name, '\\n')\n",
    "    display(pd.DataFrame(round(data.isna().mean()*100,2)).style.background_gradient('coolwarm'))\n",
    "    data.info()\n",
    "    display(data.head(3))\n",
    "    display(data.describe())\n",
    "    data.hist(figsize=(20,20));"
   ]
  },
  {
   "cell_type": "markdown",
   "metadata": {},
   "source": [
    "## Загрузка и подготовка данных"
   ]
  },
  {
   "cell_type": "markdown",
   "metadata": {},
   "source": [
    "### Загрузка и обзор"
   ]
  },
  {
   "cell_type": "code",
   "execution_count": 5,
   "metadata": {},
   "outputs": [],
   "source": [
    "data0 = pd.read_csv('/datasets/geo_data_0.csv')\n",
    "data1 = pd.read_csv('/datasets/geo_data_1.csv')\n",
    "data2 = pd.read_csv('/datasets/geo_data_2.csv')"
   ]
  },
  {
   "cell_type": "raw",
   "metadata": {
    "scrolled": true
   },
   "source": [
    "ProfileReport(data0, title='Регион 0')"
   ]
  },
  {
   "cell_type": "raw",
   "metadata": {
    "scrolled": true
   },
   "source": [
    "ProfileReport(data1, title='Регион 1')"
   ]
  },
  {
   "cell_type": "raw",
   "metadata": {
    "scrolled": true
   },
   "source": [
    "ProfileReport(data2, title='Регион 2')"
   ]
  },
  {
   "cell_type": "markdown",
   "metadata": {},
   "source": [
    "В момент когда делал проект - ошибки с библиотекой ydata-profiling не было. На момент оформления проекта об ошибке разработчикам известно."
   ]
  },
  {
   "cell_type": "code",
   "execution_count": 6,
   "metadata": {
    "scrolled": true
   },
   "outputs": [
    {
     "name": "stdout",
     "output_type": "stream",
     "text": [
      "Поверхностный анализ Регион 0 \n",
      "\n"
     ]
    },
    {
     "data": {
      "text/html": [
       "<style  type=\"text/css\" >\n",
       "#T_bb989_row0_col0,#T_bb989_row1_col0,#T_bb989_row2_col0,#T_bb989_row3_col0,#T_bb989_row4_col0{\n",
       "            background-color:  #3b4cc0;\n",
       "            color:  #f1f1f1;\n",
       "        }</style><table id=\"T_bb989_\" ><thead>    <tr>        <th class=\"blank level0\" ></th>        <th class=\"col_heading level0 col0\" >0</th>    </tr></thead><tbody>\n",
       "                <tr>\n",
       "                        <th id=\"T_bb989_level0_row0\" class=\"row_heading level0 row0\" >id</th>\n",
       "                        <td id=\"T_bb989_row0_col0\" class=\"data row0 col0\" >0.000000</td>\n",
       "            </tr>\n",
       "            <tr>\n",
       "                        <th id=\"T_bb989_level0_row1\" class=\"row_heading level0 row1\" >f0</th>\n",
       "                        <td id=\"T_bb989_row1_col0\" class=\"data row1 col0\" >0.000000</td>\n",
       "            </tr>\n",
       "            <tr>\n",
       "                        <th id=\"T_bb989_level0_row2\" class=\"row_heading level0 row2\" >f1</th>\n",
       "                        <td id=\"T_bb989_row2_col0\" class=\"data row2 col0\" >0.000000</td>\n",
       "            </tr>\n",
       "            <tr>\n",
       "                        <th id=\"T_bb989_level0_row3\" class=\"row_heading level0 row3\" >f2</th>\n",
       "                        <td id=\"T_bb989_row3_col0\" class=\"data row3 col0\" >0.000000</td>\n",
       "            </tr>\n",
       "            <tr>\n",
       "                        <th id=\"T_bb989_level0_row4\" class=\"row_heading level0 row4\" >product</th>\n",
       "                        <td id=\"T_bb989_row4_col0\" class=\"data row4 col0\" >0.000000</td>\n",
       "            </tr>\n",
       "    </tbody></table>"
      ],
      "text/plain": [
       "<pandas.io.formats.style.Styler at 0x7f38ce7e5be0>"
      ]
     },
     "metadata": {},
     "output_type": "display_data"
    },
    {
     "name": "stdout",
     "output_type": "stream",
     "text": [
      "<class 'pandas.core.frame.DataFrame'>\n",
      "RangeIndex: 100000 entries, 0 to 99999\n",
      "Data columns (total 5 columns):\n",
      " #   Column   Non-Null Count   Dtype  \n",
      "---  ------   --------------   -----  \n",
      " 0   id       100000 non-null  object \n",
      " 1   f0       100000 non-null  float64\n",
      " 2   f1       100000 non-null  float64\n",
      " 3   f2       100000 non-null  float64\n",
      " 4   product  100000 non-null  float64\n",
      "dtypes: float64(4), object(1)\n",
      "memory usage: 3.8+ MB\n"
     ]
    },
    {
     "data": {
      "text/html": [
       "<div>\n",
       "<style scoped>\n",
       "    .dataframe tbody tr th:only-of-type {\n",
       "        vertical-align: middle;\n",
       "    }\n",
       "\n",
       "    .dataframe tbody tr th {\n",
       "        vertical-align: top;\n",
       "    }\n",
       "\n",
       "    .dataframe thead th {\n",
       "        text-align: right;\n",
       "    }\n",
       "</style>\n",
       "<table border=\"1\" class=\"dataframe\">\n",
       "  <thead>\n",
       "    <tr style=\"text-align: right;\">\n",
       "      <th></th>\n",
       "      <th>id</th>\n",
       "      <th>f0</th>\n",
       "      <th>f1</th>\n",
       "      <th>f2</th>\n",
       "      <th>product</th>\n",
       "    </tr>\n",
       "  </thead>\n",
       "  <tbody>\n",
       "    <tr>\n",
       "      <th>0</th>\n",
       "      <td>txEyH</td>\n",
       "      <td>0.705745</td>\n",
       "      <td>-0.497823</td>\n",
       "      <td>1.221170</td>\n",
       "      <td>105.280062</td>\n",
       "    </tr>\n",
       "    <tr>\n",
       "      <th>1</th>\n",
       "      <td>2acmU</td>\n",
       "      <td>1.334711</td>\n",
       "      <td>-0.340164</td>\n",
       "      <td>4.365080</td>\n",
       "      <td>73.037750</td>\n",
       "    </tr>\n",
       "    <tr>\n",
       "      <th>2</th>\n",
       "      <td>409Wp</td>\n",
       "      <td>1.022732</td>\n",
       "      <td>0.151990</td>\n",
       "      <td>1.419926</td>\n",
       "      <td>85.265647</td>\n",
       "    </tr>\n",
       "  </tbody>\n",
       "</table>\n",
       "</div>"
      ],
      "text/plain": [
       "      id        f0        f1        f2     product\n",
       "0  txEyH  0.705745 -0.497823  1.221170  105.280062\n",
       "1  2acmU  1.334711 -0.340164  4.365080   73.037750\n",
       "2  409Wp  1.022732  0.151990  1.419926   85.265647"
      ]
     },
     "metadata": {},
     "output_type": "display_data"
    },
    {
     "data": {
      "text/html": [
       "<div>\n",
       "<style scoped>\n",
       "    .dataframe tbody tr th:only-of-type {\n",
       "        vertical-align: middle;\n",
       "    }\n",
       "\n",
       "    .dataframe tbody tr th {\n",
       "        vertical-align: top;\n",
       "    }\n",
       "\n",
       "    .dataframe thead th {\n",
       "        text-align: right;\n",
       "    }\n",
       "</style>\n",
       "<table border=\"1\" class=\"dataframe\">\n",
       "  <thead>\n",
       "    <tr style=\"text-align: right;\">\n",
       "      <th></th>\n",
       "      <th>f0</th>\n",
       "      <th>f1</th>\n",
       "      <th>f2</th>\n",
       "      <th>product</th>\n",
       "    </tr>\n",
       "  </thead>\n",
       "  <tbody>\n",
       "    <tr>\n",
       "      <th>count</th>\n",
       "      <td>100000.000000</td>\n",
       "      <td>100000.000000</td>\n",
       "      <td>100000.000000</td>\n",
       "      <td>100000.000000</td>\n",
       "    </tr>\n",
       "    <tr>\n",
       "      <th>mean</th>\n",
       "      <td>0.500419</td>\n",
       "      <td>0.250143</td>\n",
       "      <td>2.502647</td>\n",
       "      <td>92.500000</td>\n",
       "    </tr>\n",
       "    <tr>\n",
       "      <th>std</th>\n",
       "      <td>0.871832</td>\n",
       "      <td>0.504433</td>\n",
       "      <td>3.248248</td>\n",
       "      <td>44.288691</td>\n",
       "    </tr>\n",
       "    <tr>\n",
       "      <th>min</th>\n",
       "      <td>-1.408605</td>\n",
       "      <td>-0.848218</td>\n",
       "      <td>-12.088328</td>\n",
       "      <td>0.000000</td>\n",
       "    </tr>\n",
       "    <tr>\n",
       "      <th>25%</th>\n",
       "      <td>-0.072580</td>\n",
       "      <td>-0.200881</td>\n",
       "      <td>0.287748</td>\n",
       "      <td>56.497507</td>\n",
       "    </tr>\n",
       "    <tr>\n",
       "      <th>50%</th>\n",
       "      <td>0.502360</td>\n",
       "      <td>0.250252</td>\n",
       "      <td>2.515969</td>\n",
       "      <td>91.849972</td>\n",
       "    </tr>\n",
       "    <tr>\n",
       "      <th>75%</th>\n",
       "      <td>1.073581</td>\n",
       "      <td>0.700646</td>\n",
       "      <td>4.715088</td>\n",
       "      <td>128.564089</td>\n",
       "    </tr>\n",
       "    <tr>\n",
       "      <th>max</th>\n",
       "      <td>2.362331</td>\n",
       "      <td>1.343769</td>\n",
       "      <td>16.003790</td>\n",
       "      <td>185.364347</td>\n",
       "    </tr>\n",
       "  </tbody>\n",
       "</table>\n",
       "</div>"
      ],
      "text/plain": [
       "                  f0             f1             f2        product\n",
       "count  100000.000000  100000.000000  100000.000000  100000.000000\n",
       "mean        0.500419       0.250143       2.502647      92.500000\n",
       "std         0.871832       0.504433       3.248248      44.288691\n",
       "min        -1.408605      -0.848218     -12.088328       0.000000\n",
       "25%        -0.072580      -0.200881       0.287748      56.497507\n",
       "50%         0.502360       0.250252       2.515969      91.849972\n",
       "75%         1.073581       0.700646       4.715088     128.564089\n",
       "max         2.362331       1.343769      16.003790     185.364347"
      ]
     },
     "metadata": {},
     "output_type": "display_data"
    },
    {
     "data": {
      "image/png": "[encoded data removed]",
      "text/plain": [
       "<Figure size 1440x1440 with 4 Axes>"
      ]
     },
     "metadata": {
      "needs_background": "light"
     },
     "output_type": "display_data"
    }
   ],
   "source": [
    "full_info(data0, 'Регион 0')"
   ]
  },
  {
   "cell_type": "code",
   "execution_count": 7,
   "metadata": {
    "scrolled": true
   },
   "outputs": [
    {
     "name": "stdout",
     "output_type": "stream",
     "text": [
      "Поверхностный анализ Регион 1 \n",
      "\n"
     ]
    },
    {
     "data": {
      "text/html": [
       "<style  type=\"text/css\" >\n",
       "#T_494ea_row0_col0,#T_494ea_row1_col0,#T_494ea_row2_col0,#T_494ea_row3_col0,#T_494ea_row4_col0{\n",
       "            background-color:  #3b4cc0;\n",
       "            color:  #f1f1f1;\n",
       "        }</style><table id=\"T_494ea_\" ><thead>    <tr>        <th class=\"blank level0\" ></th>        <th class=\"col_heading level0 col0\" >0</th>    </tr></thead><tbody>\n",
       "                <tr>\n",
       "                        <th id=\"T_494ea_level0_row0\" class=\"row_heading level0 row0\" >id</th>\n",
       "                        <td id=\"T_494ea_row0_col0\" class=\"data row0 col0\" >0.000000</td>\n",
       "            </tr>\n",
       "            <tr>\n",
       "                        <th id=\"T_494ea_level0_row1\" class=\"row_heading level0 row1\" >f0</th>\n",
       "                        <td id=\"T_494ea_row1_col0\" class=\"data row1 col0\" >0.000000</td>\n",
       "            </tr>\n",
       "            <tr>\n",
       "                        <th id=\"T_494ea_level0_row2\" class=\"row_heading level0 row2\" >f1</th>\n",
       "                        <td id=\"T_494ea_row2_col0\" class=\"data row2 col0\" >0.000000</td>\n",
       "            </tr>\n",
       "            <tr>\n",
       "                        <th id=\"T_494ea_level0_row3\" class=\"row_heading level0 row3\" >f2</th>\n",
       "                        <td id=\"T_494ea_row3_col0\" class=\"data row3 col0\" >0.000000</td>\n",
       "            </tr>\n",
       "            <tr>\n",
       "                        <th id=\"T_494ea_level0_row4\" class=\"row_heading level0 row4\" >product</th>\n",
       "                        <td id=\"T_494ea_row4_col0\" class=\"data row4 col0\" >0.000000</td>\n",
       "            </tr>\n",
       "    </tbody></table>"
      ],
      "text/plain": [
       "<pandas.io.formats.style.Styler at 0x7f38cd0be280>"
      ]
     },
     "metadata": {},
     "output_type": "display_data"
    },
    {
     "name": "stdout",
     "output_type": "stream",
     "text": [
      "<class 'pandas.core.frame.DataFrame'>\n",
      "RangeIndex: 100000 entries, 0 to 99999\n",
      "Data columns (total 5 columns):\n",
      " #   Column   Non-Null Count   Dtype  \n",
      "---  ------   --------------   -----  \n",
      " 0   id       100000 non-null  object \n",
      " 1   f0       100000 non-null  float64\n",
      " 2   f1       100000 non-null  float64\n",
      " 3   f2       100000 non-null  float64\n",
      " 4   product  100000 non-null  float64\n",
      "dtypes: float64(4), object(1)\n",
      "memory usage: 3.8+ MB\n"
     ]
    },
    {
     "data": {
      "text/html": [
       "<div>\n",
       "<style scoped>\n",
       "    .dataframe tbody tr th:only-of-type {\n",
       "        vertical-align: middle;\n",
       "    }\n",
       "\n",
       "    .dataframe tbody tr th {\n",
       "        vertical-align: top;\n",
       "    }\n",
       "\n",
       "    .dataframe thead th {\n",
       "        text-align: right;\n",
       "    }\n",
       "</style>\n",
       "<table border=\"1\" class=\"dataframe\">\n",
       "  <thead>\n",
       "    <tr style=\"text-align: right;\">\n",
       "      <th></th>\n",
       "      <th>id</th>\n",
       "      <th>f0</th>\n",
       "      <th>f1</th>\n",
       "      <th>f2</th>\n",
       "      <th>product</th>\n",
       "    </tr>\n",
       "  </thead>\n",
       "  <tbody>\n",
       "    <tr>\n",
       "      <th>0</th>\n",
       "      <td>kBEdx</td>\n",
       "      <td>-15.001348</td>\n",
       "      <td>-8.276000</td>\n",
       "      <td>-0.005876</td>\n",
       "      <td>3.179103</td>\n",
       "    </tr>\n",
       "    <tr>\n",
       "      <th>1</th>\n",
       "      <td>62mP7</td>\n",
       "      <td>14.272088</td>\n",
       "      <td>-3.475083</td>\n",
       "      <td>0.999183</td>\n",
       "      <td>26.953261</td>\n",
       "    </tr>\n",
       "    <tr>\n",
       "      <th>2</th>\n",
       "      <td>vyE1P</td>\n",
       "      <td>6.263187</td>\n",
       "      <td>-5.948386</td>\n",
       "      <td>5.001160</td>\n",
       "      <td>134.766305</td>\n",
       "    </tr>\n",
       "  </tbody>\n",
       "</table>\n",
       "</div>"
      ],
      "text/plain": [
       "      id         f0        f1        f2     product\n",
       "0  kBEdx -15.001348 -8.276000 -0.005876    3.179103\n",
       "1  62mP7  14.272088 -3.475083  0.999183   26.953261\n",
       "2  vyE1P   6.263187 -5.948386  5.001160  134.766305"
      ]
     },
     "metadata": {},
     "output_type": "display_data"
    },
    {
     "data": {
      "text/html": [
       "<div>\n",
       "<style scoped>\n",
       "    .dataframe tbody tr th:only-of-type {\n",
       "        vertical-align: middle;\n",
       "    }\n",
       "\n",
       "    .dataframe tbody tr th {\n",
       "        vertical-align: top;\n",
       "    }\n",
       "\n",
       "    .dataframe thead th {\n",
       "        text-align: right;\n",
       "    }\n",
       "</style>\n",
       "<table border=\"1\" class=\"dataframe\">\n",
       "  <thead>\n",
       "    <tr style=\"text-align: right;\">\n",
       "      <th></th>\n",
       "      <th>f0</th>\n",
       "      <th>f1</th>\n",
       "      <th>f2</th>\n",
       "      <th>product</th>\n",
       "    </tr>\n",
       "  </thead>\n",
       "  <tbody>\n",
       "    <tr>\n",
       "      <th>count</th>\n",
       "      <td>100000.000000</td>\n",
       "      <td>100000.000000</td>\n",
       "      <td>100000.000000</td>\n",
       "      <td>100000.000000</td>\n",
       "    </tr>\n",
       "    <tr>\n",
       "      <th>mean</th>\n",
       "      <td>1.141296</td>\n",
       "      <td>-4.796579</td>\n",
       "      <td>2.494541</td>\n",
       "      <td>68.825000</td>\n",
       "    </tr>\n",
       "    <tr>\n",
       "      <th>std</th>\n",
       "      <td>8.965932</td>\n",
       "      <td>5.119872</td>\n",
       "      <td>1.703572</td>\n",
       "      <td>45.944423</td>\n",
       "    </tr>\n",
       "    <tr>\n",
       "      <th>min</th>\n",
       "      <td>-31.609576</td>\n",
       "      <td>-26.358598</td>\n",
       "      <td>-0.018144</td>\n",
       "      <td>0.000000</td>\n",
       "    </tr>\n",
       "    <tr>\n",
       "      <th>25%</th>\n",
       "      <td>-6.298551</td>\n",
       "      <td>-8.267985</td>\n",
       "      <td>1.000021</td>\n",
       "      <td>26.953261</td>\n",
       "    </tr>\n",
       "    <tr>\n",
       "      <th>50%</th>\n",
       "      <td>1.153055</td>\n",
       "      <td>-4.813172</td>\n",
       "      <td>2.011479</td>\n",
       "      <td>57.085625</td>\n",
       "    </tr>\n",
       "    <tr>\n",
       "      <th>75%</th>\n",
       "      <td>8.621015</td>\n",
       "      <td>-1.332816</td>\n",
       "      <td>3.999904</td>\n",
       "      <td>107.813044</td>\n",
       "    </tr>\n",
       "    <tr>\n",
       "      <th>max</th>\n",
       "      <td>29.421755</td>\n",
       "      <td>18.734063</td>\n",
       "      <td>5.019721</td>\n",
       "      <td>137.945408</td>\n",
       "    </tr>\n",
       "  </tbody>\n",
       "</table>\n",
       "</div>"
      ],
      "text/plain": [
       "                  f0             f1             f2        product\n",
       "count  100000.000000  100000.000000  100000.000000  100000.000000\n",
       "mean        1.141296      -4.796579       2.494541      68.825000\n",
       "std         8.965932       5.119872       1.703572      45.944423\n",
       "min       -31.609576     -26.358598      -0.018144       0.000000\n",
       "25%        -6.298551      -8.267985       1.000021      26.953261\n",
       "50%         1.153055      -4.813172       2.011479      57.085625\n",
       "75%         8.621015      -1.332816       3.999904     107.813044\n",
       "max        29.421755      18.734063       5.019721     137.945408"
      ]
     },
     "metadata": {},
     "output_type": "display_data"
    },
    {
     "data": {
      "image/png": "[encoded data removed]",
      "text/plain": [
       "<Figure size 1440x1440 with 4 Axes>"
      ]
     },
     "metadata": {
      "needs_background": "light"
     },
     "output_type": "display_data"
    }
   ],
   "source": [
    "full_info(data1, 'Регион 1')"
   ]
  },
  {
   "cell_type": "code",
   "execution_count": 8,
   "metadata": {
    "scrolled": true
   },
   "outputs": [
    {
     "name": "stdout",
     "output_type": "stream",
     "text": [
      "Поверхностный анализ Регион 2 \n",
      "\n"
     ]
    },
    {
     "data": {
      "text/html": [
       "<style  type=\"text/css\" >\n",
       "#T_9d4c1_row0_col0,#T_9d4c1_row1_col0,#T_9d4c1_row2_col0,#T_9d4c1_row3_col0,#T_9d4c1_row4_col0{\n",
       "            background-color:  #3b4cc0;\n",
       "            color:  #f1f1f1;\n",
       "        }</style><table id=\"T_9d4c1_\" ><thead>    <tr>        <th class=\"blank level0\" ></th>        <th class=\"col_heading level0 col0\" >0</th>    </tr></thead><tbody>\n",
       "                <tr>\n",
       "                        <th id=\"T_9d4c1_level0_row0\" class=\"row_heading level0 row0\" >id</th>\n",
       "                        <td id=\"T_9d4c1_row0_col0\" class=\"data row0 col0\" >0.000000</td>\n",
       "            </tr>\n",
       "            <tr>\n",
       "                        <th id=\"T_9d4c1_level0_row1\" class=\"row_heading level0 row1\" >f0</th>\n",
       "                        <td id=\"T_9d4c1_row1_col0\" class=\"data row1 col0\" >0.000000</td>\n",
       "            </tr>\n",
       "            <tr>\n",
       "                        <th id=\"T_9d4c1_level0_row2\" class=\"row_heading level0 row2\" >f1</th>\n",
       "                        <td id=\"T_9d4c1_row2_col0\" class=\"data row2 col0\" >0.000000</td>\n",
       "            </tr>\n",
       "            <tr>\n",
       "                        <th id=\"T_9d4c1_level0_row3\" class=\"row_heading level0 row3\" >f2</th>\n",
       "                        <td id=\"T_9d4c1_row3_col0\" class=\"data row3 col0\" >0.000000</td>\n",
       "            </tr>\n",
       "            <tr>\n",
       "                        <th id=\"T_9d4c1_level0_row4\" class=\"row_heading level0 row4\" >product</th>\n",
       "                        <td id=\"T_9d4c1_row4_col0\" class=\"data row4 col0\" >0.000000</td>\n",
       "            </tr>\n",
       "    </tbody></table>"
      ],
      "text/plain": [
       "<pandas.io.formats.style.Styler at 0x7f38cc9680d0>"
      ]
     },
     "metadata": {},
     "output_type": "display_data"
    },
    {
     "name": "stdout",
     "output_type": "stream",
     "text": [
      "<class 'pandas.core.frame.DataFrame'>\n",
      "RangeIndex: 100000 entries, 0 to 99999\n",
      "Data columns (total 5 columns):\n",
      " #   Column   Non-Null Count   Dtype  \n",
      "---  ------   --------------   -----  \n",
      " 0   id       100000 non-null  object \n",
      " 1   f0       100000 non-null  float64\n",
      " 2   f1       100000 non-null  float64\n",
      " 3   f2       100000 non-null  float64\n",
      " 4   product  100000 non-null  float64\n",
      "dtypes: float64(4), object(1)\n",
      "memory usage: 3.8+ MB\n"
     ]
    },
    {
     "data": {
      "text/html": [
       "<div>\n",
       "<style scoped>\n",
       "    .dataframe tbody tr th:only-of-type {\n",
       "        vertical-align: middle;\n",
       "    }\n",
       "\n",
       "    .dataframe tbody tr th {\n",
       "        vertical-align: top;\n",
       "    }\n",
       "\n",
       "    .dataframe thead th {\n",
       "        text-align: right;\n",
       "    }\n",
       "</style>\n",
       "<table border=\"1\" class=\"dataframe\">\n",
       "  <thead>\n",
       "    <tr style=\"text-align: right;\">\n",
       "      <th></th>\n",
       "      <th>id</th>\n",
       "      <th>f0</th>\n",
       "      <th>f1</th>\n",
       "      <th>f2</th>\n",
       "      <th>product</th>\n",
       "    </tr>\n",
       "  </thead>\n",
       "  <tbody>\n",
       "    <tr>\n",
       "      <th>0</th>\n",
       "      <td>fwXo0</td>\n",
       "      <td>-1.146987</td>\n",
       "      <td>0.963328</td>\n",
       "      <td>-0.828965</td>\n",
       "      <td>27.758673</td>\n",
       "    </tr>\n",
       "    <tr>\n",
       "      <th>1</th>\n",
       "      <td>WJtFt</td>\n",
       "      <td>0.262778</td>\n",
       "      <td>0.269839</td>\n",
       "      <td>-2.530187</td>\n",
       "      <td>56.069697</td>\n",
       "    </tr>\n",
       "    <tr>\n",
       "      <th>2</th>\n",
       "      <td>ovLUW</td>\n",
       "      <td>0.194587</td>\n",
       "      <td>0.289035</td>\n",
       "      <td>-5.586433</td>\n",
       "      <td>62.871910</td>\n",
       "    </tr>\n",
       "  </tbody>\n",
       "</table>\n",
       "</div>"
      ],
      "text/plain": [
       "      id        f0        f1        f2    product\n",
       "0  fwXo0 -1.146987  0.963328 -0.828965  27.758673\n",
       "1  WJtFt  0.262778  0.269839 -2.530187  56.069697\n",
       "2  ovLUW  0.194587  0.289035 -5.586433  62.871910"
      ]
     },
     "metadata": {},
     "output_type": "display_data"
    },
    {
     "data": {
      "text/html": [
       "<div>\n",
       "<style scoped>\n",
       "    .dataframe tbody tr th:only-of-type {\n",
       "        vertical-align: middle;\n",
       "    }\n",
       "\n",
       "    .dataframe tbody tr th {\n",
       "        vertical-align: top;\n",
       "    }\n",
       "\n",
       "    .dataframe thead th {\n",
       "        text-align: right;\n",
       "    }\n",
       "</style>\n",
       "<table border=\"1\" class=\"dataframe\">\n",
       "  <thead>\n",
       "    <tr style=\"text-align: right;\">\n",
       "      <th></th>\n",
       "      <th>f0</th>\n",
       "      <th>f1</th>\n",
       "      <th>f2</th>\n",
       "      <th>product</th>\n",
       "    </tr>\n",
       "  </thead>\n",
       "  <tbody>\n",
       "    <tr>\n",
       "      <th>count</th>\n",
       "      <td>100000.000000</td>\n",
       "      <td>100000.000000</td>\n",
       "      <td>100000.000000</td>\n",
       "      <td>100000.000000</td>\n",
       "    </tr>\n",
       "    <tr>\n",
       "      <th>mean</th>\n",
       "      <td>0.002023</td>\n",
       "      <td>-0.002081</td>\n",
       "      <td>2.495128</td>\n",
       "      <td>95.000000</td>\n",
       "    </tr>\n",
       "    <tr>\n",
       "      <th>std</th>\n",
       "      <td>1.732045</td>\n",
       "      <td>1.730417</td>\n",
       "      <td>3.473445</td>\n",
       "      <td>44.749921</td>\n",
       "    </tr>\n",
       "    <tr>\n",
       "      <th>min</th>\n",
       "      <td>-8.760004</td>\n",
       "      <td>-7.084020</td>\n",
       "      <td>-11.970335</td>\n",
       "      <td>0.000000</td>\n",
       "    </tr>\n",
       "    <tr>\n",
       "      <th>25%</th>\n",
       "      <td>-1.162288</td>\n",
       "      <td>-1.174820</td>\n",
       "      <td>0.130359</td>\n",
       "      <td>59.450441</td>\n",
       "    </tr>\n",
       "    <tr>\n",
       "      <th>50%</th>\n",
       "      <td>0.009424</td>\n",
       "      <td>-0.009482</td>\n",
       "      <td>2.484236</td>\n",
       "      <td>94.925613</td>\n",
       "    </tr>\n",
       "    <tr>\n",
       "      <th>75%</th>\n",
       "      <td>1.158535</td>\n",
       "      <td>1.163678</td>\n",
       "      <td>4.858794</td>\n",
       "      <td>130.595027</td>\n",
       "    </tr>\n",
       "    <tr>\n",
       "      <th>max</th>\n",
       "      <td>7.238262</td>\n",
       "      <td>7.844801</td>\n",
       "      <td>16.739402</td>\n",
       "      <td>190.029838</td>\n",
       "    </tr>\n",
       "  </tbody>\n",
       "</table>\n",
       "</div>"
      ],
      "text/plain": [
       "                  f0             f1             f2        product\n",
       "count  100000.000000  100000.000000  100000.000000  100000.000000\n",
       "mean        0.002023      -0.002081       2.495128      95.000000\n",
       "std         1.732045       1.730417       3.473445      44.749921\n",
       "min        -8.760004      -7.084020     -11.970335       0.000000\n",
       "25%        -1.162288      -1.174820       0.130359      59.450441\n",
       "50%         0.009424      -0.009482       2.484236      94.925613\n",
       "75%         1.158535       1.163678       4.858794     130.595027\n",
       "max         7.238262       7.844801      16.739402     190.029838"
      ]
     },
     "metadata": {},
     "output_type": "display_data"
    },
    {
     "data": {
      "image/png": "[encoded data removed]",
      "text/plain": [
       "<Figure size 1440x1440 with 4 Axes>"
      ]
     },
     "metadata": {
      "needs_background": "light"
     },
     "output_type": "display_data"
    }
   ],
   "source": [
    "full_info(data2, 'Регион 2')"
   ]
  },
  {
   "cell_type": "markdown",
   "metadata": {},
   "source": [
    "Данные в порядке"
   ]
  },
  {
   "cell_type": "markdown",
   "metadata": {},
   "source": [
    "### Разделение на выборки"
   ]
  },
  {
   "cell_type": "code",
   "execution_count": 9,
   "metadata": {},
   "outputs": [],
   "source": [
    "features0 = data0.loc[:,'f0':'f2']\n",
    "target0 = data0['product']\n",
    "features1 = data1.loc[:,'f0':'f2']\n",
    "target1 = data1['product']\n",
    "features2 = data2.loc[:,'f0':'f2']\n",
    "target2 = data2['product']"
   ]
  },
  {
   "cell_type": "markdown",
   "metadata": {},
   "source": [
    "Стандартизируем данные"
   ]
  },
  {
   "cell_type": "code",
   "execution_count": 10,
   "metadata": {},
   "outputs": [
    {
     "name": "stdout",
     "output_type": "stream",
     "text": [
      "         f0        f1        f2\n",
      "0  0.705745 -0.497823  1.221170\n",
      "1  1.334711 -0.340164  4.365080\n",
      "2  1.022732  0.151990  1.419926\n",
      "          f0        f1        f2\n",
      "0 -15.001348 -8.276000 -0.005876\n",
      "1  14.272088 -3.475083  0.999183\n",
      "2   6.263187 -5.948386  5.001160\n",
      "         f0        f1        f2\n",
      "0 -1.146987  0.963328 -0.828965\n",
      "1  0.262778  0.269839 -2.530187\n",
      "2  0.194587  0.289035 -5.586433\n"
     ]
    }
   ],
   "source": [
    "for _f in [features0, features1, features2]:\n",
    "    print(_f.head(3))"
   ]
  },
  {
   "cell_type": "code",
   "execution_count": 11,
   "metadata": {},
   "outputs": [],
   "source": [
    "for df in [features0, features1, features2]:\n",
    "    scaler = StandardScaler()\n",
    "    scaler.fit(df.loc[:,'f0':'f2'])\n",
    "    df.loc[:,'f0':'f2'] = scaler.transform(df.loc[:,'f0':'f2'])"
   ]
  },
  {
   "cell_type": "code",
   "execution_count": 12,
   "metadata": {},
   "outputs": [
    {
     "name": "stdout",
     "output_type": "stream",
     "text": [
      "         f0        f1        f2\n",
      "0  0.235512 -1.482793 -0.394515\n",
      "1  0.956946 -1.170246  0.573368\n",
      "2  0.599101 -0.194581 -0.333326\n",
      "         f0        f1        f2\n",
      "0 -1.800451 -0.679595 -1.467757\n",
      "1  1.464528  0.258112 -0.877783\n",
      "2  0.571264 -0.224969  1.471398\n",
      "         f0        f1        f2\n",
      "0 -0.663387  0.557908 -0.957007\n",
      "1  0.150548  0.157142 -1.446788\n",
      "2  0.111178  0.168235 -2.326682\n"
     ]
    }
   ],
   "source": [
    "for _f in [features0, features1, features2]:\n",
    "    print(_f.head(3))"
   ]
  },
  {
   "cell_type": "markdown",
   "metadata": {},
   "source": [
    "Изменение удачно"
   ]
  },
  {
   "cell_type": "code",
   "execution_count": 13,
   "metadata": {},
   "outputs": [],
   "source": [
    "features0_train, features0_valid, target0_train, target0_valid = train_test_split(\n",
    "    features0, target0, test_size=0.25, random_state=12345)\n",
    "features1_train, features1_valid, target1_train, target1_valid = train_test_split(\n",
    "    features1, target1, test_size=0.25, random_state=12345)\n",
    "features2_train, features2_valid, target2_train, target2_valid = train_test_split(\n",
    "    features2, target2, test_size=0.25, random_state=12345)"
   ]
  },
  {
   "cell_type": "code",
   "execution_count": 14,
   "metadata": {},
   "outputs": [
    {
     "name": "stdout",
     "output_type": "stream",
     "text": [
      "Размерность features0_train: (75000, 3)\n",
      "Размерность target0_train: (75000,)\n",
      "Размерность features0_valid: (25000, 3)\n",
      "Размерность target0_valid: (25000,)\n",
      "Размерность features1_train: (75000, 3)\n",
      "Размерность target1_train: (75000,)\n",
      "Размерность features1_valid: (25000, 3)\n",
      "Размерность target1_valid: (25000,)\n",
      "Размерность features2_train: (75000, 3)\n",
      "Размерность target2_train: (75000,)\n",
      "Размерность features2_valid: (25000, 3)\n",
      "Размерность target2_valid: (25000,)\n"
     ]
    }
   ],
   "source": [
    "for df in ['features0_train','target0_train','features0_valid', 'target0_valid', \n",
    "          'features1_train','target1_train','features1_valid', 'target1_valid',\n",
    "          'features2_train','target2_train','features2_valid', 'target2_valid',]:\n",
    "    print(f'Размерность {df}: {globals()[df].shape}')"
   ]
  },
  {
   "cell_type": "markdown",
   "metadata": {},
   "source": [
    "## Обучение и проверка модели"
   ]
  },
  {
   "cell_type": "code",
   "execution_count": 15,
   "metadata": {},
   "outputs": [
    {
     "name": "stdout",
     "output_type": "stream",
     "text": [
      "Регион 0\n",
      "Константная модель\n",
      "MSE = 1961.5678757223516\n",
      "RMSE = 44.289591053907365\n",
      "\n",
      " Проверка модели\n",
      "MSE = 1412.2129364399243\n",
      "RMSE = 37.5794217150813\n",
      "Средний объем предсказанного сыръя: 92.59256778438035\n",
      "___________\n",
      "\n",
      "Регион 1\n",
      "Константная модель\n",
      "MSE = 2117.9734309299147\n",
      "RMSE = 46.02144533725462\n",
      "\n",
      " Проверка модели\n",
      "MSE = 0.7976263360391158\n",
      "RMSE = 0.893099286775617\n",
      "Средний объем предсказанного сыръя: 68.72854689544602\n",
      "___________\n",
      "\n",
      "Регион 2\n",
      "Константная модель\n",
      "MSE = 2016.2210072435087\n",
      "RMSE = 44.90234968510566\n",
      "\n",
      " Проверка модели\n",
      "MSE = 1602.3775813236196\n",
      "RMSE = 40.02970873393434\n",
      "Средний объем предсказанного сыръя: 94.96504596800489\n",
      "___________\n",
      "\n"
     ]
    }
   ],
   "source": [
    "targets = []\n",
    "for features_train, target_train, features_valid, target_valid, region in zip(\n",
    "    [features0_train,features1_train,features2_train],\n",
    "    [target0_train,target1_train,target2_train],\n",
    "    [features0_valid,features1_valid,features2_valid],\n",
    "    [target0_valid,target1_valid,target2_valid],\n",
    "    ['Регион 0', \"Регион 1\", \"Регион 2\"]):\n",
    "    \n",
    "    model = LinearRegression()\n",
    "    model.fit(features_train, target_train)\n",
    "    target_predict = model.predict(features_valid)\n",
    "    targets.append(target_predict)\n",
    "    print(region)\n",
    "    print('Константная модель')\n",
    "    target_mean = pd.Series([target_train.mean()] * len(target_valid))\n",
    "    rmse(target_valid, target_mean)\n",
    "    print('\\n Проверка модели')\n",
    "    rmse(target_valid, target_predict)\n",
    "    print('Средний объем предсказанного сыръя:', target_predict.mean())\n",
    "    print(\"___________\\n\")"
   ]
  },
  {
   "cell_type": "markdown",
   "metadata": {},
   "source": [
    "**Вывод:** Лучше всего предскажывает модель Региона 1, но там наименьшее среднее предсказанное значение продукта: 69 ед.,\n",
    "По остальным регионам в среднем предсказывает 92-95 ед. продукта. Но RMSE (разброс предсказаний) = 37-40 ед. \n",
    "Модели проверены на адекватность(по сравнению со средним значением): результат незначительно, но лучше (кроме региона 1)."
   ]
  },
  {
   "cell_type": "markdown",
   "metadata": {},
   "source": [
    "## Подготовка к расчёту прибыли"
   ]
  },
  {
   "cell_type": "code",
   "execution_count": 16,
   "metadata": {},
   "outputs": [
    {
     "name": "stdout",
     "output_type": "stream",
     "text": [
      "[95.89495185 77.57258261 77.89263965 90.17513418 70.51008829]\n",
      "[82.66331365 54.43178616 29.74875995 53.5521335   1.24385647]\n",
      "[ 93.59963303  75.10515854  90.06680936 105.16237507 115.30331048]\n"
     ]
    }
   ],
   "source": [
    "target0_predict= targets[0]\n",
    "target1_predict= targets[1]\n",
    "target2_predict= targets[2]\n",
    "\n",
    "print(target0_predict[:5])\n",
    "print(target1_predict[:5])\n",
    "print(target2_predict[:5])"
   ]
  },
  {
   "cell_type": "code",
   "execution_count": 17,
   "metadata": {},
   "outputs": [],
   "source": [
    "prods0 = pd.DataFrame({'real' : target0_valid, 'pred':target0_predict}).sort_values(by = 'pred', ascending=False)\n",
    "prods1 = pd.DataFrame({'real' : target1_valid, 'pred':target1_predict}).sort_values(by = 'pred', ascending=False)\n",
    "prods2 = pd.DataFrame({'real' : target2_valid, 'pred':target2_predict}).sort_values(by = 'pred', ascending=False)"
   ]
  },
  {
   "cell_type": "code",
   "execution_count": 18,
   "metadata": {},
   "outputs": [
    {
     "name": "stdout",
     "output_type": "stream",
     "text": [
      "Суммарный необходимый объем нефти 200 скважин для безубыточной разработки региона: 22222.222222222223\n",
      "Средний продукт 1 скважины для этого: 111.11111111111111\n"
     ]
    }
   ],
   "source": [
    "\n",
    "min_pr_for_region = 10_000_000_000/450_000\n",
    "min_pr_for_well = min_pr_for_region/200\n",
    "print('Суммарный необходимый объем нефти 200 скважин для безубыточной разработки региона:',min_pr_for_region)\n",
    "print('Средний продукт 1 скважины для этого:',min_pr_for_well)"
   ]
  },
  {
   "cell_type": "markdown",
   "metadata": {},
   "source": [
    "Сравнивая средний минимальный объем продукта в скважинах региона для безубыточности(111 ед.) и средний предсказанный объем месторождений(68-95 ед.), можно сказать, что это будет задача не из легких. Если выбирать случайным образом месторождения для разработки то высока вероятность убытков.  "
   ]
  },
  {
   "cell_type": "markdown",
   "metadata": {},
   "source": [
    "## Расчёт прибыли и рисков "
   ]
  },
  {
   "cell_type": "markdown",
   "metadata": {},
   "source": [
    "### Расчет прибыли по 200 лучшим месторождениям"
   ]
  },
  {
   "cell_type": "code",
   "execution_count": 19,
   "metadata": {},
   "outputs": [],
   "source": [
    "def region_profit(prod,count):\n",
    "    prod = prod[:count]\n",
    "    profit = sum(prod['real'])*450_000 - 10_000_000_000\n",
    "    return profit"
   ]
  },
  {
   "cell_type": "code",
   "execution_count": 20,
   "metadata": {
    "scrolled": true
   },
   "outputs": [
    {
     "name": "stdout",
     "output_type": "stream",
     "text": [
      "Прибыль при разработке 200 лучших скважин Региона 0 - 3.32 млрд.\n",
      "Прибыль при разработке 200 лучших скважин Региона 1 - 2.42 млрд.\n",
      "Прибыль при разработке 200 лучших скважин Региона 2 - 2.71 млрд.\n"
     ]
    }
   ],
   "source": [
    "print(\"Прибыль при разработке 200 лучших скважин Региона 0 -\", round(region_profit(prods0, 200)/1000000000,2), \"млрд.\")\n",
    "print(\"Прибыль при разработке 200 лучших скважин Региона 1 -\", round(region_profit(prods1, 200)/1000000000,2), \"млрд.\")\n",
    "print(\"Прибыль при разработке 200 лучших скважин Региона 2 -\", round(region_profit(prods2, 200)/1000000000,2), \"млрд.\")"
   ]
  },
  {
   "cell_type": "markdown",
   "metadata": {},
   "source": [
    "### Расчет прибыли и рисков с помощью bootstrap"
   ]
  },
  {
   "cell_type": "code",
   "execution_count": 21,
   "metadata": {},
   "outputs": [],
   "source": [
    "#Функция теники бутстреп с отрисовкой графиков распределения прибыли\n",
    "def bootstrap(prod, count, name):\n",
    "    values=[]\n",
    "    for i in range(1000):\n",
    "        prod_subsample = (prod.sample(n=500, replace=False, random_state=state)\n",
    "                          .sort_values(by = 'pred', ascending=False)[:count])\n",
    "        values.append(region_profit(prod_subsample, count))\n",
    "    values = pd.Series(values)\n",
    "    values_mean = (values.mean()/1000000).round(2)\n",
    "    q_05 = (values.quantile(0.025)/1000000).round(2)\n",
    "    q_95 = (values.quantile(0.975)/1000000).round(2)\n",
    "    print(name)\n",
    "    print('Средний размер прибыли', values_mean, \"млн.руб\")\n",
    "    print('95% доверительный интервал:', q_05, \"-\", q_95, \"млн.руб\")\n",
    "    print('Риск убытков:', ((values < 0).mean()*100).round(2),\"%\")\n",
    "    plt.figure(figsize=(12, 5))\n",
    "    plt.hist(values/1000000, bins=50)\n",
    "    plt.axvline(x=values_mean, color='red', label = 'Средняя прибыль')\n",
    "    plt.axvline(x=q_05, linestyle='--', color='green', label = '95% доверительный интервал')\n",
    "    plt.axvline(x=q_95, linestyle='--', color='green')\n",
    "    plt.xlabel('Прибыль, млн.руб.')\n",
    "    plt.ylabel('Количество')\n",
    "    plt.title('График распределения прибыли')\n",
    "    plt.legend(loc='best')\n",
    "    plt.grid(True)\n",
    "    plt.show()\n",
    "    print('_________________\\n')"
   ]
  },
  {
   "cell_type": "code",
   "execution_count": 22,
   "metadata": {},
   "outputs": [
    {
     "name": "stdout",
     "output_type": "stream",
     "text": [
      "Регион 0\n",
      "Средний размер прибыли 386.45 млн.руб\n",
      "95% доверительный интервал: -137.19 - 908.96 млн.руб\n",
      "Риск убытков: 5.7 %\n"
     ]
    },
    {
     "data": {
      "image/png": "[encoded data removed]",
      "text/plain": [
       "<Figure size 864x360 with 1 Axes>"
      ]
     },
     "metadata": {
      "needs_background": "light"
     },
     "output_type": "display_data"
    },
    {
     "name": "stdout",
     "output_type": "stream",
     "text": [
      "_________________\n",
      "\n",
      "Регион 1\n",
      "Средний размер прибыли 466.12 млн.руб\n",
      "95% доверительный интервал: 63.19 - 856.63 млн.руб\n",
      "Риск убытков: 0.9 %\n"
     ]
    },
    {
     "data": {
      "image/png": "[encoded data removed]",
      "text/plain": [
       "<Figure size 864x360 with 1 Axes>"
      ]
     },
     "metadata": {
      "needs_background": "light"
     },
     "output_type": "display_data"
    },
    {
     "name": "stdout",
     "output_type": "stream",
     "text": [
      "_________________\n",
      "\n",
      "Регион 2\n",
      "Средний размер прибыли 383.47 млн.руб\n",
      "95% доверительный интервал: -116.14 - 890.36 млн.руб\n",
      "Риск убытков: 8.3 %\n"
     ]
    },
    {
     "data": {
      "image/png": "[encoded data removed]",
      "text/plain": [
       "<Figure size 864x360 with 1 Axes>"
      ]
     },
     "metadata": {
      "needs_background": "light"
     },
     "output_type": "display_data"
    },
    {
     "name": "stdout",
     "output_type": "stream",
     "text": [
      "_________________\n",
      "\n"
     ]
    }
   ],
   "source": [
    "bootstrap(prods0, 200, 'Регион 0')\n",
    "bootstrap(prods1, 200, 'Регион 1')\n",
    "bootstrap(prods2, 200, 'Регион 2')"
   ]
  },
  {
   "cell_type": "markdown",
   "metadata": {},
   "source": [
    "**Вывод:** Минимальный риск убытков у региона 1 (около 1%), у остальных он в 5-6 раз больше.\n",
    "И самый высокий показатель средней прибыли так же в регионе 1. Таким образом выбираем для освоения именно Регион 1\n",
    "\n",
    "Так же видим распределение прибыли при случайных комбинациях: в 0 и 2 регионах убыток может достигать до 200 млн.руб.\n",
    "В регионе 1 такой ситуации нет, 95% доверительный интервал весь в прибыли."
   ]
  },
  {
   "cell_type": "markdown",
   "metadata": {},
   "source": [
    "## Итоговый вывод"
   ]
  },
  {
   "cell_type": "markdown",
   "metadata": {},
   "source": [
    " **1.** Была достигнута цель исследования - С помощъю машинного обучения и техники Бутстреп проанализированы месторождения трех регионов и определен оптимальный регион для разработки, для этого было сделано:\n",
    "- Разделены данные о месторождениях нефти трех регионов на 2 выборки каждый: обучающую, валидационную в соотношении 3:1\n",
    "- Количественные признаки промасштабированы\n",
    "- Обучена модель линейной регрессии для предсказания объемов нефти по трем количественным факторам в месторождениях отдельно по каждому региону, результаты предсказаний сохранены.\n",
    "- Высчитана точка безубыточности разработки 200 скважин(сколько нефти должно быть суммарно в них).\n",
    "- Составлена функция подсчета показателей(средняя прибыль, 95% доверительный интервал, риск убытков) по 200 лучшим месторождениям(выбраны *по предсказанным* данным, посчитаны *по реальным*) из 500 месторождений выбранных случайно 1000 разными способами из 25000 месторождений. \n",
    "    \n",
    "**2.** Для безубыточности проработки региона (исследовать 500 месторождений и построить вышку на 200а лучших), необходимо чтобы суммарно у них было не менее 22222.(2) тыс.баррелей, значит у каждого месторождения в среднем 111.(1) тыс. баррелей\n",
    "\n",
    "\n",
    "**3.** В конечном итоге выбираем Регион 1, т.к. у ниго лучшие показатели (по Бутстрепу):\n",
    "- Риск убытков около 1%(в остальных 5-7%)\n",
    "- Средняя прибыль минимум на 50 млн.руб. больше.\n",
    "- 95% доверительный интервал целиком находится в прибыли, чего не сказать про другие регионы"
   ]
  }
 ],
 "metadata": {
  "ExecuteTimeLog": [
   {
    "duration": 1603,
    "start_time": "2023-04-02T20:07:44.489Z"
   },
   {
    "duration": 0,
    "start_time": "2023-04-02T20:07:46.094Z"
   },
   {
    "duration": 0,
    "start_time": "2023-04-02T20:07:46.095Z"
   },
   {
    "duration": 0,
    "start_time": "2023-04-02T20:07:46.096Z"
   },
   {
    "duration": 22,
    "start_time": "2023-04-02T20:09:15.786Z"
   },
   {
    "duration": 3,
    "start_time": "2023-04-02T20:09:48.235Z"
   },
   {
    "duration": 2,
    "start_time": "2023-04-02T20:09:49.745Z"
   },
   {
    "duration": 3,
    "start_time": "2023-04-02T20:09:50.415Z"
   },
   {
    "duration": 1523,
    "start_time": "2023-04-02T20:09:52.490Z"
   },
   {
    "duration": 13,
    "start_time": "2023-04-02T20:09:54.015Z"
   },
   {
    "duration": 3,
    "start_time": "2023-04-02T20:10:26.536Z"
   },
   {
    "duration": 12,
    "start_time": "2023-04-02T20:10:40.294Z"
   },
   {
    "duration": 8,
    "start_time": "2023-04-02T20:13:45.526Z"
   },
   {
    "duration": 8,
    "start_time": "2023-04-02T20:15:18.465Z"
   },
   {
    "duration": 8,
    "start_time": "2023-04-02T20:15:25.082Z"
   },
   {
    "duration": 9,
    "start_time": "2023-04-02T20:16:48.763Z"
   },
   {
    "duration": 51,
    "start_time": "2023-04-02T20:21:23.499Z"
   },
   {
    "duration": 4426,
    "start_time": "2023-04-02T20:22:09.785Z"
   },
   {
    "duration": 3,
    "start_time": "2023-04-02T20:23:59.387Z"
   },
   {
    "duration": 3819,
    "start_time": "2023-04-02T20:24:29.053Z"
   },
   {
    "duration": 14,
    "start_time": "2023-04-02T20:25:42.586Z"
   },
   {
    "duration": 3762,
    "start_time": "2023-04-02T20:26:59.753Z"
   },
   {
    "duration": 3,
    "start_time": "2023-04-02T20:27:04.713Z"
   },
   {
    "duration": 12,
    "start_time": "2023-04-02T20:27:07.207Z"
   },
   {
    "duration": 16056,
    "start_time": "2023-04-02T20:27:25.733Z"
   },
   {
    "duration": 3,
    "start_time": "2023-04-02T20:27:41.791Z"
   },
   {
    "duration": 397,
    "start_time": "2023-04-02T20:27:48.722Z"
   },
   {
    "duration": 9385,
    "start_time": "2023-04-02T20:27:50.336Z"
   },
   {
    "duration": 82,
    "start_time": "2023-04-02T20:32:49.696Z"
   },
   {
    "duration": 8893,
    "start_time": "2023-04-02T20:33:05.152Z"
   },
   {
    "duration": 9276,
    "start_time": "2023-04-02T20:34:21.004Z"
   },
   {
    "duration": 9178,
    "start_time": "2023-04-02T20:34:38.867Z"
   },
   {
    "duration": 3,
    "start_time": "2023-04-02T20:39:01.870Z"
   },
   {
    "duration": 19553,
    "start_time": "2023-04-15T10:30:48.556Z"
   },
   {
    "duration": 3,
    "start_time": "2023-04-15T10:31:08.112Z"
   },
   {
    "duration": 23,
    "start_time": "2023-04-15T10:31:08.117Z"
   },
   {
    "duration": 2863,
    "start_time": "2023-04-15T10:31:11.901Z"
   },
   {
    "duration": 10678,
    "start_time": "2023-04-15T10:31:14.767Z"
   },
   {
    "duration": 10211,
    "start_time": "2023-04-15T10:31:25.448Z"
   },
   {
    "duration": 10802,
    "start_time": "2023-04-15T10:31:35.661Z"
   },
   {
    "duration": 9,
    "start_time": "2023-04-15T10:40:09.594Z"
   },
   {
    "duration": 38,
    "start_time": "2023-04-15T10:41:55.056Z"
   },
   {
    "duration": 225,
    "start_time": "2023-04-15T10:43:45.036Z"
   },
   {
    "duration": 40,
    "start_time": "2023-04-15T10:44:24.142Z"
   },
   {
    "duration": 10,
    "start_time": "2023-04-15T10:44:26.140Z"
   },
   {
    "duration": 2691,
    "start_time": "2023-04-15T10:51:12.737Z"
   },
   {
    "duration": 9,
    "start_time": "2023-04-15T10:51:22.822Z"
   },
   {
    "duration": 28,
    "start_time": "2023-04-15T10:51:23.867Z"
   },
   {
    "duration": 38,
    "start_time": "2023-04-15T10:51:24.626Z"
   },
   {
    "duration": 5,
    "start_time": "2023-04-15T10:51:25.426Z"
   },
   {
    "duration": 4,
    "start_time": "2023-04-15T11:01:05.592Z"
   },
   {
    "duration": 3,
    "start_time": "2023-04-15T11:02:05.152Z"
   },
   {
    "duration": 297,
    "start_time": "2023-04-15T11:02:06.456Z"
   },
   {
    "duration": 137,
    "start_time": "2023-04-15T11:03:48.108Z"
   },
   {
    "duration": 189,
    "start_time": "2023-04-15T11:07:51.958Z"
   },
   {
    "duration": 303,
    "start_time": "2023-04-15T11:08:31.862Z"
   },
   {
    "duration": 337,
    "start_time": "2023-04-15T11:09:46.709Z"
   },
   {
    "duration": 345,
    "start_time": "2023-04-15T11:10:42.098Z"
   },
   {
    "duration": 385,
    "start_time": "2023-04-15T12:31:43.076Z"
   },
   {
    "duration": 257,
    "start_time": "2023-04-15T12:33:39.812Z"
   },
   {
    "duration": 278,
    "start_time": "2023-04-15T12:34:19.684Z"
   },
   {
    "duration": 374,
    "start_time": "2023-04-15T12:34:30.574Z"
   },
   {
    "duration": 88,
    "start_time": "2023-04-15T12:40:03.272Z"
   },
   {
    "duration": 5704,
    "start_time": "2023-04-15T12:42:18.869Z"
   },
   {
    "duration": 4,
    "start_time": "2023-04-15T12:42:24.576Z"
   },
   {
    "duration": 25,
    "start_time": "2023-04-15T12:42:24.582Z"
   },
   {
    "duration": 507,
    "start_time": "2023-04-15T12:42:24.609Z"
   },
   {
    "duration": 11592,
    "start_time": "2023-04-15T12:42:25.118Z"
   },
   {
    "duration": 10506,
    "start_time": "2023-04-15T12:42:36.713Z"
   },
   {
    "duration": 10846,
    "start_time": "2023-04-15T12:42:47.248Z"
   },
   {
    "duration": 13,
    "start_time": "2023-04-15T12:42:58.096Z"
   },
   {
    "duration": 95,
    "start_time": "2023-04-15T12:42:58.110Z"
   },
   {
    "duration": 62,
    "start_time": "2023-04-15T12:42:58.209Z"
   },
   {
    "duration": 6,
    "start_time": "2023-04-15T12:42:58.274Z"
   },
   {
    "duration": 234,
    "start_time": "2023-04-15T12:42:58.282Z"
   },
   {
    "duration": 8,
    "start_time": "2023-04-15T13:13:43.044Z"
   },
   {
    "duration": 254,
    "start_time": "2023-04-15T13:13:45.190Z"
   },
   {
    "duration": 337,
    "start_time": "2023-04-15T13:15:07.822Z"
   },
   {
    "duration": 250,
    "start_time": "2023-04-15T13:16:39.603Z"
   },
   {
    "duration": 33,
    "start_time": "2023-04-15T13:18:50.340Z"
   },
   {
    "duration": 50,
    "start_time": "2023-04-15T13:19:04.603Z"
   },
   {
    "duration": 33,
    "start_time": "2023-04-15T13:19:14.497Z"
   },
   {
    "duration": 44,
    "start_time": "2023-04-15T13:19:57.495Z"
   },
   {
    "duration": 6,
    "start_time": "2023-04-15T13:19:59.361Z"
   },
   {
    "duration": 3,
    "start_time": "2023-04-15T13:20:15.166Z"
   },
   {
    "duration": 436,
    "start_time": "2023-04-15T13:20:16.239Z"
   },
   {
    "duration": 23,
    "start_time": "2023-04-15T13:21:57.872Z"
   },
   {
    "duration": 10676,
    "start_time": "2023-04-15T13:22:26.418Z"
   },
   {
    "duration": 5,
    "start_time": "2023-04-15T13:23:19.986Z"
   },
   {
    "duration": 24,
    "start_time": "2023-04-15T13:23:36.899Z"
   },
   {
    "duration": 20,
    "start_time": "2023-04-15T13:23:55.055Z"
   },
   {
    "duration": 27,
    "start_time": "2023-04-15T13:24:09.174Z"
   },
   {
    "duration": 6,
    "start_time": "2023-04-15T13:25:18.970Z"
   },
   {
    "duration": 32,
    "start_time": "2023-04-15T13:25:40.645Z"
   },
   {
    "duration": 6575,
    "start_time": "2023-04-15T13:26:12.522Z"
   },
   {
    "duration": 5,
    "start_time": "2023-04-15T13:26:19.101Z"
   },
   {
    "duration": 9,
    "start_time": "2023-04-15T13:26:19.108Z"
   },
   {
    "duration": 478,
    "start_time": "2023-04-15T13:26:19.119Z"
   },
   {
    "duration": 12885,
    "start_time": "2023-04-15T13:26:19.600Z"
   },
   {
    "duration": 10132,
    "start_time": "2023-04-15T13:26:32.487Z"
   },
   {
    "duration": 10854,
    "start_time": "2023-04-15T13:26:42.621Z"
   },
   {
    "duration": 14,
    "start_time": "2023-04-15T13:26:53.478Z"
   },
   {
    "duration": 88,
    "start_time": "2023-04-15T13:26:53.495Z"
   },
   {
    "duration": 37,
    "start_time": "2023-04-15T13:26:53.586Z"
   },
   {
    "duration": 14,
    "start_time": "2023-04-15T13:26:53.645Z"
   },
   {
    "duration": 7,
    "start_time": "2023-04-15T13:26:53.661Z"
   },
   {
    "duration": 398,
    "start_time": "2023-04-15T13:26:53.670Z"
   },
   {
    "duration": 5,
    "start_time": "2023-04-15T13:36:42.475Z"
   },
   {
    "duration": 194,
    "start_time": "2023-04-15T13:44:10.335Z"
   },
   {
    "duration": 400,
    "start_time": "2023-04-15T13:44:44.341Z"
   },
   {
    "duration": 15,
    "start_time": "2023-04-15T13:44:51.816Z"
   },
   {
    "duration": 7,
    "start_time": "2023-04-15T13:44:57.986Z"
   },
   {
    "duration": 3,
    "start_time": "2023-04-15T13:45:11.332Z"
   },
   {
    "duration": 364,
    "start_time": "2023-04-15T13:45:12.379Z"
   },
   {
    "duration": 4,
    "start_time": "2023-04-15T13:45:15.794Z"
   },
   {
    "duration": 4,
    "start_time": "2023-04-15T13:45:24.513Z"
   },
   {
    "duration": 396,
    "start_time": "2023-04-15T13:46:44.660Z"
   },
   {
    "duration": 372,
    "start_time": "2023-04-15T13:53:52.868Z"
   },
   {
    "duration": 147,
    "start_time": "2023-04-15T13:55:29.618Z"
   },
   {
    "duration": 4,
    "start_time": "2023-04-15T13:55:36.706Z"
   },
   {
    "duration": 120,
    "start_time": "2023-04-15T13:57:33.025Z"
   },
   {
    "duration": 4,
    "start_time": "2023-04-15T13:58:22.620Z"
   },
   {
    "duration": 264,
    "start_time": "2023-04-15T13:58:23.393Z"
   },
   {
    "duration": 5,
    "start_time": "2023-04-15T13:58:40.715Z"
   },
   {
    "duration": 19,
    "start_time": "2023-04-15T13:59:07.257Z"
   },
   {
    "duration": 5,
    "start_time": "2023-04-15T13:59:12.574Z"
   },
   {
    "duration": 6,
    "start_time": "2023-04-15T13:59:30.724Z"
   },
   {
    "duration": 7,
    "start_time": "2023-04-15T14:00:01.005Z"
   },
   {
    "duration": 6,
    "start_time": "2023-04-15T14:06:28.130Z"
   },
   {
    "duration": 9,
    "start_time": "2023-04-15T14:06:42.052Z"
   },
   {
    "duration": 16540,
    "start_time": "2023-04-16T07:03:48.624Z"
   },
   {
    "duration": 4,
    "start_time": "2023-04-16T07:04:05.166Z"
   },
   {
    "duration": 14,
    "start_time": "2023-04-16T07:04:05.171Z"
   },
   {
    "duration": 1459,
    "start_time": "2023-04-16T07:04:05.187Z"
   },
   {
    "duration": 9518,
    "start_time": "2023-04-16T07:04:06.648Z"
   },
   {
    "duration": 8544,
    "start_time": "2023-04-16T07:04:16.168Z"
   },
   {
    "duration": 8998,
    "start_time": "2023-04-16T07:04:24.714Z"
   },
   {
    "duration": 10,
    "start_time": "2023-04-16T07:04:33.715Z"
   },
   {
    "duration": 84,
    "start_time": "2023-04-16T07:04:33.727Z"
   },
   {
    "duration": 28,
    "start_time": "2023-04-16T07:04:33.814Z"
   },
   {
    "duration": 13,
    "start_time": "2023-04-16T07:04:33.844Z"
   },
   {
    "duration": 30,
    "start_time": "2023-04-16T07:04:33.859Z"
   },
   {
    "duration": 412,
    "start_time": "2023-04-16T07:04:33.891Z"
   },
   {
    "duration": 89,
    "start_time": "2023-04-16T07:04:34.306Z"
   },
   {
    "duration": 88,
    "start_time": "2023-04-16T07:04:34.397Z"
   },
   {
    "duration": 25,
    "start_time": "2023-04-16T07:04:34.487Z"
   },
   {
    "duration": 209,
    "start_time": "2023-04-16T07:04:34.514Z"
   },
   {
    "duration": 3,
    "start_time": "2023-04-16T07:04:45.857Z"
   },
   {
    "duration": 24,
    "start_time": "2023-04-16T07:04:46.611Z"
   },
   {
    "duration": 3,
    "start_time": "2023-04-16T07:04:56.739Z"
   },
   {
    "duration": 21,
    "start_time": "2023-04-16T07:04:57.307Z"
   },
   {
    "duration": 3,
    "start_time": "2023-04-16T07:06:13.665Z"
   },
   {
    "duration": 21,
    "start_time": "2023-04-16T07:06:14.590Z"
   },
   {
    "duration": 13,
    "start_time": "2023-04-16T07:07:06.398Z"
   },
   {
    "duration": 11,
    "start_time": "2023-04-16T07:07:18.822Z"
   },
   {
    "duration": 11,
    "start_time": "2023-04-16T07:07:22.916Z"
   },
   {
    "duration": 8,
    "start_time": "2023-04-16T07:08:16.287Z"
   },
   {
    "duration": 8,
    "start_time": "2023-04-16T07:08:31.108Z"
   },
   {
    "duration": 3,
    "start_time": "2023-04-16T07:08:58.439Z"
   },
   {
    "duration": 7,
    "start_time": "2023-04-16T07:08:59.397Z"
   },
   {
    "duration": 4,
    "start_time": "2023-04-16T07:20:43.016Z"
   },
   {
    "duration": 11,
    "start_time": "2023-04-16T07:20:43.647Z"
   },
   {
    "duration": 103,
    "start_time": "2023-04-16T07:21:00.798Z"
   },
   {
    "duration": 12,
    "start_time": "2023-04-16T07:21:09.425Z"
   },
   {
    "duration": 38,
    "start_time": "2023-04-16T07:21:16.904Z"
   },
   {
    "duration": 85,
    "start_time": "2023-04-16T07:28:52.847Z"
   },
   {
    "duration": 434,
    "start_time": "2023-04-16T07:29:03.598Z"
   },
   {
    "duration": 55,
    "start_time": "2023-04-16T07:29:13.354Z"
   },
   {
    "duration": 12,
    "start_time": "2023-04-16T07:29:38.160Z"
   },
   {
    "duration": 13,
    "start_time": "2023-04-16T07:32:00.465Z"
   },
   {
    "duration": 3,
    "start_time": "2023-04-16T07:44:37.675Z"
   },
   {
    "duration": 11,
    "start_time": "2023-04-16T07:44:38.558Z"
   },
   {
    "duration": 19,
    "start_time": "2023-04-16T07:44:58.995Z"
   },
   {
    "duration": 3,
    "start_time": "2023-04-16T07:45:09.913Z"
   },
   {
    "duration": 7,
    "start_time": "2023-04-16T07:45:11.397Z"
   },
   {
    "duration": 6,
    "start_time": "2023-04-16T08:00:17.399Z"
   },
   {
    "duration": 11,
    "start_time": "2023-04-16T08:23:03.318Z"
   },
   {
    "duration": 3,
    "start_time": "2023-04-16T08:25:23.432Z"
   },
   {
    "duration": 7,
    "start_time": "2023-04-16T08:25:24.509Z"
   },
   {
    "duration": 20,
    "start_time": "2023-04-16T08:27:17.347Z"
   },
   {
    "duration": 13,
    "start_time": "2023-04-16T08:28:09.608Z"
   },
   {
    "duration": 12,
    "start_time": "2023-04-16T08:28:26.473Z"
   },
   {
    "duration": 15,
    "start_time": "2023-04-16T08:28:42.990Z"
   },
   {
    "duration": 17,
    "start_time": "2023-04-16T08:28:54.038Z"
   },
   {
    "duration": 15,
    "start_time": "2023-04-16T08:29:00.257Z"
   },
   {
    "duration": 3,
    "start_time": "2023-04-16T08:34:37.108Z"
   },
   {
    "duration": 3,
    "start_time": "2023-04-16T08:35:20.732Z"
   },
   {
    "duration": 2,
    "start_time": "2023-04-16T08:35:27.332Z"
   },
   {
    "duration": 41,
    "start_time": "2023-04-17T18:43:25.793Z"
   },
   {
    "duration": 4,
    "start_time": "2023-04-17T18:45:37.916Z"
   },
   {
    "duration": 1266,
    "start_time": "2023-04-17T18:45:56.444Z"
   },
   {
    "duration": 4,
    "start_time": "2023-04-17T18:45:59.180Z"
   },
   {
    "duration": 3,
    "start_time": "2023-04-17T18:47:35.630Z"
   },
   {
    "duration": 3,
    "start_time": "2023-04-17T18:47:38.557Z"
   },
   {
    "duration": 2,
    "start_time": "2023-04-17T18:47:39.388Z"
   },
   {
    "duration": 1906,
    "start_time": "2023-04-17T18:47:40.649Z"
   },
   {
    "duration": 10,
    "start_time": "2023-04-17T18:47:44.993Z"
   },
   {
    "duration": 25,
    "start_time": "2023-04-17T18:47:46.594Z"
   },
   {
    "duration": 30,
    "start_time": "2023-04-17T18:47:47.828Z"
   },
   {
    "duration": 4,
    "start_time": "2023-04-17T18:47:48.319Z"
   },
   {
    "duration": 3,
    "start_time": "2023-04-17T18:47:49.936Z"
   },
   {
    "duration": 261,
    "start_time": "2023-04-17T18:47:50.533Z"
   },
   {
    "duration": 4,
    "start_time": "2023-04-17T18:47:54.978Z"
   },
   {
    "duration": 13,
    "start_time": "2023-04-17T18:47:55.912Z"
   },
   {
    "duration": 3,
    "start_time": "2023-04-17T18:47:57.338Z"
   },
   {
    "duration": 2,
    "start_time": "2023-04-17T18:48:02.304Z"
   },
   {
    "duration": 5,
    "start_time": "2023-04-17T18:48:03.084Z"
   },
   {
    "duration": 3,
    "start_time": "2023-04-17T18:48:06.997Z"
   },
   {
    "duration": 4,
    "start_time": "2023-04-17T18:48:08.114Z"
   },
   {
    "duration": 96,
    "start_time": "2023-04-17T18:48:09.018Z"
   },
   {
    "duration": 3,
    "start_time": "2023-04-17T18:48:32.555Z"
   },
   {
    "duration": 285,
    "start_time": "2023-04-17T18:48:34.205Z"
   },
   {
    "duration": 16,
    "start_time": "2023-04-17T18:56:42.435Z"
   },
   {
    "duration": 7,
    "start_time": "2023-04-17T18:57:02.708Z"
   },
   {
    "duration": 254,
    "start_time": "2023-04-17T18:58:00.300Z"
   },
   {
    "duration": 5,
    "start_time": "2023-04-17T18:59:05.442Z"
   },
   {
    "duration": 260,
    "start_time": "2023-04-17T18:59:07.811Z"
   },
   {
    "duration": 78,
    "start_time": "2023-04-17T19:14:07.604Z"
   },
   {
    "duration": 792,
    "start_time": "2023-04-17T19:14:08.113Z"
   },
   {
    "duration": 120,
    "start_time": "2023-04-17T19:14:39.957Z"
   },
   {
    "duration": 74,
    "start_time": "2023-04-17T19:14:49.428Z"
   },
   {
    "duration": 82,
    "start_time": "2023-04-17T19:15:14.099Z"
   },
   {
    "duration": 846,
    "start_time": "2023-04-17T19:15:14.338Z"
   },
   {
    "duration": 103,
    "start_time": "2023-04-17T19:19:26.942Z"
   },
   {
    "duration": 744,
    "start_time": "2023-04-17T19:19:32.218Z"
   },
   {
    "duration": 68,
    "start_time": "2023-04-17T19:21:13.796Z"
   },
   {
    "duration": 4,
    "start_time": "2023-04-17T19:27:47.937Z"
   },
   {
    "duration": 4,
    "start_time": "2023-04-17T19:27:47.985Z"
   },
   {
    "duration": 16,
    "start_time": "2023-04-17T19:27:47.992Z"
   },
   {
    "duration": 18,
    "start_time": "2023-04-17T19:27:48.010Z"
   },
   {
    "duration": 5,
    "start_time": "2023-04-17T19:27:48.030Z"
   },
   {
    "duration": 342,
    "start_time": "2023-04-17T19:27:48.037Z"
   },
   {
    "duration": 14,
    "start_time": "2023-04-17T19:27:48.381Z"
   },
   {
    "duration": 37,
    "start_time": "2023-04-17T19:27:48.396Z"
   },
   {
    "duration": 22,
    "start_time": "2023-04-17T19:27:48.435Z"
   },
   {
    "duration": 5,
    "start_time": "2023-04-17T19:27:48.459Z"
   },
   {
    "duration": 7,
    "start_time": "2023-04-17T19:27:48.465Z"
   },
   {
    "duration": 227,
    "start_time": "2023-04-17T19:27:48.473Z"
   },
   {
    "duration": 5,
    "start_time": "2023-04-17T19:27:48.702Z"
   },
   {
    "duration": 96,
    "start_time": "2023-04-17T19:27:48.709Z"
   },
   {
    "duration": 4,
    "start_time": "2023-04-17T19:27:48.808Z"
   },
   {
    "duration": 3,
    "start_time": "2023-04-17T19:27:48.814Z"
   },
   {
    "duration": 6,
    "start_time": "2023-04-17T19:27:48.819Z"
   },
   {
    "duration": 5,
    "start_time": "2023-04-17T19:27:48.826Z"
   },
   {
    "duration": 1255,
    "start_time": "2023-04-17T19:28:03.744Z"
   },
   {
    "duration": 3,
    "start_time": "2023-04-17T19:28:05.001Z"
   },
   {
    "duration": 28,
    "start_time": "2023-04-17T19:28:05.005Z"
   },
   {
    "duration": 18,
    "start_time": "2023-04-17T19:28:05.036Z"
   },
   {
    "duration": 20,
    "start_time": "2023-04-17T19:28:05.056Z"
   },
   {
    "duration": 408,
    "start_time": "2023-04-17T19:28:05.078Z"
   },
   {
    "duration": 11,
    "start_time": "2023-04-17T19:28:05.488Z"
   },
   {
    "duration": 28,
    "start_time": "2023-04-17T19:28:05.501Z"
   },
   {
    "duration": 33,
    "start_time": "2023-04-17T19:28:05.531Z"
   },
   {
    "duration": 28,
    "start_time": "2023-04-17T19:28:05.567Z"
   },
   {
    "duration": 7,
    "start_time": "2023-04-17T19:28:05.597Z"
   },
   {
    "duration": 495,
    "start_time": "2023-04-17T19:28:05.605Z"
   },
   {
    "duration": 92,
    "start_time": "2023-04-17T19:28:06.102Z"
   },
   {
    "duration": 20,
    "start_time": "2023-04-17T19:28:06.196Z"
   },
   {
    "duration": 12,
    "start_time": "2023-04-17T19:28:06.218Z"
   },
   {
    "duration": 21,
    "start_time": "2023-04-17T19:28:06.231Z"
   },
   {
    "duration": 6,
    "start_time": "2023-04-17T19:28:06.253Z"
   },
   {
    "duration": 4,
    "start_time": "2023-04-17T19:28:10.818Z"
   },
   {
    "duration": 1095,
    "start_time": "2023-04-17T19:28:11.629Z"
   },
   {
    "duration": 4,
    "start_time": "2023-04-17T19:29:36.638Z"
   },
   {
    "duration": 2853,
    "start_time": "2023-04-17T19:29:37.816Z"
   },
   {
    "duration": 4,
    "start_time": "2023-04-17T19:32:59.393Z"
   },
   {
    "duration": 2900,
    "start_time": "2023-04-17T19:33:01.451Z"
   },
   {
    "duration": 4,
    "start_time": "2023-04-17T19:33:38.351Z"
   },
   {
    "duration": 2827,
    "start_time": "2023-04-17T19:33:39.486Z"
   },
   {
    "duration": 4,
    "start_time": "2023-04-17T19:33:53.690Z"
   },
   {
    "duration": 2879,
    "start_time": "2023-04-17T19:33:56.490Z"
   },
   {
    "duration": 4,
    "start_time": "2023-04-17T19:34:18.188Z"
   },
   {
    "duration": 2796,
    "start_time": "2023-04-17T19:34:18.821Z"
   },
   {
    "duration": 93,
    "start_time": "2023-04-17T19:37:58.403Z"
   },
   {
    "duration": 71,
    "start_time": "2023-04-17T19:38:14.590Z"
   },
   {
    "duration": 4,
    "start_time": "2023-04-17T19:38:26.541Z"
   },
   {
    "duration": 6,
    "start_time": "2023-04-17T19:38:37.211Z"
   },
   {
    "duration": 925,
    "start_time": "2023-04-17T19:38:37.841Z"
   },
   {
    "duration": 5,
    "start_time": "2023-04-17T19:38:46.026Z"
   },
   {
    "duration": 944,
    "start_time": "2023-04-17T19:38:46.597Z"
   },
   {
    "duration": 5,
    "start_time": "2023-04-17T19:39:18.802Z"
   },
   {
    "duration": 938,
    "start_time": "2023-04-17T19:39:19.841Z"
   },
   {
    "duration": 6,
    "start_time": "2023-04-17T19:40:52.640Z"
   },
   {
    "duration": 927,
    "start_time": "2023-04-17T19:40:53.686Z"
   },
   {
    "duration": 4,
    "start_time": "2023-04-17T19:42:14.521Z"
   },
   {
    "duration": 2738,
    "start_time": "2023-04-17T19:42:14.811Z"
   },
   {
    "duration": 70,
    "start_time": "2023-04-17T19:43:08.286Z"
   },
   {
    "duration": 2844,
    "start_time": "2023-04-17T19:43:08.820Z"
   },
   {
    "duration": 5,
    "start_time": "2023-04-17T19:43:16.851Z"
   },
   {
    "duration": 2728,
    "start_time": "2023-04-17T19:43:19.985Z"
   },
   {
    "duration": 2737,
    "start_time": "2023-04-17T19:44:25.685Z"
   },
   {
    "duration": 6,
    "start_time": "2023-04-17T19:49:51.347Z"
   },
   {
    "duration": 2812,
    "start_time": "2023-04-17T19:49:51.984Z"
   },
   {
    "duration": 5,
    "start_time": "2023-04-17T20:02:13.608Z"
   },
   {
    "duration": 5,
    "start_time": "2023-04-17T20:03:16.236Z"
   },
   {
    "duration": 3,
    "start_time": "2023-04-17T20:25:36.266Z"
   },
   {
    "duration": 350,
    "start_time": "2023-04-17T20:25:36.271Z"
   },
   {
    "duration": 2026,
    "start_time": "2023-04-17T20:27:19.432Z"
   },
   {
    "duration": 4,
    "start_time": "2023-04-17T20:27:21.460Z"
   },
   {
    "duration": 5,
    "start_time": "2023-04-17T20:27:21.466Z"
   },
   {
    "duration": 11,
    "start_time": "2023-04-17T20:27:21.473Z"
   },
   {
    "duration": 358,
    "start_time": "2023-04-17T20:27:21.486Z"
   },
   {
    "duration": 7587,
    "start_time": "2023-04-17T20:27:21.845Z"
   },
   {
    "duration": 7262,
    "start_time": "2023-04-17T20:27:29.433Z"
   },
   {
    "duration": 1263,
    "start_time": "2023-04-17T20:27:49.623Z"
   },
   {
    "duration": 2463,
    "start_time": "2023-04-17T20:27:50.953Z"
   },
   {
    "duration": 4,
    "start_time": "2023-04-17T20:27:53.418Z"
   },
   {
    "duration": 2,
    "start_time": "2023-04-17T20:27:53.603Z"
   },
   {
    "duration": 11,
    "start_time": "2023-04-17T20:27:53.607Z"
   },
   {
    "duration": 331,
    "start_time": "2023-04-17T20:38:52.510Z"
   },
   {
    "duration": 7988,
    "start_time": "2023-04-17T20:38:54.497Z"
   },
   {
    "duration": 7352,
    "start_time": "2023-04-17T20:39:02.486Z"
   },
   {
    "duration": 7967,
    "start_time": "2023-04-17T20:39:09.839Z"
   },
   {
    "duration": 8,
    "start_time": "2023-04-17T20:39:17.808Z"
   },
   {
    "duration": 26,
    "start_time": "2023-04-17T20:39:17.818Z"
   },
   {
    "duration": 67,
    "start_time": "2023-04-17T20:39:17.846Z"
   },
   {
    "duration": 4,
    "start_time": "2023-04-17T20:39:17.915Z"
   },
   {
    "duration": 7,
    "start_time": "2023-04-17T20:39:17.920Z"
   },
   {
    "duration": 275,
    "start_time": "2023-04-17T20:39:17.929Z"
   },
   {
    "duration": 4,
    "start_time": "2023-04-17T20:39:38.486Z"
   },
   {
    "duration": 14,
    "start_time": "2023-04-17T20:39:38.660Z"
   },
   {
    "duration": 4,
    "start_time": "2023-04-17T20:39:38.799Z"
   },
   {
    "duration": 3,
    "start_time": "2023-04-17T20:39:50.048Z"
   },
   {
    "duration": 20,
    "start_time": "2023-04-17T20:39:50.055Z"
   },
   {
    "duration": 4,
    "start_time": "2023-04-17T20:39:50.441Z"
   },
   {
    "duration": 2777,
    "start_time": "2023-04-17T20:39:50.448Z"
   },
   {
    "duration": 6,
    "start_time": "2023-04-17T20:42:22.206Z"
   },
   {
    "duration": 69,
    "start_time": "2023-04-17T20:42:25.592Z"
   },
   {
    "duration": 141,
    "start_time": "2023-04-17T20:42:30.245Z"
   },
   {
    "duration": 10,
    "start_time": "2023-04-17T20:42:47.651Z"
   },
   {
    "duration": 21,
    "start_time": "2023-04-17T20:42:55.972Z"
   },
   {
    "duration": 8,
    "start_time": "2023-04-17T20:43:16.072Z"
   },
   {
    "duration": 25,
    "start_time": "2023-04-17T20:47:38.481Z"
   },
   {
    "duration": 8,
    "start_time": "2023-04-17T20:47:39.458Z"
   },
   {
    "duration": 5,
    "start_time": "2023-04-17T20:48:57.922Z"
   },
   {
    "duration": 8,
    "start_time": "2023-04-17T20:49:00.779Z"
   },
   {
    "duration": 99,
    "start_time": "2023-04-17T20:49:04.850Z"
   },
   {
    "duration": 27,
    "start_time": "2023-04-17T20:49:31.505Z"
   },
   {
    "duration": 9,
    "start_time": "2023-04-17T20:49:35.071Z"
   },
   {
    "duration": 22,
    "start_time": "2023-04-17T20:49:40.761Z"
   },
   {
    "duration": 4,
    "start_time": "2023-04-17T20:49:50.092Z"
   },
   {
    "duration": 1292,
    "start_time": "2023-04-17T21:24:51.928Z"
   },
   {
    "duration": 2570,
    "start_time": "2023-04-17T21:24:53.222Z"
   },
   {
    "duration": 3,
    "start_time": "2023-04-17T21:24:55.794Z"
   },
   {
    "duration": 5,
    "start_time": "2023-04-17T21:24:55.800Z"
   },
   {
    "duration": 5,
    "start_time": "2023-04-17T21:24:55.807Z"
   },
   {
    "duration": 339,
    "start_time": "2023-04-17T21:24:55.813Z"
   },
   {
    "duration": 8416,
    "start_time": "2023-04-17T21:24:56.153Z"
   },
   {
    "duration": 7395,
    "start_time": "2023-04-17T21:25:04.571Z"
   },
   {
    "duration": 8799,
    "start_time": "2023-04-17T21:25:11.967Z"
   },
   {
    "duration": 7,
    "start_time": "2023-04-17T21:25:20.768Z"
   },
   {
    "duration": 10,
    "start_time": "2023-04-17T21:25:20.794Z"
   },
   {
    "duration": 26,
    "start_time": "2023-04-17T21:25:20.805Z"
   },
   {
    "duration": 8,
    "start_time": "2023-04-17T21:25:20.832Z"
   },
   {
    "duration": 59,
    "start_time": "2023-04-17T21:25:20.842Z"
   },
   {
    "duration": 4,
    "start_time": "2023-04-17T21:25:20.903Z"
   },
   {
    "duration": 2,
    "start_time": "2023-04-17T21:25:20.909Z"
   },
   {
    "duration": 584,
    "start_time": "2023-04-17T21:25:20.913Z"
   },
   {
    "duration": 93,
    "start_time": "2023-04-17T21:25:21.502Z"
   },
   {
    "duration": 20,
    "start_time": "2023-04-17T21:25:21.597Z"
   },
   {
    "duration": 3,
    "start_time": "2023-04-17T21:25:21.619Z"
   },
   {
    "duration": 3,
    "start_time": "2023-04-17T21:25:21.623Z"
   },
   {
    "duration": 6,
    "start_time": "2023-04-17T21:25:21.627Z"
   },
   {
    "duration": 4,
    "start_time": "2023-04-17T21:25:21.636Z"
   },
   {
    "duration": 2809,
    "start_time": "2023-04-17T21:25:21.642Z"
   },
   {
    "duration": 2186,
    "start_time": "2023-04-18T20:24:48.238Z"
   },
   {
    "duration": 15417,
    "start_time": "2023-04-18T20:24:50.426Z"
   },
   {
    "duration": 3,
    "start_time": "2023-04-18T20:25:05.845Z"
   },
   {
    "duration": 16,
    "start_time": "2023-04-18T20:25:05.850Z"
   },
   {
    "duration": 7,
    "start_time": "2023-04-18T20:25:05.868Z"
   },
   {
    "duration": 938,
    "start_time": "2023-04-18T20:25:05.877Z"
   },
   {
    "duration": 9247,
    "start_time": "2023-04-18T20:25:06.817Z"
   },
   {
    "duration": 8486,
    "start_time": "2023-04-18T20:25:16.066Z"
   },
   {
    "duration": 9016,
    "start_time": "2023-04-18T20:25:24.553Z"
   },
   {
    "duration": 7,
    "start_time": "2023-04-18T20:25:33.572Z"
   },
   {
    "duration": 44,
    "start_time": "2023-04-18T20:25:33.581Z"
   },
   {
    "duration": 29,
    "start_time": "2023-04-18T20:25:33.627Z"
   },
   {
    "duration": 10,
    "start_time": "2023-04-18T20:25:33.658Z"
   },
   {
    "duration": 65,
    "start_time": "2023-04-18T20:25:33.669Z"
   },
   {
    "duration": 5,
    "start_time": "2023-04-18T20:25:33.737Z"
   },
   {
    "duration": 13,
    "start_time": "2023-04-18T20:25:33.744Z"
   },
   {
    "duration": 466,
    "start_time": "2023-04-18T20:25:33.759Z"
   },
   {
    "duration": 89,
    "start_time": "2023-04-18T20:25:34.230Z"
   },
   {
    "duration": 19,
    "start_time": "2023-04-18T20:25:34.321Z"
   },
   {
    "duration": 4,
    "start_time": "2023-04-18T20:25:34.342Z"
   },
   {
    "duration": 6,
    "start_time": "2023-04-18T20:25:34.348Z"
   },
   {
    "duration": 14,
    "start_time": "2023-04-18T20:25:34.356Z"
   },
   {
    "duration": 9,
    "start_time": "2023-04-18T20:25:34.371Z"
   },
   {
    "duration": 3325,
    "start_time": "2023-04-18T20:25:34.382Z"
   },
   {
    "duration": 184,
    "start_time": "2023-04-18T20:31:31.003Z"
   },
   {
    "duration": 1970,
    "start_time": "2023-04-18T20:31:38.025Z"
   },
   {
    "duration": 3143,
    "start_time": "2023-04-18T20:31:39.997Z"
   },
   {
    "duration": 3,
    "start_time": "2023-04-18T20:31:43.143Z"
   },
   {
    "duration": 13,
    "start_time": "2023-04-18T20:31:43.148Z"
   },
   {
    "duration": 8,
    "start_time": "2023-04-18T20:31:43.163Z"
   },
   {
    "duration": 404,
    "start_time": "2023-04-18T20:31:43.173Z"
   },
   {
    "duration": 9306,
    "start_time": "2023-04-18T20:31:43.579Z"
   },
   {
    "duration": 8668,
    "start_time": "2023-04-18T20:31:52.887Z"
   },
   {
    "duration": 9042,
    "start_time": "2023-04-18T20:32:01.556Z"
   },
   {
    "duration": 19,
    "start_time": "2023-04-18T20:32:10.600Z"
   },
   {
    "duration": 20,
    "start_time": "2023-04-18T20:32:10.620Z"
   },
   {
    "duration": 33,
    "start_time": "2023-04-18T20:32:10.642Z"
   },
   {
    "duration": 44,
    "start_time": "2023-04-18T20:32:10.677Z"
   },
   {
    "duration": 28,
    "start_time": "2023-04-18T20:32:10.722Z"
   },
   {
    "duration": 5,
    "start_time": "2023-04-18T20:32:10.752Z"
   },
   {
    "duration": 6,
    "start_time": "2023-04-18T20:32:10.759Z"
   },
   {
    "duration": 561,
    "start_time": "2023-04-18T20:32:10.766Z"
   },
   {
    "duration": 5,
    "start_time": "2023-04-18T20:32:11.417Z"
   },
   {
    "duration": 32,
    "start_time": "2023-04-18T20:32:11.424Z"
   },
   {
    "duration": 8,
    "start_time": "2023-04-18T20:32:11.458Z"
   },
   {
    "duration": 16,
    "start_time": "2023-04-18T20:32:11.468Z"
   },
   {
    "duration": 14,
    "start_time": "2023-04-18T20:32:11.487Z"
   },
   {
    "duration": 14,
    "start_time": "2023-04-18T20:32:11.503Z"
   },
   {
    "duration": 3342,
    "start_time": "2023-04-18T20:32:11.519Z"
   },
   {
    "duration": 16,
    "start_time": "2023-10-17T12:14:42.255Z"
   },
   {
    "duration": 31915,
    "start_time": "2023-10-17T12:15:37.711Z"
   },
   {
    "duration": 2430,
    "start_time": "2023-10-17T12:16:09.628Z"
   },
   {
    "duration": 3,
    "start_time": "2023-10-17T12:16:12.060Z"
   },
   {
    "duration": 49,
    "start_time": "2023-10-17T12:16:12.066Z"
   },
   {
    "duration": 790,
    "start_time": "2023-10-17T12:16:12.116Z"
   },
   {
    "duration": 163,
    "start_time": "2023-10-17T12:16:12.908Z"
   },
   {
    "duration": 0,
    "start_time": "2023-10-17T12:16:13.073Z"
   },
   {
    "duration": 0,
    "start_time": "2023-10-17T12:16:13.079Z"
   },
   {
    "duration": 0,
    "start_time": "2023-10-17T12:16:13.080Z"
   },
   {
    "duration": 0,
    "start_time": "2023-10-17T12:16:13.081Z"
   },
   {
    "duration": 0,
    "start_time": "2023-10-17T12:16:13.083Z"
   },
   {
    "duration": 0,
    "start_time": "2023-10-17T12:16:13.084Z"
   },
   {
    "duration": 0,
    "start_time": "2023-10-17T12:16:13.086Z"
   },
   {
    "duration": 0,
    "start_time": "2023-10-17T12:16:13.087Z"
   },
   {
    "duration": 0,
    "start_time": "2023-10-17T12:16:13.089Z"
   },
   {
    "duration": 0,
    "start_time": "2023-10-17T12:16:13.090Z"
   },
   {
    "duration": 0,
    "start_time": "2023-10-17T12:16:13.091Z"
   },
   {
    "duration": 0,
    "start_time": "2023-10-17T12:16:13.092Z"
   },
   {
    "duration": 0,
    "start_time": "2023-10-17T12:16:13.093Z"
   },
   {
    "duration": 0,
    "start_time": "2023-10-17T12:16:13.094Z"
   },
   {
    "duration": 0,
    "start_time": "2023-10-17T12:16:13.096Z"
   },
   {
    "duration": 0,
    "start_time": "2023-10-17T12:16:13.097Z"
   },
   {
    "duration": 0,
    "start_time": "2023-10-17T12:16:13.098Z"
   },
   {
    "duration": 14,
    "start_time": "2023-10-17T12:20:51.306Z"
   },
   {
    "duration": 16,
    "start_time": "2023-10-17T12:21:10.894Z"
   },
   {
    "duration": 2701,
    "start_time": "2023-10-17T12:23:12.812Z"
   },
   {
    "duration": 740,
    "start_time": "2023-10-17T12:24:04.113Z"
   },
   {
    "duration": 6318,
    "start_time": "2023-10-17T12:24:09.650Z"
   },
   {
    "duration": 10,
    "start_time": "2023-10-17T12:49:26.685Z"
   },
   {
    "duration": 11,
    "start_time": "2023-10-17T12:49:27.890Z"
   },
   {
    "duration": 33,
    "start_time": "2023-10-17T12:49:28.203Z"
   },
   {
    "duration": 10,
    "start_time": "2023-10-17T12:49:28.537Z"
   },
   {
    "duration": 29,
    "start_time": "2023-10-17T12:49:29.118Z"
   },
   {
    "duration": 4,
    "start_time": "2023-10-17T12:49:29.412Z"
   },
   {
    "duration": 3,
    "start_time": "2023-10-17T12:49:29.879Z"
   },
   {
    "duration": 463,
    "start_time": "2023-10-17T12:49:30.491Z"
   },
   {
    "duration": 4,
    "start_time": "2023-10-17T12:49:31.099Z"
   },
   {
    "duration": 14,
    "start_time": "2023-10-17T12:49:31.281Z"
   },
   {
    "duration": 4,
    "start_time": "2023-10-17T12:49:31.426Z"
   },
   {
    "duration": 3,
    "start_time": "2023-10-17T12:49:32.733Z"
   },
   {
    "duration": 6,
    "start_time": "2023-10-17T12:49:33.131Z"
   },
   {
    "duration": 5,
    "start_time": "2023-10-17T12:49:35.349Z"
   },
   {
    "duration": 3246,
    "start_time": "2023-10-17T12:49:37.619Z"
   },
   {
    "duration": 6,
    "start_time": "2023-10-17T13:00:38.193Z"
   },
   {
    "duration": 3497,
    "start_time": "2023-10-17T13:00:39.853Z"
   },
   {
    "duration": 3345,
    "start_time": "2023-10-17T13:03:07.583Z"
   },
   {
    "duration": 81,
    "start_time": "2023-10-17T13:03:36.216Z"
   },
   {
    "duration": 5,
    "start_time": "2023-10-17T13:03:45.770Z"
   },
   {
    "duration": 3316,
    "start_time": "2023-10-17T13:03:48.121Z"
   },
   {
    "duration": 6,
    "start_time": "2023-10-17T13:11:59.626Z"
   },
   {
    "duration": 4237,
    "start_time": "2023-10-17T13:12:01.382Z"
   },
   {
    "duration": 5,
    "start_time": "2023-10-17T13:14:15.278Z"
   },
   {
    "duration": 3368,
    "start_time": "2023-10-17T13:14:18.132Z"
   },
   {
    "duration": 5,
    "start_time": "2023-10-17T13:15:41.718Z"
   },
   {
    "duration": 3955,
    "start_time": "2023-10-17T13:15:43.903Z"
   },
   {
    "duration": 5,
    "start_time": "2023-10-17T13:15:57.788Z"
   },
   {
    "duration": 3672,
    "start_time": "2023-10-17T13:15:59.219Z"
   },
   {
    "duration": 6,
    "start_time": "2023-10-17T13:19:30.780Z"
   },
   {
    "duration": 4256,
    "start_time": "2023-10-17T13:19:32.599Z"
   },
   {
    "duration": 6,
    "start_time": "2023-10-17T13:25:25.500Z"
   },
   {
    "duration": 6,
    "start_time": "2023-10-17T13:25:49.617Z"
   },
   {
    "duration": 4427,
    "start_time": "2023-10-17T13:25:51.171Z"
   },
   {
    "duration": 6,
    "start_time": "2023-10-17T13:26:57.310Z"
   },
   {
    "duration": 1555,
    "start_time": "2023-10-17T13:26:58.675Z"
   },
   {
    "duration": 6,
    "start_time": "2023-10-17T13:27:54.410Z"
   },
   {
    "duration": 4342,
    "start_time": "2023-10-17T13:27:56.133Z"
   },
   {
    "duration": 6,
    "start_time": "2023-10-17T13:29:17.199Z"
   },
   {
    "duration": 4551,
    "start_time": "2023-10-17T13:29:18.407Z"
   },
   {
    "duration": 6,
    "start_time": "2023-10-17T13:32:31.092Z"
   },
   {
    "duration": 4935,
    "start_time": "2023-10-17T13:32:32.182Z"
   },
   {
    "duration": 7,
    "start_time": "2023-10-17T13:37:06.337Z"
   },
   {
    "duration": 4663,
    "start_time": "2023-10-17T13:37:08.063Z"
   },
   {
    "duration": 7,
    "start_time": "2023-10-17T13:37:38.909Z"
   },
   {
    "duration": 7,
    "start_time": "2023-10-17T13:39:48.679Z"
   },
   {
    "duration": 4389,
    "start_time": "2023-10-17T13:39:49.830Z"
   },
   {
    "duration": 6,
    "start_time": "2023-10-17T13:43:50.222Z"
   },
   {
    "duration": 1406,
    "start_time": "2023-10-17T13:43:52.228Z"
   },
   {
    "duration": 7,
    "start_time": "2023-10-17T13:44:34.283Z"
   },
   {
    "duration": 4814,
    "start_time": "2023-10-17T13:44:35.713Z"
   },
   {
    "duration": 7,
    "start_time": "2023-10-17T13:45:12.683Z"
   },
   {
    "duration": 4841,
    "start_time": "2023-10-17T13:45:13.686Z"
   },
   {
    "duration": 7,
    "start_time": "2023-10-17T13:45:40.581Z"
   },
   {
    "duration": 4752,
    "start_time": "2023-10-17T13:45:41.421Z"
   },
   {
    "duration": 2496,
    "start_time": "2023-10-17T14:13:26.086Z"
   },
   {
    "duration": 2757,
    "start_time": "2023-10-17T14:14:13.699Z"
   },
   {
    "duration": 4,
    "start_time": "2023-10-17T14:14:16.458Z"
   },
   {
    "duration": 28,
    "start_time": "2023-10-17T14:14:16.464Z"
   },
   {
    "duration": 411,
    "start_time": "2023-10-17T14:14:16.494Z"
   },
   {
    "duration": 10,
    "start_time": "2023-10-17T14:14:16.908Z"
   },
   {
    "duration": 20,
    "start_time": "2023-10-17T14:14:16.920Z"
   },
   {
    "duration": 41,
    "start_time": "2023-10-17T14:14:16.941Z"
   },
   {
    "duration": 12,
    "start_time": "2023-10-17T14:14:16.984Z"
   },
   {
    "duration": 50,
    "start_time": "2023-10-17T14:14:16.998Z"
   },
   {
    "duration": 5,
    "start_time": "2023-10-17T14:14:17.050Z"
   },
   {
    "duration": 487,
    "start_time": "2023-10-17T14:14:17.057Z"
   },
   {
    "duration": 5,
    "start_time": "2023-10-17T14:14:17.547Z"
   },
   {
    "duration": 22,
    "start_time": "2023-10-17T14:14:17.554Z"
   },
   {
    "duration": 4,
    "start_time": "2023-10-17T14:14:17.579Z"
   },
   {
    "duration": 26,
    "start_time": "2023-10-17T14:14:17.585Z"
   },
   {
    "duration": 13,
    "start_time": "2023-10-17T14:14:17.612Z"
   },
   {
    "duration": 12,
    "start_time": "2023-10-17T14:14:17.627Z"
   },
   {
    "duration": 4157,
    "start_time": "2023-10-17T14:14:17.640Z"
   },
   {
    "duration": 1585,
    "start_time": "2023-10-18T18:07:33.393Z"
   },
   {
    "duration": 0,
    "start_time": "2023-10-18T18:07:34.979Z"
   },
   {
    "duration": 0,
    "start_time": "2023-10-18T18:07:34.981Z"
   },
   {
    "duration": 0,
    "start_time": "2023-10-18T18:07:34.982Z"
   },
   {
    "duration": 292,
    "start_time": "2023-10-18T18:07:47.326Z"
   },
   {
    "duration": 3,
    "start_time": "2023-10-18T18:07:47.918Z"
   },
   {
    "duration": 3,
    "start_time": "2023-10-18T18:07:48.621Z"
   },
   {
    "duration": 5,
    "start_time": "2023-10-18T18:07:49.523Z"
   },
   {
    "duration": 854,
    "start_time": "2023-10-18T18:08:15.777Z"
   },
   {
    "duration": 724,
    "start_time": "2023-10-18T18:09:11.111Z"
   },
   {
    "duration": 723,
    "start_time": "2023-10-18T18:09:12.106Z"
   },
   {
    "duration": 685,
    "start_time": "2023-10-18T18:09:13.239Z"
   },
   {
    "duration": 1506,
    "start_time": "2023-10-18T18:09:37.675Z"
   },
   {
    "duration": 3,
    "start_time": "2023-10-18T18:09:39.183Z"
   },
   {
    "duration": 4,
    "start_time": "2023-10-18T18:09:39.188Z"
   },
   {
    "duration": 19,
    "start_time": "2023-10-18T18:09:39.194Z"
   },
   {
    "duration": 411,
    "start_time": "2023-10-18T18:09:39.214Z"
   },
   {
    "duration": 735,
    "start_time": "2023-10-18T18:09:39.627Z"
   },
   {
    "duration": 797,
    "start_time": "2023-10-18T18:09:40.364Z"
   },
   {
    "duration": 711,
    "start_time": "2023-10-18T18:09:41.163Z"
   },
   {
    "duration": 7,
    "start_time": "2023-10-18T18:09:41.876Z"
   },
   {
    "duration": 19,
    "start_time": "2023-10-18T18:09:41.885Z"
   },
   {
    "duration": 45,
    "start_time": "2023-10-18T18:09:41.905Z"
   },
   {
    "duration": 9,
    "start_time": "2023-10-18T18:09:41.960Z"
   },
   {
    "duration": 61,
    "start_time": "2023-10-18T18:09:41.971Z"
   },
   {
    "duration": 5,
    "start_time": "2023-10-18T18:09:42.034Z"
   },
   {
    "duration": 307,
    "start_time": "2023-10-18T18:09:42.041Z"
   },
   {
    "duration": 17,
    "start_time": "2023-10-18T18:09:42.350Z"
   },
   {
    "duration": 23,
    "start_time": "2023-10-18T18:09:42.443Z"
   },
   {
    "duration": 11,
    "start_time": "2023-10-18T18:09:42.468Z"
   },
   {
    "duration": 28,
    "start_time": "2023-10-18T18:09:42.481Z"
   },
   {
    "duration": 20,
    "start_time": "2023-10-18T18:09:42.511Z"
   },
   {
    "duration": 43,
    "start_time": "2023-10-18T18:09:42.533Z"
   },
   {
    "duration": 4683,
    "start_time": "2023-10-18T18:09:42.578Z"
   }
  ],
  "kernelspec": {
   "display_name": "Python 3 (ipykernel)",
   "language": "python",
   "name": "python3"
  },
  "language_info": {
   "codemirror_mode": {
    "name": "ipython",
    "version": 3
   },
   "file_extension": ".py",
   "mimetype": "text/x-python",
   "name": "python",
   "nbconvert_exporter": "python",
   "pygments_lexer": "ipython3",
   "version": "3.9.5"
  },
  "toc": {
   "base_numbering": 1,
   "nav_menu": {},
   "number_sections": true,
   "sideBar": true,
   "skip_h1_title": true,
   "title_cell": "Table of Contents",
   "title_sidebar": "Contents",
   "toc_cell": false,
   "toc_position": {},
   "toc_section_display": true,
   "toc_window_display": true
  }
 },
 "nbformat": 4,
 "nbformat_minor": 2
}
