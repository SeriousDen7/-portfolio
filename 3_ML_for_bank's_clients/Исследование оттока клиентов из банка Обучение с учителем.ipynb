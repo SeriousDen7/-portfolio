{
 "cells": [
  {
   "cell_type": "markdown",
   "metadata": {
    "toc": true
   },
   "source": [
    "<h1>Содержание<span class=\"tocSkip\"></span></h1>\n",
    "<div class=\"toc\"><ul class=\"toc-item\"><li><span><a href=\"#Импортирование-библиотек-и-функций\" data-toc-modified-id=\"Импортирование-библиотек-и-функций-1\"><span class=\"toc-item-num\">1&nbsp;&nbsp;</span>Импортирование библиотек и функций</a></span></li><li><span><a href=\"#Обзор-данных\" data-toc-modified-id=\"Обзор-данных-2\"><span class=\"toc-item-num\">2&nbsp;&nbsp;</span>Обзор данных</a></span></li><li><span><a href=\"#Подготовка-данных\" data-toc-modified-id=\"Подготовка-данных-3\"><span class=\"toc-item-num\">3&nbsp;&nbsp;</span>Подготовка данных</a></span><ul class=\"toc-item\"><li><span><a href=\"#Названия-колонок-и-пропуски\" data-toc-modified-id=\"Названия-колонок-и-пропуски-3.1\"><span class=\"toc-item-num\">3.1&nbsp;&nbsp;</span>Названия колонок и пропуски</a></span></li><li><span><a href=\"#Тип-данных-и-кодирование-категорий\" data-toc-modified-id=\"Тип-данных-и-кодирование-категорий-3.2\"><span class=\"toc-item-num\">3.2&nbsp;&nbsp;</span>Тип данных и кодирование категорий</a></span></li></ul></li><li><span><a href=\"#Исследование-задачи\" data-toc-modified-id=\"Исследование-задачи-4\"><span class=\"toc-item-num\">4&nbsp;&nbsp;</span>Исследование задачи</a></span></li><li><span><a href=\"#Борьба-с-дисбалансом\" data-toc-modified-id=\"Борьба-с-дисбалансом-5\"><span class=\"toc-item-num\">5&nbsp;&nbsp;</span>Борьба с дисбалансом</a></span><ul class=\"toc-item\"><li><span><a href=\"#Вес-классов-и-стратификация-при-разделении-выборок\" data-toc-modified-id=\"Вес-классов-и-стратификация-при-разделении-выборок-5.1\"><span class=\"toc-item-num\">5.1&nbsp;&nbsp;</span>Вес классов и стратификация при разделении выборок</a></span></li><li><span><a href=\"#Увеличение-выборки\" data-toc-modified-id=\"Увеличение-выборки-5.2\"><span class=\"toc-item-num\">5.2&nbsp;&nbsp;</span>Увеличение выборки</a></span></li></ul></li><li><span><a href=\"#Тестирование-модели\" data-toc-modified-id=\"Тестирование-модели-6\"><span class=\"toc-item-num\">6&nbsp;&nbsp;</span>Тестирование модели</a></span></li><li><span><a href=\"#Итоговый-вывод\" data-toc-modified-id=\"Итоговый-вывод-7\"><span class=\"toc-item-num\">7&nbsp;&nbsp;</span>Итоговый вывод</a></span></li></ul></div>"
   ]
  },
  {
   "cell_type": "markdown",
   "metadata": {},
   "source": [
    "# Отток клиентов"
   ]
  },
  {
   "cell_type": "markdown",
   "metadata": {},
   "source": [
    "Из «Бета-Банка» стали уходить клиенты. Каждый месяц. Немного, но заметно. Банковские маркетологи посчитали: сохранять текущих клиентов дешевле, чем привлекать новых.\n",
    "\n",
    "Нужно спрогнозировать, уйдёт клиент из банка в ближайшее время или нет. Нам предоставлены исторические данные о поведении клиентов и расторжении договоров с банком. \n",
    "\n",
    "Постройте модель с предельно большим значением *F1*-меры. Достаточным показателем будет доведение метрики до 0.59.\n",
    "\n",
    "Дополнительно измеряйте *AUC-ROC*, сравнивайте её значение с *F1*-мерой.\n",
    "\n",
    "Источник данных: [https://www.kaggle.com/barelydedicated/bank-customer-churn-modeling](https://www.kaggle.com/barelydedicated/bank-customer-churn-modeling)"
   ]
  },
  {
   "cell_type": "markdown",
   "metadata": {},
   "source": [
    "**Цель исследования:** \n",
    "1. Создание модели предсказани ухода клиента с помощью машинного обучения.\n",
    "\n",
    "**Задачи исследования:**\n",
    "1. Выделить данные на 3 выборки: обучающую, валидационную и тестовую\n",
    "2. Подобрать оптимальную модель машинного обучения\n",
    "3. Участь в модели дисбаланс классов\n",
    "3. Проверить оптимальную модель на тестовой выборке с учетом дисбаланса\n",
    "\n",
    "**Объектом исследования** является информация о клиентах банка, которые остаются и отказываются от услуг банка \"Бета-Банка\".\n",
    "\n",
    "**Предметом исследования** является комплекс методик машинного обучения и проверки обученных моделей с помощью метрик\n",
    "\n",
    "**Ход выполнения**\n",
    "1. Импортировать все необходимые библиотеки\n",
    "2. Загрузить данные из файла '/datasets/Churn.csv'\n",
    "3. Проанализировать общую информацию о качестве и структуре данных, предобработать данные\n",
    "4. Разбить все данные на обучающую, валидационнаю и тестовую выборки\n",
    "5. Перебрать возможные модели машинного обучения и их гиперпараметры для выявления модели, обеспечивающую максимальное значение метрики F1 (а так же в сравнении с метрикой AUC-ROC)\n",
    "6. Проверить лучшую модель на тестовой выборке\n",
    "7. Сделать выводы и рекомендации для дальнейшего исследования\n",
    "\n",
    "**Описание данных**\n",
    "\n",
    "Каждый объект в наборе данных — это информация клиентах банка. \n",
    "Известно:\n",
    "- `RowNumber` — индекс строки в данных\n",
    "- `CustomerId` — уникальный идентификатор клиента\n",
    "- `Surname` — фамилия\n",
    "- `CreditScore` — кредитный рейтинг\n",
    "- `Geography` — страна проживания\n",
    "- `Gender` — пол\n",
    "- `Age` — возраст\n",
    "- `Tenure` — сколько лет человек является клиентом банка\n",
    "- `Balance` — баланс на счёте\n",
    "- `NumOfProducts` — количество продуктов банка, используемых клиентом\n",
    "- `HasCrCard` — наличие кредитной карты\n",
    "- `IsActiveMember` — активность клиента\n",
    "- `EstimatedSalary` — предполагаемая зарплата\n",
    "\n",
    "Целевой признак\n",
    "- `Exited` — факт ухода клиента (0 - остался, 1 - ушел)"
   ]
  },
  {
   "cell_type": "markdown",
   "metadata": {},
   "source": [
    "## Импортирование библиотек и функций"
   ]
  },
  {
   "cell_type": "code",
   "execution_count": 1,
   "metadata": {},
   "outputs": [],
   "source": [
    "import pandas as pd\n",
    "import numpy as np\n",
    "import seaborn as sns\n",
    "import matplotlib.pyplot as plt\n",
    "import warnings\n",
    "warnings.filterwarnings('ignore')\n",
    "\n",
    "from sklearn.model_selection import train_test_split\n",
    "from sklearn.utils import shuffle\n",
    "from sklearn.tree import DecisionTreeClassifier as Tree\n",
    "from sklearn.ensemble import RandomForestClassifier as Forest\n",
    "from sklearn.linear_model import LogisticRegression \n",
    "from sklearn.dummy import DummyClassifier\n",
    "from sklearn.metrics import (confusion_matrix, \n",
    "                             f1_score,\n",
    "                             roc_auc_score, \n",
    "                             roc_curve,\n",
    "                             accuracy_score,\n",
    "                             precision_score,\n",
    "                             recall_score)\n",
    "from sklearn.preprocessing import StandardScaler\n",
    "pd.options.mode.chained_assignment = None"
   ]
  },
  {
   "cell_type": "code",
   "execution_count": 2,
   "metadata": {},
   "outputs": [],
   "source": [
    "#функция построения AUC-ROC кривой\n",
    "def make_roc_curve(_features, _target):\n",
    "    probabilities_one = model.predict_proba(_features)[:, 1]\n",
    "    fpr, tpr, thresholds = roc_curve(_target, probabilities_one)\n",
    "    plt.figure()\n",
    "    plt.plot(fpr, tpr)\n",
    "    # ROC-кривая случайной модели\n",
    "    plt.plot([0, 1], [0, 1], linestyle='--')\n",
    "\n",
    "    plt.xlim(0,1)\n",
    "    plt.ylim(0,1)\n",
    "\n",
    "    plt.xlabel(\"False Positive Rate\")\n",
    "    plt.ylabel('True Positive Rate')\n",
    "\n",
    "    plt.title(\"ROC-кривая\")\n",
    "\n",
    "    plt.show();\n",
    "    print('AUC-ROC:',roc_auc_score(_target, probabilities_one))"
   ]
  },
  {
   "cell_type": "code",
   "execution_count": 3,
   "metadata": {},
   "outputs": [],
   "source": [
    "#функция апсемплинга для борьбы с дисбалансом\n",
    "def upsample(features, target, repeat):\n",
    "    features_zeros = features[target == 0]\n",
    "    features_ones = features[target == 1]\n",
    "    target_zeros = target[target == 0]\n",
    "    target_ones = target[target == 1]\n",
    "    features_upsampled = pd.concat([features_zeros] + [features_ones] * repeat)\n",
    "    target_upsampled = pd.concat([target_zeros] + [target_ones] * repeat)\n",
    "    features_upsampled, target_upsampled = shuffle(\n",
    "        features_upsampled, target_upsampled, random_state=12345)\n",
    "    return features_upsampled, target_upsampled"
   ]
  },
  {
   "cell_type": "markdown",
   "metadata": {},
   "source": [
    "## Обзор данных"
   ]
  },
  {
   "cell_type": "code",
   "execution_count": 4,
   "metadata": {},
   "outputs": [],
   "source": [
    "data = pd.read_csv('/datasets/Churn.csv')"
   ]
  },
  {
   "cell_type": "code",
   "execution_count": 5,
   "metadata": {},
   "outputs": [
    {
     "name": "stdout",
     "output_type": "stream",
     "text": [
      "<class 'pandas.core.frame.DataFrame'>\n",
      "RangeIndex: 10000 entries, 0 to 9999\n",
      "Data columns (total 14 columns):\n",
      " #   Column           Non-Null Count  Dtype  \n",
      "---  ------           --------------  -----  \n",
      " 0   RowNumber        10000 non-null  int64  \n",
      " 1   CustomerId       10000 non-null  int64  \n",
      " 2   Surname          10000 non-null  object \n",
      " 3   CreditScore      10000 non-null  int64  \n",
      " 4   Geography        10000 non-null  object \n",
      " 5   Gender           10000 non-null  object \n",
      " 6   Age              10000 non-null  int64  \n",
      " 7   Tenure           9091 non-null   float64\n",
      " 8   Balance          10000 non-null  float64\n",
      " 9   NumOfProducts    10000 non-null  int64  \n",
      " 10  HasCrCard        10000 non-null  int64  \n",
      " 11  IsActiveMember   10000 non-null  int64  \n",
      " 12  EstimatedSalary  10000 non-null  float64\n",
      " 13  Exited           10000 non-null  int64  \n",
      "dtypes: float64(3), int64(8), object(3)\n",
      "memory usage: 1.1+ MB\n"
     ]
    }
   ],
   "source": [
    "data.info()"
   ]
  },
  {
   "cell_type": "code",
   "execution_count": 6,
   "metadata": {},
   "outputs": [
    {
     "data": {
      "text/html": [
       "<div>\n",
       "<style scoped>\n",
       "    .dataframe tbody tr th:only-of-type {\n",
       "        vertical-align: middle;\n",
       "    }\n",
       "\n",
       "    .dataframe tbody tr th {\n",
       "        vertical-align: top;\n",
       "    }\n",
       "\n",
       "    .dataframe thead th {\n",
       "        text-align: right;\n",
       "    }\n",
       "</style>\n",
       "<table border=\"1\" class=\"dataframe\">\n",
       "  <thead>\n",
       "    <tr style=\"text-align: right;\">\n",
       "      <th></th>\n",
       "      <th>RowNumber</th>\n",
       "      <th>CustomerId</th>\n",
       "      <th>Surname</th>\n",
       "      <th>CreditScore</th>\n",
       "      <th>Geography</th>\n",
       "      <th>Gender</th>\n",
       "      <th>Age</th>\n",
       "      <th>Tenure</th>\n",
       "      <th>Balance</th>\n",
       "      <th>NumOfProducts</th>\n",
       "      <th>HasCrCard</th>\n",
       "      <th>IsActiveMember</th>\n",
       "      <th>EstimatedSalary</th>\n",
       "      <th>Exited</th>\n",
       "    </tr>\n",
       "  </thead>\n",
       "  <tbody>\n",
       "    <tr>\n",
       "      <th>0</th>\n",
       "      <td>1</td>\n",
       "      <td>15634602</td>\n",
       "      <td>Hargrave</td>\n",
       "      <td>619</td>\n",
       "      <td>France</td>\n",
       "      <td>Female</td>\n",
       "      <td>42</td>\n",
       "      <td>2.0</td>\n",
       "      <td>0.00</td>\n",
       "      <td>1</td>\n",
       "      <td>1</td>\n",
       "      <td>1</td>\n",
       "      <td>101348.88</td>\n",
       "      <td>1</td>\n",
       "    </tr>\n",
       "    <tr>\n",
       "      <th>1</th>\n",
       "      <td>2</td>\n",
       "      <td>15647311</td>\n",
       "      <td>Hill</td>\n",
       "      <td>608</td>\n",
       "      <td>Spain</td>\n",
       "      <td>Female</td>\n",
       "      <td>41</td>\n",
       "      <td>1.0</td>\n",
       "      <td>83807.86</td>\n",
       "      <td>1</td>\n",
       "      <td>0</td>\n",
       "      <td>1</td>\n",
       "      <td>112542.58</td>\n",
       "      <td>0</td>\n",
       "    </tr>\n",
       "    <tr>\n",
       "      <th>2</th>\n",
       "      <td>3</td>\n",
       "      <td>15619304</td>\n",
       "      <td>Onio</td>\n",
       "      <td>502</td>\n",
       "      <td>France</td>\n",
       "      <td>Female</td>\n",
       "      <td>42</td>\n",
       "      <td>8.0</td>\n",
       "      <td>159660.80</td>\n",
       "      <td>3</td>\n",
       "      <td>1</td>\n",
       "      <td>0</td>\n",
       "      <td>113931.57</td>\n",
       "      <td>1</td>\n",
       "    </tr>\n",
       "    <tr>\n",
       "      <th>3</th>\n",
       "      <td>4</td>\n",
       "      <td>15701354</td>\n",
       "      <td>Boni</td>\n",
       "      <td>699</td>\n",
       "      <td>France</td>\n",
       "      <td>Female</td>\n",
       "      <td>39</td>\n",
       "      <td>1.0</td>\n",
       "      <td>0.00</td>\n",
       "      <td>2</td>\n",
       "      <td>0</td>\n",
       "      <td>0</td>\n",
       "      <td>93826.63</td>\n",
       "      <td>0</td>\n",
       "    </tr>\n",
       "    <tr>\n",
       "      <th>4</th>\n",
       "      <td>5</td>\n",
       "      <td>15737888</td>\n",
       "      <td>Mitchell</td>\n",
       "      <td>850</td>\n",
       "      <td>Spain</td>\n",
       "      <td>Female</td>\n",
       "      <td>43</td>\n",
       "      <td>2.0</td>\n",
       "      <td>125510.82</td>\n",
       "      <td>1</td>\n",
       "      <td>1</td>\n",
       "      <td>1</td>\n",
       "      <td>79084.10</td>\n",
       "      <td>0</td>\n",
       "    </tr>\n",
       "    <tr>\n",
       "      <th>5</th>\n",
       "      <td>6</td>\n",
       "      <td>15574012</td>\n",
       "      <td>Chu</td>\n",
       "      <td>645</td>\n",
       "      <td>Spain</td>\n",
       "      <td>Male</td>\n",
       "      <td>44</td>\n",
       "      <td>8.0</td>\n",
       "      <td>113755.78</td>\n",
       "      <td>2</td>\n",
       "      <td>1</td>\n",
       "      <td>0</td>\n",
       "      <td>149756.71</td>\n",
       "      <td>1</td>\n",
       "    </tr>\n",
       "    <tr>\n",
       "      <th>6</th>\n",
       "      <td>7</td>\n",
       "      <td>15592531</td>\n",
       "      <td>Bartlett</td>\n",
       "      <td>822</td>\n",
       "      <td>France</td>\n",
       "      <td>Male</td>\n",
       "      <td>50</td>\n",
       "      <td>7.0</td>\n",
       "      <td>0.00</td>\n",
       "      <td>2</td>\n",
       "      <td>1</td>\n",
       "      <td>1</td>\n",
       "      <td>10062.80</td>\n",
       "      <td>0</td>\n",
       "    </tr>\n",
       "    <tr>\n",
       "      <th>7</th>\n",
       "      <td>8</td>\n",
       "      <td>15656148</td>\n",
       "      <td>Obinna</td>\n",
       "      <td>376</td>\n",
       "      <td>Germany</td>\n",
       "      <td>Female</td>\n",
       "      <td>29</td>\n",
       "      <td>4.0</td>\n",
       "      <td>115046.74</td>\n",
       "      <td>4</td>\n",
       "      <td>1</td>\n",
       "      <td>0</td>\n",
       "      <td>119346.88</td>\n",
       "      <td>1</td>\n",
       "    </tr>\n",
       "    <tr>\n",
       "      <th>8</th>\n",
       "      <td>9</td>\n",
       "      <td>15792365</td>\n",
       "      <td>He</td>\n",
       "      <td>501</td>\n",
       "      <td>France</td>\n",
       "      <td>Male</td>\n",
       "      <td>44</td>\n",
       "      <td>4.0</td>\n",
       "      <td>142051.07</td>\n",
       "      <td>2</td>\n",
       "      <td>0</td>\n",
       "      <td>1</td>\n",
       "      <td>74940.50</td>\n",
       "      <td>0</td>\n",
       "    </tr>\n",
       "    <tr>\n",
       "      <th>9</th>\n",
       "      <td>10</td>\n",
       "      <td>15592389</td>\n",
       "      <td>H?</td>\n",
       "      <td>684</td>\n",
       "      <td>France</td>\n",
       "      <td>Male</td>\n",
       "      <td>27</td>\n",
       "      <td>2.0</td>\n",
       "      <td>134603.88</td>\n",
       "      <td>1</td>\n",
       "      <td>1</td>\n",
       "      <td>1</td>\n",
       "      <td>71725.73</td>\n",
       "      <td>0</td>\n",
       "    </tr>\n",
       "  </tbody>\n",
       "</table>\n",
       "</div>"
      ],
      "text/plain": [
       "   RowNumber  CustomerId   Surname  CreditScore Geography  Gender  Age  \\\n",
       "0          1    15634602  Hargrave          619    France  Female   42   \n",
       "1          2    15647311      Hill          608     Spain  Female   41   \n",
       "2          3    15619304      Onio          502    France  Female   42   \n",
       "3          4    15701354      Boni          699    France  Female   39   \n",
       "4          5    15737888  Mitchell          850     Spain  Female   43   \n",
       "5          6    15574012       Chu          645     Spain    Male   44   \n",
       "6          7    15592531  Bartlett          822    France    Male   50   \n",
       "7          8    15656148    Obinna          376   Germany  Female   29   \n",
       "8          9    15792365        He          501    France    Male   44   \n",
       "9         10    15592389        H?          684    France    Male   27   \n",
       "\n",
       "   Tenure    Balance  NumOfProducts  HasCrCard  IsActiveMember  \\\n",
       "0     2.0       0.00              1          1               1   \n",
       "1     1.0   83807.86              1          0               1   \n",
       "2     8.0  159660.80              3          1               0   \n",
       "3     1.0       0.00              2          0               0   \n",
       "4     2.0  125510.82              1          1               1   \n",
       "5     8.0  113755.78              2          1               0   \n",
       "6     7.0       0.00              2          1               1   \n",
       "7     4.0  115046.74              4          1               0   \n",
       "8     4.0  142051.07              2          0               1   \n",
       "9     2.0  134603.88              1          1               1   \n",
       "\n",
       "   EstimatedSalary  Exited  \n",
       "0        101348.88       1  \n",
       "1        112542.58       0  \n",
       "2        113931.57       1  \n",
       "3         93826.63       0  \n",
       "4         79084.10       0  \n",
       "5        149756.71       1  \n",
       "6         10062.80       0  \n",
       "7        119346.88       1  \n",
       "8         74940.50       0  \n",
       "9         71725.73       0  "
      ]
     },
     "execution_count": 6,
     "metadata": {},
     "output_type": "execute_result"
    }
   ],
   "source": [
    "data.head(10)"
   ]
  },
  {
   "cell_type": "code",
   "execution_count": 7,
   "metadata": {
    "scrolled": true
   },
   "outputs": [
    {
     "data": {
      "text/html": [
       "<div>\n",
       "<style scoped>\n",
       "    .dataframe tbody tr th:only-of-type {\n",
       "        vertical-align: middle;\n",
       "    }\n",
       "\n",
       "    .dataframe tbody tr th {\n",
       "        vertical-align: top;\n",
       "    }\n",
       "\n",
       "    .dataframe thead th {\n",
       "        text-align: right;\n",
       "    }\n",
       "</style>\n",
       "<table border=\"1\" class=\"dataframe\">\n",
       "  <thead>\n",
       "    <tr style=\"text-align: right;\">\n",
       "      <th></th>\n",
       "      <th>RowNumber</th>\n",
       "      <th>CustomerId</th>\n",
       "      <th>CreditScore</th>\n",
       "      <th>Age</th>\n",
       "      <th>Tenure</th>\n",
       "      <th>Balance</th>\n",
       "      <th>NumOfProducts</th>\n",
       "      <th>HasCrCard</th>\n",
       "      <th>IsActiveMember</th>\n",
       "      <th>EstimatedSalary</th>\n",
       "      <th>Exited</th>\n",
       "    </tr>\n",
       "  </thead>\n",
       "  <tbody>\n",
       "    <tr>\n",
       "      <th>count</th>\n",
       "      <td>10000.00000</td>\n",
       "      <td>1.000000e+04</td>\n",
       "      <td>10000.000000</td>\n",
       "      <td>10000.000000</td>\n",
       "      <td>9091.000000</td>\n",
       "      <td>10000.000000</td>\n",
       "      <td>10000.000000</td>\n",
       "      <td>10000.00000</td>\n",
       "      <td>10000.000000</td>\n",
       "      <td>10000.000000</td>\n",
       "      <td>10000.000000</td>\n",
       "    </tr>\n",
       "    <tr>\n",
       "      <th>mean</th>\n",
       "      <td>5000.50000</td>\n",
       "      <td>1.569094e+07</td>\n",
       "      <td>650.528800</td>\n",
       "      <td>38.921800</td>\n",
       "      <td>4.997690</td>\n",
       "      <td>76485.889288</td>\n",
       "      <td>1.530200</td>\n",
       "      <td>0.70550</td>\n",
       "      <td>0.515100</td>\n",
       "      <td>100090.239881</td>\n",
       "      <td>0.203700</td>\n",
       "    </tr>\n",
       "    <tr>\n",
       "      <th>std</th>\n",
       "      <td>2886.89568</td>\n",
       "      <td>7.193619e+04</td>\n",
       "      <td>96.653299</td>\n",
       "      <td>10.487806</td>\n",
       "      <td>2.894723</td>\n",
       "      <td>62397.405202</td>\n",
       "      <td>0.581654</td>\n",
       "      <td>0.45584</td>\n",
       "      <td>0.499797</td>\n",
       "      <td>57510.492818</td>\n",
       "      <td>0.402769</td>\n",
       "    </tr>\n",
       "    <tr>\n",
       "      <th>min</th>\n",
       "      <td>1.00000</td>\n",
       "      <td>1.556570e+07</td>\n",
       "      <td>350.000000</td>\n",
       "      <td>18.000000</td>\n",
       "      <td>0.000000</td>\n",
       "      <td>0.000000</td>\n",
       "      <td>1.000000</td>\n",
       "      <td>0.00000</td>\n",
       "      <td>0.000000</td>\n",
       "      <td>11.580000</td>\n",
       "      <td>0.000000</td>\n",
       "    </tr>\n",
       "    <tr>\n",
       "      <th>25%</th>\n",
       "      <td>2500.75000</td>\n",
       "      <td>1.562853e+07</td>\n",
       "      <td>584.000000</td>\n",
       "      <td>32.000000</td>\n",
       "      <td>2.000000</td>\n",
       "      <td>0.000000</td>\n",
       "      <td>1.000000</td>\n",
       "      <td>0.00000</td>\n",
       "      <td>0.000000</td>\n",
       "      <td>51002.110000</td>\n",
       "      <td>0.000000</td>\n",
       "    </tr>\n",
       "    <tr>\n",
       "      <th>50%</th>\n",
       "      <td>5000.50000</td>\n",
       "      <td>1.569074e+07</td>\n",
       "      <td>652.000000</td>\n",
       "      <td>37.000000</td>\n",
       "      <td>5.000000</td>\n",
       "      <td>97198.540000</td>\n",
       "      <td>1.000000</td>\n",
       "      <td>1.00000</td>\n",
       "      <td>1.000000</td>\n",
       "      <td>100193.915000</td>\n",
       "      <td>0.000000</td>\n",
       "    </tr>\n",
       "    <tr>\n",
       "      <th>75%</th>\n",
       "      <td>7500.25000</td>\n",
       "      <td>1.575323e+07</td>\n",
       "      <td>718.000000</td>\n",
       "      <td>44.000000</td>\n",
       "      <td>7.000000</td>\n",
       "      <td>127644.240000</td>\n",
       "      <td>2.000000</td>\n",
       "      <td>1.00000</td>\n",
       "      <td>1.000000</td>\n",
       "      <td>149388.247500</td>\n",
       "      <td>0.000000</td>\n",
       "    </tr>\n",
       "    <tr>\n",
       "      <th>max</th>\n",
       "      <td>10000.00000</td>\n",
       "      <td>1.581569e+07</td>\n",
       "      <td>850.000000</td>\n",
       "      <td>92.000000</td>\n",
       "      <td>10.000000</td>\n",
       "      <td>250898.090000</td>\n",
       "      <td>4.000000</td>\n",
       "      <td>1.00000</td>\n",
       "      <td>1.000000</td>\n",
       "      <td>199992.480000</td>\n",
       "      <td>1.000000</td>\n",
       "    </tr>\n",
       "  </tbody>\n",
       "</table>\n",
       "</div>"
      ],
      "text/plain": [
       "         RowNumber    CustomerId   CreditScore           Age       Tenure  \\\n",
       "count  10000.00000  1.000000e+04  10000.000000  10000.000000  9091.000000   \n",
       "mean    5000.50000  1.569094e+07    650.528800     38.921800     4.997690   \n",
       "std     2886.89568  7.193619e+04     96.653299     10.487806     2.894723   \n",
       "min        1.00000  1.556570e+07    350.000000     18.000000     0.000000   \n",
       "25%     2500.75000  1.562853e+07    584.000000     32.000000     2.000000   \n",
       "50%     5000.50000  1.569074e+07    652.000000     37.000000     5.000000   \n",
       "75%     7500.25000  1.575323e+07    718.000000     44.000000     7.000000   \n",
       "max    10000.00000  1.581569e+07    850.000000     92.000000    10.000000   \n",
       "\n",
       "             Balance  NumOfProducts    HasCrCard  IsActiveMember  \\\n",
       "count   10000.000000   10000.000000  10000.00000    10000.000000   \n",
       "mean    76485.889288       1.530200      0.70550        0.515100   \n",
       "std     62397.405202       0.581654      0.45584        0.499797   \n",
       "min         0.000000       1.000000      0.00000        0.000000   \n",
       "25%         0.000000       1.000000      0.00000        0.000000   \n",
       "50%     97198.540000       1.000000      1.00000        1.000000   \n",
       "75%    127644.240000       2.000000      1.00000        1.000000   \n",
       "max    250898.090000       4.000000      1.00000        1.000000   \n",
       "\n",
       "       EstimatedSalary        Exited  \n",
       "count     10000.000000  10000.000000  \n",
       "mean     100090.239881      0.203700  \n",
       "std       57510.492818      0.402769  \n",
       "min          11.580000      0.000000  \n",
       "25%       51002.110000      0.000000  \n",
       "50%      100193.915000      0.000000  \n",
       "75%      149388.247500      0.000000  \n",
       "max      199992.480000      1.000000  "
      ]
     },
     "execution_count": 7,
     "metadata": {},
     "output_type": "execute_result"
    }
   ],
   "source": [
    "data.describe()"
   ]
  },
  {
   "cell_type": "code",
   "execution_count": 8,
   "metadata": {},
   "outputs": [
    {
     "data": {
      "image/png": "[encoded data removed]",
      "text/plain": [
       "<Figure size 1080x720 with 12 Axes>"
      ]
     },
     "metadata": {
      "needs_background": "light"
     },
     "output_type": "display_data"
    }
   ],
   "source": [
    "data.hist(figsize=(15,10));"
   ]
  },
  {
   "cell_type": "markdown",
   "metadata": {},
   "source": [
    "**Вывод:** Посмотрев на данные можно сказать следующее:\n",
    "- К исследованию они не готовы, есть пропуски в одном столбце(клиентский стаж), важном для нашей будущей модели (попытаемся узнать характер пропусков и заполнить их)\n",
    "- Так же названия столбцов не в привычном для нас виде(приведем к змеиному регистру)\n",
    "- В целевом признаке замечен дисбаланс классов (ушедших клиентов в 4 раза больше)\n",
    "- Для машинного обучения нам не понадобятся первые 3 колонки: номер строки, ID и фамилия клиента.\n",
    "- Еще одна подозрительная вещь - пик в нуле в колонке баланса, скорее всего это так и есть и это фактические данные, но стоит проверить.\n",
    "- Для подготовки данных к машинному обечению необходимо будет изменить тип данных некоторых колонок(категориальных) и осуществить кодирование категорий."
   ]
  },
  {
   "cell_type": "markdown",
   "metadata": {},
   "source": [
    "## Подготовка данных"
   ]
  },
  {
   "cell_type": "markdown",
   "metadata": {},
   "source": [
    "### Названия колонок и пропуски"
   ]
  },
  {
   "cell_type": "markdown",
   "metadata": {},
   "source": [
    "Начнем с преобразования названий колонок в змеиный регистр"
   ]
  },
  {
   "cell_type": "code",
   "execution_count": 9,
   "metadata": {},
   "outputs": [
    {
     "data": {
      "text/plain": [
       "Index(['RowNumber', 'CustomerId', 'Surname', 'CreditScore', 'Geography',\n",
       "       'Gender', 'Age', 'Tenure', 'Balance', 'NumOfProducts', 'HasCrCard',\n",
       "       'IsActiveMember', 'EstimatedSalary', 'Exited'],\n",
       "      dtype='object')"
      ]
     },
     "execution_count": 9,
     "metadata": {},
     "output_type": "execute_result"
    }
   ],
   "source": [
    "data.columns"
   ]
  },
  {
   "cell_type": "code",
   "execution_count": 10,
   "metadata": {},
   "outputs": [],
   "source": [
    "data = data.rename(\n",
    "    columns={\n",
    "        'RowNumber':'row_number', \n",
    "        'CustomerId':'customer_id', \n",
    "        'Surname':'surname', \n",
    "        'CreditScore':'credit_score', \n",
    "        'Geography':'geography',\n",
    "        'Gender':'gender', \n",
    "        'Age':'age', \n",
    "        'Tenure':'tenure', \n",
    "        'Balance':'balance', \n",
    "        'NumOfProducts':'num_of_products', \n",
    "        'HasCrCard':'has_cr_card',\n",
    "        'IsActiveMember':'is_active_member', \n",
    "        'EstimatedSalary':'estimated_salary', \n",
    "        'Exited':'exited'\n",
    "    }\n",
    ")"
   ]
  },
  {
   "cell_type": "code",
   "execution_count": 11,
   "metadata": {},
   "outputs": [
    {
     "data": {
      "text/plain": [
       "Index(['row_number', 'customer_id', 'surname', 'credit_score', 'geography',\n",
       "       'gender', 'age', 'tenure', 'balance', 'num_of_products', 'has_cr_card',\n",
       "       'is_active_member', 'estimated_salary', 'exited'],\n",
       "      dtype='object')"
      ]
     },
     "execution_count": 11,
     "metadata": {},
     "output_type": "execute_result"
    }
   ],
   "source": [
    "data.columns"
   ]
  },
  {
   "cell_type": "markdown",
   "metadata": {},
   "source": [
    "Отлично, это сделано, перейдем к пропускам. Мы знаем, что у нас около 9% пропусков в колонке tenure (клиентский стаж).\n",
    "Посмотрим что это за данные."
   ]
  },
  {
   "cell_type": "code",
   "execution_count": 12,
   "metadata": {
    "scrolled": true
   },
   "outputs": [
    {
     "data": {
      "text/html": [
       "<div>\n",
       "<style scoped>\n",
       "    .dataframe tbody tr th:only-of-type {\n",
       "        vertical-align: middle;\n",
       "    }\n",
       "\n",
       "    .dataframe tbody tr th {\n",
       "        vertical-align: top;\n",
       "    }\n",
       "\n",
       "    .dataframe thead th {\n",
       "        text-align: right;\n",
       "    }\n",
       "</style>\n",
       "<table border=\"1\" class=\"dataframe\">\n",
       "  <thead>\n",
       "    <tr style=\"text-align: right;\">\n",
       "      <th></th>\n",
       "      <th>row_number</th>\n",
       "      <th>customer_id</th>\n",
       "      <th>surname</th>\n",
       "      <th>credit_score</th>\n",
       "      <th>geography</th>\n",
       "      <th>gender</th>\n",
       "      <th>age</th>\n",
       "      <th>tenure</th>\n",
       "      <th>balance</th>\n",
       "      <th>num_of_products</th>\n",
       "      <th>has_cr_card</th>\n",
       "      <th>is_active_member</th>\n",
       "      <th>estimated_salary</th>\n",
       "      <th>exited</th>\n",
       "    </tr>\n",
       "  </thead>\n",
       "  <tbody>\n",
       "    <tr>\n",
       "      <th>30</th>\n",
       "      <td>31</td>\n",
       "      <td>15589475</td>\n",
       "      <td>Azikiwe</td>\n",
       "      <td>591</td>\n",
       "      <td>Spain</td>\n",
       "      <td>Female</td>\n",
       "      <td>39</td>\n",
       "      <td>NaN</td>\n",
       "      <td>0.00</td>\n",
       "      <td>3</td>\n",
       "      <td>1</td>\n",
       "      <td>0</td>\n",
       "      <td>140469.38</td>\n",
       "      <td>1</td>\n",
       "    </tr>\n",
       "    <tr>\n",
       "      <th>48</th>\n",
       "      <td>49</td>\n",
       "      <td>15766205</td>\n",
       "      <td>Yin</td>\n",
       "      <td>550</td>\n",
       "      <td>Germany</td>\n",
       "      <td>Male</td>\n",
       "      <td>38</td>\n",
       "      <td>NaN</td>\n",
       "      <td>103391.38</td>\n",
       "      <td>1</td>\n",
       "      <td>0</td>\n",
       "      <td>1</td>\n",
       "      <td>90878.13</td>\n",
       "      <td>0</td>\n",
       "    </tr>\n",
       "    <tr>\n",
       "      <th>51</th>\n",
       "      <td>52</td>\n",
       "      <td>15768193</td>\n",
       "      <td>Trevisani</td>\n",
       "      <td>585</td>\n",
       "      <td>Germany</td>\n",
       "      <td>Male</td>\n",
       "      <td>36</td>\n",
       "      <td>NaN</td>\n",
       "      <td>146050.97</td>\n",
       "      <td>2</td>\n",
       "      <td>0</td>\n",
       "      <td>0</td>\n",
       "      <td>86424.57</td>\n",
       "      <td>0</td>\n",
       "    </tr>\n",
       "    <tr>\n",
       "      <th>53</th>\n",
       "      <td>54</td>\n",
       "      <td>15702298</td>\n",
       "      <td>Parkhill</td>\n",
       "      <td>655</td>\n",
       "      <td>Germany</td>\n",
       "      <td>Male</td>\n",
       "      <td>41</td>\n",
       "      <td>NaN</td>\n",
       "      <td>125561.97</td>\n",
       "      <td>1</td>\n",
       "      <td>0</td>\n",
       "      <td>0</td>\n",
       "      <td>164040.94</td>\n",
       "      <td>1</td>\n",
       "    </tr>\n",
       "    <tr>\n",
       "      <th>60</th>\n",
       "      <td>61</td>\n",
       "      <td>15651280</td>\n",
       "      <td>Hunter</td>\n",
       "      <td>742</td>\n",
       "      <td>Germany</td>\n",
       "      <td>Male</td>\n",
       "      <td>35</td>\n",
       "      <td>NaN</td>\n",
       "      <td>136857.00</td>\n",
       "      <td>1</td>\n",
       "      <td>0</td>\n",
       "      <td>0</td>\n",
       "      <td>84509.57</td>\n",
       "      <td>0</td>\n",
       "    </tr>\n",
       "    <tr>\n",
       "      <th>...</th>\n",
       "      <td>...</td>\n",
       "      <td>...</td>\n",
       "      <td>...</td>\n",
       "      <td>...</td>\n",
       "      <td>...</td>\n",
       "      <td>...</td>\n",
       "      <td>...</td>\n",
       "      <td>...</td>\n",
       "      <td>...</td>\n",
       "      <td>...</td>\n",
       "      <td>...</td>\n",
       "      <td>...</td>\n",
       "      <td>...</td>\n",
       "      <td>...</td>\n",
       "    </tr>\n",
       "    <tr>\n",
       "      <th>9944</th>\n",
       "      <td>9945</td>\n",
       "      <td>15703923</td>\n",
       "      <td>Cameron</td>\n",
       "      <td>744</td>\n",
       "      <td>Germany</td>\n",
       "      <td>Male</td>\n",
       "      <td>41</td>\n",
       "      <td>NaN</td>\n",
       "      <td>190409.34</td>\n",
       "      <td>2</td>\n",
       "      <td>1</td>\n",
       "      <td>1</td>\n",
       "      <td>138361.48</td>\n",
       "      <td>0</td>\n",
       "    </tr>\n",
       "    <tr>\n",
       "      <th>9956</th>\n",
       "      <td>9957</td>\n",
       "      <td>15707861</td>\n",
       "      <td>Nucci</td>\n",
       "      <td>520</td>\n",
       "      <td>France</td>\n",
       "      <td>Female</td>\n",
       "      <td>46</td>\n",
       "      <td>NaN</td>\n",
       "      <td>85216.61</td>\n",
       "      <td>1</td>\n",
       "      <td>1</td>\n",
       "      <td>0</td>\n",
       "      <td>117369.52</td>\n",
       "      <td>1</td>\n",
       "    </tr>\n",
       "    <tr>\n",
       "      <th>9964</th>\n",
       "      <td>9965</td>\n",
       "      <td>15642785</td>\n",
       "      <td>Douglas</td>\n",
       "      <td>479</td>\n",
       "      <td>France</td>\n",
       "      <td>Male</td>\n",
       "      <td>34</td>\n",
       "      <td>NaN</td>\n",
       "      <td>117593.48</td>\n",
       "      <td>2</td>\n",
       "      <td>0</td>\n",
       "      <td>0</td>\n",
       "      <td>113308.29</td>\n",
       "      <td>0</td>\n",
       "    </tr>\n",
       "    <tr>\n",
       "      <th>9985</th>\n",
       "      <td>9986</td>\n",
       "      <td>15586914</td>\n",
       "      <td>Nepean</td>\n",
       "      <td>659</td>\n",
       "      <td>France</td>\n",
       "      <td>Male</td>\n",
       "      <td>36</td>\n",
       "      <td>NaN</td>\n",
       "      <td>123841.49</td>\n",
       "      <td>2</td>\n",
       "      <td>1</td>\n",
       "      <td>0</td>\n",
       "      <td>96833.00</td>\n",
       "      <td>0</td>\n",
       "    </tr>\n",
       "    <tr>\n",
       "      <th>9999</th>\n",
       "      <td>10000</td>\n",
       "      <td>15628319</td>\n",
       "      <td>Walker</td>\n",
       "      <td>792</td>\n",
       "      <td>France</td>\n",
       "      <td>Female</td>\n",
       "      <td>28</td>\n",
       "      <td>NaN</td>\n",
       "      <td>130142.79</td>\n",
       "      <td>1</td>\n",
       "      <td>1</td>\n",
       "      <td>0</td>\n",
       "      <td>38190.78</td>\n",
       "      <td>0</td>\n",
       "    </tr>\n",
       "  </tbody>\n",
       "</table>\n",
       "<p>909 rows × 14 columns</p>\n",
       "</div>"
      ],
      "text/plain": [
       "      row_number  customer_id    surname  credit_score geography  gender  age  \\\n",
       "30            31     15589475    Azikiwe           591     Spain  Female   39   \n",
       "48            49     15766205        Yin           550   Germany    Male   38   \n",
       "51            52     15768193  Trevisani           585   Germany    Male   36   \n",
       "53            54     15702298   Parkhill           655   Germany    Male   41   \n",
       "60            61     15651280     Hunter           742   Germany    Male   35   \n",
       "...          ...          ...        ...           ...       ...     ...  ...   \n",
       "9944        9945     15703923    Cameron           744   Germany    Male   41   \n",
       "9956        9957     15707861      Nucci           520    France  Female   46   \n",
       "9964        9965     15642785    Douglas           479    France    Male   34   \n",
       "9985        9986     15586914     Nepean           659    France    Male   36   \n",
       "9999       10000     15628319     Walker           792    France  Female   28   \n",
       "\n",
       "      tenure    balance  num_of_products  has_cr_card  is_active_member  \\\n",
       "30       NaN       0.00                3            1                 0   \n",
       "48       NaN  103391.38                1            0                 1   \n",
       "51       NaN  146050.97                2            0                 0   \n",
       "53       NaN  125561.97                1            0                 0   \n",
       "60       NaN  136857.00                1            0                 0   \n",
       "...      ...        ...              ...          ...               ...   \n",
       "9944     NaN  190409.34                2            1                 1   \n",
       "9956     NaN   85216.61                1            1                 0   \n",
       "9964     NaN  117593.48                2            0                 0   \n",
       "9985     NaN  123841.49                2            1                 0   \n",
       "9999     NaN  130142.79                1            1                 0   \n",
       "\n",
       "      estimated_salary  exited  \n",
       "30           140469.38       1  \n",
       "48            90878.13       0  \n",
       "51            86424.57       0  \n",
       "53           164040.94       1  \n",
       "60            84509.57       0  \n",
       "...                ...     ...  \n",
       "9944         138361.48       0  \n",
       "9956         117369.52       1  \n",
       "9964         113308.29       0  \n",
       "9985          96833.00       0  \n",
       "9999          38190.78       0  \n",
       "\n",
       "[909 rows x 14 columns]"
      ]
     },
     "execution_count": 12,
     "metadata": {},
     "output_type": "execute_result"
    }
   ],
   "source": [
    "data.query('tenure.isnull()')"
   ]
  },
  {
   "cell_type": "code",
   "execution_count": 13,
   "metadata": {
    "scrolled": true
   },
   "outputs": [
    {
     "data": {
      "image/png": "[encoded data removed]",
      "text/plain": [
       "<Figure size 1080x720 with 12 Axes>"
      ]
     },
     "metadata": {
      "needs_background": "light"
     },
     "output_type": "display_data"
    }
   ],
   "source": [
    "data.query('tenure.isnull()').hist(figsize=(15,10));"
   ]
  },
  {
   "cell_type": "markdown",
   "metadata": {},
   "source": [
    "Распределения в общих данны и в данных с пропуском в этой колонке примерно одинаковое, зависимостей не обнаружено, характер пропуска неизвестен. Возможные варианты: больше 10 лет, данные утеряны сбоем, данные не занесены случайно.\n",
    "В любом случае, в данных с пропущеным значением распределение целевого признака такое же как и во всех данных, значит можем от них избавиться без сильного ущерба для обучения модели."
   ]
  },
  {
   "cell_type": "code",
   "execution_count": 14,
   "metadata": {
    "scrolled": true
   },
   "outputs": [
    {
     "name": "stdout",
     "output_type": "stream",
     "text": [
      "<class 'pandas.core.frame.DataFrame'>\n",
      "Int64Index: 9091 entries, 0 to 9998\n",
      "Data columns (total 14 columns):\n",
      " #   Column            Non-Null Count  Dtype  \n",
      "---  ------            --------------  -----  \n",
      " 0   row_number        9091 non-null   int64  \n",
      " 1   customer_id       9091 non-null   int64  \n",
      " 2   surname           9091 non-null   object \n",
      " 3   credit_score      9091 non-null   int64  \n",
      " 4   geography         9091 non-null   object \n",
      " 5   gender            9091 non-null   object \n",
      " 6   age               9091 non-null   int64  \n",
      " 7   tenure            9091 non-null   float64\n",
      " 8   balance           9091 non-null   float64\n",
      " 9   num_of_products   9091 non-null   int64  \n",
      " 10  has_cr_card       9091 non-null   int64  \n",
      " 11  is_active_member  9091 non-null   int64  \n",
      " 12  estimated_salary  9091 non-null   float64\n",
      " 13  exited            9091 non-null   int64  \n",
      "dtypes: float64(3), int64(8), object(3)\n",
      "memory usage: 1.0+ MB\n"
     ]
    }
   ],
   "source": [
    "data=data.dropna()\n",
    "data.info()"
   ]
  },
  {
   "cell_type": "markdown",
   "metadata": {},
   "source": [
    "### Тип данных и кодирование категорий"
   ]
  },
  {
   "cell_type": "markdown",
   "metadata": {},
   "source": [
    "Для того, чтобы окончательно подготовить данные к обучению модели, необходимо:\n",
    "- Возможно изменить тип данных категориальных переменных на object(тут еще стоит подумать относить ли к категориальным такие колонки как age, tenure, num_of_products, т.к. их можно отнести к количественным. С возрастом еще можно перенести в возрастные категории. Ладно, пока что изменим только 2 колонки, пусть возраст, клиентский стаж и количество продуктов будут как количественные переменные в нашем обучении)\n",
    "- Избавиться от ненужных колонок (первые 3) и отделить целевой показатель от факторов\n",
    "- Разбить данные на 3 выборки"
   ]
  },
  {
   "cell_type": "code",
   "execution_count": 15,
   "metadata": {},
   "outputs": [],
   "source": [
    "data.loc[:, 'has_cr_card':'is_active_member'] = data.loc[:, 'has_cr_card':'is_active_member'].astype('object', errors='ignore')"
   ]
  },
  {
   "cell_type": "code",
   "execution_count": 16,
   "metadata": {},
   "outputs": [],
   "source": [
    "data['tenure'] = data['tenure'].astype('int64', errors='ignore')"
   ]
  },
  {
   "cell_type": "code",
   "execution_count": 17,
   "metadata": {
    "scrolled": true
   },
   "outputs": [
    {
     "data": {
      "text/plain": [
       "row_number            int64\n",
       "customer_id           int64\n",
       "surname              object\n",
       "credit_score          int64\n",
       "geography            object\n",
       "gender               object\n",
       "age                   int64\n",
       "tenure                int64\n",
       "balance             float64\n",
       "num_of_products       int64\n",
       "has_cr_card          object\n",
       "is_active_member     object\n",
       "estimated_salary    float64\n",
       "exited                int64\n",
       "dtype: object"
      ]
     },
     "execution_count": 17,
     "metadata": {},
     "output_type": "execute_result"
    }
   ],
   "source": [
    "data.dtypes"
   ]
  },
  {
   "cell_type": "markdown",
   "metadata": {},
   "source": [
    "Тип данны изменили, переходим к выделению целевой переменной и факторов"
   ]
  },
  {
   "cell_type": "code",
   "execution_count": 18,
   "metadata": {},
   "outputs": [],
   "source": [
    "#features = data.loc[:,'credit_score':'estimated_salary']\n",
    "features = pd.get_dummies(data.loc[:,'credit_score':'estimated_salary'], drop_first=True)\n",
    "target = data['exited']"
   ]
  },
  {
   "cell_type": "code",
   "execution_count": 19,
   "metadata": {
    "scrolled": true
   },
   "outputs": [
    {
     "data": {
      "text/html": [
       "<div>\n",
       "<style scoped>\n",
       "    .dataframe tbody tr th:only-of-type {\n",
       "        vertical-align: middle;\n",
       "    }\n",
       "\n",
       "    .dataframe tbody tr th {\n",
       "        vertical-align: top;\n",
       "    }\n",
       "\n",
       "    .dataframe thead th {\n",
       "        text-align: right;\n",
       "    }\n",
       "</style>\n",
       "<table border=\"1\" class=\"dataframe\">\n",
       "  <thead>\n",
       "    <tr style=\"text-align: right;\">\n",
       "      <th></th>\n",
       "      <th>credit_score</th>\n",
       "      <th>age</th>\n",
       "      <th>tenure</th>\n",
       "      <th>balance</th>\n",
       "      <th>num_of_products</th>\n",
       "      <th>estimated_salary</th>\n",
       "      <th>geography_Germany</th>\n",
       "      <th>geography_Spain</th>\n",
       "      <th>gender_Male</th>\n",
       "      <th>has_cr_card_1</th>\n",
       "      <th>is_active_member_1</th>\n",
       "    </tr>\n",
       "  </thead>\n",
       "  <tbody>\n",
       "    <tr>\n",
       "      <th>0</th>\n",
       "      <td>619</td>\n",
       "      <td>42</td>\n",
       "      <td>2</td>\n",
       "      <td>0.00</td>\n",
       "      <td>1</td>\n",
       "      <td>101348.88</td>\n",
       "      <td>0</td>\n",
       "      <td>0</td>\n",
       "      <td>0</td>\n",
       "      <td>1</td>\n",
       "      <td>1</td>\n",
       "    </tr>\n",
       "    <tr>\n",
       "      <th>1</th>\n",
       "      <td>608</td>\n",
       "      <td>41</td>\n",
       "      <td>1</td>\n",
       "      <td>83807.86</td>\n",
       "      <td>1</td>\n",
       "      <td>112542.58</td>\n",
       "      <td>0</td>\n",
       "      <td>1</td>\n",
       "      <td>0</td>\n",
       "      <td>0</td>\n",
       "      <td>1</td>\n",
       "    </tr>\n",
       "    <tr>\n",
       "      <th>2</th>\n",
       "      <td>502</td>\n",
       "      <td>42</td>\n",
       "      <td>8</td>\n",
       "      <td>159660.80</td>\n",
       "      <td>3</td>\n",
       "      <td>113931.57</td>\n",
       "      <td>0</td>\n",
       "      <td>0</td>\n",
       "      <td>0</td>\n",
       "      <td>1</td>\n",
       "      <td>0</td>\n",
       "    </tr>\n",
       "    <tr>\n",
       "      <th>3</th>\n",
       "      <td>699</td>\n",
       "      <td>39</td>\n",
       "      <td>1</td>\n",
       "      <td>0.00</td>\n",
       "      <td>2</td>\n",
       "      <td>93826.63</td>\n",
       "      <td>0</td>\n",
       "      <td>0</td>\n",
       "      <td>0</td>\n",
       "      <td>0</td>\n",
       "      <td>0</td>\n",
       "    </tr>\n",
       "    <tr>\n",
       "      <th>4</th>\n",
       "      <td>850</td>\n",
       "      <td>43</td>\n",
       "      <td>2</td>\n",
       "      <td>125510.82</td>\n",
       "      <td>1</td>\n",
       "      <td>79084.10</td>\n",
       "      <td>0</td>\n",
       "      <td>1</td>\n",
       "      <td>0</td>\n",
       "      <td>1</td>\n",
       "      <td>1</td>\n",
       "    </tr>\n",
       "  </tbody>\n",
       "</table>\n",
       "</div>"
      ],
      "text/plain": [
       "   credit_score  age  tenure    balance  num_of_products  estimated_salary  \\\n",
       "0           619   42       2       0.00                1         101348.88   \n",
       "1           608   41       1   83807.86                1         112542.58   \n",
       "2           502   42       8  159660.80                3         113931.57   \n",
       "3           699   39       1       0.00                2          93826.63   \n",
       "4           850   43       2  125510.82                1          79084.10   \n",
       "\n",
       "   geography_Germany  geography_Spain  gender_Male  has_cr_card_1  \\\n",
       "0                  0                0            0              1   \n",
       "1                  0                1            0              0   \n",
       "2                  0                0            0              1   \n",
       "3                  0                0            0              0   \n",
       "4                  0                1            0              1   \n",
       "\n",
       "   is_active_member_1  \n",
       "0                   1  \n",
       "1                   1  \n",
       "2                   0  \n",
       "3                   0  \n",
       "4                   1  "
      ]
     },
     "execution_count": 19,
     "metadata": {},
     "output_type": "execute_result"
    }
   ],
   "source": [
    "features.head(5)"
   ]
  },
  {
   "cell_type": "code",
   "execution_count": 20,
   "metadata": {},
   "outputs": [],
   "source": [
    "#Разделяем данные на 3 выборки(тренировочные, валидационные, тестовые)\n",
    "features_train, features_1, target_train, target_1 = train_test_split(\n",
    "    features, target, test_size=0.40, random_state=12345)\n",
    "features_valid, features_test, target_valid, target_test = train_test_split(\n",
    "    features_1, target_1, test_size=0.50, random_state=12345)"
   ]
  },
  {
   "cell_type": "code",
   "execution_count": 21,
   "metadata": {},
   "outputs": [
    {
     "name": "stdout",
     "output_type": "stream",
     "text": [
      "Размерность features_train: (5454, 11)\n",
      "Размерность target_train: (5454,)\n",
      "Размерность features_valid: (1818, 11)\n",
      "Размерность target_valid: (1818,)\n",
      "Размерность features_test: (1819, 11)\n",
      "Размерность target_test: (1819,)\n"
     ]
    }
   ],
   "source": [
    "for df in ['features_train','target_train','features_valid', 'target_valid', 'features_test', 'target_test']:\n",
    "    print(f'Размерность {df}: {globals()[df].shape}')"
   ]
  },
  {
   "cell_type": "markdown",
   "metadata": {},
   "source": [
    "Дополнительно масштабируем количественные признаки для уравновешивания их значимости"
   ]
  },
  {
   "cell_type": "code",
   "execution_count": 22,
   "metadata": {},
   "outputs": [],
   "source": [
    "numeric = ['credit_score', 'age', 'tenure', 'balance', 'estimated_salary']\n",
    "scaler = StandardScaler()\n",
    "scaler.fit(features_train[numeric])\n",
    "features_train[numeric] = scaler.transform(features_train[numeric])\n",
    "features_valid[numeric] = scaler.transform(features_valid[numeric])\n",
    "features_test[numeric] = scaler.transform(features_test[numeric])"
   ]
  },
  {
   "cell_type": "markdown",
   "metadata": {},
   "source": [
    "Данные готовы для создания модели машинного обучения:\n",
    "- Выделены 3 выборки в оптимальной пропорции (60/20/20)\n",
    "- размеры выборок проверены\n",
    "- Категории в признаках перекодированы\n",
    "- Пропуски удалены\n",
    "- Количественные признаки промасштабированы"
   ]
  },
  {
   "cell_type": "markdown",
   "metadata": {},
   "source": [
    "## Исследование задачи"
   ]
  },
  {
   "cell_type": "markdown",
   "metadata": {},
   "source": [
    "В нашем исследовании мы будем проверять 3 модели(логистическая регрессия, дерево решений и случайный лес) и подбирать к ним оптимальные гиперпараметры."
   ]
  },
  {
   "cell_type": "code",
   "execution_count": 23,
   "metadata": {},
   "outputs": [
    {
     "name": "stdout",
     "output_type": "stream",
     "text": [
      "Лучший показатель F1 обеспечивает модель DecisionTreeClassifier(max_depth=7, random_state=12345) - 0.5773524720893142\n"
     ]
    },
    {
     "data": {
      "image/png": "[encoded data removed]",
      "text/plain": [
       "<Figure size 432x288 with 1 Axes>"
      ]
     },
     "metadata": {
      "needs_background": "light"
     },
     "output_type": "display_data"
    },
    {
     "name": "stdout",
     "output_type": "stream",
     "text": [
      "AUC-ROC: 0.6774602075997179\n",
      "CPU times: user 379 ms, sys: 11.1 ms, total: 391 ms\n",
      "Wall time: 389 ms\n"
     ]
    }
   ],
   "source": [
    "%%time\n",
    "best_model_tree = None\n",
    "best_result_tree = 0\n",
    "for d in range(1,16):\n",
    "    model = Tree(random_state=12345, max_depth = d)\n",
    "    model.fit(features_train, target_train)\n",
    "    predictions = model.predict(features_valid)\n",
    "    result = f1_score(target_valid, predictions)\n",
    "    if result > best_result_tree:\n",
    "        best_model_tree = model\n",
    "        best_result_tree = result\n",
    "print(f'Лучший показатель F1 обеспечивает модель {best_model_tree} - {best_result_tree}')\n",
    "make_roc_curve(features_valid, target_valid)"
   ]
  },
  {
   "cell_type": "code",
   "execution_count": 24,
   "metadata": {},
   "outputs": [
    {
     "name": "stdout",
     "output_type": "stream",
     "text": [
      "F1: 0.509731232622799\n"
     ]
    },
    {
     "data": {
      "image/png": "[encoded data removed]",
      "text/plain": [
       "<Figure size 432x288 with 1 Axes>"
      ]
     },
     "metadata": {
      "needs_background": "light"
     },
     "output_type": "display_data"
    },
    {
     "name": "stdout",
     "output_type": "stream",
     "text": [
      "AUC-ROC: 0.7778123429610663\n",
      "CPU times: user 209 ms, sys: 94.2 ms, total: 303 ms\n",
      "Wall time: 311 ms\n"
     ]
    }
   ],
   "source": [
    "%%time\n",
    "model = LogisticRegression(\n",
    "    random_state=12345, solver='liblinear', class_weight='balanced')\n",
    "model.fit(features_train, target_train)\n",
    "predictions = model.predict(features_valid)\n",
    "result = f1_score(target_valid, predictions)\n",
    "print(\"F1:\", result)\n",
    "make_roc_curve(features_valid, target_valid)"
   ]
  },
  {
   "cell_type": "code",
   "execution_count": 25,
   "metadata": {},
   "outputs": [
    {
     "name": "stdout",
     "output_type": "stream",
     "text": [
      "RandomForestClassifier(max_depth=5, n_estimators=20, random_state=12345)\n",
      "F1: 0.49624060150375937\n",
      "RandomForestClassifier(max_depth=6, n_estimators=20, random_state=12345)\n",
      "F1: 0.5535714285714285\n",
      "RandomForestClassifier(max_depth=7, n_estimators=20, random_state=12345)\n",
      "F1: 0.5578947368421053\n",
      "RandomForestClassifier(max_depth=8, n_estimators=20, random_state=12345)\n",
      "F1: 0.5543859649122806\n",
      "RandomForestClassifier(max_depth=9, n_estimators=20, random_state=12345)\n",
      "F1: 0.5753424657534246\n",
      "RandomForestClassifier(max_depth=10, n_estimators=20, random_state=12345)\n",
      "F1: 0.5874363327674024\n",
      "RandomForestClassifier(max_depth=11, n_estimators=20, random_state=12345)\n",
      "F1: 0.5811965811965811\n",
      "RandomForestClassifier(max_depth=12, n_estimators=20, random_state=12345)\n",
      "F1: 0.575206611570248\n",
      "RandomForestClassifier(max_depth=13, n_estimators=20, random_state=12345)\n",
      "F1: 0.5811688311688311\n",
      "RandomForestClassifier(max_depth=14, n_estimators=20, random_state=12345)\n",
      "F1: 0.5866666666666667\n",
      "RandomForestClassifier(max_depth=15, n_estimators=20, random_state=12345)\n",
      "F1: 0.5941558441558442\n",
      "RandomForestClassifier(max_depth=16, n_estimators=20, random_state=12345)\n",
      "F1: 0.580327868852459\n",
      "RandomForestClassifier(max_depth=17, n_estimators=20, random_state=12345)\n",
      "F1: 0.5894039735099338\n",
      "RandomForestClassifier(max_depth=18, n_estimators=20, random_state=12345)\n",
      "F1: 0.5834683954619124\n",
      "RandomForestClassifier(max_depth=19, n_estimators=20, random_state=12345)\n",
      "F1: 0.5662847790507365\n"
     ]
    }
   ],
   "source": [
    "for d in range(5,20):\n",
    "    model = Forest(\n",
    "        random_state=12345, max_depth = d, n_estimators=20)\n",
    "    model.fit(features_train, target_train)\n",
    "    predictions = model.predict(features_valid)\n",
    "    result = f1_score(target_valid, predictions)\n",
    "    print(model)\n",
    "    print(\"F1:\", result)\n"
   ]
  },
  {
   "cell_type": "code",
   "execution_count": 26,
   "metadata": {},
   "outputs": [
    {
     "name": "stdout",
     "output_type": "stream",
     "text": [
      "RandomForestClassifier(max_depth=15, n_estimators=10, random_state=12345)\n",
      "F1: 0.5601317957166393\n",
      "RandomForestClassifier(max_depth=15, n_estimators=20, random_state=12345)\n",
      "F1: 0.5941558441558442\n",
      "RandomForestClassifier(max_depth=15, n_estimators=30, random_state=12345)\n",
      "F1: 0.6013071895424836\n",
      "RandomForestClassifier(max_depth=15, n_estimators=40, random_state=12345)\n",
      "F1: 0.5934426229508196\n",
      "RandomForestClassifier(max_depth=15, n_estimators=50, random_state=12345)\n",
      "F1: 0.5841584158415842\n",
      "RandomForestClassifier(max_depth=15, n_estimators=60, random_state=12345)\n",
      "F1: 0.5864909390444811\n",
      "RandomForestClassifier(max_depth=15, n_estimators=70, random_state=12345)\n",
      "F1: 0.5851239669421487\n",
      "RandomForestClassifier(max_depth=15, n_estimators=80, random_state=12345)\n",
      "F1: 0.5833333333333334\n",
      "RandomForestClassifier(max_depth=15, n_estimators=90, random_state=12345)\n",
      "F1: 0.5785953177257526\n",
      "RandomForestClassifier(max_depth=15, random_state=12345)\n",
      "F1: 0.5771144278606966\n",
      "Лучший показатель F1 обеспечивает модель RandomForestClassifier(max_depth=15, n_estimators=30, random_state=12345) - 0.6013071895424836\n"
     ]
    }
   ],
   "source": [
    "best_model_forest = None\n",
    "best_result_forest = 0\n",
    "for e in range(10,101,10):\n",
    "    model = Forest(\n",
    "        random_state=12345, max_depth = 15, n_estimators=e)\n",
    "    model.fit(features_train, target_train)\n",
    "    predictions = model.predict(features_valid)\n",
    "    result = f1_score(target_valid, predictions)\n",
    "    if result > best_result_forest:\n",
    "        best_model_forest = model\n",
    "        best_result_forest = result\n",
    "    print(model)\n",
    "    print(\"F1:\", result)\n",
    "print(f'Лучший показатель F1 обеспечивает модель {best_model_forest} - {best_result_forest}')"
   ]
  },
  {
   "cell_type": "markdown",
   "metadata": {},
   "source": [
    "Получили следующие показатели F1 на валидационной выборке: дерево решений (F1 = 0,577), Случайный лес (F1 = 0,603), а логистическая регрессия показала совсем низкие результаты. "
   ]
  },
  {
   "cell_type": "code",
   "execution_count": 27,
   "metadata": {},
   "outputs": [
    {
     "name": "stdout",
     "output_type": "stream",
     "text": [
      "0.5591397849462365\n"
     ]
    },
    {
     "data": {
      "image/png": "[encoded data removed]",
      "text/plain": [
       "<Figure size 432x288 with 1 Axes>"
      ]
     },
     "metadata": {
      "needs_background": "light"
     },
     "output_type": "display_data"
    },
    {
     "name": "stdout",
     "output_type": "stream",
     "text": [
      "AUC-ROC: 0.8690766985054956\n"
     ]
    }
   ],
   "source": [
    "predictions_test = best_model_forest.predict(features_test)\n",
    "result_forest = f1_score(target_test, predictions_test)\n",
    "print(result_forest)\n",
    "make_roc_curve(features_valid, target_valid)"
   ]
  },
  {
   "cell_type": "markdown",
   "metadata": {},
   "source": [
    "## Борьба с дисбалансом"
   ]
  },
  {
   "cell_type": "markdown",
   "metadata": {},
   "source": [
    "### Вес классов и стратификация при разделении выборок"
   ]
  },
  {
   "cell_type": "markdown",
   "metadata": {},
   "source": [
    "Бороться с дисбалансом можно разными способами: Это и увеличение/уменьшение выборок(меньшего/большего класса соответственно), и добавление гиперпараметров при разделении на обучающую, валидационную и тестовую выборки  и точно такое же при обучении модели (class_weight='balanced'), и увеличение/уменьшение порога классификации.\n",
    "\n",
    "В первую очередь сбалансируем выборки и добавим новый гиперпараметр нашей оптимальной модели"
   ]
  },
  {
   "cell_type": "code",
   "execution_count": 28,
   "metadata": {
    "scrolled": true
   },
   "outputs": [
    {
     "name": "stdout",
     "output_type": "stream",
     "text": [
      "Размерность features_train: (5454, 11)\n",
      "Размерность target_train: (5454,)\n",
      "Размерность features_valid: (1818, 11)\n",
      "Размерность target_valid: (1818,)\n",
      "Размерность features_test: (1819, 11)\n",
      "Размерность target_test: (1819,)\n"
     ]
    }
   ],
   "source": [
    "features_train, features_1, target_train, target_1 = train_test_split(\n",
    "    features, target, test_size=0.40, random_state=12345, stratify = target)\n",
    "features_valid, features_test, target_valid, target_test = train_test_split(\n",
    "    features_1, target_1, test_size=0.50, random_state=12345, stratify = target_1)\n",
    "for df in ['features_train','target_train','features_valid', 'target_valid', 'features_test', 'target_test']:\n",
    "    print(f'Размерность {df}: {globals()[df].shape}')"
   ]
  },
  {
   "cell_type": "code",
   "execution_count": 29,
   "metadata": {},
   "outputs": [],
   "source": [
    "features_train[numeric] = scaler.transform(features_train[numeric])\n",
    "features_valid[numeric] = scaler.transform(features_valid[numeric])\n",
    "features_test[numeric] = scaler.transform(features_test[numeric])"
   ]
  },
  {
   "cell_type": "code",
   "execution_count": 30,
   "metadata": {},
   "outputs": [
    {
     "name": "stdout",
     "output_type": "stream",
     "text": [
      "F1: 0.5983471074380166\n"
     ]
    },
    {
     "data": {
      "image/png": "[encoded data removed]",
      "text/plain": [
       "<Figure size 432x288 with 1 Axes>"
      ]
     },
     "metadata": {
      "needs_background": "light"
     },
     "output_type": "display_data"
    },
    {
     "name": "stdout",
     "output_type": "stream",
     "text": [
      "AUC-ROC: 0.8601353856012162\n"
     ]
    }
   ],
   "source": [
    "model = Forest(\n",
    "        random_state=12345, max_depth = 15, n_estimators=30)\n",
    "model.fit(features_train, target_train)\n",
    "predictions = model.predict(features_valid)\n",
    "result = f1_score(target_valid, predictions)\n",
    "print(\"F1:\", result)\n",
    "make_roc_curve(features_valid, target_valid)"
   ]
  },
  {
   "cell_type": "code",
   "execution_count": 31,
   "metadata": {},
   "outputs": [
    {
     "name": "stdout",
     "output_type": "stream",
     "text": [
      "F1: 0.5915032679738562\n"
     ]
    },
    {
     "data": {
      "image/png": "[encoded data removed]",
      "text/plain": [
       "<Figure size 432x288 with 1 Axes>"
      ]
     },
     "metadata": {
      "needs_background": "light"
     },
     "output_type": "display_data"
    },
    {
     "name": "stdout",
     "output_type": "stream",
     "text": [
      "AUC-ROC: 0.8577901672202176\n"
     ]
    }
   ],
   "source": [
    "model = Forest(\n",
    "        random_state=12345, max_depth = 15, n_estimators=30, class_weight='balanced')\n",
    "model.fit(features_train, target_train)\n",
    "predictions = model.predict(features_valid)\n",
    "result = f1_score(target_valid, predictions)\n",
    "print(\"F1:\", result)\n",
    "make_roc_curve(features_valid, target_valid)"
   ]
  },
  {
   "cell_type": "markdown",
   "metadata": {},
   "source": [
    "Добавив новый гиперпараметр при разделении на выборке и обучении модели случайного леса мы добились увеличения показателя F1 (хоть это и всего 3%, но теперь мы добились нужного показателя на тестовой выборке - 59,9%)"
   ]
  },
  {
   "cell_type": "markdown",
   "metadata": {},
   "source": [
    "### Увеличение выборки"
   ]
  },
  {
   "cell_type": "markdown",
   "metadata": {},
   "source": [
    "Попробуем так же метод увеличения выборки (upsampling) "
   ]
  },
  {
   "cell_type": "code",
   "execution_count": 32,
   "metadata": {},
   "outputs": [],
   "source": [
    "features_upsampled, target_upsampled = upsample(features_train, target_train, 4)"
   ]
  },
  {
   "cell_type": "code",
   "execution_count": 33,
   "metadata": {},
   "outputs": [
    {
     "data": {
      "image/png": "[encoded data removed]",
      "text/plain": [
       "<Figure size 432x288 with 1 Axes>"
      ]
     },
     "metadata": {
      "needs_background": "light"
     },
     "output_type": "display_data"
    }
   ],
   "source": [
    "target_upsampled.hist();"
   ]
  },
  {
   "cell_type": "code",
   "execution_count": 34,
   "metadata": {},
   "outputs": [
    {
     "name": "stdout",
     "output_type": "stream",
     "text": [
      "F1: 0.6132208157524613\n"
     ]
    },
    {
     "data": {
      "image/png": "[encoded data removed]",
      "text/plain": [
       "<Figure size 432x288 with 1 Axes>"
      ]
     },
     "metadata": {
      "needs_background": "light"
     },
     "output_type": "display_data"
    },
    {
     "name": "stdout",
     "output_type": "stream",
     "text": [
      "AUC-ROC: 0.8624312407676817\n"
     ]
    }
   ],
   "source": [
    "model = Forest(\n",
    "        random_state=12345, max_depth = 15, n_estimators=30)\n",
    "model.fit(features_upsampled, target_upsampled)\n",
    "predictions = model.predict(features_valid)\n",
    "result = f1_score(target_valid, predictions)\n",
    "print(\"F1:\", result)\n",
    "make_roc_curve(features_valid, target_valid)"
   ]
  },
  {
   "cell_type": "markdown",
   "metadata": {},
   "source": [
    "Увеличение выборки дало еще больший результат(F1=60,9%, и не менее хороший покаатель AUC-ROC = 0.86), остановимся на этой модели для проверки на тестовой выборке"
   ]
  },
  {
   "cell_type": "markdown",
   "metadata": {},
   "source": [
    "## Тестирование модели"
   ]
  },
  {
   "cell_type": "code",
   "execution_count": 35,
   "metadata": {
    "scrolled": false
   },
   "outputs": [
    {
     "name": "stdout",
     "output_type": "stream",
     "text": [
      "Точность: 0.6317365269461078\n",
      "Полнота 0.568733153638814\n",
      "F1: 0.598581560283688\n",
      "Accuracy: 0.8444200109950523\n"
     ]
    },
    {
     "data": {
      "image/png": "[encoded data removed]",
      "text/plain": [
       "<Figure size 432x288 with 1 Axes>"
      ]
     },
     "metadata": {
      "needs_background": "light"
     },
     "output_type": "display_data"
    },
    {
     "name": "stdout",
     "output_type": "stream",
     "text": [
      "AUC-ROC: 0.8401922532799214\n"
     ]
    }
   ],
   "source": [
    "predictions_test = model.predict(features_test)\n",
    "result = f1_score(target_test, predictions_test)\n",
    "print('Точность:', precision_score(target_test, predictions_test))\n",
    "print(\"Полнота\", recall_score(target_test, predictions_test))\n",
    "print(\"F1:\", result)\n",
    "print('Accuracy:', accuracy_score(target_test, predictions_test))\n",
    "make_roc_curve(features_test, target_test)\n"
   ]
  },
  {
   "cell_type": "code",
   "execution_count": 36,
   "metadata": {},
   "outputs": [
    {
     "data": {
      "image/png": "[encoded data removed]",
      "text/plain": [
       "<Figure size 432x288 with 2 Axes>"
      ]
     },
     "metadata": {
      "needs_background": "light"
     },
     "output_type": "display_data"
    }
   ],
   "source": [
    "cm = confusion_matrix(target_test, predictions_test)\n",
    "sns.heatmap(cm, annot=True, fmt='.1f', linewidths=.5, cmap=sns.cubehelix_palette(as_cmap=True));"
   ]
  },
  {
   "cell_type": "markdown",
   "metadata": {},
   "source": [
    "На тестовой выборке модель показала необходимое значение F1 = 59.9% (необходимо больше 59%)"
   ]
  },
  {
   "cell_type": "markdown",
   "metadata": {},
   "source": [
    "**Вывод:** Модель выявляет 56% положительных ответов от всех положительных ответов. Модель нашла 63% отрицательных ответов пока искала положительные. \n",
    "А среднее гармоническое полноты и точности (F1-мера) равна 59,9%"
   ]
  },
  {
   "cell_type": "markdown",
   "metadata": {},
   "source": [
    "## Итоговый вывод"
   ]
  },
  {
   "cell_type": "markdown",
   "metadata": {},
   "source": [
    "**1.** Была достигнута цель исследования - построена модель предсказания отказа клиента от услуг банка (уход клиента) с помощью машинного обучения обеспечивающая достаточый показатель F1 меры(более 59%), для этого было сделано:\n",
    "- Разделены данные на 3 выборки: обучающую, валидационную и тестовую в соотношении 3:1:1\n",
    "- Категориальные признаки перекодированы, количественные признаки промасштабированы\n",
    "- Проверены 3 модели: решающее дерево, случайный лес, логистическая регрессия.\n",
    "- Модель показавшая лучший результат была оптимизирована с помощью подбора гиперпараметров.\n",
    "- Учтен дисбаланс классов и проверены 2 способа балансирования классов(гиперпараметр при делении на выборки и обучении модели и метод увеличения выборки).\n",
    "- Подробно рассмотрены ошибки подобранной модели классификации (из 15.5% ошибок: 8.7% неврно определяет как клиента который останется, а 6.7% неверно предполагает, что клиент уйдет)\n",
    "    \n",
    "**2.** В конечном итоге у нас есть модель, которая обеспечивает необходимый уровень F1-меры на тестовой выборке: \n",
    "- Случайный лес 30 деревьев глубиной 15 показывает F1=59.9%\n",
    " "
   ]
  }
 ],
 "metadata": {
  "ExecuteTimeLog": [
   {
    "duration": 1664,
    "start_time": "2023-03-25T08:01:08.452Z"
   },
   {
    "duration": 189,
    "start_time": "2023-03-25T08:03:33.620Z"
   },
   {
    "duration": 17,
    "start_time": "2023-03-25T08:03:43.481Z"
   },
   {
    "duration": 15,
    "start_time": "2023-03-25T08:03:48.786Z"
   },
   {
    "duration": 30,
    "start_time": "2023-03-25T08:04:34.705Z"
   },
   {
    "duration": 47,
    "start_time": "2023-03-25T08:05:39.124Z"
   },
   {
    "duration": 1439,
    "start_time": "2023-03-25T08:07:12.001Z"
   },
   {
    "duration": 48,
    "start_time": "2023-03-25T13:01:42.431Z"
   },
   {
    "duration": 1715,
    "start_time": "2023-03-25T13:01:53.079Z"
   },
   {
    "duration": 235,
    "start_time": "2023-03-25T13:01:54.796Z"
   },
   {
    "duration": 14,
    "start_time": "2023-03-25T13:01:55.033Z"
   },
   {
    "duration": 18,
    "start_time": "2023-03-25T13:01:55.049Z"
   },
   {
    "duration": 61,
    "start_time": "2023-03-25T13:01:55.069Z"
   },
   {
    "duration": 1496,
    "start_time": "2023-03-25T13:01:55.132Z"
   },
   {
    "duration": 4,
    "start_time": "2023-03-25T13:02:00.673Z"
   },
   {
    "duration": 91,
    "start_time": "2023-03-25T13:08:06.718Z"
   },
   {
    "duration": 12,
    "start_time": "2023-03-25T13:08:22.120Z"
   },
   {
    "duration": 5,
    "start_time": "2023-03-25T13:08:30.075Z"
   },
   {
    "duration": 26,
    "start_time": "2023-03-25T13:10:57.441Z"
   },
   {
    "duration": 1332,
    "start_time": "2023-03-25T13:11:42.579Z"
   },
   {
    "duration": 1422,
    "start_time": "2023-03-25T13:11:49.684Z"
   },
   {
    "duration": 45,
    "start_time": "2023-03-25T13:19:04.985Z"
   },
   {
    "duration": 10,
    "start_time": "2023-03-25T13:19:11.890Z"
   },
   {
    "duration": 18,
    "start_time": "2023-03-25T13:19:20.539Z"
   },
   {
    "duration": 44,
    "start_time": "2023-03-25T13:31:11.855Z"
   },
   {
    "duration": 36,
    "start_time": "2023-03-25T13:31:16.068Z"
   },
   {
    "duration": 5,
    "start_time": "2023-03-25T13:31:30.005Z"
   },
   {
    "duration": 65,
    "start_time": "2023-03-25T13:31:30.016Z"
   },
   {
    "duration": 14,
    "start_time": "2023-03-25T13:31:30.083Z"
   },
   {
    "duration": 34,
    "start_time": "2023-03-25T13:31:30.099Z"
   },
   {
    "duration": 100,
    "start_time": "2023-03-25T13:31:30.137Z"
   },
   {
    "duration": 1317,
    "start_time": "2023-03-25T13:31:30.240Z"
   },
   {
    "duration": 5,
    "start_time": "2023-03-25T13:31:31.558Z"
   },
   {
    "duration": 29,
    "start_time": "2023-03-25T13:31:31.565Z"
   },
   {
    "duration": 68,
    "start_time": "2023-03-25T13:31:31.596Z"
   },
   {
    "duration": 42,
    "start_time": "2023-03-25T13:31:31.666Z"
   },
   {
    "duration": 1507,
    "start_time": "2023-03-25T13:31:31.711Z"
   },
   {
    "duration": 22,
    "start_time": "2023-03-25T13:31:33.220Z"
   },
   {
    "duration": 6,
    "start_time": "2023-03-25T13:31:56.895Z"
   },
   {
    "duration": 25,
    "start_time": "2023-03-25T13:32:00.039Z"
   },
   {
    "duration": 4,
    "start_time": "2023-03-25T13:33:56.729Z"
   },
   {
    "duration": 18,
    "start_time": "2023-03-25T13:34:03.169Z"
   },
   {
    "duration": 7,
    "start_time": "2023-03-25T13:34:12.505Z"
   },
   {
    "duration": 20,
    "start_time": "2023-03-25T13:34:15.578Z"
   },
   {
    "duration": 12,
    "start_time": "2023-03-25T13:37:14.720Z"
   },
   {
    "duration": 9,
    "start_time": "2023-03-25T13:37:56.590Z"
   },
   {
    "duration": 24,
    "start_time": "2023-03-25T13:38:09.197Z"
   },
   {
    "duration": 5,
    "start_time": "2023-03-25T13:38:26.994Z"
   },
   {
    "duration": 12,
    "start_time": "2023-03-25T13:41:43.323Z"
   },
   {
    "duration": 41,
    "start_time": "2023-03-25T13:43:30.876Z"
   },
   {
    "duration": 10,
    "start_time": "2023-03-25T13:43:32.500Z"
   },
   {
    "duration": 7,
    "start_time": "2023-03-25T13:43:51.081Z"
   },
   {
    "duration": 5,
    "start_time": "2023-03-25T13:43:59.220Z"
   },
   {
    "duration": 11,
    "start_time": "2023-03-25T13:44:36.931Z"
   },
   {
    "duration": 9,
    "start_time": "2023-03-25T13:44:39.215Z"
   },
   {
    "duration": 67,
    "start_time": "2023-03-25T13:44:46.332Z"
   },
   {
    "duration": 4,
    "start_time": "2023-03-25T13:44:50.734Z"
   },
   {
    "duration": 11,
    "start_time": "2023-03-25T13:44:52.271Z"
   },
   {
    "duration": 13,
    "start_time": "2023-03-25T13:45:04.584Z"
   },
   {
    "duration": 11,
    "start_time": "2023-03-25T13:45:05.135Z"
   },
   {
    "duration": 12,
    "start_time": "2023-03-25T13:46:16.071Z"
   },
   {
    "duration": 13,
    "start_time": "2023-03-25T13:46:31.821Z"
   },
   {
    "duration": 14,
    "start_time": "2023-03-25T13:46:32.717Z"
   },
   {
    "duration": 22,
    "start_time": "2023-03-25T13:48:03.600Z"
   },
   {
    "duration": 13,
    "start_time": "2023-03-25T13:48:28.723Z"
   },
   {
    "duration": 22,
    "start_time": "2023-03-25T13:48:29.597Z"
   },
   {
    "duration": 13,
    "start_time": "2023-03-25T13:52:17.394Z"
   },
   {
    "duration": 11,
    "start_time": "2023-03-25T13:52:39.419Z"
   },
   {
    "duration": 9,
    "start_time": "2023-03-25T13:52:50.466Z"
   },
   {
    "duration": 6,
    "start_time": "2023-03-25T13:52:51.218Z"
   },
   {
    "duration": 25,
    "start_time": "2023-03-25T13:59:40.255Z"
   },
   {
    "duration": 307,
    "start_time": "2023-03-25T14:01:17.166Z"
   },
   {
    "duration": 309,
    "start_time": "2023-03-25T14:01:32.718Z"
   },
   {
    "duration": 11490,
    "start_time": "2023-03-25T14:03:01.523Z"
   },
   {
    "duration": 342,
    "start_time": "2023-03-25T14:03:52.092Z"
   },
   {
    "duration": 16914,
    "start_time": "2023-03-25T14:03:56.106Z"
   },
   {
    "duration": 20312,
    "start_time": "2023-03-25T14:04:20.423Z"
   },
   {
    "duration": 1672,
    "start_time": "2023-03-25T14:06:55.292Z"
   },
   {
    "duration": 1683,
    "start_time": "2023-03-25T14:07:06.337Z"
   },
   {
    "duration": 2073,
    "start_time": "2023-03-25T14:07:25.261Z"
   },
   {
    "duration": 4006,
    "start_time": "2023-03-25T14:08:36.636Z"
   },
   {
    "duration": 36,
    "start_time": "2023-03-25T14:25:24.780Z"
   },
   {
    "duration": 1826,
    "start_time": "2023-03-26T11:40:01.110Z"
   },
   {
    "duration": 120,
    "start_time": "2023-03-26T11:40:02.938Z"
   },
   {
    "duration": 27,
    "start_time": "2023-03-26T11:40:03.060Z"
   },
   {
    "duration": 29,
    "start_time": "2023-03-26T11:40:03.094Z"
   },
   {
    "duration": 35,
    "start_time": "2023-03-26T11:40:03.124Z"
   },
   {
    "duration": 1206,
    "start_time": "2023-03-26T11:40:03.161Z"
   },
   {
    "duration": 16,
    "start_time": "2023-03-26T11:40:04.369Z"
   },
   {
    "duration": 38,
    "start_time": "2023-03-26T11:40:04.386Z"
   },
   {
    "duration": 10,
    "start_time": "2023-03-26T11:40:04.426Z"
   },
   {
    "duration": 61,
    "start_time": "2023-03-26T11:40:04.440Z"
   },
   {
    "duration": 1219,
    "start_time": "2023-03-26T11:40:04.504Z"
   },
   {
    "duration": 17,
    "start_time": "2023-03-26T11:40:05.724Z"
   },
   {
    "duration": 7,
    "start_time": "2023-03-26T11:40:05.742Z"
   },
   {
    "duration": 6,
    "start_time": "2023-03-26T11:40:05.750Z"
   },
   {
    "duration": 29,
    "start_time": "2023-03-26T11:40:05.772Z"
   },
   {
    "duration": 22,
    "start_time": "2023-03-26T11:40:05.802Z"
   },
   {
    "duration": 11,
    "start_time": "2023-03-26T11:40:05.826Z"
   },
   {
    "duration": 13,
    "start_time": "2023-03-26T11:40:05.838Z"
   },
   {
    "duration": 4,
    "start_time": "2023-03-26T11:40:05.852Z"
   },
   {
    "duration": 352,
    "start_time": "2023-03-26T11:40:05.857Z"
   },
   {
    "duration": 22978,
    "start_time": "2023-03-26T11:40:06.210Z"
   },
   {
    "duration": 1919,
    "start_time": "2023-03-26T11:40:29.197Z"
   },
   {
    "duration": 4112,
    "start_time": "2023-03-26T11:40:31.117Z"
   },
   {
    "duration": 0,
    "start_time": "2023-03-26T11:40:35.230Z"
   },
   {
    "duration": 3978,
    "start_time": "2023-03-26T11:41:44.665Z"
   },
   {
    "duration": 4059,
    "start_time": "2023-03-26T11:42:05.698Z"
   },
   {
    "duration": 21,
    "start_time": "2023-03-26T11:42:27.541Z"
   },
   {
    "duration": 90,
    "start_time": "2023-03-26T11:42:34.108Z"
   },
   {
    "duration": 14,
    "start_time": "2023-03-26T11:42:44.146Z"
   },
   {
    "duration": 10,
    "start_time": "2023-03-26T11:44:59.536Z"
   },
   {
    "duration": 18,
    "start_time": "2023-03-26T11:45:16.463Z"
   },
   {
    "duration": 7,
    "start_time": "2023-03-26T11:46:22.798Z"
   },
   {
    "duration": 4,
    "start_time": "2023-03-26T11:46:24.008Z"
   },
   {
    "duration": 8,
    "start_time": "2023-03-26T11:46:39.276Z"
   },
   {
    "duration": 10,
    "start_time": "2023-03-26T11:48:01.843Z"
   },
   {
    "duration": 15,
    "start_time": "2023-03-26T11:49:54.219Z"
   },
   {
    "duration": 27,
    "start_time": "2023-03-26T11:50:08.342Z"
   },
   {
    "duration": 14,
    "start_time": "2023-03-26T11:50:16.415Z"
   },
   {
    "duration": 219,
    "start_time": "2023-03-26T11:52:00.686Z"
   },
   {
    "duration": 291,
    "start_time": "2023-03-26T11:53:46.300Z"
   },
   {
    "duration": 38,
    "start_time": "2023-03-26T11:56:10.302Z"
   },
   {
    "duration": 1683,
    "start_time": "2023-03-26T11:57:44.623Z"
   },
   {
    "duration": 36,
    "start_time": "2023-03-26T11:59:02.203Z"
   },
   {
    "duration": 4,
    "start_time": "2023-03-26T12:01:14.046Z"
   },
   {
    "duration": 6,
    "start_time": "2023-03-26T12:08:07.458Z"
   },
   {
    "duration": 6,
    "start_time": "2023-03-26T12:11:18.507Z"
   },
   {
    "duration": 253,
    "start_time": "2023-03-26T12:11:38.732Z"
   },
   {
    "duration": 1399,
    "start_time": "2023-03-26T12:12:06.891Z"
   },
   {
    "duration": 6,
    "start_time": "2023-03-26T12:12:08.292Z"
   },
   {
    "duration": 45,
    "start_time": "2023-03-26T12:12:08.299Z"
   },
   {
    "duration": 13,
    "start_time": "2023-03-26T12:12:08.347Z"
   },
   {
    "duration": 29,
    "start_time": "2023-03-26T12:12:08.363Z"
   },
   {
    "duration": 51,
    "start_time": "2023-03-26T12:12:08.393Z"
   },
   {
    "duration": 1235,
    "start_time": "2023-03-26T12:12:08.445Z"
   },
   {
    "duration": 7,
    "start_time": "2023-03-26T12:12:09.682Z"
   },
   {
    "duration": 38,
    "start_time": "2023-03-26T12:12:09.690Z"
   },
   {
    "duration": 11,
    "start_time": "2023-03-26T12:12:09.731Z"
   },
   {
    "duration": 48,
    "start_time": "2023-03-26T12:12:09.744Z"
   },
   {
    "duration": 1070,
    "start_time": "2023-03-26T12:12:09.793Z"
   },
   {
    "duration": 37,
    "start_time": "2023-03-26T12:12:10.866Z"
   },
   {
    "duration": 9,
    "start_time": "2023-03-26T12:12:10.905Z"
   },
   {
    "duration": 6,
    "start_time": "2023-03-26T12:12:10.915Z"
   },
   {
    "duration": 7,
    "start_time": "2023-03-26T12:12:10.923Z"
   },
   {
    "duration": 19,
    "start_time": "2023-03-26T12:12:10.932Z"
   },
   {
    "duration": 37,
    "start_time": "2023-03-26T12:12:10.954Z"
   },
   {
    "duration": 8,
    "start_time": "2023-03-26T12:12:10.993Z"
   },
   {
    "duration": 8,
    "start_time": "2023-03-26T12:12:11.003Z"
   },
   {
    "duration": 347,
    "start_time": "2023-03-26T12:12:11.012Z"
   },
   {
    "duration": 38,
    "start_time": "2023-03-26T12:12:11.360Z"
   },
   {
    "duration": 1962,
    "start_time": "2023-03-26T12:12:11.401Z"
   },
   {
    "duration": 3703,
    "start_time": "2023-03-26T12:12:13.364Z"
   },
   {
    "duration": 35,
    "start_time": "2023-03-26T12:12:17.073Z"
   },
   {
    "duration": 15,
    "start_time": "2023-03-26T12:12:17.116Z"
   },
   {
    "duration": 357,
    "start_time": "2023-03-26T12:12:17.133Z"
   },
   {
    "duration": 0,
    "start_time": "2023-03-26T12:12:17.491Z"
   },
   {
    "duration": 5,
    "start_time": "2023-03-26T12:13:16.488Z"
   },
   {
    "duration": 293,
    "start_time": "2023-03-26T12:13:21.706Z"
   },
   {
    "duration": 5,
    "start_time": "2023-03-26T12:34:35.635Z"
   },
   {
    "duration": 220,
    "start_time": "2023-03-26T12:34:43.936Z"
   },
   {
    "duration": 216,
    "start_time": "2023-03-26T12:37:52.832Z"
   },
   {
    "duration": 248,
    "start_time": "2023-03-26T13:00:36.120Z"
   },
   {
    "duration": 290,
    "start_time": "2023-03-26T13:01:37.212Z"
   },
   {
    "duration": 6,
    "start_time": "2023-03-26T13:01:42.929Z"
   },
   {
    "duration": 238,
    "start_time": "2023-03-26T13:01:50.191Z"
   },
   {
    "duration": 304,
    "start_time": "2023-03-26T13:04:24.938Z"
   },
   {
    "duration": 313,
    "start_time": "2023-03-26T13:04:47.114Z"
   },
   {
    "duration": 1617,
    "start_time": "2023-03-26T13:06:14.692Z"
   },
   {
    "duration": 6,
    "start_time": "2023-03-26T13:06:16.311Z"
   },
   {
    "duration": 69,
    "start_time": "2023-03-26T13:06:16.319Z"
   },
   {
    "duration": 15,
    "start_time": "2023-03-26T13:06:16.396Z"
   },
   {
    "duration": 50,
    "start_time": "2023-03-26T13:06:16.414Z"
   },
   {
    "duration": 71,
    "start_time": "2023-03-26T13:06:16.466Z"
   },
   {
    "duration": 1259,
    "start_time": "2023-03-26T13:06:16.538Z"
   },
   {
    "duration": 4,
    "start_time": "2023-03-26T13:06:17.799Z"
   },
   {
    "duration": 7,
    "start_time": "2023-03-26T13:06:17.805Z"
   },
   {
    "duration": 10,
    "start_time": "2023-03-26T13:06:17.814Z"
   },
   {
    "duration": 29,
    "start_time": "2023-03-26T13:06:17.825Z"
   },
   {
    "duration": 1210,
    "start_time": "2023-03-26T13:06:17.856Z"
   },
   {
    "duration": 26,
    "start_time": "2023-03-26T13:06:19.072Z"
   },
   {
    "duration": 34,
    "start_time": "2023-03-26T13:06:19.102Z"
   },
   {
    "duration": 10,
    "start_time": "2023-03-26T13:06:19.138Z"
   },
   {
    "duration": 11,
    "start_time": "2023-03-26T13:06:19.150Z"
   },
   {
    "duration": 19,
    "start_time": "2023-03-26T13:06:19.162Z"
   },
   {
    "duration": 35,
    "start_time": "2023-03-26T13:06:19.183Z"
   },
   {
    "duration": 14,
    "start_time": "2023-03-26T13:06:19.219Z"
   },
   {
    "duration": 5,
    "start_time": "2023-03-26T13:06:19.234Z"
   },
   {
    "duration": 319,
    "start_time": "2023-03-26T13:06:19.241Z"
   },
   {
    "duration": 221,
    "start_time": "2023-03-26T13:06:19.562Z"
   },
   {
    "duration": 2130,
    "start_time": "2023-03-26T13:06:19.786Z"
   },
   {
    "duration": 3792,
    "start_time": "2023-03-26T13:06:21.918Z"
   },
   {
    "duration": 25,
    "start_time": "2023-03-26T13:06:25.715Z"
   },
   {
    "duration": 48,
    "start_time": "2023-03-26T13:06:25.742Z"
   },
   {
    "duration": 408,
    "start_time": "2023-03-26T13:06:25.792Z"
   },
   {
    "duration": 234,
    "start_time": "2023-03-26T13:06:26.202Z"
   },
   {
    "duration": 7,
    "start_time": "2023-03-26T13:06:55.866Z"
   },
   {
    "duration": 376,
    "start_time": "2023-03-26T13:07:05.992Z"
   },
   {
    "duration": 320,
    "start_time": "2023-03-26T13:07:32.466Z"
   },
   {
    "duration": 316,
    "start_time": "2023-03-26T13:07:52.517Z"
   },
   {
    "duration": 826,
    "start_time": "2023-03-26T13:08:58.412Z"
   },
   {
    "duration": 327,
    "start_time": "2023-03-26T13:09:01.860Z"
   },
   {
    "duration": 4,
    "start_time": "2023-03-26T13:13:33.993Z"
   },
   {
    "duration": 120,
    "start_time": "2023-03-26T13:15:58.068Z"
   },
   {
    "duration": 4,
    "start_time": "2023-03-26T13:18:33.117Z"
   },
   {
    "duration": 10,
    "start_time": "2023-03-26T13:18:40.209Z"
   },
   {
    "duration": 22,
    "start_time": "2023-03-26T13:19:42.932Z"
   },
   {
    "duration": 9,
    "start_time": "2023-03-26T13:20:32.662Z"
   },
   {
    "duration": 110,
    "start_time": "2023-03-26T13:21:27.236Z"
   },
   {
    "duration": 426,
    "start_time": "2023-03-26T13:21:52.300Z"
   },
   {
    "duration": 1499,
    "start_time": "2023-03-26T13:25:25.121Z"
   },
   {
    "duration": 6,
    "start_time": "2023-03-26T13:25:28.874Z"
   },
   {
    "duration": 5,
    "start_time": "2023-03-26T13:25:29.655Z"
   },
   {
    "duration": 41,
    "start_time": "2023-03-26T13:25:36.815Z"
   },
   {
    "duration": 17,
    "start_time": "2023-03-26T13:25:37.420Z"
   },
   {
    "duration": 23,
    "start_time": "2023-03-26T13:25:38.374Z"
   },
   {
    "duration": 52,
    "start_time": "2023-03-26T13:25:39.558Z"
   },
   {
    "duration": 1246,
    "start_time": "2023-03-26T13:25:45.652Z"
   },
   {
    "duration": 5,
    "start_time": "2023-03-26T13:26:18.167Z"
   },
   {
    "duration": 4,
    "start_time": "2023-03-26T13:26:18.659Z"
   },
   {
    "duration": 6,
    "start_time": "2023-03-26T13:26:19.326Z"
   },
   {
    "duration": 32,
    "start_time": "2023-03-26T13:26:20.449Z"
   },
   {
    "duration": 1353,
    "start_time": "2023-03-26T13:26:20.938Z"
   },
   {
    "duration": 16,
    "start_time": "2023-03-26T13:26:22.293Z"
   },
   {
    "duration": 9,
    "start_time": "2023-03-26T13:26:24.288Z"
   },
   {
    "duration": 4,
    "start_time": "2023-03-26T13:26:24.638Z"
   },
   {
    "duration": 7,
    "start_time": "2023-03-26T13:26:25.004Z"
   },
   {
    "duration": 18,
    "start_time": "2023-03-26T13:26:25.929Z"
   },
   {
    "duration": 14,
    "start_time": "2023-03-26T13:26:27.474Z"
   },
   {
    "duration": 9,
    "start_time": "2023-03-26T13:26:27.892Z"
   },
   {
    "duration": 5,
    "start_time": "2023-03-26T13:26:30.796Z"
   },
   {
    "duration": 499,
    "start_time": "2023-03-26T13:26:32.902Z"
   },
   {
    "duration": 319,
    "start_time": "2023-03-26T13:26:33.536Z"
   },
   {
    "duration": 2091,
    "start_time": "2023-03-26T13:26:34.169Z"
   },
   {
    "duration": 3686,
    "start_time": "2023-03-26T13:26:36.263Z"
   },
   {
    "duration": 187,
    "start_time": "2023-03-26T13:26:39.951Z"
   },
   {
    "duration": 12,
    "start_time": "2023-03-26T13:26:41.435Z"
   },
   {
    "duration": 369,
    "start_time": "2023-03-26T13:26:43.065Z"
   },
   {
    "duration": 434,
    "start_time": "2023-03-26T13:26:43.451Z"
   },
   {
    "duration": 11,
    "start_time": "2023-03-26T13:26:52.051Z"
   },
   {
    "duration": 109,
    "start_time": "2023-03-26T13:26:52.491Z"
   },
   {
    "duration": 511,
    "start_time": "2023-03-26T13:26:52.916Z"
   },
   {
    "duration": 192,
    "start_time": "2023-03-26T13:30:35.442Z"
   },
   {
    "duration": 24,
    "start_time": "2023-03-26T13:31:17.256Z"
   },
   {
    "duration": 6,
    "start_time": "2023-03-26T13:32:22.013Z"
   },
   {
    "duration": 51,
    "start_time": "2023-03-26T13:34:45.388Z"
   },
   {
    "duration": 6,
    "start_time": "2023-03-26T13:35:08.572Z"
   },
   {
    "duration": 214,
    "start_time": "2023-03-26T13:35:13.785Z"
   },
   {
    "duration": 6,
    "start_time": "2023-03-26T13:36:08.882Z"
   },
   {
    "duration": 209,
    "start_time": "2023-03-26T13:36:19.350Z"
   },
   {
    "duration": 6,
    "start_time": "2023-03-26T13:36:43.535Z"
   },
   {
    "duration": 188,
    "start_time": "2023-03-26T13:36:47.797Z"
   },
   {
    "duration": 1710,
    "start_time": "2023-03-26T13:37:12.660Z"
   },
   {
    "duration": 9,
    "start_time": "2023-03-26T13:37:14.373Z"
   },
   {
    "duration": 16,
    "start_time": "2023-03-26T13:37:14.384Z"
   },
   {
    "duration": 51,
    "start_time": "2023-03-26T13:37:14.403Z"
   },
   {
    "duration": 18,
    "start_time": "2023-03-26T13:37:14.456Z"
   },
   {
    "duration": 30,
    "start_time": "2023-03-26T13:37:14.477Z"
   },
   {
    "duration": 54,
    "start_time": "2023-03-26T13:37:14.509Z"
   },
   {
    "duration": 1670,
    "start_time": "2023-03-26T13:37:14.572Z"
   },
   {
    "duration": 4,
    "start_time": "2023-03-26T13:37:16.244Z"
   },
   {
    "duration": 30,
    "start_time": "2023-03-26T13:37:16.251Z"
   },
   {
    "duration": 21,
    "start_time": "2023-03-26T13:37:16.283Z"
   },
   {
    "duration": 52,
    "start_time": "2023-03-26T13:37:16.306Z"
   },
   {
    "duration": 1541,
    "start_time": "2023-03-26T13:37:16.360Z"
   },
   {
    "duration": 20,
    "start_time": "2023-03-26T13:37:17.903Z"
   },
   {
    "duration": 7,
    "start_time": "2023-03-26T13:37:17.925Z"
   },
   {
    "duration": 7,
    "start_time": "2023-03-26T13:37:17.933Z"
   },
   {
    "duration": 30,
    "start_time": "2023-03-26T13:37:17.942Z"
   },
   {
    "duration": 19,
    "start_time": "2023-03-26T13:37:17.974Z"
   },
   {
    "duration": 33,
    "start_time": "2023-03-26T13:37:18.004Z"
   },
   {
    "duration": 30,
    "start_time": "2023-03-26T13:37:18.039Z"
   },
   {
    "duration": 5,
    "start_time": "2023-03-26T13:37:18.073Z"
   },
   {
    "duration": 556,
    "start_time": "2023-03-26T13:37:18.080Z"
   },
   {
    "duration": 353,
    "start_time": "2023-03-26T13:37:18.638Z"
   },
   {
    "duration": 2425,
    "start_time": "2023-03-26T13:37:18.993Z"
   },
   {
    "duration": 4522,
    "start_time": "2023-03-26T13:37:21.420Z"
   },
   {
    "duration": 219,
    "start_time": "2023-03-26T13:37:25.944Z"
   },
   {
    "duration": 19,
    "start_time": "2023-03-26T13:37:26.165Z"
   },
   {
    "duration": 439,
    "start_time": "2023-03-26T13:37:26.187Z"
   },
   {
    "duration": 606,
    "start_time": "2023-03-26T13:37:26.628Z"
   },
   {
    "duration": 13,
    "start_time": "2023-03-26T13:37:27.235Z"
   },
   {
    "duration": 149,
    "start_time": "2023-03-26T13:37:27.250Z"
   },
   {
    "duration": 520,
    "start_time": "2023-03-26T13:37:27.401Z"
   },
   {
    "duration": 161,
    "start_time": "2023-03-26T13:37:27.923Z"
   },
   {
    "duration": 54,
    "start_time": "2023-03-26T13:43:16.950Z"
   },
   {
    "duration": 288,
    "start_time": "2023-03-26T13:43:54.329Z"
   },
   {
    "duration": 186,
    "start_time": "2023-03-26T13:47:17.760Z"
   },
   {
    "duration": 5,
    "start_time": "2023-03-26T13:47:23.345Z"
   },
   {
    "duration": 142,
    "start_time": "2023-03-26T13:47:27.637Z"
   },
   {
    "duration": 6,
    "start_time": "2023-03-26T13:49:57.795Z"
   },
   {
    "duration": 33,
    "start_time": "2023-03-26T13:51:25.238Z"
   },
   {
    "duration": 164,
    "start_time": "2023-03-26T13:52:02.794Z"
   },
   {
    "duration": 5,
    "start_time": "2023-03-26T14:33:52.762Z"
   },
   {
    "duration": 28,
    "start_time": "2023-03-26T14:46:01.231Z"
   },
   {
    "duration": 1429,
    "start_time": "2023-03-26T14:48:01.296Z"
   },
   {
    "duration": 4,
    "start_time": "2023-03-26T14:48:02.727Z"
   },
   {
    "duration": 32,
    "start_time": "2023-03-26T14:48:02.733Z"
   },
   {
    "duration": 158,
    "start_time": "2023-03-26T14:48:02.766Z"
   },
   {
    "duration": 15,
    "start_time": "2023-03-26T14:48:02.926Z"
   },
   {
    "duration": 51,
    "start_time": "2023-03-26T14:48:02.943Z"
   },
   {
    "duration": 86,
    "start_time": "2023-03-26T14:48:02.996Z"
   },
   {
    "duration": 1260,
    "start_time": "2023-03-26T14:48:03.084Z"
   },
   {
    "duration": 5,
    "start_time": "2023-03-26T14:48:04.346Z"
   },
   {
    "duration": 21,
    "start_time": "2023-03-26T14:48:04.352Z"
   },
   {
    "duration": 14,
    "start_time": "2023-03-26T14:48:04.375Z"
   },
   {
    "duration": 31,
    "start_time": "2023-03-26T14:48:04.391Z"
   },
   {
    "duration": 1256,
    "start_time": "2023-03-26T14:48:04.424Z"
   },
   {
    "duration": 22,
    "start_time": "2023-03-26T14:48:05.682Z"
   },
   {
    "duration": 31,
    "start_time": "2023-03-26T14:48:05.706Z"
   },
   {
    "duration": 4,
    "start_time": "2023-03-26T14:48:05.738Z"
   },
   {
    "duration": 54,
    "start_time": "2023-03-26T14:48:05.744Z"
   },
   {
    "duration": 32,
    "start_time": "2023-03-26T14:48:05.800Z"
   },
   {
    "duration": 13,
    "start_time": "2023-03-26T14:48:05.834Z"
   },
   {
    "duration": 10,
    "start_time": "2023-03-26T14:48:05.849Z"
   },
   {
    "duration": 8,
    "start_time": "2023-03-26T14:48:05.861Z"
   },
   {
    "duration": 33,
    "start_time": "2023-03-26T14:48:17.472Z"
   },
   {
    "duration": 13,
    "start_time": "2023-03-26T14:48:22.661Z"
   },
   {
    "duration": 407,
    "start_time": "2023-03-26T14:48:39.301Z"
   },
   {
    "duration": 411,
    "start_time": "2023-03-26T14:48:42.463Z"
   },
   {
    "duration": 2121,
    "start_time": "2023-03-26T14:49:40.308Z"
   },
   {
    "duration": 3822,
    "start_time": "2023-03-26T14:49:50.611Z"
   },
   {
    "duration": 223,
    "start_time": "2023-03-26T14:50:00.715Z"
   },
   {
    "duration": 17,
    "start_time": "2023-03-26T14:50:13.144Z"
   },
   {
    "duration": 420,
    "start_time": "2023-03-26T14:50:14.377Z"
   },
   {
    "duration": 26,
    "start_time": "2023-03-26T14:52:32.534Z"
   },
   {
    "duration": 544,
    "start_time": "2023-03-26T14:52:33.855Z"
   },
   {
    "duration": 418,
    "start_time": "2023-03-26T14:52:41.259Z"
   },
   {
    "duration": 11,
    "start_time": "2023-03-26T14:52:53.262Z"
   },
   {
    "duration": 146,
    "start_time": "2023-03-26T14:52:54.757Z"
   },
   {
    "duration": 410,
    "start_time": "2023-03-26T14:53:37.909Z"
   },
   {
    "duration": 207,
    "start_time": "2023-03-26T14:53:47.188Z"
   },
   {
    "duration": 228,
    "start_time": "2023-03-26T14:53:49.092Z"
   },
   {
    "duration": 52,
    "start_time": "2023-03-28T11:46:51.743Z"
   },
   {
    "duration": 1607,
    "start_time": "2023-03-28T11:52:11.674Z"
   },
   {
    "duration": 5,
    "start_time": "2023-03-28T11:52:13.283Z"
   },
   {
    "duration": 12,
    "start_time": "2023-03-28T11:52:13.289Z"
   },
   {
    "duration": 85,
    "start_time": "2023-03-28T11:52:13.303Z"
   },
   {
    "duration": 13,
    "start_time": "2023-03-28T11:52:13.390Z"
   },
   {
    "duration": 23,
    "start_time": "2023-03-28T11:52:13.405Z"
   },
   {
    "duration": 38,
    "start_time": "2023-03-28T11:52:13.430Z"
   },
   {
    "duration": 1243,
    "start_time": "2023-03-28T11:52:13.469Z"
   },
   {
    "duration": 4,
    "start_time": "2023-03-28T11:52:14.714Z"
   },
   {
    "duration": 8,
    "start_time": "2023-03-28T11:52:14.720Z"
   },
   {
    "duration": 4,
    "start_time": "2023-03-28T11:52:14.740Z"
   },
   {
    "duration": 43,
    "start_time": "2023-03-28T11:52:14.746Z"
   },
   {
    "duration": 1164,
    "start_time": "2023-03-28T11:52:14.791Z"
   },
   {
    "duration": 16,
    "start_time": "2023-03-28T11:52:15.957Z"
   },
   {
    "duration": 8,
    "start_time": "2023-03-28T11:52:15.975Z"
   },
   {
    "duration": 19,
    "start_time": "2023-03-28T11:52:15.985Z"
   },
   {
    "duration": 13,
    "start_time": "2023-03-28T11:52:16.006Z"
   },
   {
    "duration": 31,
    "start_time": "2023-03-28T11:52:16.020Z"
   },
   {
    "duration": 17,
    "start_time": "2023-03-28T11:52:16.054Z"
   },
   {
    "duration": 23,
    "start_time": "2023-03-28T11:52:16.074Z"
   },
   {
    "duration": 4,
    "start_time": "2023-03-28T11:52:16.099Z"
   },
   {
    "duration": 38,
    "start_time": "2023-03-28T11:52:16.104Z"
   },
   {
    "duration": 462,
    "start_time": "2023-03-28T11:52:16.143Z"
   },
   {
    "duration": 352,
    "start_time": "2023-03-28T11:52:16.607Z"
   },
   {
    "duration": 1957,
    "start_time": "2023-03-28T11:52:16.962Z"
   },
   {
    "duration": 3914,
    "start_time": "2023-03-28T11:52:18.921Z"
   },
   {
    "duration": 182,
    "start_time": "2023-03-28T11:52:22.840Z"
   },
   {
    "duration": 20,
    "start_time": "2023-03-28T11:52:23.025Z"
   },
   {
    "duration": 22,
    "start_time": "2023-03-28T11:52:23.046Z"
   },
   {
    "duration": 373,
    "start_time": "2023-03-28T11:52:23.070Z"
   },
   {
    "duration": 471,
    "start_time": "2023-03-28T11:52:23.444Z"
   },
   {
    "duration": 26,
    "start_time": "2023-03-28T11:52:23.916Z"
   },
   {
    "duration": 130,
    "start_time": "2023-03-28T11:52:23.944Z"
   },
   {
    "duration": 434,
    "start_time": "2023-03-28T11:52:24.076Z"
   },
   {
    "duration": 171,
    "start_time": "2023-03-28T11:52:24.512Z"
   },
   {
    "duration": 210,
    "start_time": "2023-03-28T11:52:24.684Z"
   },
   {
    "duration": 17,
    "start_time": "2023-10-09T14:17:44.072Z"
   },
   {
    "duration": 1687,
    "start_time": "2023-10-17T10:25:46.810Z"
   },
   {
    "duration": 5,
    "start_time": "2023-10-17T10:25:50.811Z"
   },
   {
    "duration": 4,
    "start_time": "2023-10-17T10:25:51.679Z"
   },
   {
    "duration": 84,
    "start_time": "2023-10-17T10:26:05.854Z"
   },
   {
    "duration": 17,
    "start_time": "2023-10-17T10:26:23.254Z"
   },
   {
    "duration": 17,
    "start_time": "2023-10-17T10:26:28.474Z"
   },
   {
    "duration": 43,
    "start_time": "2023-10-17T10:26:29.203Z"
   },
   {
    "duration": 1327,
    "start_time": "2023-10-17T10:26:31.736Z"
   },
   {
    "duration": 1412,
    "start_time": "2023-10-17T10:42:27.446Z"
   },
   {
    "duration": 4,
    "start_time": "2023-10-17T10:42:28.861Z"
   },
   {
    "duration": 21,
    "start_time": "2023-10-17T10:42:28.867Z"
   },
   {
    "duration": 72,
    "start_time": "2023-10-17T10:42:28.889Z"
   },
   {
    "duration": 13,
    "start_time": "2023-10-17T10:42:28.963Z"
   },
   {
    "duration": 18,
    "start_time": "2023-10-17T10:42:28.978Z"
   },
   {
    "duration": 65,
    "start_time": "2023-10-17T10:42:28.998Z"
   },
   {
    "duration": 1262,
    "start_time": "2023-10-17T10:42:29.065Z"
   },
   {
    "duration": 3,
    "start_time": "2023-10-17T10:42:30.329Z"
   },
   {
    "duration": 77,
    "start_time": "2023-10-17T10:42:30.334Z"
   },
   {
    "duration": 46,
    "start_time": "2023-10-17T10:42:30.413Z"
   },
   {
    "duration": 80,
    "start_time": "2023-10-17T10:42:30.460Z"
   },
   {
    "duration": 1203,
    "start_time": "2023-10-17T10:42:30.542Z"
   },
   {
    "duration": 16,
    "start_time": "2023-10-17T10:42:31.748Z"
   },
   {
    "duration": 142,
    "start_time": "2023-10-17T10:42:31.766Z"
   },
   {
    "duration": 285,
    "start_time": "2023-10-17T10:42:31.909Z"
   },
   {
    "duration": 265,
    "start_time": "2023-10-17T10:42:32.196Z"
   },
   {
    "duration": 63,
    "start_time": "2023-10-17T10:42:32.462Z"
   },
   {
    "duration": 53,
    "start_time": "2023-10-17T10:42:32.527Z"
   },
   {
    "duration": 34,
    "start_time": "2023-10-17T10:42:32.581Z"
   },
   {
    "duration": 44,
    "start_time": "2023-10-17T10:42:32.617Z"
   },
   {
    "duration": 69,
    "start_time": "2023-10-17T10:42:32.663Z"
   },
   {
    "duration": 414,
    "start_time": "2023-10-17T10:42:32.734Z"
   },
   {
    "duration": 315,
    "start_time": "2023-10-17T10:42:33.150Z"
   },
   {
    "duration": 1828,
    "start_time": "2023-10-17T10:42:33.467Z"
   },
   {
    "duration": 3411,
    "start_time": "2023-10-17T10:42:35.297Z"
   },
   {
    "duration": 179,
    "start_time": "2023-10-17T10:42:38.710Z"
   },
   {
    "duration": 11,
    "start_time": "2023-10-17T10:42:38.891Z"
   },
   {
    "duration": 38,
    "start_time": "2023-10-17T10:42:38.903Z"
   },
   {
    "duration": 339,
    "start_time": "2023-10-17T10:42:38.944Z"
   },
   {
    "duration": 465,
    "start_time": "2023-10-17T10:42:39.284Z"
   },
   {
    "duration": 10,
    "start_time": "2023-10-17T10:42:39.751Z"
   },
   {
    "duration": 145,
    "start_time": "2023-10-17T10:42:39.763Z"
   },
   {
    "duration": 401,
    "start_time": "2023-10-17T10:42:39.910Z"
   },
   {
    "duration": 175,
    "start_time": "2023-10-17T10:42:40.313Z"
   },
   {
    "duration": 280,
    "start_time": "2023-10-17T10:42:40.490Z"
   }
  ],
  "kernelspec": {
   "display_name": "Python 3 (ipykernel)",
   "language": "python",
   "name": "python3"
  },
  "language_info": {
   "codemirror_mode": {
    "name": "ipython",
    "version": 3
   },
   "file_extension": ".py",
   "mimetype": "text/x-python",
   "name": "python",
   "nbconvert_exporter": "python",
   "pygments_lexer": "ipython3",
   "version": "3.9.5"
  },
  "toc": {
   "base_numbering": 1,
   "nav_menu": {},
   "number_sections": true,
   "sideBar": true,
   "skip_h1_title": true,
   "title_cell": "Содержание",
   "title_sidebar": "Contents",
   "toc_cell": true,
   "toc_position": {
    "height": "calc(100% - 180px)",
    "left": "10px",
    "top": "150px",
    "width": "384px"
   },
   "toc_section_display": true,
   "toc_window_display": true
  }
 },
 "nbformat": 4,
 "nbformat_minor": 2
}
